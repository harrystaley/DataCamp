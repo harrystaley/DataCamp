{
 "cells": [
  {
   "cell_type": "code",
   "execution_count": null,
   "id": "a2f9fc87-0cbc-4565-8ed1-0be66be1825a",
   "metadata": {},
   "outputs": [],
   "source": []
  },
  {
   "cell_type": "markdown",
   "id": "b564a5dc-96c2-4c87-b79f-612fcc871947",
   "metadata": {},
   "source": [
    "# Supervised learning"
   ]
  },
  {
   "cell_type": "markdown",
   "id": "01f134ba-9067-4544-98d3-ffd73c4bbf10",
   "metadata": {},
   "source": [
    "Which of these is a classification problem?\n",
    "\n",
    "Once you decide to leverage supervised machine learning to solve a new problem, you need to identify whether your problem is better suited to classification or regression. This exercise will help you develop your intuition for distinguishing between the two."
   ]
  },
  {
   "cell_type": "markdown",
   "id": "9dc2f475-baa6-412f-b535-aadf00f4ab65",
   "metadata": {},
   "source": [
    "Using labeled financial data to predict whether the value of a stock will go up or go down next week."
   ]
  },
  {
   "cell_type": "markdown",
   "id": "6168b596-ed22-4f32-986b-cbf82b601036",
   "metadata": {},
   "source": [
    "# Exploratory data analysis"
   ]
  },
  {
   "cell_type": "code",
   "execution_count": null,
   "id": "ede3d4e0-a0ee-457b-8217-6ef8aec0f9f9",
   "metadata": {},
   "outputs": [],
   "source": []
  }
 ],
 "metadata": {
  "kernelspec": {
   "display_name": "Python 3 (ipykernel)",
   "language": "python",
   "name": "python3"
  },
  "language_info": {
   "codemirror_mode": {
    "name": "ipython",
    "version": 3
   },
   "file_extension": ".py",
   "mimetype": "text/x-python",
   "name": "python",
   "nbconvert_exporter": "python",
   "pygments_lexer": "ipython3",
   "version": "3.9.7"
  }
 },
 "nbformat": 4,
 "nbformat_minor": 5
}
