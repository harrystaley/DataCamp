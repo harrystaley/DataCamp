{
 "cells": [
  {
   "cell_type": "markdown",
   "id": "899f1997-ae21-4a18-be99-b939d05d4fd9",
   "metadata": {},
   "source": [
    "This notebook will demonstrate Boosting. Boosting refers to an ensemble method in which several models are trained sequentially with each model learning from the errors of its predecessors. In this chapter, you'll be introduced to the two boosting methods of AdaBoost and Gradient Boosting."
   ]
  },
  {
   "cell_type": "code",
   "execution_count": 1,
   "id": "9eaf6d3e-2bfc-4dd8-8a0b-04f1a350d8c3",
   "metadata": {},
   "outputs": [],
   "source": [
    "# Importing course packages; you can add more too!\n",
    "import pandas as pd\n",
    "import numpy as np\n",
    "import matplotlib.pyplot as plt\n",
    "import sklearn\n",
    "\n",
    "# Importing course datasets as DataFrames\n",
    "auto = pd.read_csv('../datasets/auto.csv')\n",
    "bikes = pd.read_csv('../datasets/bikes.csv')\n",
    "liver_disease = pd.read_csv('../datasets/indian_liver_patient_preprocessed.csv', index_col=0)\n",
    "wbc = pd.read_csv('../datasets/wbc.csv') # Wisconsin Breast Cancer Dataset"
   ]
  },
  {
   "cell_type": "markdown",
   "id": "1d060379-b3d8-4746-8297-1091a8890633",
   "metadata": {},
   "source": [
    "# Adaboost"
   ]
  },
  {
   "cell_type": "markdown",
   "id": "a0379b28-a6a6-4205-b536-f713a14296ec",
   "metadata": {},
   "source": [
    "### Define the AdaBoost classifier\n",
    "\n",
    "In the following exercises you'll revisit the Indian Liver Patient dataset which was introduced in a previous chapter. Your task is to predict whether a patient suffers from a liver disease using 10 features including Albumin, age and gender. However, this time, you'll be training an AdaBoost ensemble to perform the classification task. In addition, given that this dataset is imbalanced, you'll be using the ROC AUC score as a metric instead of accuracy.\n",
    "\n",
    "As a first step, you'll start by instantiating an AdaBoost classifier.\n",
    "\n",
    "[from sklearn.ensemble import AdaBoostClassifier Documentation](https://scikit-learn.org/stable/modules/generated/sklearn.ensemble.AdaBoostClassifier.html)"
   ]
  },
  {
   "cell_type": "code",
   "execution_count": 2,
   "id": "cf0ac3bf-b905-43ea-92f2-576e47b5875d",
   "metadata": {},
   "outputs": [],
   "source": [
    "# Import DecisionTreeClassifier\n",
    "from sklearn.tree import DecisionTreeClassifier\n",
    "\n",
    "# Import AdaBoostClassifier\n",
    "from sklearn.ensemble import AdaBoostClassifier\n",
    "\n",
    "# Instantiate dt\n",
    "dt = DecisionTreeClassifier(max_depth=2, random_state=1)\n",
    "\n",
    "# Instantiate ada\n",
    "ada = AdaBoostClassifier(base_estimator=dt, n_estimators=180, random_state=1)"
   ]
  },
  {
   "cell_type": "markdown",
   "id": "47e850e4-8fea-4abb-876c-6cbd15d3d606",
   "metadata": {},
   "source": [
    "### Train the AdaBoost classifier\n",
    "\n",
    "Now that you've instantiated the AdaBoost classifier ada, it's time train it. You will also predict the probabilities of obtaining the positive class in the test set. This can be done as follows:\n",
    "\n",
    "Once the classifier ada is trained, call the ```.predict_proba()``` method by passing ```X_test``` as a parameter and extract these probabilities by slicing all the values in the second column as follows:\n",
    "\n",
    "```ada.predict_proba(X_test)[:,1]```\n",
    "\n",
    "The Indian Liver dataset is processed for you and split into 80% train and 20% test. Feature matrices ```X_train``` and ```X_test```, as well as the arrays of labels ```y_train``` and ```y_test``` are available in your workspace. In addition, we have also loaded the instantiated model ```ada``` from the previous exercise."
   ]
  },
  {
   "cell_type": "code",
   "execution_count": 3,
   "id": "04e331cb-2e1f-409e-b086-587231d78c03",
   "metadata": {},
   "outputs": [],
   "source": [
    "# set up dependencies for this exercise\n",
    "from sklearn.model_selection import train_test_split\n",
    "\n",
    "y = liver_disease['Liver_disease'] # target\n",
    "X = liver_disease.drop('Liver_disease', axis='columns') # features\n",
    "\n",
    "X_train, X_test, y_train, y_test = train_test_split(X, y, test_size=0.2, random_state=42)"
   ]
  },
  {
   "cell_type": "code",
   "execution_count": 4,
   "id": "3cdafc85-7ff0-4e8a-8e83-ad959daffc55",
   "metadata": {},
   "outputs": [],
   "source": [
    "# Fit ada to the training set\n",
    "ada.fit(X_train, y_train)\n",
    "\n",
    "# Compute the probabilities of obtaining the positive class\n",
    "y_pred_proba = ada.predict_proba(X_test)[:, 1]"
   ]
  },
  {
   "cell_type": "markdown",
   "id": "50b3bb47-c09c-407c-b745-e4fbe6e33a57",
   "metadata": {},
   "source": [
    "### Evaluate the AdaBoost classifier\n",
    "\n",
    "Now that you're done training ada and predicting the probabilities of obtaining the positive class in the test set, it's time to evaluate ada's ROC AUC score. Recall that the ROC AUC score of a binary classifier can be determined using the ```roc_auc_score()``` function from ```sklearn.metrics```.\n",
    "\n",
    "The arrays ```y_test``` and ```y_pred_proba``` that you computed in the previous exercise are available in your workspace.\n",
    "\n",
    "[sklearn.metrics.roc_auc_score Documentation](https://scikit-learn.org/stable/modules/generated/sklearn.metrics.roc_auc_score.html)\n"
   ]
  },
  {
   "cell_type": "code",
   "execution_count": 5,
   "id": "44680ef1-f877-4718-8caa-cc58170971cf",
   "metadata": {},
   "outputs": [
    {
     "name": "stdout",
     "output_type": "stream",
     "text": [
      "ROC AUC score: 0.62\n"
     ]
    }
   ],
   "source": [
    "# Import roc_auc_score\n",
    "from sklearn.metrics import roc_auc_score\n",
    "\n",
    "# Evaluate test-set roc_auc_score\n",
    "ada_roc_auc = roc_auc_score(y_test, y_pred_proba)\n",
    "\n",
    "# Print roc_auc_score\n",
    "print('ROC AUC score: {:.2f}'.format(ada_roc_auc))"
   ]
  },
  {
   "cell_type": "markdown",
   "id": "6a7c3c3c-7755-4ea9-88a4-4dd6131b1c85",
   "metadata": {},
   "source": [
    "# Gradient Boosting (GB)"
   ]
  },
  {
   "cell_type": "markdown",
   "id": "c1a60891-ab6d-4036-8811-dd424e7b2275",
   "metadata": {},
   "source": [
    "### Define the GB regressor\n",
    "\n",
    "You'll now revisit the Bike Sharing Demand dataset that was introduced in the previous chapter. Recall that your task is to predict the bike rental demand using historical weather data from the Capital Bikeshare program in Washington, D.C.. For this purpose, you'll be using a gradient boosting regressor.\n",
    "\n",
    "As a first step, you'll start by instantiating a gradient boosting regressor which you will train in the next exercise."
   ]
  },
  {
   "cell_type": "code",
   "execution_count": 7,
   "id": "251a0564-84aa-4012-97df-56700cdd6e74",
   "metadata": {},
   "outputs": [],
   "source": [
    "from sklearn.model_selection  import train_test_split\n",
    "\n",
    "y = bikes['cnt']# target\n",
    "X = bikes.drop('cnt', axis='columns')# features\n",
    "\n",
    "X_train, X_test, y_train, y_test = train_test_split(X, y, test_size=0.2, random_state=42)"
   ]
  },
  {
   "cell_type": "code",
   "execution_count": 8,
   "id": "f7ded796-2f69-465b-9a2f-665a57d071d7",
   "metadata": {},
   "outputs": [],
   "source": [
    "# Import GradientBoostingRegressor\n",
    "from sklearn.ensemble import GradientBoostingRegressor\n",
    "\n",
    "# Instantiate gb\n",
    "gb = GradientBoostingRegressor(max_depth=4, \n",
    "                               n_estimators=200,\n",
    "                               random_state=2)"
   ]
  },
  {
   "cell_type": "markdown",
   "id": "32c53113-c7f2-48b4-87fd-2d2fe3cbbbc5",
   "metadata": {},
   "source": [
    "### Train the GB regressor\n",
    "\n",
    "You'll now train the gradient boosting regressor ```gb``` that you instantiated in the previous exercise and predict test set labels.\n",
    "\n",
    "The dataset is split into 80% train and 20% test. Feature matrices ```X_train``` and ```X_test```, as well as the arrays ```y_train``` and ```y_test``` are available in your workspace. In addition, we have also loaded the model instance ```gb``` that you defined in the previous exercise."
   ]
  },
  {
   "cell_type": "code",
   "execution_count": 9,
   "id": "7ac124a1-7f1d-4f9d-b17e-d77a7dd54a47",
   "metadata": {},
   "outputs": [],
   "source": [
    "# Fit gb to the training set\n",
    "gb.fit(X_train, y_train)\n",
    "\n",
    "# Predict test set labels\n",
    "y_pred = gb.predict(X_test)"
   ]
  },
  {
   "cell_type": "markdown",
   "id": "5aa462a2-6582-431a-b6fd-14ff90b9e843",
   "metadata": {},
   "source": [
    "### Evaluate the GB regressor\n",
    "\n",
    "Now that the test set predictions are available, you can use them to evaluate the test set Root Mean Squared Error (RMSE) of ```gb```.\n",
    "\n",
    "```y_test``` and predictions ```y_pred``` are available in your workspace."
   ]
  },
  {
   "cell_type": "code",
   "execution_count": 10,
   "id": "98d21e8d-1fef-47e9-8058-09974a510484",
   "metadata": {},
   "outputs": [
    {
     "name": "stdout",
     "output_type": "stream",
     "text": [
      "Test set RMSE of gb: 51.559\n"
     ]
    }
   ],
   "source": [
    "# Import mean_squared_error as MSE\n",
    "from sklearn.metrics import mean_squared_error as MSE\n",
    "\n",
    "# Compute MSE\n",
    "mse_test = MSE(y_test, y_pred)\n",
    "\n",
    "# Compute RMSE\n",
    "rmse_test = mse_test**(1/2)\n",
    "\n",
    "# Print RMSE\n",
    "print('Test set RMSE of gb: {:.3f}'.format(rmse_test))"
   ]
  },
  {
   "cell_type": "markdown",
   "id": "0bfb487d-153d-4547-b41c-2ed5f0f76e14",
   "metadata": {},
   "source": [
    "# Stochastic Gradient Boosting (SGB)"
   ]
  },
  {
   "cell_type": "markdown",
   "id": "e51a8d0f-1d82-4617-a4c3-47e3c11c7a8d",
   "metadata": {},
   "source": [
    "### Regression with SGB\n",
    "\n",
    "As in the exercises from the previous lesson, you'll be working with the Bike Sharing Demand dataset. In the following set of exercises, you'll solve this bike count regression problem using stochastic gradient boosting."
   ]
  },
  {
   "cell_type": "code",
   "execution_count": 11,
   "id": "12f8091c-7d21-4942-8693-d935af867c7f",
   "metadata": {},
   "outputs": [],
   "source": [
    "# Import GradientBoostingRegressor\n",
    "from sklearn.ensemble import GradientBoostingRegressor\n",
    "\n",
    "# Instantiate sgbr\n",
    "sgbr = GradientBoostingRegressor(max_depth=4, \n",
    "                                 subsample=0.9,\n",
    "                                 max_features=0.75,\n",
    "                                 n_estimators=200,\n",
    "                                 random_state=2)"
   ]
  },
  {
   "cell_type": "markdown",
   "id": "45ebffc9-ab82-415a-a8fa-43b6595b8d14",
   "metadata": {},
   "source": [
    "### Train the SGB regressor\n",
    "\n",
    "In this exercise, you'll train the SGBR sgbr instantiated in the previous exercise and predict the test set labels.\n",
    "\n",
    "The bike sharing demand dataset is already loaded processed for you; it is split into 80% train and 20% test. The feature matrices ```X_train``` and ```X_test```, the arrays of labels ```y_train``` and ```y_test```, and the model instance ```sgbr``` that you defined in the previous exercise are available in your workspace."
   ]
  },
  {
   "cell_type": "code",
   "execution_count": 12,
   "id": "7c42aa1d-e466-4acd-9344-b2df7f44cadb",
   "metadata": {},
   "outputs": [],
   "source": [
    "# Fit sgbr to the training set\n",
    "sgbr.fit(X_train, y_train)\n",
    "\n",
    "# Predict test set labels\n",
    "y_pred = sgbr.predict(X_test)"
   ]
  },
  {
   "cell_type": "markdown",
   "id": "4607dccf-1b43-44fb-ae3c-c82d7863a72c",
   "metadata": {},
   "source": [
    "### Evaluate the SGB regressor\n",
    "\n",
    "You have prepared the ground to determine the test set ```RMSE``` of ```sgbr``` which you shall evaluate in this exercise.\n",
    "\n",
    "```y_pred``` and ```y_test``` are available in your workspace."
   ]
  },
  {
   "cell_type": "code",
   "execution_count": 13,
   "id": "883d6d9a-b893-4ee2-a346-011057077114",
   "metadata": {},
   "outputs": [
    {
     "name": "stdout",
     "output_type": "stream",
     "text": [
      "Test set RMSE of sgbr: 53.151\n"
     ]
    }
   ],
   "source": [
    "# Import mean_squared_error as MSE\n",
    "from sklearn.metrics import mean_squared_error as MSE\n",
    "\n",
    "# Compute test set MSE\n",
    "mse_test = MSE(y_true=y_test, y_pred=y_pred)\n",
    "\n",
    "# Compute test set RMSE\n",
    "rmse_test = mse_test**(1/2)\n",
    "\n",
    "# Print rmse_test\n",
    "print('Test set RMSE of sgbr: {:.3f}'.format(rmse_test))"
   ]
  },
  {
   "cell_type": "code",
   "execution_count": null,
   "id": "bbeba047-6cac-43a9-8aed-50fec147dd80",
   "metadata": {},
   "outputs": [],
   "source": []
  }
 ],
 "metadata": {
  "kernelspec": {
   "display_name": "Python 3 (ipykernel)",
   "language": "python",
   "name": "python3"
  },
  "language_info": {
   "codemirror_mode": {
    "name": "ipython",
    "version": 3
   },
   "file_extension": ".py",
   "mimetype": "text/x-python",
   "name": "python",
   "nbconvert_exporter": "python",
   "pygments_lexer": "ipython3",
   "version": "3.9.7"
  }
 },
 "nbformat": 4,
 "nbformat_minor": 5
}
