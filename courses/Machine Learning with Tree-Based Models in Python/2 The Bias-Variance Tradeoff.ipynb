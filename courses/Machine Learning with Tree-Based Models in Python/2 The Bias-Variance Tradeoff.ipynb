{
 "cells": [
  {
   "cell_type": "markdown",
   "id": "6fe97c1d-0d4a-4e50-9251-0611834b72d8",
   "metadata": {},
   "source": [
    "The bias-variance tradeoff is one of the fundamental concepts in supervised machine learning. In this chapter, you'll understand how to diagnose the problems of overfitting and underfitting. You'll also be introduced to the concept of ensembling where the predictions of several models are aggregated to produce predictions that are more robust."
   ]
  },
  {
   "cell_type": "code",
   "execution_count": 1,
   "id": "c787ce88-98be-4bd2-a23a-0ac82e760448",
   "metadata": {},
   "outputs": [],
   "source": [
    "# Importing course packages; you can add more too!\n",
    "import pandas as pd\n",
    "import numpy as np\n",
    "import matplotlib.pyplot as plt\n",
    "import sklearn\n",
    "\n",
    "# Importing course datasets as DataFrames\n",
    "auto = pd.read_csv('../datasets/auto.csv')\n",
    "bikes = pd.read_csv('../datasets/bikes.csv')\n",
    "liver_disease = pd.read_csv('../datasets/indian_liver_patient_preprocessed.csv', index_col=0)\n",
    "wbc = pd.read_csv('../datasets/wbc.csv') # Wisconsin Breast Cancer Dataset"
   ]
  },
  {
   "cell_type": "markdown",
   "id": "f68728cd-ec7c-4c18-93a5-0a379e389da6",
   "metadata": {},
   "source": [
    "# Diagnose bias and variance problems"
   ]
  },
  {
   "cell_type": "markdown",
   "id": "3a0345c3-b698-4d6d-9013-65cad955d729",
   "metadata": {
    "tags": []
   },
   "source": [
    "### Instantiate the model\n",
    "\n",
    "In the following set of exercises, you'll diagnose the bias and variance problems of a regression tree. The regression tree you'll define in this exercise will be used to predict the mpg consumption of cars from the auto dataset using all available features.\n",
    "\n",
    "We have already processed the data and loaded the features matrix ```X``` and the array ```y``` in your workspace. In addition, the ```DecisionTreeRegressor``` class was imported from ```sklearn.tree```."
   ]
  },
  {
   "cell_type": "code",
   "execution_count": 6,
   "id": "943feb95-0e35-4595-a4bb-699be1adefc3",
   "metadata": {},
   "outputs": [],
   "source": [
    "# prep data for training.\n",
    "\n",
    "# imports\n",
    "from sklearn.tree import DecisionTreeRegressor\n",
    "import pandas as pd\n",
    "\n",
    "# prep data creating dummy variables.\n",
    "# Create dummy variables for categorical columns with drop_first=True: auto_origin\n",
    "auto_origin = pd.get_dummies(auto, drop_first=True)\n",
    "\n",
    "# Create arrays for features and target variable\n",
    "y = auto_origin['mpg'] # target\n",
    "X = auto_origin.drop('mpg', axis='columns') # features\n"
   ]
  },
  {
   "cell_type": "code",
   "execution_count": 9,
   "id": "01d1ed47-051e-4c14-a14f-9d531662be96",
   "metadata": {},
   "outputs": [],
   "source": [
    "# Import train_test_split from sklearn.model_selection\n",
    "from sklearn.model_selection import train_test_split\n",
    "from sklearn.model_selection import cross_val_score\n",
    "\n",
    "# Set SEED for reproducibility\n",
    "SEED = 1\n",
    "\n",
    "# Split the data into 70% train and 30% test\n",
    "X_train, X_test, y_train, y_test = train_test_split(X, y, test_size=0.30, random_state=SEED)\n",
    "\n",
    "# Instantiate a DecisionTreeRegressor dt\n",
    "dt = DecisionTreeRegressor(max_depth=4, min_samples_leaf=0.26, random_state=SEED)"
   ]
  },
  {
   "cell_type": "markdown",
   "id": "e8d778a1-21b4-4b1c-9ce1-00617fc53187",
   "metadata": {},
   "source": [
    "### Evaluate the 10-fold CV error\n",
    "\n",
    "In this exercise, you'll evaluate the 10-fold CV Root Mean Squared Error (RMSE) achieved by the regression tree dt that you instantiated in the previous exercise.\n",
    "\n",
    "In addition to ```dt```, the training data including ```X_train``` and ```y_train``` are available in your workspace. We also imported ```cross_val_score``` from ```sklearn.model_selection```.\n",
    "\n",
    "Note that since c```ross_val_score``` has only the option of evaluating the negative MSEs, its output should be multiplied by negative one to obtain the MSEs. The CV RMSE can then be obtained by computing the square root of the average MSE."
   ]
  },
  {
   "cell_type": "code",
   "execution_count": 10,
   "id": "4a71a33e-41aa-4038-955a-5658fd8d1928",
   "metadata": {},
   "outputs": [
    {
     "name": "stdout",
     "output_type": "stream",
     "text": [
      "CV RMSE: 5.14\n"
     ]
    }
   ],
   "source": [
    "# Compute the array containing the 10-folds CV MSEs\n",
    "MSE_CV_scores = - cross_val_score(dt, X_train, y_train, cv=10, \n",
    "                                  scoring='neg_mean_squared_error', \n",
    "                                  n_jobs=-1) \n",
    "\n",
    "# Compute the 10-folds CV RMSE\n",
    "RMSE_CV = (MSE_CV_scores.mean())**(1/2)\n",
    "\n",
    "# Print RMSE_CV\n",
    "print('CV RMSE: {:.2f}'.format(RMSE_CV))"
   ]
  },
  {
   "cell_type": "markdown",
   "id": "72c2264b-d2cb-4883-a185-cb0547841995",
   "metadata": {},
   "source": [
    "### Evaluate the training error\n",
    "\n",
    "You'll now evaluate the training set RMSE achieved by the regression tree dt that you instantiated in a previous exercise.\n",
    "\n",
    "In addition to ```dt```, ```X_train``` and ```y_train``` are available in your workspace.\n",
    "\n",
    "Note that in scikit-learn, the MSE of a model can be computed as follows:\n",
    "\n",
    "```MSE_model = mean_squared_error(y_true, y_predicted)```\n",
    "\n",
    "where we use the function ```mean_squared_error``` from the metrics module and pass it the true labels ```y_true``` as a first argument, and the predicted labels from the model ```y_predicted``` as a second argument.\n",
    "\n",
    "[sklearn.metrics.mean_squared_error Documentation](https://scikit-learn.org/stable/modules/generated/sklearn.metrics.mean_squared_error.html)"
   ]
  },
  {
   "cell_type": "code",
   "execution_count": 11,
   "id": "661d38d4-e307-47b5-a4a8-0292124d596e",
   "metadata": {},
   "outputs": [
    {
     "name": "stdout",
     "output_type": "stream",
     "text": [
      "Train RMSE: 5.15\n"
     ]
    }
   ],
   "source": [
    "# Import mean_squared_error from sklearn.metrics as MSE\n",
    "from sklearn.metrics import mean_squared_error as MSE\n",
    "\n",
    "# Fit dt to the training set\n",
    "dt.fit(X_train, y_train)\n",
    "\n",
    "# Predict the labels of the training set\n",
    "y_pred_train = dt.predict(X_train)\n",
    "\n",
    "# Evaluate the training set RMSE of dt\n",
    "RMSE_train = (MSE(y_train, y_pred_train))**(1/2)\n",
    "\n",
    "# Print RMSE_train\n",
    "print('Train RMSE: {:.2f}'.format(RMSE_train))"
   ]
  },
  {
   "cell_type": "markdown",
   "id": "50f025f6-0eb2-41f5-9d2e-64b10362efe3",
   "metadata": {},
   "source": [
    "# Ensemble Learning"
   ]
  },
  {
   "cell_type": "markdown",
   "id": "a8a2eda1-9c4f-453f-b6f3-0bdaa6929303",
   "metadata": {},
   "source": [
    "### Define the ensemble\n",
    "\n",
    "In the following set of exercises, you'll work with the Indian Liver Patient Dataset from the UCI Machine learning repository.\n",
    "\n",
    "In this exercise, you'll instantiate three classifiers to predict whether a patient suffers from a liver disease using all the features present in the dataset.\n",
    "\n",
    "The classes ```LogisticRegression```, ```DecisionTreeClassifier```, and ```KNeighborsClassifier``` under the alias ```KNN``` are available in your workspace."
   ]
  },
  {
   "cell_type": "code",
   "execution_count": 32,
   "id": "72746fcf-85b0-4fdf-9ff9-469d050b1594",
   "metadata": {},
   "outputs": [],
   "source": [
    "# get imports needed for the module\n",
    "from sklearn.tree import DecisionTreeClassifier\n",
    "from sklearn.linear_model import  LogisticRegression\n",
    "from sklearn.neighbors import KNeighborsClassifier as KNN\n",
    "from sklearn.model_selection import train_test_split\n",
    "\n",
    "y = liver_disease['Liver_disease'] # target\n",
    "X = liver_disease.drop('Liver_disease', axis='columns') # features\n",
    "\n",
    "\n",
    "X_train, X_test, y_train, y_test = train_test_split(X, y, test_size=0.30, random_state=1)"
   ]
  },
  {
   "cell_type": "code",
   "execution_count": 33,
   "id": "2dbdcce5-b14d-416e-9a19-885020bf4080",
   "metadata": {},
   "outputs": [],
   "source": [
    "# Set seed for reproducibility\n",
    "SEED=1\n",
    "\n",
    "# Instantiate lr\n",
    "lr = LogisticRegression(random_state=SEED)\n",
    "\n",
    "# Instantiate knn\n",
    "knn = KNN(n_neighbors=27)\n",
    "\n",
    "# Instantiate dt\n",
    "dt = DecisionTreeClassifier(min_samples_leaf=0.13, random_state=SEED)\n",
    "\n",
    "# Define the list classifiers\n",
    "classifiers = [('Logistic Regression', lr), ('K Nearest Neighbours', knn), ('Classification Tree', dt)]"
   ]
  },
  {
   "cell_type": "markdown",
   "id": "eff36cc3-1501-481b-9e8b-a5c5d23e64d3",
   "metadata": {},
   "source": [
    "### Evaluate individual classifiers\n",
    "\n",
    "In this exercise you'll evaluate the performance of the models in the list ```classifiers``` that we defined in the previous exercise. You'll do so by fitting each classifier on the training set and evaluating its test set accuracy.\n",
    "\n",
    "The dataset is already loaded and preprocessed for you (numerical features are standardized) and it is split into 70% train and 30% test. The features matrices ```X_train``` and ```X_test```, as well as the arrays of labels ```y_train``` and ```y_test``` are available in your workspace. In addition, we have loaded the list ```classifiers``` from the previous exercise, as well as the function ```accuracy_score()``` from ```sklearn.metrics```.\n",
    "\n",
    "[sklearn.metrics.accuracy_score Documentation](https://scikit-learn.org/stable/modules/generated/sklearn.metrics.accuracy_score.html)"
   ]
  },
  {
   "cell_type": "code",
   "execution_count": 34,
   "id": "d453491a-b7dc-4130-a0c3-e18e49d4a741",
   "metadata": {},
   "outputs": [],
   "source": [
    "from sklearn.metrics import accuracy_score"
   ]
  },
  {
   "cell_type": "code",
   "execution_count": 35,
   "id": "e95b0fa1-1eb1-48d8-908b-75b1b2475f4d",
   "metadata": {},
   "outputs": [
    {
     "name": "stdout",
     "output_type": "stream",
     "text": [
      "Logistic Regression : 0.759\n",
      "K Nearest Neighbours : 0.701\n",
      "Classification Tree : 0.730\n"
     ]
    }
   ],
   "source": [
    "# Iterate over the pre-defined list of classifiers\n",
    "for clf_name, clf in classifiers:    \n",
    " \n",
    "    # Fit clf to the training set\n",
    "    clf.fit(X_train, y_train)    \n",
    "   \n",
    "    # Predict y_pred\n",
    "    y_pred = clf.predict(X_test)\n",
    "    \n",
    "    # Calculate accuracy\n",
    "    accuracy = accuracy_score(y_test, y_pred) \n",
    "   \n",
    "    # Evaluate clf's accuracy on the test set\n",
    "    print('{:s} : {:.3f}'.format(clf_name, accuracy))"
   ]
  },
  {
   "cell_type": "markdown",
   "id": "14409b70-e197-4ca6-bc39-514c4abbe25f",
   "metadata": {},
   "source": [
    "### Better performance with a Voting Classifier\n",
    "\n",
    "Finally, you'll evaluate the performance of a voting classifier that takes the outputs of the models defined in the list ```classifiers``` and assigns labels by majority voting.\n",
    "\n",
    "```X_train```, ```X_test```, ```y_train```, ```y_test```, the list classifiers defined in a previous exercise, as well as the function ```accuracy_score``` from ```sklearn.metrics``` are available in your workspace.\n",
    "\n",
    "[from sklear.ensemble.VotingClassifier Documentaiton](https://scikit-learn.org/stable/modules/generated/sklearn.ensemble.VotingClassifier.html)"
   ]
  },
  {
   "cell_type": "code",
   "execution_count": 36,
   "id": "53361981-3087-4cf5-b783-851f950709bc",
   "metadata": {},
   "outputs": [
    {
     "name": "stdout",
     "output_type": "stream",
     "text": [
      "Voting Classifier: 0.770\n"
     ]
    }
   ],
   "source": [
    "# Import VotingClassifier from sklearn.ensemble\n",
    "from sklearn.ensemble import VotingClassifier\n",
    "\n",
    "# Instantiate a VotingClassifier vc\n",
    "vc = VotingClassifier(estimators=classifiers)     \n",
    "\n",
    "# Fit vc to the training set\n",
    "vc.fit(X_train, y_train)   \n",
    "\n",
    "# Evaluate the test set predictions\n",
    "y_pred = vc.predict(X_test)\n",
    "\n",
    "# Calculate accuracy score\n",
    "accuracy = accuracy_score(y_test, y_pred)\n",
    "print('Voting Classifier: {:.3f}'.format(accuracy))"
   ]
  },
  {
   "cell_type": "code",
   "execution_count": null,
   "id": "50b644fa-b6f2-481f-8d4d-71ffa0de6df3",
   "metadata": {},
   "outputs": [],
   "source": []
  }
 ],
 "metadata": {
  "kernelspec": {
   "display_name": "Python 3 (ipykernel)",
   "language": "python",
   "name": "python3"
  },
  "language_info": {
   "codemirror_mode": {
    "name": "ipython",
    "version": 3
   },
   "file_extension": ".py",
   "mimetype": "text/x-python",
   "name": "python",
   "nbconvert_exporter": "python",
   "pygments_lexer": "ipython3",
   "version": "3.9.7"
  }
 },
 "nbformat": 4,
 "nbformat_minor": 5
}
