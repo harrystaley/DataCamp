{
 "cells": [
  {
   "cell_type": "markdown",
   "id": "1e9239ed-7a64-40b3-9384-7cdb9d69d0d3",
   "metadata": {},
   "source": [
    "Classification and Regression Trees (CART) are a set of supervised learning models used for problems involving classification and regression. In this chapter, you'll be introduced to the CART algorithm."
   ]
  },
  {
   "cell_type": "code",
   "execution_count": 25,
   "id": "17a3c06f-048e-4e0d-9a14-b567aa499af8",
   "metadata": {},
   "outputs": [],
   "source": [
    "# Importing course packages; you can add more too!\n",
    "import pandas as pd\n",
    "import numpy as np\n",
    "import matplotlib.pyplot as plt\n",
    "import sklearn\n",
    "\n",
    "# Importing course datasets as DataFrames\n",
    "auto = pd.read_csv('../datasets/auto.csv')\n",
    "bikes = pd.read_csv('../datasets/bikes.csv')\n",
    "liver_disease = pd.read_csv('../datasets/indian_liver_patient_preprocessed.csv', index_col=0)\n",
    "wbc = pd.read_csv('../datasets/wbc.csv') # Wisconsin Breast Cancer Dataset"
   ]
  },
  {
   "cell_type": "markdown",
   "id": "0ca01219-c48d-44e7-9b00-6a534bbbff2c",
   "metadata": {},
   "source": [
    "# Decision tree for classification"
   ]
  },
  {
   "cell_type": "markdown",
   "id": "9661bbde-314e-442a-83eb-7f11676a70e6",
   "metadata": {
    "tags": []
   },
   "source": [
    "### Train your first classification tree\n",
    "\n",
    "In this exercise you'll work with the Wisconsin Breast Cancer Dataset from the UCI machine learning repository. You'll predict whether a tumor is malignant or benign based on two features: the mean radius of the tumor (```radius_mean```) and its mean number of concave points (```concave points_mean```).\n",
    "\n",
    "The dataset is already loaded in your workspace and is split into 80% train and 20% test. The feature matrices are assigned to X_train and ```X_test```, while the arrays of labels are assigned to ```y_train``` and ```y_test``` where class 1 corresponds to a malignant tumor and class 0 corresponds to a benign tumor. To obtain reproducible results, we also defined a variable called ```SEED``` which is set to 1.\n",
    "\n",
    "[sklearn.tree.DecisionTreeClassifier Documentation](https://scikit-learn.org/stable/modules/generated/sklearn.tree.DecisionTreeClassifier.html)"
   ]
  },
  {
   "cell_type": "code",
   "execution_count": 2,
   "id": "4d8e496c-abfe-4a6b-8afe-5bda1c543d25",
   "metadata": {},
   "outputs": [],
   "source": [
    "from sklearn.model_selection import train_test_split\n",
    "\n",
    "SEED = 1\n",
    "# map tumor diagnosis of Malignant to 1 and Beningn to 0.\n",
    "wbc['diagnosis'] = wbc['diagnosis'].map({'M':1 ,'B':0})\n",
    "# Create arrays for features and target variable\n",
    "y = wbc['diagnosis'] # target\n",
    "X = wbc[['radius_mean', 'concave points_mean']] # features\n",
    "# Create training and test sets\n",
    "X_train, X_test, y_train, y_test = train_test_split(X, y, test_size = 0.2, random_state=42)"
   ]
  },
  {
   "cell_type": "code",
   "execution_count": 3,
   "id": "7cfee3a0-e2bc-4b5a-9500-22dca10bfe09",
   "metadata": {},
   "outputs": [
    {
     "name": "stdout",
     "output_type": "stream",
     "text": [
      "[0 1 1 0 0]\n"
     ]
    }
   ],
   "source": [
    "# Import DecisionTreeClassifier from sklearn.tree\n",
    "from sklearn.tree import DecisionTreeClassifier\n",
    "\n",
    "# Instantiate a DecisionTreeClassifier 'dt' with a maximum depth of 6\n",
    "dt = DecisionTreeClassifier(max_depth=6, random_state=SEED)\n",
    "\n",
    "# Fit dt to the training set\n",
    "dt.fit(X_train, y_train)\n",
    "\n",
    "# Predict test set labels\n",
    "y_pred = dt.predict(X_test)\n",
    "print(y_pred[0:5])"
   ]
  },
  {
   "cell_type": "markdown",
   "id": "cc901566-b613-4564-8214-e38b7b75bb59",
   "metadata": {},
   "source": [
    "### Evaluate the classification tree\n",
    "\n",
    "Now that you've fit your first classification tree, it's time to evaluate its performance on the test set. You'll do so using the accuracy metric which corresponds to the fraction of correct predictions made on the test set.\n",
    "\n",
    "The trained model ```dt``` from the previous exercise is loaded in your workspace along with the test set features matrix ```X_test``` and the array of labels ```y_test```.\n",
    "\n",
    "[sklearn.metrics.accuracy_score Documentation](https://scikit-learn.org/stable/modules/generated/sklearn.metrics.accuracy_score.html)"
   ]
  },
  {
   "cell_type": "code",
   "execution_count": 4,
   "id": "23e85d2a-2bd5-499f-96ce-bef663c7b179",
   "metadata": {},
   "outputs": [
    {
     "name": "stdout",
     "output_type": "stream",
     "text": [
      "Test set accuracy: 0.89\n"
     ]
    }
   ],
   "source": [
    "# Import accuracy_score\n",
    "from sklearn.metrics import accuracy_score\n",
    "\n",
    "# Predict test set labels\n",
    "y_pred = dt.predict(X_test)\n",
    "\n",
    "# Compute test set accuracy  \n",
    "acc = accuracy_score(y_true=y_test, y_pred=y_pred)\n",
    "print(\"Test set accuracy: {:.2f}\".format(acc))"
   ]
  },
  {
   "cell_type": "markdown",
   "id": "ee9610c9-0a99-4cc8-86f1-f6f77a7769bb",
   "metadata": {},
   "source": [
    "### Logistic regression vs classification tree\n",
    "\n",
    "A classification tree divides the feature space into rectangular regions. In contrast, a linear model such as logistic regression produces only a single linear decision boundary dividing the feature space into two decision regions.\n",
    "\n",
    "We have written a custom function called ```plot_labeled_decision_regions()``` that you can use to plot the decision regions of a list containing two trained classifiers. You can type ```help(plot_labeled_decision_regions)``` in the IPython shell to learn more about this function.\n",
    "\n",
    "```X_train```, ```X_test```, ```y_train```, ```y_test```, the model ```dt``` that you've trained in an earlier exercise , as well as the function ```plot_labeled_decision_regions()``` are available in your workspace.\n",
    "\n",
    "[sklearn.linear_model.LogisticRegression Documentation](https://scikit-learn.org/stable/modules/generated/sklearn.linear_model.LogisticRegression.html)\n",
    "\n",
    "[mlxtend.plotting.plot_decision_regions Documentation](http://rasbt.github.io/mlxtend/user_guide/plotting/plot_decision_regions/)\n",
    "\n",
    "[matplotlib.pyplot.subplots Documenation](https://matplotlib.org/3.5.0/api/_as_gen/matplotlib.pyplot.subplots.html)"
   ]
  },
  {
   "cell_type": "code",
   "execution_count": 5,
   "id": "5f7db2bd-1d40-4515-9534-ee68f146b489",
   "metadata": {},
   "outputs": [
    {
     "name": "stdout",
     "output_type": "stream",
     "text": [
      "Requirement already satisfied: mlxtend in /usr/local/anaconda3/lib/python3.9/site-packages (0.19.0)\n",
      "Requirement already satisfied: scipy>=1.2.1 in /usr/local/anaconda3/lib/python3.9/site-packages (from mlxtend) (1.7.1)\n",
      "Requirement already satisfied: matplotlib>=3.0.0 in /usr/local/anaconda3/lib/python3.9/site-packages (from mlxtend) (3.4.3)\n",
      "Requirement already satisfied: numpy>=1.16.2 in /usr/local/anaconda3/lib/python3.9/site-packages (from mlxtend) (1.20.3)\n",
      "Requirement already satisfied: scikit-learn>=0.20.3 in /usr/local/anaconda3/lib/python3.9/site-packages (from mlxtend) (0.24.2)\n",
      "Requirement already satisfied: setuptools in /usr/local/anaconda3/lib/python3.9/site-packages (from mlxtend) (58.0.4)\n",
      "Requirement already satisfied: pandas>=0.24.2 in /usr/local/anaconda3/lib/python3.9/site-packages (from mlxtend) (1.3.4)\n",
      "Requirement already satisfied: joblib>=0.13.2 in /usr/local/anaconda3/lib/python3.9/site-packages (from mlxtend) (1.1.0)\n",
      "Requirement already satisfied: kiwisolver>=1.0.1 in /usr/local/anaconda3/lib/python3.9/site-packages (from matplotlib>=3.0.0->mlxtend) (1.3.1)\n",
      "Requirement already satisfied: pyparsing>=2.2.1 in /usr/local/anaconda3/lib/python3.9/site-packages (from matplotlib>=3.0.0->mlxtend) (3.0.4)\n",
      "Requirement already satisfied: pillow>=6.2.0 in /usr/local/anaconda3/lib/python3.9/site-packages (from matplotlib>=3.0.0->mlxtend) (8.4.0)\n",
      "Requirement already satisfied: cycler>=0.10 in /usr/local/anaconda3/lib/python3.9/site-packages (from matplotlib>=3.0.0->mlxtend) (0.10.0)\n",
      "Requirement already satisfied: python-dateutil>=2.7 in /usr/local/anaconda3/lib/python3.9/site-packages (from matplotlib>=3.0.0->mlxtend) (2.8.2)\n",
      "Requirement already satisfied: six in /usr/local/anaconda3/lib/python3.9/site-packages (from cycler>=0.10->matplotlib>=3.0.0->mlxtend) (1.16.0)\n",
      "Requirement already satisfied: pytz>=2017.3 in /usr/local/anaconda3/lib/python3.9/site-packages (from pandas>=0.24.2->mlxtend) (2021.3)\n",
      "Requirement already satisfied: threadpoolctl>=2.0.0 in /usr/local/anaconda3/lib/python3.9/site-packages (from scikit-learn>=0.20.3->mlxtend) (2.2.0)\n"
     ]
    }
   ],
   "source": [
    "# Install a pip package in the current Jupyter kernel\n",
    "import sys\n",
    "!{sys.executable} -m pip install mlxtend"
   ]
  },
  {
   "cell_type": "code",
   "execution_count": 6,
   "id": "7b6bdc58-9845-42da-bde3-73d5b1752e64",
   "metadata": {},
   "outputs": [],
   "source": [
    "# Define function to display decision regions for each classifier.\n",
    "\n",
    "from mlxtend.plotting import plot_decision_regions\n",
    "import matplotlib.pyplot as plt\n",
    "import matplotlib.gridspec as gs\n",
    "import itertools\n",
    "\n",
    "def label_vis(xlab, ylab, title, yl):\n",
    "    '''set labels and style of the plot.'''\n",
    "    plt.xlabel(xlab)\n",
    "    plt.ylabel(ylab)\n",
    "    plt.title(title)\n",
    "    plt.ylim((0,yl))\n",
    "    \n",
    "def plot_labeled_decision_regions(features, target, clfs):\n",
    "    \"\"\" function to build subplots with plot_decision_regions.\n",
    "    Starting code taken from http://rasbt.github.io/mlxtend/user_guide/plotting/plot_decision_regions/\"\"\"\n",
    "    gd_rows = 0\n",
    "    gd_columns = 0\n",
    "    fig_titles = [str(clf).split('(')[0] for clf in clfs]\n",
    "\n",
    "    if len(clfs) == 1:\n",
    "        plot_decision_regions(X=np.array(features), y=np.array(target), clf=clf, legend=2)\n",
    "        label_vis(features.columns[0], features.columns[1], fig_titles[0], 0.2)\n",
    "    else:\n",
    "        gd_rows = len(clfs) // 2\n",
    "        gd_columns = 2\n",
    "        grid = gs.GridSpec(gd_rows, gd_columns)\n",
    "        fig = plt.figure(figsize=(10,8))\n",
    "\n",
    "        for clf, fig_title, rc in zip(clfs, fig_titles, itertools.product([0, 1], repeat=2)):\n",
    "            row_ind = rc[0]\n",
    "            col_ind = rc[1]\n",
    "            ax = plt.subplot(grid[row_ind, col_ind])\n",
    "            fig = plot_decision_regions(X=np.array(features), y=np.array(target), clf=clf, legend=2)\n",
    "            label_vis(features.columns[0], features.columns[1], fig_title, 0.2)\n",
    "            \n",
    "    plt.show()\n"
   ]
  },
  {
   "cell_type": "code",
   "execution_count": 7,
   "id": "baf1b3a5-0503-46f6-9dcb-78707f93e678",
   "metadata": {},
   "outputs": [
    {
     "data": {
      "image/png": "[encoded data removed]",
      "text/plain": [
       "<Figure size 720x576 with 2 Axes>"
      ]
     },
     "metadata": {
      "needs_background": "light"
     },
     "output_type": "display_data"
    }
   ],
   "source": [
    "# DATACAMP SOLUTION\n",
    "\n",
    "# Import LogisticRegression from sklearn.linear_model\n",
    "from sklearn.linear_model import  LogisticRegression\n",
    "\n",
    "# Instatiate logreg\n",
    "logreg = LogisticRegression(random_state=1)\n",
    "\n",
    "# Fit logreg to the training set\n",
    "logreg.fit(X_train, y_train)\n",
    "\n",
    "# Define a list called clfs containing the two classifiers logreg and dt\n",
    "clfs = [logreg, dt]\n",
    "\n",
    "# Review the decision regions of the two classifiers\n",
    "plot_labeled_decision_regions(X_test, y_test, clfs)"
   ]
  },
  {
   "cell_type": "markdown",
   "id": "e71250bd-36e2-4a0e-9596-0bcf408b66cf",
   "metadata": {},
   "source": [
    "# Classification tree Learning"
   ]
  },
  {
   "cell_type": "markdown",
   "id": "1a25b51d-f178-4fca-97c6-1e488bb89ae8",
   "metadata": {},
   "source": [
    "### Using entropy as a criterion\n",
    "\n",
    "In this exercise, you'll train a classification tree on the Wisconsin Breast Cancer dataset using entropy as an information criterion. You'll do so using all the 30 features in the dataset, which is split into 80% train and 20% test.\n",
    "\n",
    "[sklearn.tree.DecisionTreeClassifier Documentation](https://scikit-learn.org/stable/modules/generated/sklearn.tree.DecisionTreeClassifier.html)"
   ]
  },
  {
   "cell_type": "code",
   "execution_count": 8,
   "id": "c9518191-2066-453f-9827-03c81156db3c",
   "metadata": {},
   "outputs": [],
   "source": [
    "# re instantiate the training/test data to include all 30 columns.\n",
    "from sklearn.model_selection import train_test_split\n",
    "\n",
    "# re-load the dataset fresh.\n",
    "wbc = pd.read_csv('../datasets/wbc.csv') # Wisconsin Breast Cancer Dataset\n",
    "\n",
    "# map tumor diagnosis of Malignant to 1 and Beningn to 0.\n",
    "wbc['diagnosis'] = wbc['diagnosis'].map({'M':1 ,'B':0})\n",
    "# Create arrays for features and target variable\n",
    "y = wbc['diagnosis'] # target\n",
    "X = wbc.drop(['diagnosis', 'id', 'Unnamed: 32'], axis='columns')\n",
    "# Create training and test sets\n",
    "X_train, X_test, y_train, y_test = train_test_split(X, y, test_size = 0.2, random_state=42)"
   ]
  },
  {
   "cell_type": "code",
   "execution_count": 9,
   "id": "3acc0e35-913f-4281-ab46-3f7122f6d88b",
   "metadata": {},
   "outputs": [
    {
     "data": {
      "text/plain": [
       "DecisionTreeClassifier(criterion='entropy', max_depth=8, random_state=1)"
      ]
     },
     "execution_count": 9,
     "metadata": {},
     "output_type": "execute_result"
    }
   ],
   "source": [
    "# Import DecisionTreeClassifier from sklearn.tree\n",
    "from sklearn.tree import DecisionTreeClassifier\n",
    "\n",
    "# Instantiate dt_entropy, set 'entropy' as the information criterion\n",
    "dt_entropy = DecisionTreeClassifier(max_depth=8, criterion='entropy', random_state=1)\n",
    "\n",
    "# Fit dt_entropy to the training set\n",
    "dt_entropy.fit(X_train, y_train)"
   ]
  },
  {
   "cell_type": "markdown",
   "id": "5a6e9b04-11ad-4fb7-b887-24371ed2a2de",
   "metadata": {
    "tags": []
   },
   "source": [
    "### Entropy vs Gini index\n",
    "\n",
    "In this exercise you'll compare the test set accuracy of dt_entropy to the accuracy of another tree named dt_gini. The tree ```dt_gini``` was trained on the same dataset using the same parameters except for the information criterion which was set to the gini index using the keyword '```'gini'```.\n",
    "\n",
    "```X_test```, ```y_test```, ```dt_entropy```, as well as``` accuracy_gini``` which corresponds to the test set accuracy achieved by ```dt_gini``` are available in your workspace."
   ]
  },
  {
   "cell_type": "code",
   "execution_count": 10,
   "id": "6af99753-66dc-430f-827a-473cfb2dd919",
   "metadata": {},
   "outputs": [],
   "source": [
    "# train and test test Decision Tree classifer using 'gini' as information criterion as mentioned in the scinario.\n",
    "\n",
    "# Import DecisionTreeClassifier from sklearn.tree\n",
    "from sklearn.tree import DecisionTreeClassifier\n",
    "\n",
    "# Instantiate dt_entropy, set 'gini' as the information criterion\n",
    "dt_gini = DecisionTreeClassifier(max_depth=8, criterion='gini', random_state=1)\n",
    "\n",
    "# Fit dt_entropy to the training set\n",
    "dt_gini.fit(X_train, y_train)\n",
    "\n",
    "# Use dt_entropy to predict test set labels\n",
    "y_pred = dt_gini.predict(X_test)\n",
    "\n",
    "# Evaluate accuracy_entropy\n",
    "accuracy_gini = accuracy_score(y_test, y_pred)\n"
   ]
  },
  {
   "cell_type": "code",
   "execution_count": 11,
   "id": "0687c754-57f1-4c00-a421-b677a6fe1a5b",
   "metadata": {},
   "outputs": [
    {
     "name": "stdout",
     "output_type": "stream",
     "text": [
      "Accuracy achieved by using entropy: 0.956\n",
      "Accuracy achieved by using the gini index: 0.939\n"
     ]
    }
   ],
   "source": [
    "# Compare the accuracy of the gini index with entropy.\n",
    "\n",
    "# Import accuracy_score from sklearn.metrics\n",
    "from sklearn.metrics import accuracy_score\n",
    "\n",
    "# Use dt_entropy to predict test set labels\n",
    "y_pred = dt_entropy.predict(X_test)\n",
    "\n",
    "# Evaluate accuracy_entropy\n",
    "accuracy_entropy = accuracy_score(y_test, y_pred)\n",
    "\n",
    "# Print accuracy_entropy\n",
    "print(f'Accuracy achieved by using entropy: {accuracy_entropy:.3f}')\n",
    "\n",
    "# Print accuracy_gini\n",
    "print(f'Accuracy achieved by using the gini index: {accuracy_gini:.3f}')"
   ]
  },
  {
   "cell_type": "markdown",
   "id": "3a530f89-1cd0-4119-af03-4b5b790493e4",
   "metadata": {},
   "source": [
    "# Decision tree for regression"
   ]
  },
  {
   "cell_type": "markdown",
   "id": "dc06abeb-189e-4677-b594-cf4b41ed34a3",
   "metadata": {},
   "source": [
    "### Train your first regression tree\n",
    "\n",
    "In this exercise, you'll train a regression tree to predict the mpg (miles per gallon) consumption of cars in the auto-mpg dataset using all the six available features.\n",
    "\n",
    "The dataset is processed for you and is split to 80% train and 20% test. The features matrix ```X_train``` and the array ```y_train``` are available in your workspace.\n",
    "\n",
    "[pandas.get_dummies Documentation](https://pandas.pydata.org/docs/reference/api/pandas.get_dummies.html)\n",
    "\n",
    "[sklearn.tree.DecisionTreeRegressor](https://scikit-learn.org/stable/modules/generated/sklearn.tree.DecisionTreeRegressor.html)"
   ]
  },
  {
   "cell_type": "code",
   "execution_count": 28,
   "id": "de19443e-ac05-4c65-a0fd-11b2ef77498f",
   "metadata": {},
   "outputs": [],
   "source": [
    "# prep the data for training.\n",
    "from sklearn.model_selection import train_test_split\n",
    "import pandas as pd\n",
    "\n",
    "# prep data creating dummy variables.\n",
    "# Create dummy variables for categorical columns with drop_first=True: auto_origin\n",
    "auto_origin = pd.get_dummies(auto, drop_first=True)\n",
    "\n",
    "# Create arrays for features and target variable\n",
    "y = auto_origin['mpg'] # target\n",
    "X = auto_origin.drop('mpg', axis='columns') # features\n",
    "\n",
    "# Create training and test sets\n",
    "X_train, X_test, y_train, y_test = train_test_split(X, y, test_size = 0.2, random_state=42)"
   ]
  },
  {
   "cell_type": "code",
   "execution_count": 29,
   "id": "c3c28283-ae33-457e-b382-d5b05fc654c3",
   "metadata": {},
   "outputs": [
    {
     "data": {
      "text/plain": [
       "DecisionTreeRegressor(max_depth=8, min_samples_leaf=0.13, random_state=3)"
      ]
     },
     "execution_count": 29,
     "metadata": {},
     "output_type": "execute_result"
    }
   ],
   "source": [
    "# Import DecisionTreeRegressor from sklearn.tree\n",
    "from sklearn.tree import DecisionTreeRegressor\n",
    "\n",
    "# Instantiate dt\n",
    "dt = DecisionTreeRegressor(max_depth=8,\n",
    "                           min_samples_leaf=0.13,\n",
    "                           random_state=3\n",
    "                           )\n",
    "\n",
    "# Fit dt to the training set\n",
    "dt.fit(X_train, y_train)"
   ]
  },
  {
   "cell_type": "markdown",
   "id": "e5042821-7d64-4bfc-9d77-d224c232d760",
   "metadata": {},
   "source": [
    "### Evaluate the regression tree\n",
    "\n",
    "In this exercise, you will evaluate the test set performance of ```dt``` using the Root Mean Squared Error (RMSE) metric. The RMSE of a model measures, on average, how much the model's predictions differ from the actual labels. The RMSE of a model can be obtained by computing the square root of the model's Mean Squared Error (MSE).\n",
    "\n",
    "The features matrix ```X_test```, the array ```y_test```, as well as the decision tree regressor ```dt``` that you trained in the previous exercise are available in your workspace.\n",
    "\n",
    "[sklearn.metrics.mean_squared_error Documentation](https://scikit-learn.org/stable/modules/generated/sklearn.metrics.mean_squared_error.html)"
   ]
  },
  {
   "cell_type": "code",
   "execution_count": 30,
   "id": "b5803078-d984-4dd6-a12b-0893fafbc769",
   "metadata": {},
   "outputs": [
    {
     "name": "stdout",
     "output_type": "stream",
     "text": [
      "Test set RMSE of dt: 4.82\n"
     ]
    }
   ],
   "source": [
    "# Import mean_squared_error from sklearn.metrics as MSE\n",
    "from sklearn.metrics import mean_squared_error as MSE\n",
    "\n",
    "# Compute y_pred\n",
    "y_pred = dt.predict(X_test)\n",
    "\n",
    "# Compute mse_dt\n",
    "mse_dt = MSE(y_test, y_pred)\n",
    "\n",
    "# Compute rmse_dt\n",
    "rmse_dt = mse_dt**(1/2)\n",
    "\n",
    "# Print rmse_dt\n",
    "print(\"Test set RMSE of dt: {:.2f}\".format(rmse_dt))"
   ]
  },
  {
   "cell_type": "markdown",
   "id": "3a90a384-b16f-43a8-a6cf-bfbab7a76625",
   "metadata": {
    "tags": []
   },
   "source": [
    "### Linear regression vs regression tree\n",
    "\n",
    "In this exercise, you'll compare the test set RMSE of ```dt``` to that achieved by a linear regression model. We have already instantiated a linear regression model lr and trained it on the same dataset as ```dt```.\n",
    "\n",
    "The features matrix ```X_test```, the array of labels ```y_test```, the trained linear regression model ```lr```, ```mean_squared_error``` function which was imported under the alias ```MSE``` and ```rmse_dt``` from the previous exercise are available in your workspace."
   ]
  },
  {
   "cell_type": "code",
   "execution_count": 32,
   "id": "14e365d7-e17f-4282-ac24-6e0c161beb43",
   "metadata": {},
   "outputs": [
    {
     "data": {
      "text/plain": [
       "LinearRegression()"
      ]
     },
     "execution_count": 32,
     "metadata": {},
     "output_type": "execute_result"
    }
   ],
   "source": [
    "# Import LinearRegression\n",
    "from sklearn.linear_model import LinearRegression\n",
    "\n",
    "# Create the regressor: reg\n",
    "lr = LinearRegression()\n",
    "\n",
    "# Fit the model to the data\n",
    "lr.fit(X_train, y_train)"
   ]
  },
  {
   "cell_type": "code",
   "execution_count": 33,
   "id": "1d07ceb6-35b5-45d7-ac03-6f2ffb0af887",
   "metadata": {},
   "outputs": [
    {
     "name": "stdout",
     "output_type": "stream",
     "text": [
      "Linear Regression test set RMSE: 4.30\n",
      "Regression Tree test set RMSE: 4.82\n"
     ]
    }
   ],
   "source": [
    "# Predict test set labels \n",
    "y_pred_lr = lr.predict(X_test)\n",
    "\n",
    "# Compute mse_lr\n",
    "mse_lr = MSE(y_test, y_pred_lr)\n",
    "\n",
    "# Compute rmse_lr\n",
    "rmse_lr = mse_lr**(1/2)\n",
    "\n",
    "# Print rmse_lr\n",
    "print('Linear Regression test set RMSE: {:.2f}'.format(rmse_lr))\n",
    "\n",
    "# Print rmse_dt\n",
    "print('Regression Tree test set RMSE: {:.2f}'.format(rmse_dt))"
   ]
  },
  {
   "cell_type": "code",
   "execution_count": null,
   "id": "510278dc-a7fa-44b1-8bd7-1ed2568b8cde",
   "metadata": {},
   "outputs": [],
   "source": []
  },
  {
   "cell_type": "code",
   "execution_count": null,
   "id": "5b67e899-6796-403a-8c92-4f693ce7b87f",
   "metadata": {},
   "outputs": [],
   "source": []
  },
  {
   "cell_type": "code",
   "execution_count": null,
   "id": "8cacb2f6-4306-42c2-8e58-0d6aaa82ddf1",
   "metadata": {},
   "outputs": [],
   "source": []
  }
 ],
 "metadata": {
  "kernelspec": {
   "display_name": "Python 3 (ipykernel)",
   "language": "python",
   "name": "python3"
  },
  "language_info": {
   "codemirror_mode": {
    "name": "ipython",
    "version": 3
   },
   "file_extension": ".py",
   "mimetype": "text/x-python",
   "name": "python",
   "nbconvert_exporter": "python",
   "pygments_lexer": "ipython3",
   "version": "3.9.7"
  }
 },
 "nbformat": 4,
 "nbformat_minor": 5
}
