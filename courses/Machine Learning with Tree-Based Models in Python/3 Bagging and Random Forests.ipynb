{
 "cells": [
  {
   "cell_type": "markdown",
   "id": "b3baa389-34f8-4ea7-9902-662fca7033d2",
   "metadata": {},
   "source": [
    "Bagging is an ensemble method involving training the same algorithm many times using different subsets sampled from the training data. In this chapter, you'll understand how bagging can be used to create a tree ensemble. You'll also learn how the random forests algorithm can lead to further ensemble diversity through randomization at the level of each split in the trees forming the ensemble."
   ]
  },
  {
   "cell_type": "code",
   "execution_count": 15,
   "id": "5716b13a-a42e-4c8f-8def-08a17a62ba4c",
   "metadata": {},
   "outputs": [],
   "source": [
    "# Importing course packages; you can add more too!\n",
    "import pandas as pd\n",
    "import numpy as np\n",
    "import matplotlib.pyplot as plt\n",
    "import sklearn\n",
    "\n",
    "# Importing course datasets as DataFrames\n",
    "auto = pd.read_csv('../datasets/auto.csv')\n",
    "bikes = pd.read_csv('../datasets/bikes.csv')\n",
    "liver_disease = pd.read_csv('../datasets/indian_liver_patient_preprocessed.csv', index_col=0)\n",
    "wbc = pd.read_csv('../datasets/wbc.csv') # Wisconsin Breast Cancer Dataset"
   ]
  },
  {
   "cell_type": "markdown",
   "id": "d8281476-79f3-4433-8d4c-9e3b7319d6ff",
   "metadata": {},
   "source": [
    "# Bagging"
   ]
  },
  {
   "cell_type": "markdown",
   "id": "bf02f3b7-66d6-4132-8452-5095aaaf0d70",
   "metadata": {},
   "source": [
    "### Define the bagging classifier\n",
    "\n",
    "In the following exercises you'll work with the Indian Liver Patient dataset from the UCI machine learning repository. Your task is to predict whether a patient suffers from a liver disease using 10 features including Albumin, age and gender. You'll do so using a Bagging Classifier.\n",
    "\n",
    "[sklearn.ensemble.BaggingClassifier Documentation](https://scikit-learn.org/stable/modules/generated/sklearn.ensemble.BaggingClassifier.html)\n",
    "\n",
    "[sklearn.tree.DecisionTreeClassifier Documentation](https://scikit-learn.org/stable/modules/generated/sklearn.tree.DecisionTreeClassifier.html)"
   ]
  },
  {
   "cell_type": "code",
   "execution_count": 3,
   "id": "f5f45b2a-0dfd-4212-ba0d-e54bc09f056d",
   "metadata": {},
   "outputs": [],
   "source": [
    "# Import DecisionTreeClassifier\n",
    "from sklearn.tree import DecisionTreeClassifier\n",
    "\n",
    "# Import BaggingClassifier\n",
    "from sklearn.ensemble import BaggingClassifier\n",
    "\n",
    "# Instantiate dt\n",
    "dt = DecisionTreeClassifier(random_state=1)\n",
    "\n",
    "# Instantiate bc\n",
    "bc = BaggingClassifier(base_estimator=dt, n_estimators=50, random_state=1)"
   ]
  },
  {
   "cell_type": "markdown",
   "id": "6cc3229c-60ca-48df-acdd-a60ce40318b5",
   "metadata": {},
   "source": [
    "### Evaluate Bagging performance\n",
    "\n",
    "Now that you instantiated the bagging classifier, it's time to train it and evaluate its test set accuracy.\n",
    "\n",
    "The Indian Liver Patient dataset is processed for you and split into 80% train and 20% test. The feature matrices ```X_train``` and ```X_test```, as well as the arrays of labels ```y_train``` and ```y_test``` are available in your workspace. In addition, we have also loaded the bagging classifier bc that you instantiated in the previous exercise and the function ```accuracy_score()``` from ```sklearn.metrics```."
   ]
  },
  {
   "cell_type": "code",
   "execution_count": 10,
   "id": "1c2c66d0-7820-4c33-bae0-a8a68c32e18c",
   "metadata": {},
   "outputs": [],
   "source": [
    "# Set up the enviornmentfor the lesson.\n",
    "from sklearn.model_selection import train_test_split\n",
    "from sklearn.metrics import accuracy_score\n",
    "\n",
    "y = liver_disease['Liver_disease'] # target\n",
    "X = liver_disease.drop('Liver_disease', axis='columns') # features\n",
    "\n",
    "X_train, X_test, y_train, y_test = train_test_split(X, y, test_size=0.2, random_state=42)"
   ]
  },
  {
   "cell_type": "code",
   "execution_count": 11,
   "id": "70e8fb7d-5246-44f8-896e-7b158842e06d",
   "metadata": {},
   "outputs": [
    {
     "name": "stdout",
     "output_type": "stream",
     "text": [
      "Test set accuracy of bc: 0.62\n"
     ]
    }
   ],
   "source": [
    "# Fit bc to the training set\n",
    "bc.fit(X_train, y_train)\n",
    "\n",
    "# Predict test set labels\n",
    "y_pred = bc.predict(X_test)\n",
    "\n",
    "# Evaluate acc_test\n",
    "acc_test = accuracy_score(y_test, y_pred)\n",
    "print('Test set accuracy of bc: {:.2f}'.format(acc_test)) "
   ]
  },
  {
   "cell_type": "markdown",
   "id": "9ea7e2fa-0ca2-485b-ae04-bd620371727f",
   "metadata": {},
   "source": [
    "# Out of Bag Evaluation"
   ]
  },
  {
   "cell_type": "markdown",
   "id": "188ca575-845c-44cc-9c9c-0c8e0d90be0e",
   "metadata": {},
   "source": [
    "### Prepare the ground\n",
    "\n",
    "In the following exercises, you'll compare the OOB accuracy to the test set accuracy of a bagging classifier trained on the Indian Liver Patient dataset.\n",
    "\n",
    "In sklearn, you can evaluate the OOB accuracy of an ensemble classifier by setting the parameter ```oob_score``` to ```True``` during instantiation. After training the classifier, the OOB accuracy can be obtained by accessing the ```.oob_score_``` attribute from the corresponding instance.\n",
    "\n",
    "In your environment, we have made available the class ```DecisionTreeClassifier``` from ```sklearn.tree```."
   ]
  },
  {
   "cell_type": "code",
   "execution_count": 12,
   "id": "64c79fca-87ab-4b1d-bcc9-790d653b768a",
   "metadata": {},
   "outputs": [],
   "source": [
    "# Import DecisionTreeClassifier\n",
    "from sklearn.tree import DecisionTreeClassifier\n",
    "\n",
    "# Import BaggingClassifier\n",
    "from sklearn.ensemble import BaggingClassifier\n",
    "\n",
    "# Instantiate dt\n",
    "dt = DecisionTreeClassifier(min_samples_leaf=8, random_state=1)\n",
    "\n",
    "# Instantiate bc\n",
    "bc = BaggingClassifier(base_estimator=dt, \n",
    "                       n_estimators=50,\n",
    "                       oob_score=True,\n",
    "                       random_state=1)"
   ]
  },
  {
   "cell_type": "markdown",
   "id": "be967d50-a41b-4b19-a8fe-387cf40b4775",
   "metadata": {},
   "source": [
    "### OOB Score vs Test Set Score\n",
    "\n",
    "Now that you instantiated ```bc```, you will fit it to the training set and evaluate its test set and OOB accuracies.\n",
    "\n",
    "The dataset is processed for you and split into 80% train and 20% test. The feature matrices ```X_train``` and ```X_test```, as well as the arrays of labels ```y_train``` and ```y_test``` are available in your workspace. In addition, we have also loaded the classifier ```bc``` instantiated in the previous exercise and the function ```accuracy_score()``` from ```sklearn.metrics```."
   ]
  },
  {
   "cell_type": "code",
   "execution_count": 13,
   "id": "c575a8ab-5f05-4981-8499-e67abb798364",
   "metadata": {},
   "outputs": [
    {
     "name": "stdout",
     "output_type": "stream",
     "text": [
      "Test set accuracy: 0.647, OOB accuracy: 0.724\n"
     ]
    }
   ],
   "source": [
    "# Fit bc to the training set \n",
    "bc.fit(X_train, y_train)\n",
    "\n",
    "# Predict test set labels\n",
    "y_pred = bc.predict(X_test)\n",
    "\n",
    "# Evaluate test set accuracy\n",
    "acc_test = accuracy_score(y_test, y_pred)\n",
    "\n",
    "# Evaluate OOB accuracy\n",
    "acc_oob = bc.oob_score_\n",
    "\n",
    "# Print acc_test and acc_oob\n",
    "print('Test set accuracy: {:.3f}, OOB accuracy: {:.3f}'.format(acc_test, acc_oob))"
   ]
  },
  {
   "cell_type": "markdown",
   "id": "6d82fbbf-5385-4a72-b54a-29ee67ae3f50",
   "metadata": {},
   "source": [
    "# Random Forests (RF)"
   ]
  },
  {
   "cell_type": "markdown",
   "id": "79ace8ea-d74f-4efa-9147-a41d919d6846",
   "metadata": {},
   "source": [
    "### Train an RF regressor\n",
    "\n",
    "In the following exercises you'll predict bike rental demand in the Capital Bikeshare program in Washington, D.C using historical weather data from the Bike Sharing Demand dataset available through Kaggle. For this purpose, you will be using the random forests algorithm. As a first step, you'll define a random forests regressor and fit it to the training set.\n",
    "\n",
    "The dataset is processed for you and split into 80% train and 20% test. The features matrix ```X_train``` and the array ```y_train``` are available in your workspace.\n",
    "\n",
    "[sklearn.ensemble.RandomForestRegressor Documentation](https://scikit-learn.org/stable/modules/generated/sklearn.ensemble.RandomForestRegressor.html)"
   ]
  },
  {
   "cell_type": "code",
   "execution_count": 16,
   "id": "636e9088-9695-4e58-97ab-7eaa22fae46d",
   "metadata": {},
   "outputs": [],
   "source": [
    "from sklearn.model_selection  import train_test_split\n",
    "\n",
    "y = bikes['cnt']# target\n",
    "X = bikes.drop('cnt', axis='columns')# features\n",
    "\n",
    "X_train, X_test, y_train, y_test = train_test_split(X, y, test_size=0.2, random_state=42)"
   ]
  },
  {
   "cell_type": "code",
   "execution_count": 17,
   "id": "f59b8244-3202-4131-849d-0d2d2a7fb8a2",
   "metadata": {},
   "outputs": [
    {
     "data": {
      "text/plain": [
       "RandomForestRegressor(n_estimators=25, random_state=2)"
      ]
     },
     "execution_count": 17,
     "metadata": {},
     "output_type": "execute_result"
    }
   ],
   "source": [
    "# Import RandomForestRegressor\n",
    "from sklearn.ensemble import RandomForestRegressor\n",
    "\n",
    "# Instantiate rf\n",
    "rf = RandomForestRegressor(n_estimators=25,\n",
    "                           random_state=2)\n",
    "            \n",
    "# Fit rf to the training set    \n",
    "rf.fit(X_train, y_train) "
   ]
  },
  {
   "cell_type": "markdown",
   "id": "9ed703a9-2777-4fe8-9fd1-cbe65ac44df8",
   "metadata": {},
   "source": [
    "### Evaluate the RF regressor\n",
    "\n",
    "You'll now evaluate the test set RMSE of the random forests regressor ```rf``` that you trained in the previous exercise.\n",
    "\n",
    "The dataset is processed for you and split into 80% train and 20% test. The features matrix ```X_test```, as well as the array ```y_test``` are available in your workspace. In addition, we have also loaded the model ```rf``` that you trained in the previous exercise."
   ]
  },
  {
   "cell_type": "code",
   "execution_count": 18,
   "id": "cb8cbb33-fd21-4776-a88c-1a5e37b52f92",
   "metadata": {},
   "outputs": [
    {
     "name": "stdout",
     "output_type": "stream",
     "text": [
      "Test set RMSE of rf: 57.66\n"
     ]
    }
   ],
   "source": [
    "# Import mean_squared_error as MSE\n",
    "from sklearn.metrics import mean_squared_error as MSE\n",
    "\n",
    "# Predict the test set labels\n",
    "y_pred = rf.predict(X_test)\n",
    "\n",
    "# Evaluate the test set RMSE\n",
    "rmse_test = MSE(y_test, y_pred)**(1/2)\n",
    "\n",
    "# Print rmse_test\n",
    "print('Test set RMSE of rf: {:.2f}'.format(rmse_test))"
   ]
  },
  {
   "cell_type": "markdown",
   "id": "5f701456-f2a9-442f-a1bd-619defbdfc64",
   "metadata": {},
   "source": [
    "### Visualizing features importances\n",
    "\n",
    "In this exercise, you'll determine which features were the most predictive according to the random forests regressor rf that you trained in a previous exercise.\n",
    "\n",
    "For this purpose, you'll draw a horizontal barplot of the feature importance as assessed by ```rf```. Fortunately, this can be done easily thanks to plotting capabilities of pandas.\n",
    "\n",
    "We have created a pandas.Series object called importances containing the feature names as index and their importances as values. In addition, ```matplotlib.pyplot``` is available as```plt``` and ```pandas``` as ```pd```."
   ]
  },
  {
   "cell_type": "code",
   "execution_count": 19,
   "id": "8e0c93af-2763-4c26-aeae-7dc11d575607",
   "metadata": {},
   "outputs": [
    {
     "data": {
      "image/png": "[encoded data removed]",
      "text/plain": [
       "<Figure size 432x288 with 1 Axes>"
      ]
     },
     "metadata": {
      "needs_background": "light"
     },
     "output_type": "display_data"
    }
   ],
   "source": [
    "# Create a pd.Series of features importances\n",
    "importances = pd.Series(data=rf.feature_importances_,\n",
    "                        index= X_train.columns)\n",
    "\n",
    "# Sort importances\n",
    "importances_sorted = importances.sort_values()\n",
    "\n",
    "# Draw a horizontal barplot of importances_sorted\n",
    "importances_sorted.plot(kind='barh', color='lightgreen')\n",
    "plt.title('Features Importances')\n",
    "plt.show()"
   ]
  },
  {
   "cell_type": "code",
   "execution_count": null,
   "id": "1a7ca111-d099-48a1-bd0f-7d344320e7a3",
   "metadata": {},
   "outputs": [],
   "source": []
  }
 ],
 "metadata": {
  "kernelspec": {
   "display_name": "Python 3 (ipykernel)",
   "language": "python",
   "name": "python3"
  },
  "language_info": {
   "codemirror_mode": {
    "name": "ipython",
    "version": 3
   },
   "file_extension": ".py",
   "mimetype": "text/x-python",
   "name": "python",
   "nbconvert_exporter": "python",
   "pygments_lexer": "ipython3",
   "version": "3.9.7"
  }
 },
 "nbformat": 4,
 "nbformat_minor": 5
}
