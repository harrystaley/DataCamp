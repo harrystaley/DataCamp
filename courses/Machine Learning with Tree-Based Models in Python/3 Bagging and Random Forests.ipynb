{
 "cells": [
  {
   "cell_type": "markdown",
   "id": "b3baa389-34f8-4ea7-9902-662fca7033d2",
   "metadata": {},
   "source": [
    "Bagging is an ensemble method involving training the same algorithm many times using different subsets sampled from the training data. In this chapter, you'll understand how bagging can be used to create a tree ensemble. You'll also learn how the random forests algorithm can lead to further ensemble diversity through randomization at the level of each split in the trees forming the ensemble."
   ]
  },
  {
   "cell_type": "code",
   "execution_count": 1,
   "id": "5716b13a-a42e-4c8f-8def-08a17a62ba4c",
   "metadata": {},
   "outputs": [],
   "source": [
    "# Importing course packages; you can add more too!\n",
    "import pandas as pd\n",
    "import numpy as np\n",
    "import matplotlib.pyplot as plt\n",
    "import sklearn\n",
    "\n",
    "# Importing course datasets as DataFrames\n",
    "auto = pd.read_csv('../datasets/auto.csv')\n",
    "bikes = pd.read_csv('../datasets/bikes.csv')\n",
    "liver_disease = pd.read_csv('../datasets/indian_liver_patient_preprocessed.csv', index_col=0)\n",
    "wbc = pd.read_csv('../datasets/wbc.csv') # Wisconsin Breast Cancer Dataset"
   ]
  },
  {
   "cell_type": "markdown",
   "id": "d8281476-79f3-4433-8d4c-9e3b7319d6ff",
   "metadata": {},
   "source": [
    "# Bagging"
   ]
  },
  {
   "cell_type": "code",
   "execution_count": null,
   "id": "2bb3e1da-dc97-4cba-a27e-71db80bca47e",
   "metadata": {},
   "outputs": [],
   "source": []
  }
 ],
 "metadata": {
  "kernelspec": {
   "display_name": "Python 3 (ipykernel)",
   "language": "python",
   "name": "python3"
  },
  "language_info": {
   "codemirror_mode": {
    "name": "ipython",
    "version": 3
   },
   "file_extension": ".py",
   "mimetype": "text/x-python",
   "name": "python",
   "nbconvert_exporter": "python",
   "pygments_lexer": "ipython3",
   "version": "3.9.7"
  }
 },
 "nbformat": 4,
 "nbformat_minor": 5
}
