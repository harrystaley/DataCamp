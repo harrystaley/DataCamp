{
 "cells": [
  {
   "cell_type": "code",
   "execution_count": 1,
   "id": "03dbe809-8ea3-472b-bcb9-cb7e9f4547cd",
   "metadata": {},
   "outputs": [
    {
     "data": {
      "text/html": [
       "<div>\n",
       "<style scoped>\n",
       "    .dataframe tbody tr th:only-of-type {\n",
       "        vertical-align: middle;\n",
       "    }\n",
       "\n",
       "    .dataframe tbody tr th {\n",
       "        vertical-align: top;\n",
       "    }\n",
       "\n",
       "    .dataframe thead th {\n",
       "        text-align: right;\n",
       "    }\n",
       "</style>\n",
       "<table border=\"1\" class=\"dataframe\">\n",
       "  <thead>\n",
       "    <tr style=\"text-align: right;\">\n",
       "      <th></th>\n",
       "      <th>Start date</th>\n",
       "      <th>End date</th>\n",
       "      <th>Start station number</th>\n",
       "      <th>Start station</th>\n",
       "      <th>End station number</th>\n",
       "      <th>End station</th>\n",
       "      <th>Bike number</th>\n",
       "      <th>Member type</th>\n",
       "    </tr>\n",
       "  </thead>\n",
       "  <tbody>\n",
       "    <tr>\n",
       "      <th>0</th>\n",
       "      <td>2017-10-01 15:23:25</td>\n",
       "      <td>2017-10-01 15:26:26</td>\n",
       "      <td>31038</td>\n",
       "      <td>Glebe Rd &amp; 11th St N</td>\n",
       "      <td>31036</td>\n",
       "      <td>George Mason Dr &amp; Wilson Blvd</td>\n",
       "      <td>W20529</td>\n",
       "      <td>Member</td>\n",
       "    </tr>\n",
       "    <tr>\n",
       "      <th>1</th>\n",
       "      <td>2017-10-01 15:42:57</td>\n",
       "      <td>2017-10-01 17:49:59</td>\n",
       "      <td>31036</td>\n",
       "      <td>George Mason Dr &amp; Wilson Blvd</td>\n",
       "      <td>31036</td>\n",
       "      <td>George Mason Dr &amp; Wilson Blvd</td>\n",
       "      <td>W20529</td>\n",
       "      <td>Casual</td>\n",
       "    </tr>\n",
       "    <tr>\n",
       "      <th>2</th>\n",
       "      <td>2017-10-02 06:37:10</td>\n",
       "      <td>2017-10-02 06:42:53</td>\n",
       "      <td>31036</td>\n",
       "      <td>George Mason Dr &amp; Wilson Blvd</td>\n",
       "      <td>31037</td>\n",
       "      <td>Ballston Metro / N Stuart &amp; 9th St N</td>\n",
       "      <td>W20529</td>\n",
       "      <td>Member</td>\n",
       "    </tr>\n",
       "    <tr>\n",
       "      <th>3</th>\n",
       "      <td>2017-10-02 08:56:45</td>\n",
       "      <td>2017-10-02 09:18:03</td>\n",
       "      <td>31037</td>\n",
       "      <td>Ballston Metro / N Stuart &amp; 9th St N</td>\n",
       "      <td>31295</td>\n",
       "      <td>Potomac &amp; M St NW</td>\n",
       "      <td>W20529</td>\n",
       "      <td>Member</td>\n",
       "    </tr>\n",
       "    <tr>\n",
       "      <th>4</th>\n",
       "      <td>2017-10-02 18:23:48</td>\n",
       "      <td>2017-10-02 18:45:05</td>\n",
       "      <td>31295</td>\n",
       "      <td>Potomac &amp; M St NW</td>\n",
       "      <td>31230</td>\n",
       "      <td>Metro Center / 12th &amp; G St NW</td>\n",
       "      <td>W20529</td>\n",
       "      <td>Member</td>\n",
       "    </tr>\n",
       "  </tbody>\n",
       "</table>\n",
       "</div>"
      ],
      "text/plain": [
       "            Start date             End date  Start station number  \\\n",
       "0  2017-10-01 15:23:25  2017-10-01 15:26:26                 31038   \n",
       "1  2017-10-01 15:42:57  2017-10-01 17:49:59                 31036   \n",
       "2  2017-10-02 06:37:10  2017-10-02 06:42:53                 31036   \n",
       "3  2017-10-02 08:56:45  2017-10-02 09:18:03                 31037   \n",
       "4  2017-10-02 18:23:48  2017-10-02 18:45:05                 31295   \n",
       "\n",
       "                          Start station  End station number  \\\n",
       "0                  Glebe Rd & 11th St N               31036   \n",
       "1         George Mason Dr & Wilson Blvd               31036   \n",
       "2         George Mason Dr & Wilson Blvd               31037   \n",
       "3  Ballston Metro / N Stuart & 9th St N               31295   \n",
       "4                     Potomac & M St NW               31230   \n",
       "\n",
       "                            End station Bike number Member type  \n",
       "0         George Mason Dr & Wilson Blvd      W20529      Member  \n",
       "1         George Mason Dr & Wilson Blvd      W20529      Casual  \n",
       "2  Ballston Metro / N Stuart & 9th St N      W20529      Member  \n",
       "3                     Potomac & M St NW      W20529      Member  \n",
       "4         Metro Center / 12th & G St NW      W20529      Member  "
      ]
     },
     "execution_count": 1,
     "metadata": {},
     "output_type": "execute_result"
    }
   ],
   "source": [
    "# Importing course packages; you can add more too!\n",
    "import pandas as pd\n",
    "import matplotlib.pyplot as plt\n",
    "from datetime import date, datetime, timezone, timedelta\n",
    "from dateutil import tz\n",
    "import pickle\n",
    "\n",
    "# Importing course datasets\n",
    "rides = pd.read_csv('../datasets/capital-onebike.csv')\n",
    "with open('../datasets/florida_hurricane_dates.pkl', 'rb') as f:\n",
    "    florida_hurricane_dates = pickle.load(f)\n",
    "florida_hurricane_dates = sorted(florida_hurricane_dates)\n",
    "\n",
    "rides.head() # Display the first five rows"
   ]
  },
  {
   "cell_type": "markdown",
   "id": "2b2afe2b-cbcb-4777-8593-9c31b7290267",
   "metadata": {},
   "source": [
    "# Dates in Python"
   ]
  },
  {
   "cell_type": "markdown",
   "id": "4ff20731-4809-4816-a4d9-50e30d31286d",
   "metadata": {},
   "source": [
    "### Which day of the week?"
   ]
  },
  {
   "cell_type": "code",
   "execution_count": 2,
   "id": "86c74e3e-4d3b-409f-b6af-7b4de56223d6",
   "metadata": {},
   "outputs": [],
   "source": [
    "# Import date from datetime\n",
    "from datetime import date"
   ]
  },
  {
   "cell_type": "code",
   "execution_count": 3,
   "id": "7bc9bcc8-2113-49fe-8a2b-2bc1d4f7953c",
   "metadata": {},
   "outputs": [],
   "source": [
    "# Import date from datetime\n",
    "from datetime import date\n",
    "\n",
    "# Create a date object\n",
    "hurricane_andrew = date(1992, 8, 24)"
   ]
  },
  {
   "cell_type": "code",
   "execution_count": 4,
   "id": "2fca1745-f4c2-4dd2-8a13-8c8a8f53f107",
   "metadata": {},
   "outputs": [
    {
     "name": "stdout",
     "output_type": "stream",
     "text": [
      "0\n"
     ]
    }
   ],
   "source": [
    "# Import date from datetime\n",
    "from datetime import date\n",
    "\n",
    "# Create a date object\n",
    "hurricane_andrew = date(1992, 8, 24)\n",
    "\n",
    "# Which day of the week is the date?\n",
    "print(hurricane_andrew.weekday())"
   ]
  },
  {
   "cell_type": "markdown",
   "id": "5e1c0e7e-b652-4e37-90b1-f430f1e21870",
   "metadata": {},
   "source": [
    "### How many hurricanes come early?"
   ]
  },
  {
   "cell_type": "code",
   "execution_count": 5,
   "id": "85c84554-2f3f-48d1-8b74-ef20a78f0762",
   "metadata": {},
   "outputs": [
    {
     "name": "stdout",
     "output_type": "stream",
     "text": [
      "10\n"
     ]
    }
   ],
   "source": [
    "# Counter for how many before June 1\n",
    "early_hurricanes = 0\n",
    "\n",
    "# We loop over the dates\n",
    "for hurricane in florida_hurricane_dates:\n",
    "  # Check if the month is before June (month number 6)\n",
    "  if hurricane.month < 6:\n",
    "    early_hurricanes = early_hurricanes + 1\n",
    "    \n",
    "print(early_hurricanes)"
   ]
  },
  {
   "cell_type": "markdown",
   "id": "15c4b635-a5a2-4326-af38-f36b7abef95b",
   "metadata": {},
   "source": [
    "# Math with dates"
   ]
  },
  {
   "cell_type": "markdown",
   "id": "4caa42ae-a93d-497a-a954-75773d91171b",
   "metadata": {},
   "source": [
    "### Subtracting dates"
   ]
  },
  {
   "cell_type": "code",
   "execution_count": 6,
   "id": "f4e0db9a-b20e-4abb-9c40-1d9a39be4c6b",
   "metadata": {},
   "outputs": [
    {
     "name": "stdout",
     "output_type": "stream",
     "text": [
      "218\n"
     ]
    }
   ],
   "source": [
    "# Import date\n",
    "from datetime import date\n",
    "\n",
    "# Create a date object for May 9th, 2007\n",
    "start = date(2007, 5, 9)\n",
    "\n",
    "# Create a date object for December 13th, 2007\n",
    "end = date(2007, 12, 13)\n",
    "\n",
    "# Subtract the two dates and print the number of days\n",
    "print((end - start).days)"
   ]
  },
  {
   "cell_type": "markdown",
   "id": "4ee7c88d-60ef-4bd0-8403-eeafb434547c",
   "metadata": {},
   "source": [
    "### Counting events per calendar month"
   ]
  },
  {
   "cell_type": "code",
   "execution_count": 7,
   "id": "df5dc69c-897e-4740-a71a-62738fa17035",
   "metadata": {},
   "outputs": [
    {
     "name": "stdout",
     "output_type": "stream",
     "text": [
      "{1: 0, 2: 1, 3: 0, 4: 1, 5: 8, 6: 32, 7: 21, 8: 49, 9: 70, 10: 43, 11: 9, 12: 1}\n"
     ]
    }
   ],
   "source": [
    "# A dictionary to count hurricanes per calendar month\n",
    "hurricanes_each_month = {1: 0, 2: 0, 3: 0, 4: 0, 5: 0, 6:0,\n",
    "\t\t  \t\t\t\t 7: 0, 8:0, 9:0, 10:0, 11:0, 12:0}\n",
    "\n",
    "# Loop over all hurricanes\n",
    "for hurricane in florida_hurricane_dates:\n",
    "    # Pull out the month\n",
    "    month = hurricane.month\n",
    "    # Increment the count in your dictionary by one\n",
    "    hurricanes_each_month[month] += 1\n",
    "\n",
    "print(hurricanes_each_month)"
   ]
  },
  {
   "cell_type": "code",
   "execution_count": 10,
   "id": "6c1e50f5-7bcc-4875-8129-000d9bc1f9a4",
   "metadata": {
    "jupyter": {
     "source_hidden": true
    },
    "tags": []
   },
   "outputs": [],
   "source": [
    "dates_scrambled = [\n",
    "    date(1988, 8, 4),\n",
    "    date(1990, 10, 12),\n",
    "    date(2003, 4, 20),\n",
    "    date(1971, 9, 1),\n",
    "    date(1988, 8, 23),\n",
    "    date(1994, 8, 15),\n",
    "    date(2002, 8, 4),\n",
    "    date(1988, 5, 30),\n",
    "    date(2003, 9, 13),\n",
    "    date(2009, 8, 21),\n",
    "    date(1978, 6, 22),\n",
    "    date(1969, 6, 9),\n",
    "    date(1976, 6, 11),\n",
    "    date(1976, 8, 19),\n",
    "    date(1966, 6, 9),\n",
    "    date(1968, 7, 5),\n",
    "    date(1987, 11, 4),\n",
    "    date(1988, 8, 13),\n",
    "    date(2007, 12, 13),\n",
    "    date(1994, 11, 16),\n",
    "    date(2003, 9, 6),\n",
    "    date(1971, 8, 13),\n",
    "    date(1981, 8, 17),\n",
    "    date(1998, 9, 25),\n",
    "    date(1968, 9, 26),\n",
    "    date(1968, 6, 4),\n",
    "    date(1998, 11, 5),\n",
    "    date(2008, 8, 18),\n",
    "    date(1987, 8, 14),\n",
    "    date(1988, 11, 23),\n",
    "    date(2010, 9, 29),\n",
    "    date(1985, 7, 23),\n",
    "    date(2017, 7, 31),\n",
    "    date(1955, 8, 21),\n",
    "    date(1986, 6, 26),\n",
    "    date(1963, 10, 21),\n",
    "    date(2011, 10, 28),\n",
    "    date(2011, 11, 9),\n",
    "    date(1997, 7, 19),\n",
    "    date(2007, 6, 2),\n",
    "    date(2002, 9, 14),\n",
    "    date(1992, 9, 29),\n",
    "    date(1971, 10, 13),\n",
    "    date(1962, 8, 26),\n",
    "    date(1964, 8, 27),\n",
    "    date(1984, 9, 27),\n",
    "    date(1973, 9, 25),\n",
    "    date(1969, 10, 21),\n",
    "    date(1994, 7, 3),\n",
    "    date(1958, 9, 4),\n",
    "    date(1985, 11, 21),\n",
    "    date(2011, 9, 3),\n",
    "    date(1972, 6, 19),\n",
    "    date(1991, 6, 30),\n",
    "    date(2004, 8, 12),\n",
    "    date(2007, 9, 8),\n",
    "    date(1952, 2, 3),\n",
    "    date(1965, 9, 30),\n",
    "    date(2000, 9, 22),\n",
    "    date(2002, 9, 26),\n",
    "    date(1950, 9, 5),\n",
    "    date(1966, 10, 4),\n",
    "    date(1970, 5, 25),\n",
    "    date(1979, 9, 24),\n",
    "    date(1960, 9, 23),\n",
    "    date(2007, 8, 23),\n",
    "    date(2009, 8, 16),\n",
    "    date(1996, 10, 18),\n",
    "    date(2012, 10, 25),\n",
    "    date(2011, 8, 25),\n",
    "    date(1951, 5, 18),\n",
    "    date(1980, 8, 7),\n",
    "    date(1979, 9, 3),\n",
    "    date(1953, 9, 26),\n",
    "    date(1968, 10, 19),\n",
    "    date(2009, 11, 9),\n",
    "    date(1999, 8, 29),\n",
    "    date(2015, 10, 1),\n",
    "    date(2008, 9, 2),\n",
    "    date(2004, 10, 10),\n",
    "    date(2004, 9, 16),\n",
    "    date(1992, 8, 24),\n",
    "    date(2000, 9, 9),\n",
    "    date(1971, 9, 16),\n",
    "    date(1996, 9, 2),\n",
    "    date(1998, 9, 3),\n",
    "    date(1951, 10, 2),\n",
    "    date(1979, 9, 12),\n",
    "    date(2007, 10, 31),\n",
    "    date(1953, 10, 9),\n",
    "    date(1952, 8, 30),\n",
    "    date(1969, 9, 7),\n",
    "    date(2015, 8, 30),\n",
    "    date(1959, 10, 8),\n",
    "    date(2002, 7, 13),\n",
    "    date(1961, 10, 29),\n",
    "    date(2007, 5, 9),\n",
    "    date(2016, 10, 7),\n",
    "    date(1964, 9, 20),\n",
    "    date(1979, 7, 11),\n",
    "    date(1950, 10, 18),\n",
    "    date(2008, 8, 31),\n",
    "    date(2012, 8, 25),\n",
    "    date(1966, 7, 24),\n",
    "    date(2010, 8, 10),\n",
    "    date(2005, 8, 25),\n",
    "    date(2003, 6, 30),\n",
    "    date(1956, 7, 6),\n",
    "    date(1974, 9, 8),\n",
    "    date(1966, 6, 30),\n",
    "    date(2016, 9, 14),\n",
    "    date(1968, 6, 18),\n",
    "    date(1982, 9, 11),\n",
    "    date(1976, 9, 13),\n",
    "    date(1975, 7, 29),\n",
    "    date(2007, 9, 13),\n",
    "    date(1970, 9, 27),\n",
    "    date(1969, 10, 2),\n",
    "    date(2010, 8, 31),\n",
    "    date(1995, 10, 4),\n",
    "    date(1969, 8, 29),\n",
    "    date(1984, 10, 26),\n",
    "    date(1973, 9, 3),\n",
    "    date(1976, 5, 23),\n",
    "    date(2001, 11, 5),\n",
    "    date(2010, 6, 30),\n",
    "    date(1985, 10, 10),\n",
    "    date(1970, 7, 22),\n",
    "    date(1972, 5, 28),\n",
    "    date(1982, 6, 18),\n",
    "    date(2001, 8, 6),\n",
    "    date(1953, 8, 29),\n",
    "    date(1965, 9, 8),\n",
    "    date(1964, 9, 10),\n",
    "    date(1959, 10, 18),\n",
    "    date(1957, 6, 8),\n",
    "    date(1988, 9, 10),\n",
    "    date(2005, 6, 11),\n",
    "    date(1953, 6, 6),\n",
    "    date(2003, 8, 30),\n",
    "    date(2002, 10, 3),\n",
    "    date(1968, 8, 10),\n",
    "    date(1999, 10, 15),\n",
    "    date(2002, 9, 4),\n",
    "    date(2001, 6, 12),\n",
    "    date(2017, 9, 10),\n",
    "    date(2005, 10, 5),\n",
    "    date(2005, 7, 10),\n",
    "    date(1973, 6, 7),\n",
    "    date(1999, 9, 15),\n",
    "    date(2005, 9, 20),\n",
    "    date(1995, 6, 5),\n",
    "    date(2003, 7, 25),\n",
    "    date(2004, 9, 13),\n",
    "    date(1964, 6, 6),\n",
    "    date(1973, 6, 23),\n",
    "    date(2005, 9, 12),\n",
    "    date(2012, 6, 23),\n",
    "    date(1961, 9, 11),\n",
    "    date(1990, 5, 25),\n",
    "    date(2017, 6, 21),\n",
    "    date(1975, 6, 27),\n",
    "    date(1959, 6, 18),\n",
    "    date(2004, 9, 5),\n",
    "    date(1987, 10, 12),\n",
    "    date(1995, 7, 27),\n",
    "    date(1964, 10, 14),\n",
    "    date(1970, 8, 6),\n",
    "    date(1969, 10, 1),\n",
    "    date(1996, 10, 8),\n",
    "    date(1968, 8, 28),\n",
    "    date(1956, 10, 15),\n",
    "    date(1975, 9, 23),\n",
    "    date(1970, 9, 13),\n",
    "    date(1975, 10, 16),\n",
    "    date(1990, 10, 9),\n",
    "    date(2005, 10, 24),\n",
    "    date(1950, 8, 31),\n",
    "    date(2000, 10, 3),\n",
    "    date(2002, 10, 11),\n",
    "    date(1983, 8, 28),\n",
    "    date(1960, 7, 29),\n",
    "    date(1950, 10, 21),\n",
    "    date(1995, 8, 2),\n",
    "    date(1956, 9, 24),\n",
    "    date(2016, 9, 1),\n",
    "    date(1993, 6, 1),\n",
    "    date(1987, 9, 7),\n",
    "    date(2012, 5, 28),\n",
    "    date(1995, 8, 23),\n",
    "    date(1969, 8, 18),\n",
    "    date(2001, 9, 14),\n",
    "    date(2000, 8, 23),\n",
    "    date(1974, 10, 7),\n",
    "    date(1986, 8, 13),\n",
    "    date(1977, 8, 27),\n",
    "    date(2008, 7, 16),\n",
    "    date(1996, 7, 11),\n",
    "    date(1988, 9, 4),\n",
    "    date(1975, 10, 1),\n",
    "    date(2003, 8, 14),\n",
    "    date(1957, 9, 8),\n",
    "    date(2005, 7, 6),\n",
    "    date(1960, 9, 15),\n",
    "    date(1974, 9, 27),\n",
    "    date(1965, 6, 15),\n",
    "    date(1999, 9, 21),\n",
    "    date(2004, 8, 13),\n",
    "    date(1994, 10, 2),\n",
    "    date(1971, 8, 10),\n",
    "    date(2008, 7, 22),\n",
    "    date(2000, 9, 18),\n",
    "    date(1960, 9, 10),\n",
    "    date(2006, 6, 13),\n",
    "    date(2017, 10, 29),\n",
    "    date(1972, 9, 5),\n",
    "    date(1964, 10, 5),\n",
    "    date(1991, 10, 16),\n",
    "    date(1969, 9, 21),\n",
    "    date(1998, 9, 20),\n",
    "    date(1977, 9, 5),\n",
    "    date(1988, 9, 13),\n",
    "    date(1974, 6, 25),\n",
    "    date(2010, 7, 23),\n",
    "    date(2007, 9, 22),\n",
    "    date(1984, 9, 9),\n",
    "    date(1989, 9, 22),\n",
    "    date(1992, 6, 25),\n",
    "    date(1971, 8, 29),\n",
    "    date(1953, 9, 20),\n",
    "    date(1985, 8, 15),\n",
    "    date(2016, 6, 6),\n",
    "    date(2006, 8, 30),\n",
    "    date(1980, 11, 18),\n",
    "    date(2011, 7, 18),\n",
    "]\n"
   ]
  },
  {
   "cell_type": "markdown",
   "id": "b5f76758-f111-4ac2-9e44-a94a00d70f8f",
   "metadata": {},
   "source": [
    "### Putting a list of dates in order"
   ]
  },
  {
   "cell_type": "code",
   "execution_count": 11,
   "id": "943632eb-365e-4b02-b637-1f2c8cc0253b",
   "metadata": {},
   "outputs": [
    {
     "name": "stdout",
     "output_type": "stream",
     "text": [
      "1988-08-04\n",
      "2011-07-18\n"
     ]
    }
   ],
   "source": [
    "# Print the first and last scrambled dates\n",
    "print(dates_scrambled[0])\n",
    "print(dates_scrambled[-1])"
   ]
  },
  {
   "cell_type": "code",
   "execution_count": 12,
   "id": "dc3d7fd8-7bc4-420d-9287-2353f353b1dc",
   "metadata": {},
   "outputs": [
    {
     "name": "stdout",
     "output_type": "stream",
     "text": [
      "1988-08-04\n",
      "2011-07-18\n",
      "1950-08-31\n",
      "2017-10-29\n"
     ]
    }
   ],
   "source": [
    "# Print the first and last scrambled dates\n",
    "print(dates_scrambled[0])\n",
    "print(dates_scrambled[-1])\n",
    "\n",
    "# Put the dates in order\n",
    "dates_ordered = sorted(dates_scrambled)\n",
    "\n",
    "# Print the first and last ordered dates\n",
    "print(dates_ordered[0])\n",
    "print(dates_ordered[-1])"
   ]
  },
  {
   "cell_type": "markdown",
   "id": "998d430c-9fb2-4696-8e9b-549d0b2a162a",
   "metadata": {},
   "source": [
    "# Turning dates into strings"
   ]
  },
  {
   "cell_type": "markdown",
   "id": "99c4ccb2-0e43-4269-9a74-07111608bb6e",
   "metadata": {},
   "source": [
    "### Printing dates in a friendly format"
   ]
  },
  {
   "cell_type": "code",
   "execution_count": 13,
   "id": "d6621110-c634-4c7d-b36b-5265906cc9d6",
   "metadata": {},
   "outputs": [
    {
     "name": "stdout",
     "output_type": "stream",
     "text": [
      "ISO: Our earliest hurricane date: 1950-08-31\n",
      "US: Our earliest hurricane date: 08/31/1950\n"
     ]
    }
   ],
   "source": [
    "# Assign the earliest date to first_date\n",
    "first_date = min(florida_hurricane_dates)\n",
    "\n",
    "# Convert to ISO and US formats\n",
    "iso = \"Our earliest hurricane date: \" + first_date.isoformat()\n",
    "us = \"Our earliest hurricane date: \" + first_date.strftime(\"%m/%d/%Y\")\n",
    "\n",
    "print(\"ISO: \" + iso)\n",
    "print(\"US: \" + us)"
   ]
  },
  {
   "cell_type": "markdown",
   "id": "0f66cf1f-9f56-48e0-8b93-ecd87712f1d4",
   "metadata": {},
   "source": [
    "### Representing dates in different ways"
   ]
  },
  {
   "cell_type": "code",
   "execution_count": 14,
   "id": "af9ac1b9-e6e3-404a-83fa-e84f865f0b8b",
   "metadata": {},
   "outputs": [
    {
     "name": "stdout",
     "output_type": "stream",
     "text": [
      "1992-08\n"
     ]
    }
   ],
   "source": [
    "# Import date\n",
    "from datetime import date\n",
    "\n",
    "# Create a date object\n",
    "andrew = date(1992, 8, 26)\n",
    "\n",
    "# Print the date in the format 'YYYY-MM'\n",
    "print(andrew.strftime('%Y-%m'))"
   ]
  },
  {
   "cell_type": "code",
   "execution_count": 15,
   "id": "c59ac2ed-5a8b-4c46-be3a-f348866156e9",
   "metadata": {},
   "outputs": [
    {
     "name": "stdout",
     "output_type": "stream",
     "text": [
      "August (1992)\n"
     ]
    }
   ],
   "source": [
    "# Import date\n",
    "from datetime import date\n",
    "\n",
    "# Create a date object\n",
    "andrew = date(1992, 8, 26)\n",
    "\n",
    "# Print the date in the format 'MONTH (YYYY)'\n",
    "print(andrew.strftime('%B (%Y)'))"
   ]
  },
  {
   "cell_type": "code",
   "execution_count": 16,
   "id": "7112732e-105d-4eb5-923a-b48c3a9b2e95",
   "metadata": {},
   "outputs": [
    {
     "name": "stdout",
     "output_type": "stream",
     "text": [
      "1992-239\n"
     ]
    }
   ],
   "source": [
    "# Import date\n",
    "from datetime import date\n",
    "\n",
    "# Create a date object\n",
    "andrew = date(1992, 8, 26)\n",
    "\n",
    "# Print the date in the format 'YYYY-DDD'\n",
    "print(andrew.strftime('%Y-%j'))"
   ]
  },
  {
   "cell_type": "code",
   "execution_count": null,
   "id": "9d2b0e35-bec7-4129-9cf1-0c386bc158a4",
   "metadata": {},
   "outputs": [],
   "source": []
  }
 ],
 "metadata": {
  "kernelspec": {
   "display_name": "Python 3 (ipykernel)",
   "language": "python",
   "name": "python3"
  },
  "language_info": {
   "codemirror_mode": {
    "name": "ipython",
    "version": 3
   },
   "file_extension": ".py",
   "mimetype": "text/x-python",
   "name": "python",
   "nbconvert_exporter": "python",
   "pygments_lexer": "ipython3",
   "version": "3.9.7"
  }
 },
 "nbformat": 4,
 "nbformat_minor": 5
}
