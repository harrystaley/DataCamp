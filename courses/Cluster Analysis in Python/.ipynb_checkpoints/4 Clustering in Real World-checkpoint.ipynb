{
 "cells": [
  {
   "cell_type": "markdown",
   "id": "beeb727a-7135-4732-9ded-246a46fbf8ae",
   "metadata": {},
   "source": [
    "Now that you are familiar with two of the most popular clustering techniques, this chapter helps you apply this knowledge to real-world problems. The chapter first discusses the process of finding dominant colors in an image, before moving on to the problem discussed in the introduction - clustering of news articles. The chapter concludes with a discussion on clustering with multiple variables, which makes it difficult to visualize all the data."
   ]
  },
  {
   "cell_type": "code",
   "execution_count": 1,
   "id": "34fd0cc7-3b4d-44b8-b4d5-cf97b3206524",
   "metadata": {},
   "outputs": [],
   "source": [
    "# imports\n",
    "from scipy.cluster.vq import vq, kmeans, whiten\n",
    "import pandas as pd\n",
    "import seaborn as sns\n",
    "from matplotlib import pyplot as plt\n"
   ]
  },
  {
   "cell_type": "markdown",
   "id": "97fafe90-4260-454f-aecf-d85bb5b2d783",
   "metadata": {},
   "source": [
    "# Dominant colors in images"
   ]
  },
  {
   "cell_type": "markdown",
   "id": "ca47b1f6-4d95-47aa-b01c-45b467639d24",
   "metadata": {},
   "source": [
    "### Extract RGB values from image\n",
    "\n",
    "There are broadly three steps to find the dominant colors in an image:\n",
    "\n",
    "    Extract RGB values into three lists.\n",
    "    Perform k-means clustering on scaled RGB values.\n",
    "    Display the colors of cluster centers.\n",
    "\n",
    "To extract RGB values, we use the imread() function of the image class of matplotlib. Empty lists, r, g and b have been initialized.\n",
    "\n",
    "For the purpose of finding dominant colors, we will be using the following image.\n",
    "\n",
    "![batman image](../images/batman.jpg)"
   ]
  },
  {
   "cell_type": "code",
   "execution_count": 2,
   "id": "dfed9f7d-fae4-492d-ae1d-2b920455f0a1",
   "metadata": {},
   "outputs": [],
   "source": [
    "r = []\n",
    "g = []\n",
    "b = []"
   ]
  },
  {
   "cell_type": "code",
   "execution_count": 3,
   "id": "a8fd6fbf-a0b4-4624-920d-4136cce45bf5",
   "metadata": {},
   "outputs": [
    {
     "name": "stdout",
     "output_type": "stream",
     "text": [
      "(169, 269, 3)\n"
     ]
    }
   ],
   "source": [
    "# Import image class of matplotlib\n",
    "from matplotlib import image as img\n",
    "\n",
    "# Read batman image and print dimensions\n",
    "batman_image = img.imread('../images/batman.jpg') # changed source to images folder from local directlry.\n",
    "print(batman_image.shape)\n",
    "\n",
    "# Store RGB values of all pixels in lists r, g and b\n",
    "for row in batman_image:\n",
    "    for temp_r, temp_g, temp_b in row:\n",
    "        r.append(temp_r)\n",
    "        g.append(temp_g)\n",
    "        b.append(temp_b)"
   ]
  },
  {
   "cell_type": "markdown",
   "id": "834531d2-4ae4-41db-a408-0d957cdfb8c2",
   "metadata": {},
   "source": [
    "### How many dominant colors?\n",
    "\n",
    "We have loaded the following image using the imread() function of the image class of matplotlib.\n",
    "\n",
    "![batman image](../images/batman.jpg)\n",
    "\n",
    "The RGB values are stored in a DataFrame, `batman_df`. The RGB values have been standardized used the `whiten()` function, stored in columns, `scaled_red`, `scaled_blue` and `scaled_green`.\n",
    "\n",
    "Construct an elbow plot with the DataFrame. How many dominant colors are present?"
   ]
  },
  {
   "cell_type": "code",
   "execution_count": 7,
   "id": "7ab847fd-a88e-47ba-b323-673099399180",
   "metadata": {},
   "outputs": [],
   "source": [
    "# create dataframe.\n",
    "batman_df = pd.DataFrame({'red':r, 'blue':b, 'green':g})\n",
    "batman_df['scaled_red'] = whiten(batman_df.red)\n",
    "batman_df['scaled_blue'] = whiten(batman_df.blue)\n",
    "batman_df['scaled_green'] = whiten(batman_df.green)"
   ]
  },
  {
   "cell_type": "code",
   "execution_count": 8,
   "id": "3b1afa34-4573-4e91-8ba2-d98a7b8fd4cf",
   "metadata": {},
   "outputs": [
    {
     "data": {
      "image/png": "[encoded data removed]",
      "text/plain": [
       "<Figure size 432x288 with 1 Axes>"
      ]
     },
     "metadata": {
      "needs_background": "light"
     },
     "output_type": "display_data"
    }
   ],
   "source": [
    "distortions = []\n",
    "num_clusters = range(1, 7)\n",
    "\n",
    "# Create a list of distortions from the kmeans function\n",
    "for i in num_clusters:\n",
    "    cluster_centers, distortion = kmeans(batman_df[['scaled_red', 'scaled_blue', 'scaled_green']], i)\n",
    "    distortions.append(distortion)\n",
    "\n",
    "# Create a DataFrame with two lists, num_clusters and distortions\n",
    "elbow_plot = pd.DataFrame({'num_clusters': num_clusters, 'distortions': distortions})\n",
    "\n",
    "# Create a line plot of num_clusters and distortions\n",
    "sns.lineplot(x='num_clusters', y='distortions', data = elbow_plot)\n",
    "plt.xticks(num_clusters)\n",
    "plt.show()"
   ]
  },
  {
   "cell_type": "code",
   "execution_count": null,
   "id": "20a330d2-3201-440b-a598-1605f688f479",
   "metadata": {},
   "outputs": [],
   "source": []
  }
 ],
 "metadata": {
  "kernelspec": {
   "display_name": "Python 3 (ipykernel)",
   "language": "python",
   "name": "python3"
  },
  "language_info": {
   "codemirror_mode": {
    "name": "ipython",
    "version": 3
   },
   "file_extension": ".py",
   "mimetype": "text/x-python",
   "name": "python",
   "nbconvert_exporter": "python",
   "pygments_lexer": "ipython3",
   "version": "3.9.7"
  }
 },
 "nbformat": 4,
 "nbformat_minor": 5
}
