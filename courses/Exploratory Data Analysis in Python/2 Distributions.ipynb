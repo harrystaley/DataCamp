{
 "cells": [
  {
   "cell_type": "code",
   "execution_count": 1,
   "id": "52350704-4c48-4db4-9e49-128b688279ac",
   "metadata": {},
   "outputs": [
    {
     "data": {
      "text/html": [
       "<div>\n",
       "<style scoped>\n",
       "    .dataframe tbody tr th:only-of-type {\n",
       "        vertical-align: middle;\n",
       "    }\n",
       "\n",
       "    .dataframe tbody tr th {\n",
       "        vertical-align: top;\n",
       "    }\n",
       "\n",
       "    .dataframe thead th {\n",
       "        text-align: right;\n",
       "    }\n",
       "</style>\n",
       "<table border=\"1\" class=\"dataframe\">\n",
       "  <thead>\n",
       "    <tr style=\"text-align: right;\">\n",
       "      <th></th>\n",
       "      <th>year</th>\n",
       "      <th>age</th>\n",
       "      <th>cohort</th>\n",
       "      <th>sex</th>\n",
       "      <th>race</th>\n",
       "      <th>educ</th>\n",
       "      <th>realinc</th>\n",
       "      <th>gunlaw</th>\n",
       "      <th>grass</th>\n",
       "      <th>wtssall</th>\n",
       "    </tr>\n",
       "  </thead>\n",
       "  <tbody>\n",
       "    <tr>\n",
       "      <th>0</th>\n",
       "      <td>1972</td>\n",
       "      <td>26.0</td>\n",
       "      <td>1946.0</td>\n",
       "      <td>1</td>\n",
       "      <td>1</td>\n",
       "      <td>18.0</td>\n",
       "      <td>13537.0</td>\n",
       "      <td>2.0</td>\n",
       "      <td>NaN</td>\n",
       "      <td>0.8893</td>\n",
       "    </tr>\n",
       "    <tr>\n",
       "      <th>1</th>\n",
       "      <td>1972</td>\n",
       "      <td>38.0</td>\n",
       "      <td>1934.0</td>\n",
       "      <td>2</td>\n",
       "      <td>1</td>\n",
       "      <td>12.0</td>\n",
       "      <td>18951.0</td>\n",
       "      <td>1.0</td>\n",
       "      <td>NaN</td>\n",
       "      <td>0.4446</td>\n",
       "    </tr>\n",
       "    <tr>\n",
       "      <th>2</th>\n",
       "      <td>1972</td>\n",
       "      <td>57.0</td>\n",
       "      <td>1915.0</td>\n",
       "      <td>1</td>\n",
       "      <td>1</td>\n",
       "      <td>12.0</td>\n",
       "      <td>30458.0</td>\n",
       "      <td>1.0</td>\n",
       "      <td>NaN</td>\n",
       "      <td>1.3339</td>\n",
       "    </tr>\n",
       "    <tr>\n",
       "      <th>3</th>\n",
       "      <td>1972</td>\n",
       "      <td>61.0</td>\n",
       "      <td>1911.0</td>\n",
       "      <td>2</td>\n",
       "      <td>1</td>\n",
       "      <td>14.0</td>\n",
       "      <td>37226.0</td>\n",
       "      <td>1.0</td>\n",
       "      <td>NaN</td>\n",
       "      <td>0.8893</td>\n",
       "    </tr>\n",
       "    <tr>\n",
       "      <th>4</th>\n",
       "      <td>1972</td>\n",
       "      <td>59.0</td>\n",
       "      <td>1913.0</td>\n",
       "      <td>1</td>\n",
       "      <td>1</td>\n",
       "      <td>12.0</td>\n",
       "      <td>30458.0</td>\n",
       "      <td>2.0</td>\n",
       "      <td>NaN</td>\n",
       "      <td>0.8893</td>\n",
       "    </tr>\n",
       "  </tbody>\n",
       "</table>\n",
       "</div>"
      ],
      "text/plain": [
       "   year   age  cohort  sex  race  educ  realinc  gunlaw  grass  wtssall\n",
       "0  1972  26.0  1946.0    1     1  18.0  13537.0     2.0    NaN   0.8893\n",
       "1  1972  38.0  1934.0    2     1  12.0  18951.0     1.0    NaN   0.4446\n",
       "2  1972  57.0  1915.0    1     1  12.0  30458.0     1.0    NaN   1.3339\n",
       "3  1972  61.0  1911.0    2     1  14.0  37226.0     1.0    NaN   0.8893\n",
       "4  1972  59.0  1913.0    1     1  12.0  30458.0     2.0    NaN   0.8893"
      ]
     },
     "execution_count": 1,
     "metadata": {},
     "output_type": "execute_result"
    }
   ],
   "source": [
    "# Importing course packages; you can add more too!\n",
    "import pandas as pd\n",
    "import numpy as np\n",
    "import matplotlib.pyplot as plt\n",
    "import seaborn as sns\n",
    "import scipy.stats\n",
    "import scipy.interpolate\n",
    "import statsmodels.formula.api as smf\n",
    "\n",
    "# Importing course datasets as DataFrames\n",
    "brfss = pd.read_hdf('../datasets/brfss.hdf5', 'brfss') # Behavioral Risk Factor Surveillance System (BRFSS) \n",
    "gss = pd.read_hdf('../datasets/gss.hdf5', 'gss') # General Social Survey (GSS) \n",
    "nsfg = pd.read_hdf('../datasets/nsfg.hdf5', 'nsfg') # National Survey of Family Growth (NSFG) \n",
    "\n",
    "gss.head() # Display the first five rows"
   ]
  },
  {
   "cell_type": "markdown",
   "id": "f851f257-af38-4c03-96a0-fc69675fcc33",
   "metadata": {
    "tags": []
   },
   "source": [
    "# Probability mass functions\n",
    "\n",
    "PMF(ProbabilityMassFunction): The probability that you get exactly x. This is used for discreet variables.\n",
    "\n",
    "[Youtube PMF Video](https://www.youtube.com/watch?v=YXLVjCKVP7U)\n",
    "\n",
    "We will be using the empricaldist package.\n",
    "\n",
    "[empireicaldist documentation](https://nbviewer.org/github/AllenDowney/empiricaldist/blob/master/empiricaldist/dist_demo.ipynb)"
   ]
  },
  {
   "cell_type": "markdown",
   "id": "8b642471-b8a9-413b-9498-87d66eb5c8ac",
   "metadata": {},
   "source": [
    "### Make a PMF"
   ]
  },
  {
   "cell_type": "code",
   "execution_count": 2,
   "id": "ab411dfd-cd95-4107-95aa-30e76002bbff",
   "metadata": {},
   "outputs": [
    {
     "name": "stdout",
     "output_type": "stream",
     "text": [
      "Requirement already satisfied: empiricaldist in /usr/local/anaconda3/lib/python3.9/site-packages (0.6.3)\n"
     ]
    }
   ],
   "source": [
    "# install needed packages.\n",
    "import sys\n",
    "!{sys.executable} -m pip install empiricaldist\n",
    "\n",
    "from empiricaldist import Pmf"
   ]
  },
  {
   "cell_type": "code",
   "execution_count": 4,
   "id": "f1d02141-71bf-4474-9f0a-db246c9810a0",
   "metadata": {},
   "outputs": [
    {
     "name": "stdout",
     "output_type": "stream",
     "text": [
      "1972    1613\n",
      "1973    1504\n",
      "1974    1484\n",
      "1975    1490\n",
      "1976    1499\n",
      "1977    1530\n",
      "1978    1532\n",
      "1980    1468\n",
      "1982    1860\n",
      "1983    1599\n",
      "1984    1473\n",
      "1985    1534\n",
      "1986    1470\n",
      "1987    1819\n",
      "1988    1481\n",
      "1989    1537\n",
      "1990    1372\n",
      "1991    1517\n",
      "1993    1606\n",
      "1994    2992\n",
      "1996    2904\n",
      "1998    2832\n",
      "2000    2817\n",
      "2002    2765\n",
      "2004    2812\n",
      "2006    4510\n",
      "2008    2023\n",
      "2010    2044\n",
      "2012    1974\n",
      "2014    2538\n",
      "2016    2867\n",
      "Name: , dtype: int64\n"
     ]
    }
   ],
   "source": [
    "# Compute the PMF for year\n",
    "pmf_year = Pmf.from_seq(gss.year, normalize=False)\n",
    "\n",
    "# Print the result\n",
    "print(pmf_year)"
   ]
  },
  {
   "cell_type": "markdown",
   "id": "d0e139ee-029e-4aa3-800d-084ede9d7579",
   "metadata": {},
   "source": [
    "### Plot a PMF"
   ]
  },
  {
   "cell_type": "code",
   "execution_count": 5,
   "id": "8156f461-f5ed-4b1b-a74e-075c37f23182",
   "metadata": {},
   "outputs": [
    {
     "data": {
      "image/png": "[encoded data removed]",
      "text/plain": [
       "<Figure size 432x288 with 1 Axes>"
      ]
     },
     "metadata": {
      "needs_background": "light"
     },
     "output_type": "display_data"
    }
   ],
   "source": [
    "# Select the age column\n",
    "age = gss['age']\n",
    "\n",
    "# Make a PMF of age\n",
    "pmf_age = Pmf.from_seq(age, normalize=False)\n",
    "\n",
    "# Plot the PMF\n",
    "pmf_age.bar()\n",
    "\n",
    "# Label the axes\n",
    "plt.xlabel('Age')\n",
    "plt.ylabel('PMF')\n",
    "plt.show()"
   ]
  },
  {
   "cell_type": "markdown",
   "id": "b6d82333-4b10-4e00-8e83-0e62997a3281",
   "metadata": {},
   "source": [
    "# Cumulative distribution functions\n",
    "\n",
    "CDF (Cumulative Distribution Function): The probability that you get a value <= x for a given value of x."
   ]
  },
  {
   "cell_type": "code",
   "execution_count": 7,
   "id": "38b50132-1c82-45fc-b10f-e0c8aec326d4",
   "metadata": {},
   "outputs": [],
   "source": [
    "from empiricaldist import Cdf"
   ]
  },
  {
   "cell_type": "markdown",
   "id": "a1bad0fc-a5d1-474f-9ac9-20e2f8156c93",
   "metadata": {},
   "source": [
    "### Make a CDF"
   ]
  },
  {
   "cell_type": "code",
   "execution_count": 18,
   "id": "345feeed-d873-455c-b4fa-e0a4eaab6871",
   "metadata": {},
   "outputs": [
    {
     "name": "stdout",
     "output_type": "stream",
     "text": [
      "0.2539137136526389\n"
     ]
    }
   ],
   "source": [
    "# Select the age column\n",
    "age = gss['age']\n",
    "\n",
    "# Compute the CDF of age\n",
    "cdf_age = Cdf.from_seq(age)\n",
    "\n",
    "# Calculate the CDF of 30\n",
    "print(cdf_age(30))"
   ]
  },
  {
   "cell_type": "markdown",
   "id": "b6a83698-07dd-4a73-80fd-7b127e46b79d",
   "metadata": {},
   "source": [
    "### Compute IQR\n",
    "\n",
    "IQR (Inter Quartile Range): The difference between the 75th and 25th percentiles. It is a measure of variability that is robust in the presence of errors or extreme values."
   ]
  },
  {
   "cell_type": "code",
   "execution_count": 35,
   "id": "1edffc72-bdec-4b45-8530-7ba05b3a550a",
   "metadata": {},
   "outputs": [
    {
     "name": "stdout",
     "output_type": "stream",
     "text": [
      "234.000000       0.000414\n",
      "236.500000       0.000955\n",
      "245.000000       0.001333\n",
      "259.000000       0.001928\n",
      "267.750000       0.002198\n",
      "                   ...   \n",
      "143778.000000    0.989297\n",
      "144502.717140    0.993567\n",
      "146153.668585    0.996180\n",
      "155139.973100    0.999387\n",
      "162607.000000    1.000000\n",
      "Name: , Length: 597, dtype: float64\n"
     ]
    }
   ],
   "source": [
    "cdf_income = Cdf.from_seq(gss['realinc'])\n",
    "\n",
    "print(cdf_income)"
   ]
  },
  {
   "cell_type": "code",
   "execution_count": 38,
   "id": "44732980-de7f-4208-a8c3-fd073bc43f34",
   "metadata": {},
   "outputs": [
    {
     "name": "stdout",
     "output_type": "stream",
     "text": [
      "29676.0\n"
     ]
    }
   ],
   "source": [
    "# Calculate the 75th percentile \n",
    "percentile_75th = cdf_income.inverse(0.75)\n",
    "\n",
    "# Calculate the 25th percentile\n",
    "percentile_25th = cdf_income.inverse(0.25)\n",
    "\n",
    "# Calculate the interquartile range\n",
    "iqr = percentile_75th - percentile_25th\n",
    "\n",
    "# Print the interquartile range\n",
    "print(iqr)"
   ]
  },
  {
   "cell_type": "markdown",
   "id": "cb803de9-66d8-4af1-9fed-3ca1ff91df0f",
   "metadata": {},
   "source": [
    "### Plot a CDF"
   ]
  },
  {
   "cell_type": "code",
   "execution_count": 26,
   "id": "850f6fd1-fc16-4fb6-aea7-d8dc9c3dc703",
   "metadata": {},
   "outputs": [
    {
     "data": {
      "image/png": "[encoded data removed]",
      "text/plain": [
       "<Figure size 432x288 with 1 Axes>"
      ]
     },
     "metadata": {
      "needs_background": "light"
     },
     "output_type": "display_data"
    }
   ],
   "source": [
    "# Select realinc\n",
    "income = gss['realinc']\n",
    "\n",
    "# Make the CDF\n",
    "cdf_income = Cdf.from_seq(income, normalize=False)\n",
    "\n",
    "# Plot it\n",
    "cdf_income.plot()\n",
    "\n",
    "# Label the axes\n",
    "plt.xlabel('Income (1986 USD)')\n",
    "plt.ylabel('CDF')\n",
    "plt.show()"
   ]
  },
  {
   "cell_type": "markdown",
   "id": "baa7a294-440d-4c36-b224-f79bab333dec",
   "metadata": {},
   "source": [
    "# Comparing distributions"
   ]
  },
  {
   "cell_type": "markdown",
   "id": "4e4a3400-9065-4854-8217-57a6ec56e038",
   "metadata": {},
   "source": [
    "### Distribution of education"
   ]
  },
  {
   "cell_type": "code",
   "execution_count": 48,
   "id": "93fd09b9-e755-4f7b-914e-d9f76037784b",
   "metadata": {},
   "outputs": [
    {
     "data": {
      "text/html": [
       "<div>\n",
       "<style scoped>\n",
       "    .dataframe tbody tr th:only-of-type {\n",
       "        vertical-align: middle;\n",
       "    }\n",
       "\n",
       "    .dataframe tbody tr th {\n",
       "        vertical-align: top;\n",
       "    }\n",
       "\n",
       "    .dataframe thead th {\n",
       "        text-align: right;\n",
       "    }\n",
       "</style>\n",
       "<table border=\"1\" class=\"dataframe\">\n",
       "  <thead>\n",
       "    <tr style=\"text-align: right;\">\n",
       "      <th></th>\n",
       "      <th>probs</th>\n",
       "    </tr>\n",
       "  </thead>\n",
       "  <tbody>\n",
       "    <tr>\n",
       "      <th>0.0</th>\n",
       "      <td>0.002311</td>\n",
       "    </tr>\n",
       "    <tr>\n",
       "      <th>1.0</th>\n",
       "      <td>0.002921</td>\n",
       "    </tr>\n",
       "    <tr>\n",
       "      <th>2.0</th>\n",
       "      <td>0.005345</td>\n",
       "    </tr>\n",
       "    <tr>\n",
       "      <th>3.0</th>\n",
       "      <td>0.009293</td>\n",
       "    </tr>\n",
       "    <tr>\n",
       "      <th>4.0</th>\n",
       "      <td>0.013948</td>\n",
       "    </tr>\n",
       "    <tr>\n",
       "      <th>5.0</th>\n",
       "      <td>0.020031</td>\n",
       "    </tr>\n",
       "    <tr>\n",
       "      <th>6.0</th>\n",
       "      <td>0.033545</td>\n",
       "    </tr>\n",
       "    <tr>\n",
       "      <th>7.0</th>\n",
       "      <td>0.047348</td>\n",
       "    </tr>\n",
       "    <tr>\n",
       "      <th>8.0</th>\n",
       "      <td>0.086206</td>\n",
       "    </tr>\n",
       "    <tr>\n",
       "      <th>9.0</th>\n",
       "      <td>0.117713</td>\n",
       "    </tr>\n",
       "    <tr>\n",
       "      <th>10.0</th>\n",
       "      <td>0.162959</td>\n",
       "    </tr>\n",
       "    <tr>\n",
       "      <th>11.0</th>\n",
       "      <td>0.224978</td>\n",
       "    </tr>\n",
       "    <tr>\n",
       "      <th>12.0</th>\n",
       "      <td>0.532261</td>\n",
       "    </tr>\n",
       "    <tr>\n",
       "      <th>13.0</th>\n",
       "      <td>0.619013</td>\n",
       "    </tr>\n",
       "    <tr>\n",
       "      <th>14.0</th>\n",
       "      <td>0.731045</td>\n",
       "    </tr>\n",
       "    <tr>\n",
       "      <th>15.0</th>\n",
       "      <td>0.776563</td>\n",
       "    </tr>\n",
       "    <tr>\n",
       "      <th>16.0</th>\n",
       "      <td>0.904212</td>\n",
       "    </tr>\n",
       "    <tr>\n",
       "      <th>17.0</th>\n",
       "      <td>0.932958</td>\n",
       "    </tr>\n",
       "    <tr>\n",
       "      <th>18.0</th>\n",
       "      <td>0.966808</td>\n",
       "    </tr>\n",
       "    <tr>\n",
       "      <th>19.0</th>\n",
       "      <td>0.979231</td>\n",
       "    </tr>\n",
       "    <tr>\n",
       "      <th>20.0</th>\n",
       "      <td>1.000000</td>\n",
       "    </tr>\n",
       "  </tbody>\n",
       "</table>\n",
       "</div>"
      ],
      "text/plain": [
       "0.0     0.002311\n",
       "1.0     0.002921\n",
       "2.0     0.005345\n",
       "3.0     0.009293\n",
       "4.0     0.013948\n",
       "5.0     0.020031\n",
       "6.0     0.033545\n",
       "7.0     0.047348\n",
       "8.0     0.086206\n",
       "9.0     0.117713\n",
       "10.0    0.162959\n",
       "11.0    0.224978\n",
       "12.0    0.532261\n",
       "13.0    0.619013\n",
       "14.0    0.731045\n",
       "15.0    0.776563\n",
       "16.0    0.904212\n",
       "17.0    0.932958\n",
       "18.0    0.966808\n",
       "19.0    0.979231\n",
       "20.0    1.000000\n",
       "Name: , dtype: float64"
      ]
     },
     "execution_count": 48,
     "metadata": {},
     "output_type": "execute_result"
    }
   ],
   "source": [
    "educ = gss['educ']\n",
    "pmf_educ = Cdf.from_seq(educ)\n",
    "pmf_educ"
   ]
  },
  {
   "cell_type": "markdown",
   "id": "aafc45c9-9768-4aad-98e0-cb94a700c53e",
   "metadata": {},
   "source": [
    "### Extract education levels"
   ]
  },
  {
   "cell_type": "code",
   "execution_count": 49,
   "id": "5ffa1874-d129-4f53-b8db-fbd6ab95bffb",
   "metadata": {},
   "outputs": [
    {
     "name": "stdout",
     "output_type": "stream",
     "text": [
      "0.5308807991547402\n"
     ]
    }
   ],
   "source": [
    "# Select educ\n",
    "educ = gss['educ']\n",
    "\n",
    "# Bachelor's degree\n",
    "bach = (educ >= 16)\n",
    "\n",
    "# Associate degree\n",
    "assc = ((educ >= 14) & (educ < 16))\n",
    "\n",
    "# High school (12 or fewer years of education)\n",
    "high = (educ <= 12)\n",
    "print(high.mean())"
   ]
  },
  {
   "cell_type": "markdown",
   "id": "90e70dff-fd10-4374-8f2e-70e431709075",
   "metadata": {},
   "source": [
    "### Plot income CDFs"
   ]
  },
  {
   "cell_type": "code",
   "execution_count": 51,
   "id": "4c1949c9-2d5e-45d9-bf60-cd396383bb4f",
   "metadata": {},
   "outputs": [
    {
     "data": {
      "image/png": "[encoded data removed]",
      "text/plain": [
       "<Figure size 432x288 with 1 Axes>"
      ]
     },
     "metadata": {
      "needs_background": "light"
     },
     "output_type": "display_data"
    }
   ],
   "source": [
    "income = gss['realinc']\n",
    "\n",
    "# Plot the CDFs\n",
    "Cdf.from_seq(income[high]).plot(label='High school')\n",
    "Cdf.from_seq(income[assc]).plot(label='Associate')\n",
    "Cdf.from_seq(income[bach]).plot(label='Bachelor')\n",
    "\n",
    "# Label the axes\n",
    "plt.xlabel('Income (1986 USD)')\n",
    "plt.ylabel('CDF')\n",
    "plt.legend()\n",
    "plt.show()"
   ]
  },
  {
   "cell_type": "markdown",
   "id": "6119a7d6-217c-42fe-a43d-d226228b371d",
   "metadata": {},
   "source": [
    "# Modeling distributions"
   ]
  },
  {
   "cell_type": "markdown",
   "id": "a8192442-fca1-4095-86ff-3e6260f55626",
   "metadata": {},
   "source": [
    "### Distribution of income"
   ]
  },
  {
   "cell_type": "code",
   "execution_count": 52,
   "id": "787d47c2-f540-4ca4-b531-7a9fa3e97d19",
   "metadata": {},
   "outputs": [
    {
     "name": "stdout",
     "output_type": "stream",
     "text": [
      "4.371148677933652 0.4290082383271419\n"
     ]
    }
   ],
   "source": [
    "# Extract realinc and compute its log\n",
    "income = gss['realinc']\n",
    "log_income = np.log10(income)\n",
    "\n",
    "# Compute mean and standard deviation\n",
    "mean = log_income.mean()\n",
    "std = log_income.std()\n",
    "print(mean, std)\n",
    "\n",
    "# Make a norm object\n",
    "from scipy.stats import norm\n",
    "dist = norm(mean, std)"
   ]
  },
  {
   "cell_type": "markdown",
   "id": "859b7616-4bc2-4593-ba61-76498a83e928",
   "metadata": {},
   "source": [
    "### Comparing CDFs"
   ]
  },
  {
   "cell_type": "code",
   "execution_count": 56,
   "id": "37118687-61b6-4f5f-8e15-ef8e8474a59e",
   "metadata": {},
   "outputs": [
    {
     "data": {
      "image/png": "[encoded data removed]",
      "text/plain": [
       "<Figure size 432x288 with 1 Axes>"
      ]
     },
     "metadata": {
      "needs_background": "light"
     },
     "output_type": "display_data"
    }
   ],
   "source": [
    "# Evaluate the model CDF\n",
    "xs = np.linspace(2, 5.5)\n",
    "ys = dist.cdf(xs)\n",
    "\n",
    "# Plot the model CDF\n",
    "plt.clf()\n",
    "plt.plot(xs, ys, color='gray')\n",
    "\n",
    "# Create and plot the Cdf of log_income\n",
    "Cdf.from_seq(log_income).plot()\n",
    "    \n",
    "# Label the axes\n",
    "plt.xlabel('log10 of realinc')\n",
    "plt.ylabel('CDF')\n",
    "plt.show()"
   ]
  },
  {
   "cell_type": "markdown",
   "id": "0e78a652-acfc-4f30-9d80-65dfebfb1599",
   "metadata": {},
   "source": [
    "### Comparing PDFs"
   ]
  },
  {
   "cell_type": "code",
   "execution_count": 57,
   "id": "9557a502-bc93-40f6-aa39-b828b41e7a59",
   "metadata": {},
   "outputs": [
    {
     "data": {
      "image/png": "[encoded data removed]",
      "text/plain": [
       "<Figure size 432x288 with 1 Axes>"
      ]
     },
     "metadata": {
      "needs_background": "light"
     },
     "output_type": "display_data"
    }
   ],
   "source": [
    "# Evaluate the normal PDF\n",
    "xs = np.linspace(2, 5.5)\n",
    "ys = dist.pdf(xs)\n",
    "\n",
    "# Plot the model PDF\n",
    "plt.clf()\n",
    "plt.plot(xs, ys, color='gray')\n",
    "\n",
    "# Plot the data KDE\n",
    "sns.kdeplot(log_income)\n",
    "\n",
    "# Label the axes\n",
    "plt.xlabel('log10 of realinc')\n",
    "plt.ylabel('PDF')\n",
    "plt.show()"
   ]
  },
  {
   "cell_type": "code",
   "execution_count": null,
   "id": "f599ab58-6446-49ab-aaf5-75939567e6e9",
   "metadata": {},
   "outputs": [],
   "source": []
  }
 ],
 "metadata": {
  "kernelspec": {
   "display_name": "Python 3 (ipykernel)",
   "language": "python",
   "name": "python3"
  },
  "language_info": {
   "codemirror_mode": {
    "name": "ipython",
    "version": 3
   },
   "file_extension": ".py",
   "mimetype": "text/x-python",
   "name": "python",
   "nbconvert_exporter": "python",
   "pygments_lexer": "ipython3",
   "version": "3.9.7"
  }
 },
 "nbformat": 4,
 "nbformat_minor": 5
}
