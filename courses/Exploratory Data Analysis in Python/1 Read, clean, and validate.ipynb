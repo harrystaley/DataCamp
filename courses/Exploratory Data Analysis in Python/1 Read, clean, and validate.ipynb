{
 "cells": [
  {
   "cell_type": "code",
   "execution_count": null,
   "id": "48b596cb-945b-4e14-94dc-4fc45bf97d8b",
   "metadata": {},
   "outputs": [],
   "source": [
    "# Importing course packages; you can add more too!\n",
    "import pandas as pd\n",
    "import numpy as np\n",
    "import matplotlib.pyplot as plt\n",
    "import seaborn as sns\n",
    "import scipy.stats\n",
    "import scipy.interpolate\n",
    "import statsmodels.formula.api as smf\n",
    "\n",
    "# Importing course datasets as DataFrames\n",
    "brfss = pd.read_hdf('../datasets/brfss.hdf5', 'brfss') # Behavioral Risk Factor Surveillance System (BRFSS) \n",
    "gss = pd.read_hdf('../datasets/gss.hdf5', 'gss') # General Social Survey (GSS) \n",
    "nsfg = pd.read_hdf('../datasets/nsfg.hdf5', 'nsfg') # National Survey of Family Growth (NSFG) \n",
    "\n",
    "brfss.head() # Display the first five rows"
   ]
  },
  {
   "cell_type": "markdown",
   "id": "5f4745d2-8524-4105-a53b-a107dbe0bca7",
   "metadata": {},
   "source": [
    "# DataFrames and Series"
   ]
  },
  {
   "cell_type": "code",
   "execution_count": null,
   "id": "28768145-f018-46ce-91d9-4cd83c04d023",
   "metadata": {},
   "outputs": [],
   "source": []
  }
 ],
 "metadata": {
  "kernelspec": {
   "display_name": "Python 3 (ipykernel)",
   "language": "python",
   "name": "python3"
  },
  "language_info": {
   "codemirror_mode": {
    "name": "ipython",
    "version": 3
   },
   "file_extension": ".py",
   "mimetype": "text/x-python",
   "name": "python",
   "nbconvert_exporter": "python",
   "pygments_lexer": "ipython3",
   "version": "3.9.7"
  }
 },
 "nbformat": 4,
 "nbformat_minor": 5
}
