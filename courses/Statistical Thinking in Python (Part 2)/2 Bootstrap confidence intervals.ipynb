{
 "cells": [
  {
   "cell_type": "code",
   "execution_count": 22,
   "id": "af057bcb-3660-42eb-b43a-666a4c5b1ea0",
   "metadata": {},
   "outputs": [],
   "source": [
    "# Importing course packages; you can add more too!\n",
    "import pandas as pd\n",
    "import numpy as np\n",
    "import seaborn as sns\n",
    "import matplotlib.pyplot as plt\n",
    "\n",
    "# Importing course datasets as DataFrames\n",
    "anscombe = pd.read_csv('../datasets/anscombe.csv', header=[0,1])\n",
    "bees = pd.read_csv('../datasets/bee_sperm.csv', comment='#')\n",
    "literacy_fertility = pd.read_csv('../datasets/female_literacy_fertility.csv')\n",
    "beaks_1975 = pd.read_csv('../datasets/finch_beaks_1975.csv')\n",
    "beaks_2012 = pd.read_csv('../datasets/finch_beaks_2012.csv')\n",
    "frogs = pd.read_csv('../datasets/frog_tongue.csv', comment='#')\n",
    "mlb = pd.read_csv('../datasets/mlb_nohitters.csv')\n",
    "weather = pd.read_csv('../datasets/sheffield_weather_station.csv', comment='#', delimiter='\\s+', na_values='---')\n",
    "illiteracy = literacy_fertility['female literacy']*-1+100\n",
    "fertility = literacy_fertility.fertility\n",
    "nohitter_times = np.array([ 843, 1613, 1101,  215,  684,  814,  278,  324,  161,  219,  545,\n",
    "        715,  966,  624,   29,  450,  107,   20,   91, 1325,  124, 1468,\n",
    "        104, 1309,  429,   62, 1878, 1104,  123,  251,   93,  188,  983,\n",
    "        166,   96,  702,   23,  524,   26,  299,   59,   39,   12,    2,\n",
    "        308, 1114,  813,  887,  645, 2088,   42, 2090,   11,  886, 1665,\n",
    "       1084, 2900, 2432,  750, 4021, 1070, 1765, 1322,   26,  548, 1525,\n",
    "         77, 2181, 2752,  127, 2147,  211,   41, 1575,  151,  479,  697,\n",
    "        557, 2267,  542,  392,   73,  603,  233,  255,  528,  397, 1529,\n",
    "       1023, 1194,  462,  583,   37,  943,  996,  480, 1497,  717,  224,\n",
    "        219, 1531,  498,   44,  288,  267,  600,   52,  269, 1086,  386,\n",
    "        176, 2199,  216,   54,  675, 1243,  463,  650,  171,  327,  110,\n",
    "        774,  509,    8,  197,  136,   12, 1124,   64,  380,  811,  232,\n",
    "        192,  731,  715,  226,  605,  539, 1491,  323,  240,  179,  702,\n",
    "        156,   82, 1397,  354,  778,  603, 1001,  385,  986,  203,  149,\n",
    "        576,  445,  180, 1403,  252,  675, 1351, 2983, 1568,   45,  899,\n",
    "       3260, 1025,   31,  100, 2055, 4043,   79,  238, 3931, 2351,  595,\n",
    "        110,  215,    0,  563,  206,  660,  242,  577,  179,  157,  192,\n",
    "        192, 1848,  792, 1693,   55,  388,  225, 1134, 1172, 1555,   31,\n",
    "       1582, 1044,  378, 1687, 2915,  280,  765, 2819,  511, 1521,  745,\n",
    "       2491,  580, 2072, 6450,  578,  745, 1075, 1103, 1549, 1520,  138,\n",
    "       1202,  296,  277,  351,  391,  950,  459,   62, 1056, 1128,  139,\n",
    "        420,   87,   71,  814,  603, 1349,  162, 1027,  783,  326,  101,\n",
    "        876,  381,  905,  156,  419,  239,  119,  129,  467])"
   ]
  },
  {
   "cell_type": "code",
   "execution_count": 23,
   "id": "7b3b0f8d-26bd-4504-bbba-5013b7c3c461",
   "metadata": {},
   "outputs": [],
   "source": [
    "def ecdf(data):\n",
    "    \"\"\"Compute ECDF for a one-dimensional array of measurements.\"\"\"\n",
    "    # Number of data points: n\n",
    "    n = len(data)\n",
    "\n",
    "    # x-data for the ECDF: x\n",
    "    x = np.sort(data)\n",
    "\n",
    "    # y-data for the ECDF: y\n",
    "    y = np.arange(1, n+1) / n\n",
    "\n",
    "    return x, y\n",
    "\n",
    "def pearson_r(x, y):\n",
    "    \"\"\"Compute Pearson correlation coefficient between two arrays.\"\"\"\n",
    "    # Compute correlation matrix: corr_mat\n",
    "    corr_mat =  np.corrcoef(x, y) \n",
    "\n",
    "    # Return entry [0,1]\n",
    "    return corr_mat[0,1]\n"
   ]
  },
  {
   "cell_type": "markdown",
   "id": "4e4437e7-e467-442a-a661-135274431dde",
   "metadata": {},
   "source": [
    "# Generating bootstrap replicates"
   ]
  },
  {
   "cell_type": "markdown",
   "id": "9f7fd9c1-28a4-4151-95de-22a8e1fb07a5",
   "metadata": {},
   "source": [
    "### Visualizing bootstrap samples"
   ]
  },
  {
   "cell_type": "code",
   "execution_count": 24,
   "id": "4eb057e6-c7e9-48f4-a645-c1c71cf7eba2",
   "metadata": {},
   "outputs": [],
   "source": [
    "rainfall = weather.rain"
   ]
  },
  {
   "cell_type": "code",
   "execution_count": 25,
   "id": "4f984dba-d794-4aa9-8860-796fcab61d4d",
   "metadata": {},
   "outputs": [
    {
     "data": {
      "image/png": "[encoded data removed]",
      "text/plain": [
       "<Figure size 432x288 with 1 Axes>"
      ]
     },
     "metadata": {
      "needs_background": "light"
     },
     "output_type": "display_data"
    }
   ],
   "source": [
    "for _ in range(50):\n",
    "    # Generate bootstrap sample: bs_sample\n",
    "    bs_sample = np.random.choice(rainfall, size=len(rainfall))\n",
    "\n",
    "    # Compute and plot ECDF from bootstrap sample\n",
    "    x, y = ecdf(bs_sample)\n",
    "    _ = plt.plot(x, y, marker='.', linestyle='none',\n",
    "                 color='gray', alpha=0.1)\n",
    "\n",
    "# Compute and plot ECDF from original data\n",
    "x, y = ecdf(rainfall)\n",
    "_ = plt.plot(x, y, marker='.')\n",
    "\n",
    "# Make margins and label axes\n",
    "plt.margins(0.02)\n",
    "_ = plt.xlabel('yearly rainfall (mm)')\n",
    "_ = plt.ylabel('ECDF')\n",
    "\n",
    "# Show the plot\n",
    "plt.show()"
   ]
  },
  {
   "cell_type": "markdown",
   "id": "ea485d50-0848-4ecb-9bd5-706e7dc04bdb",
   "metadata": {},
   "source": [
    "# Bootstrap confidence intervals"
   ]
  },
  {
   "cell_type": "markdown",
   "id": "54ba3141-513c-4069-a3b4-8fb3f8322b9e",
   "metadata": {},
   "source": [
    "### Generating many bootstrap replicates"
   ]
  },
  {
   "cell_type": "code",
   "execution_count": 26,
   "id": "88503e02-011c-4b20-b7eb-df2c07f8d3e0",
   "metadata": {},
   "outputs": [],
   "source": [
    "def bootstrap_replicate_1d(data, func):\n",
    "    \"\"\"Generate bootstrap replicate of 1D data.\"\"\"\n",
    "    bs_sample = np.random.choice(data, len(data))\n",
    "    return func(bs_sample)\n",
    "\n",
    "def draw_bs_reps(data, func, size=1):\n",
    "    \"\"\"Draw bootstrap replicates.\"\"\"\n",
    "\n",
    "    # Initialize array of replicates: bs_replicates\n",
    "    bs_replicates = np.empty(shape=size)\n",
    "\n",
    "    # Generate replicates\n",
    "    for i in range(size):\n",
    "        bs_replicates[i] = bootstrap_replicate_1d(data, func)\n",
    "\n",
    "    return bs_replicates"
   ]
  },
  {
   "cell_type": "markdown",
   "id": "719f3bd4-eafc-42a9-98d4-5594314890e8",
   "metadata": {},
   "source": [
    "### Bootstrap replicates of the mean and the SEM"
   ]
  },
  {
   "cell_type": "code",
   "execution_count": 27,
   "id": "bb35d129-1694-4d85-b186-d80a20eae09c",
   "metadata": {},
   "outputs": [
    {
     "name": "stdout",
     "output_type": "stream",
     "text": [
      "0.9488593574676786\n",
      "0.9333572733101179\n"
     ]
    },
    {
     "data": {
      "image/png": "[encoded data removed]",
      "text/plain": [
       "<Figure size 432x288 with 1 Axes>"
      ]
     },
     "metadata": {
      "needs_background": "light"
     },
     "output_type": "display_data"
    }
   ],
   "source": [
    "# Take 10,000 bootstrap replicates of the mean: bs_replicates\n",
    "size = 10000\n",
    "data = rainfall\n",
    "func = np.mean\n",
    "bs_replicates = draw_bs_reps(data=data, func=func, size=size)\n",
    "\n",
    "# Compute and print SEM\n",
    "sem = np.std(data) / np.sqrt(len(data))\n",
    "print(sem)\n",
    "\n",
    "# Compute and print standard deviation of bootstrap replicates\n",
    "bs_std = np.std(bs_replicates)\n",
    "print(bs_std)\n",
    "\n",
    "# Make a histogram of the results\n",
    "# changed the normed argument to density to keep with most up to date package.\n",
    "_ = plt.hist(bs_replicates, bins=50, density=True)\n",
    "_ = plt.xlabel('mean annual rainfall (mm)')\n",
    "_ = plt.ylabel('PDF')\n",
    "\n",
    "# Show the plot\n",
    "plt.show()"
   ]
  },
  {
   "cell_type": "markdown",
   "id": "faf1dd0b-f0b5-4d14-a12d-25729787a6c7",
   "metadata": {},
   "source": [
    "### Bootstrap replicates of other statistics"
   ]
  },
  {
   "cell_type": "code",
   "execution_count": 28,
   "id": "a5771dae-50ea-401c-a2d3-974ec6ddcafa",
   "metadata": {},
   "outputs": [
    {
     "data": {
      "image/png": "[encoded data removed]",
      "text/plain": [
       "<Figure size 432x288 with 1 Axes>"
      ]
     },
     "metadata": {
      "needs_background": "light"
     },
     "output_type": "display_data"
    }
   ],
   "source": [
    "# Generate 10,000 bootstrap replicates of the variance: bs_replicates\n",
    "size = 10000\n",
    "data = rainfall\n",
    "func = np.var\n",
    "bs_replicates = draw_bs_reps(data=data, func=func, size=size)\n",
    "\n",
    "# Put the variance in units of square centimeters\n",
    "bs_replicates = bs_replicates / 100\n",
    "\n",
    "# Make a histogram of the results\n",
    "# changed the normed argument to density to keep with most up to date package.\n",
    "_ = plt.hist(bs_replicates, density=True, bins=50)\n",
    "_ = plt.xlabel('variance of annual rainfall (sq. cm)')\n",
    "_ = plt.ylabel('PDF')\n",
    "\n",
    "# Show the plot\n",
    "plt.show()\n"
   ]
  },
  {
   "cell_type": "markdown",
   "id": "02a0edbc-4196-4889-ba26-1652be2fe913",
   "metadata": {},
   "source": [
    "### Confidence interval on the rate of no-hitters"
   ]
  },
  {
   "cell_type": "code",
   "execution_count": 29,
   "id": "d6634eef-3d81-4642-ab56-887d2774e4a4",
   "metadata": {},
   "outputs": [
    {
     "name": "stdout",
     "output_type": "stream",
     "text": [
      "95% confidence interval = [663.39920319 871.01623506] games\n"
     ]
    },
    {
     "data": {
      "image/png": "[encoded data removed]",
      "text/plain": [
       "<Figure size 432x288 with 1 Axes>"
      ]
     },
     "metadata": {
      "needs_background": "light"
     },
     "output_type": "display_data"
    }
   ],
   "source": [
    "# Draw bootstrap replicates of the mean no-hitter time (equal to tau): bs_replicates\n",
    "size = 10000\n",
    "data = nohitter_times\n",
    "func = np.mean\n",
    "bs_replicates = draw_bs_reps(data=data, func=func, size=size)\n",
    "\n",
    "# Compute the 95% confidence interval: conf_int\n",
    "percentiles = [2.5, 97.5]\n",
    "conf_int = np.percentile(bs_replicates, percentiles)\n",
    "\n",
    "# Print the confidence interval\n",
    "print('95% confidence interval =', conf_int, 'games')\n",
    "\n",
    "# Plot the histogram of the replicates\n",
    "# changed the normed argument to density to keep with most up to date package.\n",
    "_ = plt.hist(bs_replicates, bins=50, density=True)\n",
    "_ = plt.xlabel(r'$\\tau$ (games)')\n",
    "_ = plt.ylabel('PDF')\n",
    "\n",
    "# Show the plot\n",
    "plt.show()\n"
   ]
  },
  {
   "cell_type": "markdown",
   "id": "36a92fa5-564a-42bb-9399-2c523673d019",
   "metadata": {},
   "source": [
    "# Pairs bootstrap"
   ]
  },
  {
   "cell_type": "markdown",
   "id": "ed625315-eb31-4e86-9f28-268035cc7878",
   "metadata": {},
   "source": [
    "### A function to do pairs bootstrap"
   ]
  },
  {
   "cell_type": "code",
   "execution_count": 30,
   "id": "108c55c2-dcf4-4f2d-9292-1966d202cab1",
   "metadata": {},
   "outputs": [],
   "source": [
    "def draw_bs_pairs_linreg(x, y, size=1):\n",
    "    \"\"\"Perform pairs bootstrap for linear regression.\"\"\"\n",
    "\n",
    "    # Set up array of indices to sample from: inds\n",
    "    inds = np.arange(len(x))\n",
    "\n",
    "    # Initialize replicates: bs_slope_reps, bs_intercept_reps\n",
    "    bs_slope_reps = np.empty(size)\n",
    "    bs_intercept_reps = np.empty(size)\n",
    "\n",
    "    # Generate replicates\n",
    "    for i in range(size):\n",
    "        bs_inds = np.random.choice(inds, size=len(inds))\n",
    "        bs_x, bs_y = x[bs_inds], y[bs_inds]\n",
    "        bs_slope_reps[i], bs_intercept_reps[i] = np.polyfit(bs_x, bs_y, 1)\n",
    "\n",
    "    return bs_slope_reps, bs_intercept_reps\n"
   ]
  },
  {
   "cell_type": "markdown",
   "id": "bdfd66c2-158b-4019-893d-6e3efb370bc2",
   "metadata": {},
   "source": [
    "### Pairs bootstrap of literacy/fertility data"
   ]
  },
  {
   "cell_type": "code",
   "execution_count": 32,
   "id": "acb56135-31b8-481a-a473-5589e4ba660c",
   "metadata": {},
   "outputs": [
    {
     "name": "stdout",
     "output_type": "stream",
     "text": [
      "[0.04395979 0.05565012]\n"
     ]
    },
    {
     "data": {
      "image/png": "[encoded data removed]",
      "text/plain": [
       "<Figure size 432x288 with 1 Axes>"
      ]
     },
     "metadata": {
      "needs_background": "light"
     },
     "output_type": "display_data"
    }
   ],
   "source": [
    "# Generate replicates of slope and intercept using pairs bootstrap\n",
    "size = 1000\n",
    "bs_slope_reps, bs_intercept_reps = draw_bs_pairs_linreg(x=illiteracy, y=fertility, size=size)\n",
    "\n",
    "# Compute and print 95% CI for slope\n",
    "percentiles = [2.5, 97.5]\n",
    "print(np.percentile(bs_slope_reps, percentiles))\n",
    "\n",
    "# Plot the histogram\n",
    "# changed the normed argument to density to keep with most up to date package.\n",
    "_ = plt.hist(bs_slope_reps, bins=50, density=True)\n",
    "_ = plt.xlabel('slope')\n",
    "_ = plt.ylabel('PDF')\n",
    "plt.show()"
   ]
  },
  {
   "cell_type": "markdown",
   "id": "74727492-d989-4187-b9c0-848c06c757e0",
   "metadata": {},
   "source": [
    "### Plotting bootstrap regressions"
   ]
  },
  {
   "cell_type": "code",
   "execution_count": 33,
   "id": "36151060-afe0-406b-8070-8c860e2c5612",
   "metadata": {},
   "outputs": [
    {
     "data": {
      "image/png": "[encoded data removed]",
      "text/plain": [
       "<Figure size 432x288 with 1 Axes>"
      ]
     },
     "metadata": {
      "needs_background": "light"
     },
     "output_type": "display_data"
    }
   ],
   "source": [
    "# Generate array of x-values for bootstrap lines: x\n",
    "x = np.array([0, 100])\n",
    "\n",
    "# Plot the bootstrap lines\n",
    "for i in range(0, 100):\n",
    "    _ = plt.plot(x, \n",
    "                 bs_slope_reps[i] *x + bs_intercept_reps[i],\n",
    "                 linewidth=0.5, alpha=0.2, color='red')\n",
    "\n",
    "# Plot the data\n",
    "_ = plt.plot(illiteracy, fertility, marker='.', linestyle='none')\n",
    "\n",
    "# Label axes, set the margins, and show the plot\n",
    "_ = plt.xlabel('illiteracy')\n",
    "_ = plt.ylabel('fertility')\n",
    "plt.margins(0.02)\n",
    "plt.show()"
   ]
  },
  {
   "cell_type": "code",
   "execution_count": null,
   "id": "3eb0ba10-adc4-463b-8286-805e73ed54a9",
   "metadata": {},
   "outputs": [],
   "source": []
  }
 ],
 "metadata": {
  "kernelspec": {
   "display_name": "Python 3 (ipykernel)",
   "language": "python",
   "name": "python3"
  },
  "language_info": {
   "codemirror_mode": {
    "name": "ipython",
    "version": 3
   },
   "file_extension": ".py",
   "mimetype": "text/x-python",
   "name": "python",
   "nbconvert_exporter": "python",
   "pygments_lexer": "ipython3",
   "version": "3.9.7"
  }
 },
 "nbformat": 4,
 "nbformat_minor": 5
}
