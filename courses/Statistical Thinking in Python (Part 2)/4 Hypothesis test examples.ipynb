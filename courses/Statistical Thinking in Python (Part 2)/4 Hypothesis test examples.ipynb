{
 "cells": [
  {
   "cell_type": "code",
   "execution_count": 1,
   "id": "02f672f8-f4f7-43c8-b4dc-4320b1c1fe54",
   "metadata": {},
   "outputs": [
    {
     "data": {
      "text/html": [
       "<div>\n",
       "<style scoped>\n",
       "    .dataframe tbody tr th:only-of-type {\n",
       "        vertical-align: middle;\n",
       "    }\n",
       "\n",
       "    .dataframe tbody tr th {\n",
       "        vertical-align: top;\n",
       "    }\n",
       "\n",
       "    .dataframe thead th {\n",
       "        text-align: right;\n",
       "    }\n",
       "</style>\n",
       "<table border=\"1\" class=\"dataframe\">\n",
       "  <thead>\n",
       "    <tr style=\"text-align: right;\">\n",
       "      <th></th>\n",
       "      <th>yyyy</th>\n",
       "      <th>mm</th>\n",
       "      <th>tmax</th>\n",
       "      <th>tmin</th>\n",
       "      <th>af</th>\n",
       "      <th>rain</th>\n",
       "      <th>sun</th>\n",
       "    </tr>\n",
       "  </thead>\n",
       "  <tbody>\n",
       "    <tr>\n",
       "      <th>0</th>\n",
       "      <td>1883</td>\n",
       "      <td>1</td>\n",
       "      <td>6.3</td>\n",
       "      <td>1.7</td>\n",
       "      <td>6.0</td>\n",
       "      <td>122.1</td>\n",
       "      <td>NaN</td>\n",
       "    </tr>\n",
       "    <tr>\n",
       "      <th>1</th>\n",
       "      <td>1883</td>\n",
       "      <td>2</td>\n",
       "      <td>8.0</td>\n",
       "      <td>2.8</td>\n",
       "      <td>2.0</td>\n",
       "      <td>69.8</td>\n",
       "      <td>NaN</td>\n",
       "    </tr>\n",
       "    <tr>\n",
       "      <th>2</th>\n",
       "      <td>1883</td>\n",
       "      <td>3</td>\n",
       "      <td>4.8</td>\n",
       "      <td>-1.6</td>\n",
       "      <td>23.0</td>\n",
       "      <td>29.6</td>\n",
       "      <td>NaN</td>\n",
       "    </tr>\n",
       "    <tr>\n",
       "      <th>3</th>\n",
       "      <td>1883</td>\n",
       "      <td>4</td>\n",
       "      <td>12.2</td>\n",
       "      <td>3.8</td>\n",
       "      <td>2.0</td>\n",
       "      <td>74.0</td>\n",
       "      <td>NaN</td>\n",
       "    </tr>\n",
       "    <tr>\n",
       "      <th>4</th>\n",
       "      <td>1883</td>\n",
       "      <td>5</td>\n",
       "      <td>14.7</td>\n",
       "      <td>6.2</td>\n",
       "      <td>0.0</td>\n",
       "      <td>31.2</td>\n",
       "      <td>NaN</td>\n",
       "    </tr>\n",
       "  </tbody>\n",
       "</table>\n",
       "</div>"
      ],
      "text/plain": [
       "   yyyy  mm  tmax  tmin    af   rain  sun\n",
       "0  1883   1   6.3   1.7   6.0  122.1  NaN\n",
       "1  1883   2   8.0   2.8   2.0   69.8  NaN\n",
       "2  1883   3   4.8  -1.6  23.0   29.6  NaN\n",
       "3  1883   4  12.2   3.8   2.0   74.0  NaN\n",
       "4  1883   5  14.7   6.2   0.0   31.2  NaN"
      ]
     },
     "execution_count": 1,
     "metadata": {},
     "output_type": "execute_result"
    }
   ],
   "source": [
    "# Importing course packages; you can add more too!\n",
    "import pandas as pd\n",
    "import numpy as np\n",
    "import seaborn as sns\n",
    "import matplotlib.pyplot as plt\n",
    "\n",
    "# Importing course datasets as DataFrames\n",
    "anscombe = pd.read_csv('../datasets/anscombe.csv', header=[0,1])\n",
    "bees = pd.read_csv('../datasets/bee_sperm.csv', comment='#')\n",
    "literacy_fertility = pd.read_csv('../datasets/female_literacy_fertility.csv')\n",
    "beaks_1975 = pd.read_csv('../datasets/finch_beaks_1975.csv')\n",
    "beaks_2012 = pd.read_csv('../datasets/finch_beaks_2012.csv')\n",
    "frogs = pd.read_csv('../datasets/frog_tongue.csv', comment='#')\n",
    "mlb = pd.read_csv('../datasets/mlb_nohitters.csv')\n",
    "weather = pd.read_csv('../datasets/sheffield_weather_station.csv', comment='#', delimiter='\\s+', na_values='---')\n",
    "illiteracy = literacy_fertility['female literacy']*-1+100\n",
    "fertility = literacy_fertility.fertility\n",
    "nohitter_times = np.array([ 843, 1613, 1101,  215,  684,  814,  278,  324,  161,  219,  545,\n",
    "        715,  966,  624,   29,  450,  107,   20,   91, 1325,  124, 1468,\n",
    "        104, 1309,  429,   62, 1878, 1104,  123,  251,   93,  188,  983,\n",
    "        166,   96,  702,   23,  524,   26,  299,   59,   39,   12,    2,\n",
    "        308, 1114,  813,  887,  645, 2088,   42, 2090,   11,  886, 1665,\n",
    "       1084, 2900, 2432,  750, 4021, 1070, 1765, 1322,   26,  548, 1525,\n",
    "         77, 2181, 2752,  127, 2147,  211,   41, 1575,  151,  479,  697,\n",
    "        557, 2267,  542,  392,   73,  603,  233,  255,  528,  397, 1529,\n",
    "       1023, 1194,  462,  583,   37,  943,  996,  480, 1497,  717,  224,\n",
    "        219, 1531,  498,   44,  288,  267,  600,   52,  269, 1086,  386,\n",
    "        176, 2199,  216,   54,  675, 1243,  463,  650,  171,  327,  110,\n",
    "        774,  509,    8,  197,  136,   12, 1124,   64,  380,  811,  232,\n",
    "        192,  731,  715,  226,  605,  539, 1491,  323,  240,  179,  702,\n",
    "        156,   82, 1397,  354,  778,  603, 1001,  385,  986,  203,  149,\n",
    "        576,  445,  180, 1403,  252,  675, 1351, 2983, 1568,   45,  899,\n",
    "       3260, 1025,   31,  100, 2055, 4043,   79,  238, 3931, 2351,  595,\n",
    "        110,  215,    0,  563,  206,  660,  242,  577,  179,  157,  192,\n",
    "        192, 1848,  792, 1693,   55,  388,  225, 1134, 1172, 1555,   31,\n",
    "       1582, 1044,  378, 1687, 2915,  280,  765, 2819,  511, 1521,  745,\n",
    "       2491,  580, 2072, 6450,  578,  745, 1075, 1103, 1549, 1520,  138,\n",
    "       1202,  296,  277,  351,  391,  950,  459,   62, 1056, 1128,  139,\n",
    "        420,   87,   71,  814,  603, 1349,  162, 1027,  783,  326,  101,\n",
    "        876,  381,  905,  156,  419,  239,  119,  129,  467])\n",
    "weather.head()"
   ]
  },
  {
   "cell_type": "code",
   "execution_count": 4,
   "id": "c0dc5ede-aa52-4221-9d69-65bbafbbd52f",
   "metadata": {},
   "outputs": [],
   "source": [
    "def ecdf(data):\n",
    "    \"\"\"Compute ECDF for a one-dimensional array of measurements.\"\"\"\n",
    "    # Number of data points: n\n",
    "    n = len(data)\n",
    "\n",
    "    # x-data for the ECDF: x\n",
    "    x = np.sort(data)\n",
    "\n",
    "    # y-data for the ECDF: y\n",
    "    y = np.arange(1, n+1) / n\n",
    "\n",
    "    return x, y\n",
    "\n",
    "def pearson_r(x, y):\n",
    "    \"\"\"Compute Pearson correlation coefficient between two arrays.\"\"\"\n",
    "    # Compute correlation matrix: corr_mat\n",
    "    corr_mat =  np.corrcoef(x, y) \n",
    "\n",
    "    # Return entry [0,1]\n",
    "    return corr_mat[0,1]\n",
    "\n",
    "def permutation_sample(data1, data2):\n",
    "    \"\"\"Generate a permutation sample from two data sets.\"\"\"\n",
    "\n",
    "    # Concatenate the data sets: data\n",
    "    data = np.concatenate((data1, data2))\n",
    "\n",
    "    # Permute the concatenated array: permuted_data\n",
    "    permuted_data = np.random.permutation(data)\n",
    "\n",
    "    # Split the permuted array into two: perm_sample_1, perm_sample_2\n",
    "    perm_sample_1 = permuted_data[:len(data1)]\n",
    "    perm_sample_2 = permuted_data[len(data1):]\n",
    "\n",
    "    return perm_sample_1, perm_sample_2\n",
    "\n",
    "def draw_perm_reps(data_1, data_2, func, size=1):\n",
    "    \"\"\"Generate multiple permutation replicates.\"\"\"\n",
    "\n",
    "    # Initialize array of replicates: perm_replicates\n",
    "    perm_replicates = np.empty(size)\n",
    "\n",
    "    for i in range(size):\n",
    "        # Generate permutation sample\n",
    "        perm_sample_1, perm_sample_2 = permutation_sample(data_1, data_2)\n",
    "\n",
    "        # Compute the test statistic\n",
    "        perm_replicates[i] = func(perm_sample_1, perm_sample_2)\n",
    "\n",
    "    return perm_replicates\n",
    "\n",
    "def diff_of_means(data_1, data_2):\n",
    "    \"\"\"Difference in means of two arrays.\"\"\"\n",
    "\n",
    "    # The difference of means of data_1, data_2: diff\n",
    "    diff = np.mean(data_1) - np.mean(data_2)\n",
    "\n",
    "    return diff\n",
    "\n",
    "def bootstrap_replicate_1d(data, func):\n",
    "    \"\"\"Generate bootstrap replicate of 1D data.\"\"\"\n",
    "    bs_sample = np.random.choice(data, len(data))\n",
    "    return func(bs_sample)\n",
    "\n",
    "def draw_bs_reps(data, func, size=1):\n",
    "    \"\"\"Draw bootstrap replicates.\"\"\"\n",
    "\n",
    "    # Initialize array of replicates: bs_replicates\n",
    "    bs_replicates = np.empty(shape=size)\n",
    "\n",
    "    # Generate replicates\n",
    "    for i in range(size):\n",
    "        bs_replicates[i] = bootstrap_replicate_1d(data, func)\n",
    "\n",
    "    return bs_replicates"
   ]
  },
  {
   "cell_type": "markdown",
   "id": "01fad832-6baa-488f-811f-f4b3f5265f20",
   "metadata": {},
   "source": [
    "# A/B testing"
   ]
  },
  {
   "cell_type": "markdown",
   "id": "97ab18ea-4cad-495a-aa3e-11e82fcf1948",
   "metadata": {},
   "source": [
    "### The vote for the Civil Rights Act in 1964"
   ]
  },
  {
   "cell_type": "code",
   "execution_count": 5,
   "id": "a8959828-d4d5-4138-9658-7be84c89bb10",
   "metadata": {},
   "outputs": [
    {
     "name": "stdout",
     "output_type": "stream",
     "text": [
      "p-value = 0.0003\n"
     ]
    }
   ],
   "source": [
    "# Construct arrays of data: dems, reps\n",
    "dems = np.array([True] * 153 + [False] * 91)\n",
    "reps = np.array([True] * 136 + [False] * 35)\n",
    "\n",
    "def frac_yea_dems(dems, reps):\n",
    "    \"\"\"Compute fraction of Democrat yea votes.\"\"\"\n",
    "    frac = np.sum(dems) / len(dems)\n",
    "    return frac\n",
    "\n",
    "# Acquire permutation samples: perm_replicates\n",
    "perm_replicates = draw_perm_reps(dems, reps, frac_yea_dems, 10000)\n",
    "\n",
    "# Compute and print p-value: p\n",
    "p = np.sum(perm_replicates <= 153/244) / len(perm_replicates)\n",
    "print('p-value =', p)"
   ]
  },
  {
   "cell_type": "markdown",
   "id": "45cd62bc-4c4d-4348-85f0-65e79dc0e265",
   "metadata": {},
   "source": [
    "### A time-on-website analog"
   ]
  },
  {
   "cell_type": "code",
   "execution_count": 12,
   "id": "af20e6d6-b291-494f-b02b-3d9e40abd170",
   "metadata": {},
   "outputs": [],
   "source": [
    "nht_dead = np.array([  -1,  894,   10,  130,    1,  934,   29,    6,  485,  254,  372,\n",
    "         81,  191,  355,  180,  286,   47,  269,  361,  173,  246,  492,\n",
    "        462, 1319,   58,  297,   31, 2970,  640,  237,  434,  570,   77,\n",
    "        271,  563, 3365,   89,    0,  379,  221,  479,  367,  628,  843,\n",
    "       1613, 1101,  215,  684,  814,  278,  324,  161,  219,  545,  715,\n",
    "        966,  624,   29,  450,  107,   20,   91, 1325,  124, 1468,  104,\n",
    "       1309,  429,   62, 1878, 1104,  123,  251,   93,  188,  983,  166,\n",
    "         96,  702,   23,  524,   26,  299,   59,   39,   12,    2,  308,\n",
    "       1114,  813,  887])\n",
    "nht_live = np.array([ 645, 2088,   42, 2090,   11,  886, 1665, 1084, 2900, 2432,  750,\n",
    "       4021, 1070, 1765, 1322,   26,  548, 1525,   77, 2181, 2752,  127,\n",
    "       2147,  211,   41, 1575,  151,  479,  697,  557, 2267,  542,  392,\n",
    "         73,  603,  233,  255,  528,  397, 1529, 1023, 1194,  462,  583,\n",
    "         37,  943,  996,  480, 1497,  717,  224,  219, 1531,  498,   44,\n",
    "        288,  267,  600,   52,  269, 1086,  386,  176, 2199,  216,   54,\n",
    "        675, 1243,  463,  650,  171,  327,  110,  774,  509,    8,  197,\n",
    "        136,   12, 1124,   64,  380,  811,  232,  192,  731,  715,  226,\n",
    "        605,  539, 1491,  323,  240,  179,  702,  156,   82, 1397,  354,\n",
    "        778,  603, 1001,  385,  986,  203,  149,  576,  445,  180, 1403,\n",
    "        252,  675, 1351, 2983, 1568,   45,  899, 3260, 1025,   31,  100,\n",
    "       2055, 4043,   79,  238, 3931, 2351,  595,  110,  215,    0,  563,\n",
    "        206,  660,  242,  577,  179,  157,  192,  192, 1848,  792, 1693,\n",
    "         55,  388,  225, 1134, 1172, 1555,   31, 1582, 1044,  378, 1687,\n",
    "       2915,  280,  765, 2819,  511, 1521,  745, 2491,  580, 2072, 6450,\n",
    "        578,  745, 1075, 1103, 1549, 1520,  138, 1202,  296,  277,  351,\n",
    "        391,  950,  459,   62, 1056, 1128,  139,  420,   87,   71,  814,\n",
    "        603, 1349,  162, 1027,  783,  326,  101,  876,  381,  905,  156,\n",
    "        419,  239,  119,  129,  467])"
   ]
  },
  {
   "cell_type": "code",
   "execution_count": 13,
   "id": "b83df230-6857-43a6-a6d5-65086223410f",
   "metadata": {},
   "outputs": [
    {
     "name": "stdout",
     "output_type": "stream",
     "text": [
      "p-val = 0.0\n"
     ]
    }
   ],
   "source": [
    "# Compute the observed difference in mean inter-no-hitter times: nht_diff_obs\n",
    "nht_diff_obs = diff_of_means(nht_dead, nht_live)\n",
    "\n",
    "# Acquire 10,000 permutation replicates of difference in mean no-hitter time: perm_replicates\n",
    "perm_replicates = draw_perm_reps(nht_dead, nht_live,\n",
    "                                 diff_of_means, size=10000)\n",
    "\n",
    "# Compute and print the p-value: p\n",
    "p = np.sum(perm_replicates <= nht_diff_obs) / len(perm_replicates)\n",
    "print('p-val =', p)"
   ]
  },
  {
   "cell_type": "markdown",
   "id": "583ad271-0aa0-404c-9de1-26a6c86b87e0",
   "metadata": {},
   "source": [
    "# Test of correlation"
   ]
  },
  {
   "cell_type": "markdown",
   "id": "5bbeea00-84f1-484e-a0de-b23b7602f840",
   "metadata": {},
   "source": [
    "### Hypothesis test on Pearson correlation"
   ]
  },
  {
   "cell_type": "code",
   "execution_count": 7,
   "id": "cf60db63-ad8e-4144-8587-e722e4a13c5c",
   "metadata": {},
   "outputs": [
    {
     "name": "stdout",
     "output_type": "stream",
     "text": [
      "p-val = 0.0\n"
     ]
    }
   ],
   "source": [
    "# Compute observed correlation: r_obs\n",
    "r_obs = pearson_r(illiteracy, fertility)\n",
    "\n",
    "# Initialize permutation replicates: perm_replicates\n",
    "perm_replicates = np.empty(10000)\n",
    "\n",
    "# Draw replicates\n",
    "for i in range(10000):\n",
    "    # Permute illiteracy measurments: illiteracy_permuted\n",
    "    illiteracy_permuted = np.random.permutation(illiteracy)\n",
    "\n",
    "    # Compute Pearson correlation\n",
    "    perm_replicates[i] = pearson_r(illiteracy_permuted, fertility)\n",
    "\n",
    "# Compute p-value: p\n",
    "p = np.sum(perm_replicates >= r_obs) / len(perm_replicates)\n",
    "print('p-val =', p)"
   ]
  },
  {
   "cell_type": "markdown",
   "id": "12f1c305-d82a-4ca0-bbd9-5624d8a7fd35",
   "metadata": {},
   "source": [
    "### Do neonicotinoid insecticides have unintended consequences?"
   ]
  },
  {
   "cell_type": "code",
   "execution_count": 10,
   "id": "b7b071e3-385c-44dd-98f9-0832bf27638e",
   "metadata": {},
   "outputs": [],
   "source": [
    "control = np.array([ 4.159234,  4.408002,  0.172812,  3.498278,  3.104912,  5.164174,\n",
    "        6.615262,  4.633066,  0.170408,  2.65    ,  0.0875  ,  1.997148,\n",
    "        6.92668 ,  4.574932,  3.896466,  5.209814,  3.70625 ,  0.      ,\n",
    "        4.62545 ,  3.01444 ,  0.732652,  0.4     ,  6.518382,  5.225   ,\n",
    "        6.218742,  6.840358,  1.211308,  0.368252,  3.59937 ,  4.212158,\n",
    "        6.052364,  2.115532,  6.60413 ,  5.26074 ,  6.05695 ,  6.481172,\n",
    "        3.171522,  3.057228,  0.218808,  5.215112,  4.465168,  2.28909 ,\n",
    "        3.732572,  2.17087 ,  1.834326,  6.074862,  5.841978,  8.524892,\n",
    "        4.698492,  2.965624,  2.324206,  3.409412,  4.830726,  0.1     ,\n",
    "        0.      ,  4.101432,  3.478162,  1.009688,  4.999296,  4.32196 ,\n",
    "        0.299592,  3.606032,  7.54026 ,  4.284024,  0.057494,  6.036668,\n",
    "        2.924084,  4.150144,  1.256926,  4.666502,  4.806594,  2.52478 ,\n",
    "        2.027654,  2.52283 ,  4.735598,  2.033236,  0.      ,  6.177294,\n",
    "        2.601834,  3.544408,  3.6045  ,  5.520346,  4.80698 ,  3.002478,\n",
    "        3.559816,  7.075844, 10.      ,  0.139772,  6.17171 ,  3.201232,\n",
    "        8.459546,  0.17857 ,  7.088276,  5.496662,  5.415086,  1.932282,\n",
    "        3.02838 ,  7.47996 ,  1.86259 ,  7.838498,  2.242718,  3.292958,\n",
    "        6.363644,  4.386898,  8.47533 ,  4.156304,  1.463956,  4.533628,\n",
    "        5.573922,  1.29454 ,  7.547504,  3.92466 ,  5.820258,  4.118522,\n",
    "        4.125   ,  2.286698,  0.591882,  1.273124,  0.      ,  0.      ,\n",
    "        0.      , 12.22502 ,  7.601604,  5.56798 ,  1.679914,  8.77096 ,\n",
    "        5.823942,  0.258374,  0.      ,  5.899236,  5.486354,  2.053148,\n",
    "        3.25541 ,  2.72564 ,  3.364066,  2.43427 ,  5.282548,  3.963666,\n",
    "        0.24851 ,  0.347916,  4.046862,  5.461436,  4.066104,  0.      ,\n",
    "        0.065   ])\n",
    "treated = np.array([1.342686, 1.058476, 3.793784, 0.40428 , 4.528388, 2.142966,\n",
    "       3.937742, 0.1375  , 6.919164, 0.      , 3.597812, 5.196538,\n",
    "       2.78955 , 2.3229  , 1.090636, 5.323916, 1.021618, 0.931836,\n",
    "       2.78    , 0.412202, 1.180934, 2.8674  , 0.      , 0.064354,\n",
    "       3.008348, 0.876634, 0.      , 4.971712, 7.280658, 4.79732 ,\n",
    "       2.084956, 3.251514, 1.9405  , 1.566192, 0.58894 , 5.219658,\n",
    "       0.977976, 3.124584, 1.297564, 1.433328, 4.24337 , 0.880964,\n",
    "       2.376566, 3.763658, 1.918426, 3.74    , 3.841726, 4.69964 ,\n",
    "       4.386876, 0.      , 1.127432, 1.845452, 0.690314, 4.185602,\n",
    "       2.284732, 7.237594, 2.185148, 2.799124, 3.43218 , 0.63354 ,\n",
    "       1.142496, 0.586   , 2.372858, 1.80032 , 3.329306, 4.028804,\n",
    "       3.474156, 7.508752, 2.032824, 1.336556, 1.906496, 1.396046,\n",
    "       2.488104, 4.759114, 1.07853 , 3.19927 , 3.814252, 4.275962,\n",
    "       2.817056, 0.552198, 3.27194 , 5.11525 , 2.064628, 0.      ,\n",
    "       3.34101 , 6.177322, 0.      , 3.66415 , 2.352582, 1.531696])"
   ]
  },
  {
   "cell_type": "code",
   "execution_count": 11,
   "id": "ae9c6ad2-429c-4082-8944-20c22f8c28ae",
   "metadata": {},
   "outputs": [
    {
     "data": {
      "image/png": "[encoded data removed]",
      "text/plain": [
       "<Figure size 432x288 with 1 Axes>"
      ]
     },
     "metadata": {
      "needs_background": "light"
     },
     "output_type": "display_data"
    }
   ],
   "source": [
    "# Compute x,y values for ECDFs\n",
    "x_control, y_control = ecdf(control)\n",
    "x_treated, y_treated = ecdf(treated)\n",
    "\n",
    "# Plot the ECDFs\n",
    "plt.plot(x_control, y_control, marker='.', linestyle='none')\n",
    "plt.plot(x_treated, y_treated, marker='.', linestyle='none')\n",
    "\n",
    "# Set the margins\n",
    "plt.margins(0.02)\n",
    "\n",
    "# Add a legend\n",
    "plt.legend(('control', 'treated'), loc='lower right')\n",
    "\n",
    "# Label axes and show plot\n",
    "plt.xlabel('millions of alive sperm per mL')\n",
    "plt.ylabel('ECDF')\n",
    "plt.show()\n"
   ]
  },
  {
   "cell_type": "code",
   "execution_count": null,
   "id": "6c585c44-96f1-4b2f-82a6-33562b31b4bc",
   "metadata": {},
   "outputs": [],
   "source": []
  }
 ],
 "metadata": {
  "kernelspec": {
   "display_name": "Python 3 (ipykernel)",
   "language": "python",
   "name": "python3"
  },
  "language_info": {
   "codemirror_mode": {
    "name": "ipython",
    "version": 3
   },
   "file_extension": ".py",
   "mimetype": "text/x-python",
   "name": "python",
   "nbconvert_exporter": "python",
   "pygments_lexer": "ipython3",
   "version": "3.9.7"
  }
 },
 "nbformat": 4,
 "nbformat_minor": 5
}
