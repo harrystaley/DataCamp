{
 "cells": [
  {
   "cell_type": "code",
   "execution_count": 1,
   "id": "859e7203-98a7-4c50-883d-2edd90da01b4",
   "metadata": {},
   "outputs": [],
   "source": [
    "# Importing course packages; you can add more too!\n",
    "import pandas as pd\n",
    "import numpy as np\n",
    "import matplotlib.pyplot as plt\n",
    "import scipy.io\n",
    "import h5py\n",
    "from sas7bdat import SAS7BDAT\n",
    "from sqlalchemy import create_engine\n",
    "import pickle"
   ]
  },
  {
   "cell_type": "markdown",
   "id": "aaf4e0a6-c9e7-4dd8-a4f3-6e0d3d45b3c2",
   "metadata": {},
   "source": [
    "# Introduction to other file types"
   ]
  },
  {
   "cell_type": "markdown",
   "id": "c54fcb46-2741-488d-a5d9-84bc476cc8f4",
   "metadata": {},
   "source": [
    "### Not so flat any more"
   ]
  },
  {
   "cell_type": "code",
   "execution_count": 2,
   "id": "0f81b600-a9bd-424d-89a9-8988c70af867",
   "metadata": {},
   "outputs": [
    {
     "data": {
      "text/plain": [
       "['moby_dick.txt',\n",
       " '1 Introduction and flat files.ipynb',\n",
       " 'digits_header.txt',\n",
       " 'titanic.csv',\n",
       " 'digits.csv',\n",
       " '.ipynb_checkpoints',\n",
       " '2 Importing data from other file types.ipynb',\n",
       " 'seaslug.txt',\n",
       " 'titanic_corrupt.txt']"
      ]
     },
     "execution_count": 2,
     "metadata": {},
     "output_type": "execute_result"
    }
   ],
   "source": [
    "import os\n",
    "wd = os.getcwd()\n",
    "os.listdir(wd)"
   ]
  },
  {
   "cell_type": "code",
   "execution_count": null,
   "id": "1b96bcfa-ca9a-437a-9e30-48ea2e0f26b7",
   "metadata": {},
   "outputs": [],
   "source": []
  }
 ],
 "metadata": {
  "kernelspec": {
   "display_name": "Python 3 (ipykernel)",
   "language": "python",
   "name": "python3"
  },
  "language_info": {
   "codemirror_mode": {
    "name": "ipython",
    "version": 3
   },
   "file_extension": ".py",
   "mimetype": "text/x-python",
   "name": "python",
   "nbconvert_exporter": "python",
   "pygments_lexer": "ipython3",
   "version": "3.9.7"
  }
 },
 "nbformat": 4,
 "nbformat_minor": 5
}
