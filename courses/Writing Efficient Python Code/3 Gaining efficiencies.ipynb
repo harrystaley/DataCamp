{
 "cells": [
  {
   "cell_type": "code",
   "execution_count": null,
   "id": "94684c88-38aa-4d4e-9006-1f5dfc1f0d6a",
   "metadata": {},
   "outputs": [],
   "source": []
  }
 ],
 "metadata": {
  "kernelspec": {
   "display_name": "Python 3 (ipykernel)",
   "language": "python",
   "name": "python3"
  },
  "language_info": {
   "codemirror_mode": {
    "name": "ipython",
    "version": 3
   },
   "file_extension": ".py",
   "mimetype": "text/x-python",
   "name": "python",
   "nbconvert_exporter": "python",
   "pygments_lexer": "ipython3",
   "version": "3.9.7"
  }
 },
 "nbformat": 4,
 "nbformat_minor": 5
}
