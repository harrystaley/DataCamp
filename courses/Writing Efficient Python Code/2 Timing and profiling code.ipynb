{
 "cells": [
  {
   "cell_type": "markdown",
   "id": "4871cac4-52f8-4729-980a-97863f5936bf",
   "metadata": {},
   "source": [
    "# Examining runtime"
   ]
  },
  {
   "cell_type": "code",
   "execution_count": null,
   "id": "7614e10f-cfed-4b0b-99b2-426cb1be905c",
   "metadata": {},
   "outputs": [],
   "source": []
  }
 ],
 "metadata": {
  "kernelspec": {
   "display_name": "Python 3 (ipykernel)",
   "language": "python",
   "name": "python3"
  },
  "language_info": {
   "codemirror_mode": {
    "name": "ipython",
    "version": 3
   },
   "file_extension": ".py",
   "mimetype": "text/x-python",
   "name": "python",
   "nbconvert_exporter": "python",
   "pygments_lexer": "ipython3",
   "version": "3.9.7"
  }
 },
 "nbformat": 4,
 "nbformat_minor": 5
}
