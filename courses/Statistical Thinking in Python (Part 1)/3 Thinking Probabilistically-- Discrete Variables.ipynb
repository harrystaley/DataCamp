{
 "cells": [
  {
   "cell_type": "code",
   "execution_count": 2,
   "id": "3a8be63b-24f0-4bcf-99c2-92744833c963",
   "metadata": {},
   "outputs": [],
   "source": [
    "# Importing course packages; you can add more too!\n",
    "import pandas as pd\n",
    "import numpy as np\n",
    "import seaborn as sns\n",
    "import matplotlib.pyplot as plt\n",
    "\n",
    "# Importing course datasets as DataFrames\n",
    "belmont = pd.read_csv('../datasets/belmont.csv')\n",
    "michelson = pd.read_csv('../datasets/michelson_speed_of_light.csv', index_col=0)\n",
    "all_states = pd.read_csv('../datasets/2008_all_states.csv')\n",
    "swing_states = pd.read_csv('../datasets/2008_swing_states.csv')\n",
    "flowers = pd.read_csv('../datasets/flowers.csv')"
   ]
  },
  {
   "cell_type": "markdown",
   "id": "3b2b51fa-f225-4cad-958c-f42138f6b973",
   "metadata": {},
   "source": [
    "# Random number generators and hacker statistics"
   ]
  },
  {
   "cell_type": "code",
   "execution_count": null,
   "id": "aba62f95-5bb8-45af-87ce-05cef858e0c4",
   "metadata": {},
   "outputs": [],
   "source": []
  }
 ],
 "metadata": {
  "kernelspec": {
   "display_name": "Python 3 (ipykernel)",
   "language": "python",
   "name": "python3"
  },
  "language_info": {
   "codemirror_mode": {
    "name": "ipython",
    "version": 3
   },
   "file_extension": ".py",
   "mimetype": "text/x-python",
   "name": "python",
   "nbconvert_exporter": "python",
   "pygments_lexer": "ipython3",
   "version": "3.9.7"
  }
 },
 "nbformat": 4,
 "nbformat_minor": 5
}
