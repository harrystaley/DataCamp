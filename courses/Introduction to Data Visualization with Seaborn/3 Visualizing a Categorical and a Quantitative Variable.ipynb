{
 "cells": [
  {
   "cell_type": "code",
   "execution_count": 1,
   "id": "c6cd2366-574c-4797-846a-c6f2663074db",
   "metadata": {},
   "outputs": [],
   "source": [
    "# Importing course packages; you can add more too!\n",
    "import pandas as pd\n",
    "import numpy as np\n",
    "import matplotlib.pyplot as plt\n",
    "import seaborn as sns\n",
    "\n",
    "# Importing course datasets as DataFrames\n",
    "country_data = pd.read_csv('../datasets/countries-of-the-world.csv', decimal=\",\")\n",
    "mpg = pd.read_csv('../datasets/mpg.csv')\n",
    "student_data = pd.read_csv('../datasets/student-alcohol-consumption.csv', index_col=0)\n",
    "survey = pd.read_csv('../datasets/young-people-survey-responses.csv', index_col=0)"
   ]
  },
  {
   "cell_type": "markdown",
   "id": "2e7a976b-29af-43e4-91b7-965a988f3e67",
   "metadata": {},
   "source": [
    "# Count plots and bar plots"
   ]
  },
  {
   "cell_type": "code",
   "execution_count": null,
   "id": "4550d13f-99be-4a8f-9085-935156236601",
   "metadata": {},
   "outputs": [],
   "source": []
  }
 ],
 "metadata": {
  "kernelspec": {
   "display_name": "Python 3 (ipykernel)",
   "language": "python",
   "name": "python3"
  },
  "language_info": {
   "codemirror_mode": {
    "name": "ipython",
    "version": 3
   },
   "file_extension": ".py",
   "mimetype": "text/x-python",
   "name": "python",
   "nbconvert_exporter": "python",
   "pygments_lexer": "ipython3",
   "version": "3.9.7"
  }
 },
 "nbformat": 4,
 "nbformat_minor": 5
}
