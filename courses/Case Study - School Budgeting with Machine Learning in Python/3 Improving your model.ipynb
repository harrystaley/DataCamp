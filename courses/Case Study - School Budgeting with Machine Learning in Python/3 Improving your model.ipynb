{
 "cells": [
  {
   "cell_type": "markdown",
   "id": "1c86d007-fc2a-45ac-bfdd-101aec4478b3",
   "metadata": {},
   "source": [
    "Here, you'll improve on your benchmark model using pipelines. Because the budget consists of both text and numeric data, you'll learn to how build pipielines that process multiple types of data. You'll also explore how the flexibility of the pipeline workflow makes testing different approaches efficient, even in complicated problems like this one!"
   ]
  },
  {
   "cell_type": "code",
   "execution_count": null,
   "id": "114510b8-f5b8-463f-a04d-138bc3a7aebd",
   "metadata": {},
   "outputs": [],
   "source": []
  },
  {
   "cell_type": "markdown",
   "id": "f317aee1-2e14-4b84-9b4a-be9f5093da21",
   "metadata": {},
   "source": [
    "# Pipelines, feature & text preprocessing"
   ]
  },
  {
   "cell_type": "code",
   "execution_count": null,
   "id": "c763f605-7d0b-452d-a5c4-6b0830d848db",
   "metadata": {},
   "outputs": [],
   "source": []
  }
 ],
 "metadata": {
  "kernelspec": {
   "display_name": "Python 3 (ipykernel)",
   "language": "python",
   "name": "python3"
  },
  "language_info": {
   "codemirror_mode": {
    "name": "ipython",
    "version": 3
   },
   "file_extension": ".py",
   "mimetype": "text/x-python",
   "name": "python",
   "nbconvert_exporter": "python",
   "pygments_lexer": "ipython3",
   "version": "3.9.7"
  }
 },
 "nbformat": 4,
 "nbformat_minor": 5
}
