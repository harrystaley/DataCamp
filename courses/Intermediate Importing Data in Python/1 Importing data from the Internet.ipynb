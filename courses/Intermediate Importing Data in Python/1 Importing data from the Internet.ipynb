{
 "cells": [
  {
   "cell_type": "code",
   "execution_count": null,
   "id": "86b36524-4d45-4d1a-9ce9-e012420ebf0a",
   "metadata": {},
   "outputs": [],
   "source": []
  },
  {
   "cell_type": "markdown",
   "id": "964bed25-a17f-4820-90c8-64c1ee17c575",
   "metadata": {},
   "source": [
    "# Importing flat files from the web"
   ]
  },
  {
   "cell_type": "markdown",
   "id": "ba2ae401-946a-4e10-a584-2b0c510e157f",
   "metadata": {},
   "source": [
    "### Importing flat files from the web: your turn!"
   ]
  },
  {
   "cell_type": "code",
   "execution_count": null,
   "id": "ff0e7f83-48bb-4544-b80c-1688a06bd33f",
   "metadata": {},
   "outputs": [],
   "source": []
  }
 ],
 "metadata": {
  "kernelspec": {
   "display_name": "Python 3 (ipykernel)",
   "language": "python",
   "name": "python3"
  },
  "language_info": {
   "codemirror_mode": {
    "name": "ipython",
    "version": 3
   },
   "file_extension": ".py",
   "mimetype": "text/x-python",
   "name": "python",
   "nbconvert_exporter": "python",
   "pygments_lexer": "ipython3",
   "version": "3.9.7"
  }
 },
 "nbformat": 4,
 "nbformat_minor": 5
}
