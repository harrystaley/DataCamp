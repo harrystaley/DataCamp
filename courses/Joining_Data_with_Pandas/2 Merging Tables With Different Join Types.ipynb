{
 "cells": [
  {
   "cell_type": "markdown",
   "id": "aware-israel",
   "metadata": {},
   "source": [
    "# Left Join"
   ]
  },
  {
   "cell_type": "markdown",
   "id": "excited-kentucky",
   "metadata": {},
   "source": [
    "In order to get some datasets I needed to export them by convertind the dataframe to a csv and then outputting the contents of the file to the terminal such as the example below.\n",
    "```Python\n",
    "# output the contents of the dataframe to CSV wile also removing the index for pushing it to a dataframe.\n",
    "wards_altered.to_csv(\"wards_altered.csv\", index=False)\n",
    "\n",
    "# open the file and read the contents of the file to the terminal.\n",
    "with open(\"wards_altered.csv\", \"r\") as f:\n",
    "    print(f.read())\n",
    "```"
   ]
  },
  {
   "cell_type": "markdown",
   "id": "upper-replication",
   "metadata": {},
   "source": [
    "In a *left join* retrieves all records from the left table (A), and the matching records from the right table (B).\n",
    "![left join venn diagram](../images/left-join.png)"
   ]
  },
  {
   "cell_type": "code",
   "execution_count": 1,
   "id": "split-conservative",
   "metadata": {},
   "outputs": [],
   "source": [
    "# Import packages.\n",
    "import pandas as pd\n",
    "import matplotlib.pyplot as plt"
   ]
  },
  {
   "cell_type": "markdown",
   "id": "innovative-yahoo",
   "metadata": {},
   "source": [
    "### Counting missing rows with left join"
   ]
  },
  {
   "cell_type": "code",
   "execution_count": 2,
   "id": "frozen-building",
   "metadata": {},
   "outputs": [
    {
     "name": "stdout",
     "output_type": "stream",
     "text": [
      "movies\n",
      "      id                 title  popularity release_date\n",
      "0    257          Oliver Twist   20.415572   2005-09-23\n",
      "1  14290  Better Luck Tomorrow    3.877036   2002-01-12\n",
      "2  38365             Grown Ups   38.864027   2010-06-24\n",
      "3   9672              Infamous    3.680896   2006-11-16\n",
      "4  12819       Alpha and Omega   12.300789   2010-09-17\n",
      "financials\n",
      "       id     budget       revenue\n",
      "0   19995  237000000  2.787965e+09\n",
      "1     285  300000000  9.610000e+08\n",
      "2  206647  245000000  8.806746e+08\n",
      "3   49026  250000000  1.084939e+09\n",
      "4   49529  260000000  2.841391e+08\n"
     ]
    }
   ],
   "source": [
    "# Import datasets\n",
    "movies = pd.read_pickle(\"../datasets/movies.pkl\")\n",
    "financials = pd.read_pickle(\"../datasets/financials.pkl\")\n",
    "# Print the first fiew roews of each dataset.\n",
    "print(\"movies\")\n",
    "print(movies.head())\n",
    "print(\"financials\")\n",
    "print(financials.head())"
   ]
  },
  {
   "cell_type": "code",
   "execution_count": 3,
   "id": "first-service",
   "metadata": {},
   "outputs": [
    {
     "name": "stdout",
     "output_type": "stream",
     "text": [
      "1574\n"
     ]
    }
   ],
   "source": [
    "# Merge the movies table with the financials table with a left join\n",
    "movies_financials = movies.merge(financials, on='id', how='left')\n",
    "\n",
    "# Count the number of rows in the budget column that are missing\n",
    "number_of_missing_fin = movies_financials['budget'].isnull().sum()\n",
    "\n",
    "# Print the number of movies missing financials\n",
    "print(number_of_missing_fin)"
   ]
  },
  {
   "cell_type": "markdown",
   "id": "signal-excellence",
   "metadata": {},
   "source": [
    "### Enriching a dataset"
   ]
  },
  {
   "cell_type": "code",
   "execution_count": 4,
   "id": "nearby-discovery",
   "metadata": {},
   "outputs": [
    {
     "name": "stdout",
     "output_type": "stream",
     "text": [
      "toy story\n",
      "         id        title  popularity release_date\n",
      "103   10193  Toy Story 3   59.995418   2010-06-16\n",
      "2637    863  Toy Story 2   73.575118   1999-10-30\n",
      "3716    862    Toy Story   73.640445   1995-10-30\n",
      "tag lines\n",
      "       id                                         tagline\n",
      "0   19995                     Enter the World of Pandora.\n",
      "1     285  At the end of the world, the adventure begins.\n",
      "2  206647                           A Plan No One Escapes\n",
      "3   49026                                 The Legend Ends\n",
      "4   49529            Lost in our world, found in another.\n"
     ]
    }
   ],
   "source": [
    "# subset movies to only select toy story movies and import taglines.\n",
    "toy_story = movies[movies[\"title\"].str.contains(\"toy story\", case=False)]\n",
    "taglines = pd.read_pickle(\"../datasets/taglines.pkl\")\n",
    "# print the first fiew lines of these datasets.\n",
    "print(\"toy story\")\n",
    "print(toy_story.head())\n",
    "print(\"tag lines\")\n",
    "print(taglines.head())"
   ]
  },
  {
   "cell_type": "markdown",
   "id": "integrated-apparatus",
   "metadata": {},
   "source": [
    "An *inner join* retrieves records from the left table (A), and the records from the right table (B) that match eachother this is otherwise known as an ntersection.\n",
    "![inner join venn diagram](../images/inner-join.png)"
   ]
  },
  {
   "cell_type": "code",
   "execution_count": 5,
   "id": "primary-scanner",
   "metadata": {},
   "outputs": [
    {
     "name": "stdout",
     "output_type": "stream",
     "text": [
      "      id        title  popularity release_date                   tagline\n",
      "0  10193  Toy Story 3   59.995418   2010-06-16  No toy gets left behind.\n",
      "1    863  Toy Story 2   73.575118   1999-10-30        The toys are back!\n",
      "2    862    Toy Story   73.640445   1995-10-30                       NaN\n",
      "(3, 5)\n"
     ]
    }
   ],
   "source": [
    "# Merge the toy_story and taglines tables with a left join\n",
    "toystory_tag = toy_story.merge(taglines, how=\"left\", on=\"id\")\n",
    "\n",
    "# Print the rows and shape of toystory_tag\n",
    "print(toystory_tag)\n",
    "print(toystory_tag.shape)"
   ]
  },
  {
   "cell_type": "code",
   "execution_count": 6,
   "id": "cardiovascular-princeton",
   "metadata": {},
   "outputs": [
    {
     "name": "stdout",
     "output_type": "stream",
     "text": [
      "      id        title  popularity release_date                   tagline\n",
      "0  10193  Toy Story 3   59.995418   2010-06-16  No toy gets left behind.\n",
      "1    863  Toy Story 2   73.575118   1999-10-30        The toys are back!\n",
      "(2, 5)\n"
     ]
    }
   ],
   "source": [
    "# Merge the toy_story and taglines tables with a inner join\n",
    "toystory_tag = toy_story.merge(taglines, how=\"inner\")\n",
    "\n",
    "# Print the rows and shape of toystory_tag\n",
    "print(toystory_tag)\n",
    "print(toystory_tag.shape)"
   ]
  },
  {
   "cell_type": "markdown",
   "id": "fitted-treat",
   "metadata": {},
   "source": [
    "# Other Joins"
   ]
  },
  {
   "cell_type": "markdown",
   "id": "stable-longer",
   "metadata": {},
   "source": [
    "### Right join to find unique movies"
   ]
  },
  {
   "cell_type": "markdown",
   "id": "welcome-mozambique",
   "metadata": {},
   "source": [
    "In a *right join* retrieves mathing records from the left table (A), and all records from the right table (B).\n",
    "![right join venn diagram](../images/right-join.png)"
   ]
  },
  {
   "cell_type": "code",
   "execution_count": 7,
   "id": "subjective-chase",
   "metadata": {},
   "outputs": [
    {
     "name": "stdout",
     "output_type": "stream",
     "text": [
      "action movies\n",
      "    movie_id   genre\n",
      "3         11  Action\n",
      "14        18  Action\n",
      "25        22  Action\n",
      "26        24  Action\n",
      "42        58  Action\n",
      "scifi movies\n",
      "    movie_id            genre\n",
      "2         11  Science Fiction\n",
      "17        18  Science Fiction\n",
      "20        19  Science Fiction\n",
      "38        38  Science Fiction\n",
      "49        62  Science Fiction\n"
     ]
    }
   ],
   "source": [
    "# import additional datasets\n",
    "genres = pd.read_pickle(\"../datasets/movie_to_genres.pkl\")\n",
    "# subset the genres table for action and science fiction\n",
    "action_movies = genres[genres[\"genre\"].str.contains(\"action\", case=False)]\n",
    "scifi_movies = genres[genres[\"genre\"].str.contains(\"science fiction\", case=False)]\n",
    "# print the subsets.\n",
    "print(\"action movies\")\n",
    "print(action_movies.head())\n",
    "print(\"scifi movies\")\n",
    "print(scifi_movies.head())"
   ]
  },
  {
   "cell_type": "code",
   "execution_count": 8,
   "id": "precious-martial",
   "metadata": {},
   "outputs": [
    {
     "name": "stdout",
     "output_type": "stream",
     "text": [
      "      id                         title  popularity release_date  movie_id  \\\n",
      "0  18841  The Lost Skeleton of Cadavra    1.680525   2001-09-12     18841   \n",
      "1  26672     The Thief and the Cobbler    2.439184   1993-09-23     26672   \n",
      "2  15301      Twilight Zone: The Movie   12.902975   1983-06-24     15301   \n",
      "3   8452                   The 6th Day   18.447479   2000-11-17      8452   \n",
      "4   1649    Bill & Ted's Bogus Journey   11.349664   1991-07-19      1649   \n",
      "\n",
      "  genre_act        genre_sci  \n",
      "0       NaN  Science Fiction  \n",
      "1       NaN  Science Fiction  \n",
      "2       NaN  Science Fiction  \n",
      "3       NaN  Science Fiction  \n",
      "4       NaN  Science Fiction  \n",
      "(258, 7)\n"
     ]
    }
   ],
   "source": [
    "# Merge action_movies to the scifi_movies with right join\n",
    "action_scifi = action_movies.merge(scifi_movies, on='movie_id', how='right',\n",
    "                                   suffixes=('_act','_sci'))\n",
    "\n",
    "# From action_scifi, select only the rows where the genre_act column is null\n",
    "scifi_only = action_scifi[action_scifi['genre_act'].isnull()]\n",
    "\n",
    "# Merge the movies and scifi_only tables with an inner join\n",
    "movies_and_scifi_only = movies.merge(scifi_only, left_on=\"id\", right_on=\"movie_id\", how=\"inner\")\n",
    "\n",
    "# Print the first few rows and shape of movies_and_scifi_only\n",
    "print(movies_and_scifi_only.head())\n",
    "print(movies_and_scifi_only.shape)"
   ]
  },
  {
   "cell_type": "markdown",
   "id": "square-cornell",
   "metadata": {},
   "source": [
    "### Popular genres with right join"
   ]
  },
  {
   "cell_type": "code",
   "execution_count": 9,
   "id": "objective-congo",
   "metadata": {},
   "outputs": [
    {
     "name": "stdout",
     "output_type": "stream",
     "text": [
      "movie to genres\n",
      "   movie_id            genre\n",
      "0         5            Crime\n",
      "1         5           Comedy\n",
      "2        11  Science Fiction\n",
      "3        11           Action\n",
      "4        11        Adventure\n",
      "pop movies\n",
      "          id                    title  popularity release_date\n",
      "4546  211672                  Minions  875.581305   2015-06-17\n",
      "4343  157336             Interstellar  724.247784   2014-11-05\n",
      "1966  293660                 Deadpool  514.569956   2016-02-09\n",
      "2423  118340  Guardians of the Galaxy  481.098624   2014-07-30\n",
      "4220   76341       Mad Max: Fury Road  434.278564   2015-05-13\n"
     ]
    }
   ],
   "source": [
    "# import data.\n",
    "movie_to_genres = pd.read_pickle(\"../datasets/movie_to_genres.pkl\")\n",
    "# subset movies by top 10 most popular.\n",
    "pop_movies = movies.sort_values('popularity', ascending=False).head(10)\n",
    "\n",
    "# display the top few records of the new table.\n",
    "print(\"movie to genres\")\n",
    "print(movie_to_genres.head())\n",
    "print(\"pop movies\")\n",
    "print(pop_movies.head())"
   ]
  },
  {
   "cell_type": "code",
   "execution_count": 10,
   "id": "accepted-jenny",
   "metadata": {},
   "outputs": [
    {
     "data": {
      "image/png": "[encoded data removed]",
      "text/plain": [
       "<Figure size 432x288 with 1 Axes>"
      ]
     },
     "metadata": {
      "needs_background": "light"
     },
     "output_type": "display_data"
    }
   ],
   "source": [
    "# Use right join to merge the movie_to_genres and pop_movies tables\n",
    "genres_movies = movie_to_genres.merge(pop_movies, how='right', \n",
    "                                      left_on=\"movie_id\", \n",
    "                                      right_on=\"id\")\n",
    "\n",
    "# Count the number of genres\n",
    "genre_count = genres_movies.groupby('genre').agg({'id':'count'})\n",
    "\n",
    "# Plot a bar chart of the genre_count\n",
    "genre_count.plot(kind='bar')\n",
    "plt.show()"
   ]
  },
  {
   "cell_type": "markdown",
   "id": "neural-liabilities",
   "metadata": {},
   "source": [
    "### Using outer join to select actors"
   ]
  },
  {
   "cell_type": "markdown",
   "id": "statewide-charles",
   "metadata": {},
   "source": [
    "In a *outer join* retrieves mathing records from the left table (A), and records from the right table (B) that do NOT match eachother.\n",
    "\n",
    "![outer join venn diagram](../images/no-join.png)"
   ]
  },
  {
   "cell_type": "code",
   "execution_count": 22,
   "id": "accepted-evolution",
   "metadata": {},
   "outputs": [],
   "source": [
    "# import data\n",
    "iron_1_actors = pd.read_csv(\"../datasets/iron_1_actors.csv\").astype(object)\n",
    "iron_2_actors = pd.read_csv(\"../datasets/iron_2_actors.csv\").astype(object)"
   ]
  },
  {
   "cell_type": "code",
   "execution_count": 23,
   "id": "satellite-master",
   "metadata": {},
   "outputs": [
    {
     "name": "stdout",
     "output_type": "stream",
     "text": [
      "                   character_1        id           name_1 character_2 name_2\n",
      "0                       Yinsen   17857.0       Shaun Toub         NaN    NaN\n",
      "2  Obadiah Stane / Iron Monger    1229.0     Jeff Bridges         NaN    NaN\n",
      "3                  War Machine   18288.0  Terrence Howard         NaN    NaN\n",
      "5                         Raza   57452.0      Faran Tahir         NaN    NaN\n",
      "8                   Abu Bakaar  173810.0    Sayed Badreya         NaN    NaN\n"
     ]
    }
   ],
   "source": [
    "# Merge iron_1_actors to iron_2_actors on id with outer join using suffixes\n",
    "iron_1_and_2 = iron_1_actors.merge(iron_2_actors,\n",
    "                                     on=\"id\",\n",
    "                                     how=\"outer\",\n",
    "                                     suffixes=(\"_1\", \"_2\"))\n",
    "\n",
    "# Create an index that returns true if name_1 or name_2 are null\n",
    "m = ((iron_1_and_2['name_1'].isnull()) | \n",
    "     (iron_1_and_2['name_2'].isnull()))\n",
    "\n",
    "# Print the first few rows of iron_1_and_2\n",
    "print(iron_1_and_2[m].head())"
   ]
  },
  {
   "cell_type": "markdown",
   "id": "lyric-formula",
   "metadata": {},
   "source": [
    "# Self Join"
   ]
  },
  {
   "cell_type": "code",
   "execution_count": 27,
   "id": "intensive-shipping",
   "metadata": {},
   "outputs": [
    {
     "name": "stdout",
     "output_type": "stream",
     "text": [
      "      id  department             job               name\n",
      "0  19995     Editing          Editor  Stephen E. Rivkin\n",
      "2  19995       Sound  Sound Designer  Christopher Boyes\n",
      "4  19995  Production         Casting          Mali Finn\n",
      "6  19995   Directing        Director      James Cameron\n",
      "7  19995     Writing          Writer      James Cameron\n"
     ]
    }
   ],
   "source": [
    "# Import Data\n",
    "crews = pd.read_pickle(\"../datasets/crews.pkl\")\n",
    "# print the top fiew rows of the table.\n",
    "print(crews.head())"
   ]
  },
  {
   "cell_type": "code",
   "execution_count": 28,
   "id": "endangered-costume",
   "metadata": {},
   "outputs": [
    {
     "name": "stdout",
     "output_type": "stream",
     "text": [
      "        id department_dir   job_dir       name_dir department_crew  \\\n",
      "156  19995      Directing  Director  James Cameron         Editing   \n",
      "157  19995      Directing  Director  James Cameron           Sound   \n",
      "158  19995      Directing  Director  James Cameron      Production   \n",
      "160  19995      Directing  Director  James Cameron         Writing   \n",
      "161  19995      Directing  Director  James Cameron             Art   \n",
      "\n",
      "           job_crew          name_crew  \n",
      "156          Editor  Stephen E. Rivkin  \n",
      "157  Sound Designer  Christopher Boyes  \n",
      "158         Casting          Mali Finn  \n",
      "160          Writer      James Cameron  \n",
      "161    Set Designer    Richard F. Mays  \n"
     ]
    }
   ],
   "source": [
    "# Merge the crews table to itself\n",
    "crews_self_merged = crews.merge(crews, on='id', how='inner',\n",
    "                                suffixes=('_dir','_crew'))\n",
    "\n",
    "# Create a boolean index to select the appropriate rows\n",
    "boolean_filter = ((crews_self_merged['job_dir'] == 'Director') & \n",
    "                  (crews_self_merged['job_crew'] != 'Director'))\n",
    "direct_crews = crews_self_merged[boolean_filter]\n",
    "\n",
    "# Print the first few rows of direct_crews\n",
    "print(direct_crews.head())"
   ]
  },
  {
   "cell_type": "markdown",
   "id": "joined-extent",
   "metadata": {},
   "source": [
    "# Merging on Indexes"
   ]
  },
  {
   "cell_type": "markdown",
   "id": "opened-validity",
   "metadata": {},
   "source": [
    "### Index merge for movie ratings."
   ]
  },
  {
   "cell_type": "code",
   "execution_count": 31,
   "id": "sized-incidence",
   "metadata": {},
   "outputs": [],
   "source": [
    "# Import datasets.\n",
    "moves = pd.read_pickle(\"../datasets/movies.pkl\")\n",
    "ratings = pd.read_pickle(\"../datasets/ratings.pkl\")"
   ]
  },
  {
   "cell_type": "code",
   "execution_count": 32,
   "id": "smaller-cycling",
   "metadata": {},
   "outputs": [
    {
     "name": "stdout",
     "output_type": "stream",
     "text": [
      "      id                 title  popularity release_date  vote_average  \\\n",
      "0    257          Oliver Twist   20.415572   2005-09-23           6.7   \n",
      "1  14290  Better Luck Tomorrow    3.877036   2002-01-12           6.5   \n",
      "2  38365             Grown Ups   38.864027   2010-06-24           6.0   \n",
      "3   9672              Infamous    3.680896   2006-11-16           6.4   \n",
      "4  12819       Alpha and Omega   12.300789   2010-09-17           5.3   \n",
      "\n",
      "   vote_count  \n",
      "0       274.0  \n",
      "1        27.0  \n",
      "2      1705.0  \n",
      "3        60.0  \n",
      "4       124.0  \n"
     ]
    }
   ],
   "source": [
    "# Merge to the movies table the ratings table on the index\n",
    "movies_ratings = movies.merge(ratings, on=\"id\", how=\"left\")\n",
    "\n",
    "# Print the first few rows of movies_ratings\n",
    "print(movies_ratings.head())"
   ]
  },
  {
   "cell_type": "markdown",
   "id": "conditional-technology",
   "metadata": {},
   "source": [
    "### Do sequels earn more?"
   ]
  },
  {
   "cell_type": "code",
   "execution_count": 37,
   "id": "oriental-completion",
   "metadata": {},
   "outputs": [],
   "source": [
    "# import datasets\n",
    "sequels = pd.read_pickle(\"../datasets/sequels.pkl\").astype(object)\n",
    "financials = pd.read_pickle(\"../datasets/financials.pkl\").astype(object)"
   ]
  },
  {
   "cell_type": "code",
   "execution_count": 38,
   "id": "general-placement",
   "metadata": {},
   "outputs": [
    {
     "name": "stdout",
     "output_type": "stream",
     "text": [
      "                                 title_org                 title_seq  \\\n",
      "2929                        Before Sunrise  The Amazing Spider-Man 2   \n",
      "1256   Star Trek III: The Search for Spock                The Matrix   \n",
      "293   Indiana Jones and the Temple of Doom              Man of Steel   \n",
      "1084                                   Saw          Superman Returns   \n",
      "1334                        The Terminator          Star Trek Beyond   \n",
      "\n",
      "             diff  \n",
      "2929  700182027.0  \n",
      "1256  376517383.0  \n",
      "293   329845518.0  \n",
      "1084  287169523.0  \n",
      "1334  265100616.0  \n"
     ]
    }
   ],
   "source": [
    "# Merge sequels and financials on index id\n",
    "sequels_fin = sequels.merge(financials, on='id', how='left')\n",
    "\n",
    "# Self merge with suffixes as inner join with left on sequel and right on id\n",
    "orig_seq = sequels_fin.merge(sequels_fin, how='inner', left_on='sequel', \n",
    "                             right_on='id', right_index=True,\n",
    "                             suffixes=('_org','_seq'))\n",
    "\n",
    "# Add calculation to subtract revenue_org from revenue_seq \n",
    "orig_seq['diff'] = orig_seq['revenue_seq'] - orig_seq['revenue_org']\n",
    "\n",
    "# Select the title_org, title_seq, and diff \n",
    "titles_diff = orig_seq[['title_org','title_seq','diff']]\n",
    "\n",
    "# Print the first rows of the sorted titles_diff\n",
    "print(titles_diff.sort_values(\"diff\", ascending=False).head())"
   ]
  },
  {
   "cell_type": "code",
   "execution_count": null,
   "id": "funny-discretion",
   "metadata": {},
   "outputs": [],
   "source": []
  }
 ],
 "metadata": {
  "kernelspec": {
   "display_name": "Python 3",
   "language": "python",
   "name": "python3"
  },
  "language_info": {
   "codemirror_mode": {
    "name": "ipython",
    "version": 3
   },
   "file_extension": ".py",
   "mimetype": "text/x-python",
   "name": "python",
   "nbconvert_exporter": "python",
   "pygments_lexer": "ipython3",
   "version": "3.9.0"
  }
 },
 "nbformat": 4,
 "nbformat_minor": 5
}
