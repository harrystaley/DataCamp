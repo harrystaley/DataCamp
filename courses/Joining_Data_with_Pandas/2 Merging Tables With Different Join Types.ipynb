{
 "cells": [
  {
   "cell_type": "markdown",
   "id": "sensitive-modem",
   "metadata": {},
   "source": [
    "# Left Join"
   ]
  },
  {
   "cell_type": "markdown",
   "id": "threatened-theta",
   "metadata": {},
   "source": [
    "In a *left join* retrieves all records from the left table (A), and the matching records from the right table (B).\n",
    "![left join venn diagram](../images/left-join.png)"
   ]
  },
  {
   "cell_type": "code",
   "execution_count": 1,
   "id": "boolean-flexibility",
   "metadata": {},
   "outputs": [],
   "source": [
    "# Import packages.\n",
    "import pandas as pd"
   ]
  },
  {
   "cell_type": "markdown",
   "id": "split-abortion",
   "metadata": {},
   "source": [
    "### Counting missing rows with left join"
   ]
  },
  {
   "cell_type": "code",
   "execution_count": 5,
   "id": "offshore-bermuda",
   "metadata": {},
   "outputs": [
    {
     "name": "stdout",
     "output_type": "stream",
     "text": [
      "      id                 title  popularity release_date\n",
      "0    257          Oliver Twist   20.415572   2005-09-23\n",
      "1  14290  Better Luck Tomorrow    3.877036   2002-01-12\n",
      "2  38365             Grown Ups   38.864027   2010-06-24\n",
      "3   9672              Infamous    3.680896   2006-11-16\n",
      "4  12819       Alpha and Omega   12.300789   2010-09-17\n",
      "       id     budget       revenue\n",
      "0   19995  237000000  2.787965e+09\n",
      "1     285  300000000  9.610000e+08\n",
      "2  206647  245000000  8.806746e+08\n",
      "3   49026  250000000  1.084939e+09\n",
      "4   49529  260000000  2.841391e+08\n"
     ]
    }
   ],
   "source": [
    "# Import datasets\n",
    "movies = pd.read_pickle(\"../datasets/movies.pkl\")\n",
    "financials = pd.read_pickle(\"../datasets/financials.pkl\")\n",
    "# Print the first fiew roews of each dataset.\n",
    "print(movies.head())\n",
    "print(financials.head())"
   ]
  },
  {
   "cell_type": "code",
   "execution_count": 6,
   "id": "funky-controversy",
   "metadata": {},
   "outputs": [
    {
     "name": "stdout",
     "output_type": "stream",
     "text": [
      "1574\n"
     ]
    }
   ],
   "source": [
    "# Merge the movies table with the financials table with a left join\n",
    "movies_financials = movies.merge(financials, on='id', how='left')\n",
    "\n",
    "# Count the number of rows in the budget column that are missing\n",
    "number_of_missing_fin = movies_financials['budget'].isnull().sum()\n",
    "\n",
    "# Print the number of movies missing financials\n",
    "print(number_of_missing_fin)"
   ]
  },
  {
   "cell_type": "markdown",
   "id": "brutal-brisbane",
   "metadata": {},
   "source": [
    "### Enriching a dataset"
   ]
  },
  {
   "cell_type": "code",
   "execution_count": 10,
   "id": "architectural-hours",
   "metadata": {},
   "outputs": [
    {
     "name": "stdout",
     "output_type": "stream",
     "text": [
      "         id        title  popularity release_date\n",
      "103   10193  Toy Story 3   59.995418   2010-06-16\n",
      "2637    863  Toy Story 2   73.575118   1999-10-30\n",
      "3716    862    Toy Story   73.640445   1995-10-30\n",
      "       id                                         tagline\n",
      "0   19995                     Enter the World of Pandora.\n",
      "1     285  At the end of the world, the adventure begins.\n",
      "2  206647                           A Plan No One Escapes\n",
      "3   49026                                 The Legend Ends\n",
      "4   49529            Lost in our world, found in another.\n"
     ]
    }
   ],
   "source": [
    "# subset movies to only select toy story movies and import taglines.\n",
    "toy_story = movies[movies[\"title\"].str.contains(\"toy story\", case=False)]\n",
    "taglines = pd.read_pickle(\"../datasets/taglines.pkl\")\n",
    "# print the first fiew lines of these datasets.\n",
    "print(toy_story.head())\n",
    "print(taglines.head())"
   ]
  },
  {
   "cell_type": "markdown",
   "id": "contemporary-privacy",
   "metadata": {},
   "source": [
    "An *inner join* retrieves records from the left table (A), and the records from the right table (B) that match eachother this is otherwise known as an ntersection.\n",
    "![inner join venn diagram](../images/inner-join.png)"
   ]
  },
  {
   "cell_type": "code",
   "execution_count": 11,
   "id": "bulgarian-yukon",
   "metadata": {},
   "outputs": [
    {
     "name": "stdout",
     "output_type": "stream",
     "text": [
      "      id        title  popularity release_date                   tagline\n",
      "0  10193  Toy Story 3   59.995418   2010-06-16  No toy gets left behind.\n",
      "1    863  Toy Story 2   73.575118   1999-10-30        The toys are back!\n",
      "2    862    Toy Story   73.640445   1995-10-30                       NaN\n",
      "(3, 5)\n"
     ]
    }
   ],
   "source": [
    "# Merge the toy_story and taglines tables with a left join\n",
    "toystory_tag = toy_story.merge(taglines, how=\"left\", on=\"id\")\n",
    "\n",
    "# Print the rows and shape of toystory_tag\n",
    "print(toystory_tag)\n",
    "print(toystory_tag.shape)"
   ]
  },
  {
   "cell_type": "code",
   "execution_count": 12,
   "id": "interested-emergency",
   "metadata": {},
   "outputs": [
    {
     "name": "stdout",
     "output_type": "stream",
     "text": [
      "      id        title  popularity release_date                   tagline\n",
      "0  10193  Toy Story 3   59.995418   2010-06-16  No toy gets left behind.\n",
      "1    863  Toy Story 2   73.575118   1999-10-30        The toys are back!\n",
      "(2, 5)\n"
     ]
    }
   ],
   "source": [
    "# Merge the toy_story and taglines tables with a inner join\n",
    "toystory_tag = toy_story.merge(taglines, how=\"inner\")\n",
    "\n",
    "# Print the rows and shape of toystory_tag\n",
    "print(toystory_tag)\n",
    "print(toystory_tag.shape)"
   ]
  },
  {
   "cell_type": "markdown",
   "id": "representative-leisure",
   "metadata": {},
   "source": [
    "# Other Joins"
   ]
  },
  {
   "cell_type": "markdown",
   "id": "excessive-invitation",
   "metadata": {},
   "source": [
    "### Right join to find unique movies"
   ]
  },
  {
   "cell_type": "markdown",
   "id": "expressed-discovery",
   "metadata": {},
   "source": [
    "In a *right join* retrieves mathing records from the left table (A), and all records from the right table (B).\n",
    "![right join venn diagram](../images/right-join.png)"
   ]
  },
  {
   "cell_type": "code",
   "execution_count": 18,
   "id": "material-series",
   "metadata": {},
   "outputs": [
    {
     "name": "stdout",
     "output_type": "stream",
     "text": [
      "    movie_id   genre\n",
      "3         11  Action\n",
      "14        18  Action\n",
      "25        22  Action\n",
      "26        24  Action\n",
      "42        58  Action\n",
      "    movie_id            genre\n",
      "2         11  Science Fiction\n",
      "17        18  Science Fiction\n",
      "20        19  Science Fiction\n",
      "38        38  Science Fiction\n",
      "49        62  Science Fiction\n"
     ]
    }
   ],
   "source": [
    "# import additional datasets\n",
    "genres = pd.read_pickle(\"../datasets/movie_to_genres.pkl\")\n",
    "# subset the genres table for action and science fiction\n",
    "action_movies = genres[genres[\"genre\"].str.contains(\"action\", case=False)]\n",
    "scifi_movies = genres[genres[\"genre\"].str.contains(\"science fiction\", case=False)]\n",
    "# print the subsets.\n",
    "print(action_movies.head())\n",
    "print(scifi_movies.head())"
   ]
  },
  {
   "cell_type": "code",
   "execution_count": 19,
   "id": "immediate-luxembourg",
   "metadata": {},
   "outputs": [
    {
     "name": "stdout",
     "output_type": "stream",
     "text": [
      "      id                         title  popularity release_date  movie_id  \\\n",
      "0  18841  The Lost Skeleton of Cadavra    1.680525   2001-09-12     18841   \n",
      "1  26672     The Thief and the Cobbler    2.439184   1993-09-23     26672   \n",
      "2  15301      Twilight Zone: The Movie   12.902975   1983-06-24     15301   \n",
      "3   8452                   The 6th Day   18.447479   2000-11-17      8452   \n",
      "4   1649    Bill & Ted's Bogus Journey   11.349664   1991-07-19      1649   \n",
      "\n",
      "  genre_act        genre_sci  \n",
      "0       NaN  Science Fiction  \n",
      "1       NaN  Science Fiction  \n",
      "2       NaN  Science Fiction  \n",
      "3       NaN  Science Fiction  \n",
      "4       NaN  Science Fiction  \n",
      "(258, 7)\n"
     ]
    }
   ],
   "source": [
    "# Merge action_movies to the scifi_movies with right join\n",
    "action_scifi = action_movies.merge(scifi_movies, on='movie_id', how='right',\n",
    "                                   suffixes=('_act','_sci'))\n",
    "\n",
    "# From action_scifi, select only the rows where the genre_act column is null\n",
    "scifi_only = action_scifi[action_scifi['genre_act'].isnull()]\n",
    "\n",
    "# Merge the movies and scifi_only tables with an inner join\n",
    "movies_and_scifi_only = movies.merge(scifi_only, left_on=\"id\", right_on=\"movie_id\", how=\"inner\")\n",
    "\n",
    "# Print the first few rows and shape of movies_and_scifi_only\n",
    "print(movies_and_scifi_only.head())\n",
    "print(movies_and_scifi_only.shape)"
   ]
  },
  {
   "cell_type": "code",
   "execution_count": null,
   "id": "outer-chester",
   "metadata": {},
   "outputs": [],
   "source": []
  }
 ],
 "metadata": {
  "kernelspec": {
   "display_name": "Python 3",
   "language": "python",
   "name": "python3"
  },
  "language_info": {
   "codemirror_mode": {
    "name": "ipython",
    "version": 3
   },
   "file_extension": ".py",
   "mimetype": "text/x-python",
   "name": "python",
   "nbconvert_exporter": "python",
   "pygments_lexer": "ipython3",
   "version": "3.9.0"
  }
 },
 "nbformat": 4,
 "nbformat_minor": 5
}
