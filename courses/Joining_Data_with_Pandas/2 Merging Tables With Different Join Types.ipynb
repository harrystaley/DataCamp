{
 "cells": [
  {
   "cell_type": "markdown",
   "id": "according-indiana",
   "metadata": {},
   "source": [
    "# Left Join"
   ]
  },
  {
   "cell_type": "markdown",
   "id": "painted-segment",
   "metadata": {},
   "source": [
    "### Counting missing rows with left join"
   ]
  },
  {
   "cell_type": "code",
   "execution_count": null,
   "id": "hollywood-alberta",
   "metadata": {},
   "outputs": [],
   "source": []
  }
 ],
 "metadata": {
  "kernelspec": {
   "display_name": "Python 3",
   "language": "python",
   "name": "python3"
  },
  "language_info": {
   "codemirror_mode": {
    "name": "ipython",
    "version": 3
   },
   "file_extension": ".py",
   "mimetype": "text/x-python",
   "name": "python",
   "nbconvert_exporter": "python",
   "pygments_lexer": "ipython3",
   "version": "3.9.0"
  }
 },
 "nbformat": 4,
 "nbformat_minor": 5
}
