{
 "cells": [
  {
   "cell_type": "markdown",
   "id": "democratic-observation",
   "metadata": {},
   "source": [
    "# Using merge_ordered()"
   ]
  },
  {
   "cell_type": "markdown",
   "id": "aggregate-warehouse",
   "metadata": {},
   "source": [
    "### Correlation between GDP and S&P500"
   ]
  },
  {
   "cell_type": "code",
   "execution_count": 3,
   "id": "earned-hollow",
   "metadata": {},
   "outputs": [],
   "source": [
    "# Import pandas with alias pd\n",
    "import pandas as pd\n",
    "# Import nympy with alias np\n",
    "import numpy as np\n",
    "# Import matplotlib.pyplot with alias plt\n",
    "import matplotlib.pyplot as plt"
   ]
  },
  {
   "cell_type": "markdown",
   "id": "expressed-museum",
   "metadata": {},
   "source": [
    "In order to get some datasets I needed to export them by convertind the dataframe to a csv and then outputting the contents of the file to the terminal such as the example below.\n",
    "```Python\n",
    "# output the contents of the dataframe to CSV wile also removing the index for pushing it to a dataframe.\n",
    "wards_altered.to_csv(\"wards_altered.csv\", index=False)\n",
    "\n",
    "# open the file and read the contents of the file to the terminal.\n",
    "with open(\"wards_altered.csv\", \"r\") as f:\n",
    "    print(f.read())\n",
    "```"
   ]
  },
  {
   "cell_type": "markdown",
   "id": "amino-bidding",
   "metadata": {},
   "source": [
    "### Correlation between GDP and S&P500"
   ]
  },
  {
   "cell_type": "code",
   "execution_count": 7,
   "id": "crucial-louisiana",
   "metadata": {},
   "outputs": [
    {
     "name": "stdout",
     "output_type": "stream",
     "text": [
      "gdp\n",
      "    Country Name Country Code     Indicator Name  Year           GDP\n",
      "0          China          CHN  GDP (current US$)  2010  6.087160e+12\n",
      "1        Germany          DEU  GDP (current US$)  2010  3.417090e+12\n",
      "2          Japan          JPN  GDP (current US$)  2010  5.700100e+12\n",
      "3  United States          USA  GDP (current US$)  2010  1.499210e+13\n",
      "4          China          CHN  GDP (current US$)  2011  7.551500e+12\n",
      "sp500\n",
      "   Date  Returns\n",
      "0  2008   -38.49\n",
      "1  2009    23.45\n",
      "2  2010    12.78\n",
      "3  2011     0.00\n",
      "4  2012    13.41\n"
     ]
    }
   ],
   "source": [
    "# import data\n",
    "gdp = pd.read_csv(\"../datasets/WorldBank_GDP.csv\")\n",
    "sp500 = pd.read_csv(\"../datasets/s&P500.csv\")\n",
    "# get the first few rows of eacg set.\n",
    "print(\"gdp\")\n",
    "print(gdp.head())\n",
    "print(\"sp500\")\n",
    "print(sp500.head())"
   ]
  },
  {
   "cell_type": "code",
   "execution_count": 12,
   "id": "surprising-bubble",
   "metadata": {},
   "outputs": [
    {
     "name": "stdout",
     "output_type": "stream",
     "text": [
      "              GDP   Returns\n",
      "GDP      1.000000  0.040669\n",
      "Returns  0.040669  1.000000\n"
     ]
    }
   ],
   "source": [
    "# Use merge_ordered() to merge gdp and sp500, interpolate missing value using fill method.\n",
    "gdp_sp500 = pd.merge_ordered(gdp, sp500, left_on='Year', right_on='Date', \n",
    "                             how='left',  fill_method='ffill')\n",
    "\n",
    "# Subset the gdp and returns columns\n",
    "gdp_returns = gdp_sp500[[\"GDP\", \"Returns\"]]\n",
    "\n",
    "# Print gdp_returns correlation\n",
    "print (gdp_returns.corr())"
   ]
  },
  {
   "cell_type": "markdown",
   "id": "narrative-portfolio",
   "metadata": {},
   "source": [
    "### Phillips curve using merge_ordered()"
   ]
  },
  {
   "cell_type": "code",
   "execution_count": 13,
   "id": "whole-disease",
   "metadata": {},
   "outputs": [
    {
     "ename": "NameError",
     "evalue": "name 'inflation' is not defined",
     "output_type": "error",
     "traceback": [
      "\u001b[0;31m---------------------------------------------------------------------------\u001b[0m",
      "\u001b[0;31mNameError\u001b[0m                                 Traceback (most recent call last)",
      "\u001b[0;32m<ipython-input-13-d424e874d9c2>\u001b[0m in \u001b[0;36m<module>\u001b[0;34m\u001b[0m\n\u001b[1;32m      1\u001b[0m \u001b[0;31m# Use merge_ordered() to merge inflation, unemployment with inner join\u001b[0m\u001b[0;34m\u001b[0m\u001b[0;34m\u001b[0m\u001b[0m\n\u001b[0;32m----> 2\u001b[0;31m \u001b[0minflation_unemploy\u001b[0m \u001b[0;34m=\u001b[0m \u001b[0mpd\u001b[0m\u001b[0;34m.\u001b[0m\u001b[0mmerge_ordered\u001b[0m\u001b[0;34m(\u001b[0m\u001b[0minflation\u001b[0m\u001b[0;34m,\u001b[0m \u001b[0munemployment\u001b[0m\u001b[0;34m,\u001b[0m \u001b[0mon\u001b[0m\u001b[0;34m=\u001b[0m\u001b[0;34m\"date\"\u001b[0m\u001b[0;34m,\u001b[0m \u001b[0mhow\u001b[0m\u001b[0;34m=\u001b[0m\u001b[0;34m\"inner\"\u001b[0m\u001b[0;34m)\u001b[0m\u001b[0;34m\u001b[0m\u001b[0;34m\u001b[0m\u001b[0m\n\u001b[0m\u001b[1;32m      3\u001b[0m \u001b[0;34m\u001b[0m\u001b[0m\n\u001b[1;32m      4\u001b[0m \u001b[0;31m# Print inflation_unemploy\u001b[0m\u001b[0;34m\u001b[0m\u001b[0;34m\u001b[0m\u001b[0m\n\u001b[1;32m      5\u001b[0m \u001b[0mprint\u001b[0m\u001b[0;34m(\u001b[0m\u001b[0minflation_unemploy\u001b[0m\u001b[0;34m)\u001b[0m\u001b[0;34m\u001b[0m\u001b[0;34m\u001b[0m\u001b[0m\n",
      "\u001b[0;31mNameError\u001b[0m: name 'inflation' is not defined"
     ]
    }
   ],
   "source": [
    "# Use merge_ordered() to merge inflation, unemployment with inner join\n",
    "inflation_unemploy = pd.merge_ordered(inflation, unemployment, on=\"date\", how=\"inner\")\n",
    "\n",
    "# Print inflation_unemploy \n",
    "print(inflation_unemploy)\n",
    "\n",
    "# Plot a scatter plot of unemployment_rate vs cpi of inflation_unemploy\n",
    "inflation_unemploy.plot(x=\"unemployment_rate\", y=\"cpi\", kind=\"scatter\")\n",
    "plt.show()"
   ]
  },
  {
   "cell_type": "markdown",
   "id": "lesser-round",
   "metadata": {},
   "source": [
    "### merge_ordered() caution, multiple columns"
   ]
  },
  {
   "cell_type": "code",
   "execution_count": 18,
   "id": "systematic-graduation",
   "metadata": {},
   "outputs": [
    {
     "name": "stdout",
     "output_type": "stream",
     "text": [
      "pop\n",
      "  Country Name Country Code     Indicator Name  Year         Pop\n",
      "0        Aruba          ABW  Population, total  2010    101669.0\n",
      "1  Afghanistan          AFG  Population, total  2010  29185507.0\n",
      "2       Angola          AGO  Population, total  2010  23356246.0\n",
      "3      Albania          ALB  Population, total  2010   2913021.0\n",
      "4      Andorra          AND  Population, total  2010     84449.0\n",
      "gdp\n",
      "    Country Name Country Code     Indicator Name  Year           GDP\n",
      "0          China          CHN  GDP (current US$)  2010  6.087160e+12\n",
      "1        Germany          DEU  GDP (current US$)  2010  3.417090e+12\n",
      "2          Japan          JPN  GDP (current US$)  2010  5.700100e+12\n",
      "3  United States          USA  GDP (current US$)  2010  1.499210e+13\n",
      "4          China          CHN  GDP (current US$)  2011  7.551500e+12\n"
     ]
    }
   ],
   "source": [
    "# Import Data\n",
    "pop = pd.read_csv(\"../datasets/WorldBank_POP.csv\")\n",
    "print(\"pop\")\n",
    "print(pop.head())\n",
    "print(\"gdp\")\n",
    "print(gdp.head())"
   ]
  },
  {
   "cell_type": "code",
   "execution_count": 21,
   "id": "resident-carroll",
   "metadata": {},
   "outputs": [
    {
     "name": "stdout",
     "output_type": "stream",
     "text": [
      "     Country Name_x Country Code   Indicator Name_x  Year           GDP  \\\n",
      "0               NaN          ABW                NaN  2010           NaN   \n",
      "1               NaN          ABW                NaN  2011           NaN   \n",
      "2               NaN          ABW                NaN  2012           NaN   \n",
      "3               NaN          ABW                NaN  2012           NaN   \n",
      "4               NaN          ABW                NaN  2013           NaN   \n",
      "...             ...          ...                ...   ...           ...   \n",
      "2643  United States          ZWE  GDP (current US$)  2014  2.049410e+13   \n",
      "2644  United States          ZWE  GDP (current US$)  2015  2.049410e+13   \n",
      "2645  United States          ZWE  GDP (current US$)  2016  2.049410e+13   \n",
      "2646  United States          ZWE  GDP (current US$)  2017  2.049410e+13   \n",
      "2647  United States          ZWE  GDP (current US$)  2018  2.049410e+13   \n",
      "\n",
      "     Country Name_y   Indicator Name_y         Pop  \n",
      "0             Aruba  Population, total    101669.0  \n",
      "1             Aruba  Population, total    102046.0  \n",
      "2             Aruba  Population, total    102560.0  \n",
      "3             Aruba  Population, total    102560.0  \n",
      "4             Aruba  Population, total    103159.0  \n",
      "...             ...                ...         ...  \n",
      "2643       Zimbabwe  Population, total  13586681.0  \n",
      "2644       Zimbabwe  Population, total  13814629.0  \n",
      "2645       Zimbabwe  Population, total  14030390.0  \n",
      "2646       Zimbabwe  Population, total  14236745.0  \n",
      "2647       Zimbabwe  Population, total  14439018.0  \n",
      "\n",
      "[2648 rows x 8 columns]\n"
     ]
    }
   ],
   "source": [
    "# Merge gdp and pop on country and date with fill\n",
    "date_ctry = pd.merge_ordered(gdp, pop, on=[\"Country Code\", \"Year\"], fill_method=\"ffill\")\n",
    "\n",
    "# Print date_ctry\n",
    "print(date_ctry)"
   ]
  },
  {
   "cell_type": "markdown",
   "id": "polished-latin",
   "metadata": {},
   "source": [
    "# Using merge_asof()"
   ]
  },
  {
   "cell_type": "markdown",
   "id": "organizational-corpus",
   "metadata": {},
   "source": [
    "### Using merge_asof() to study stocks"
   ]
  },
  {
   "cell_type": "code",
   "execution_count": null,
   "id": "worthy-appeal",
   "metadata": {},
   "outputs": [],
   "source": []
  }
 ],
 "metadata": {
  "kernelspec": {
   "display_name": "Python 3",
   "language": "python",
   "name": "python3"
  },
  "language_info": {
   "codemirror_mode": {
    "name": "ipython",
    "version": 3
   },
   "file_extension": ".py",
   "mimetype": "text/x-python",
   "name": "python",
   "nbconvert_exporter": "python",
   "pygments_lexer": "ipython3",
   "version": "3.9.10"
  }
 },
 "nbformat": 4,
 "nbformat_minor": 5
}
