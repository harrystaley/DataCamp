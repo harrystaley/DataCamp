{
 "cells": [
  {
   "cell_type": "markdown",
   "id": "greater-seeking",
   "metadata": {},
   "source": [
    "# Using merge_ordered()"
   ]
  },
  {
   "cell_type": "markdown",
   "id": "thousand-generator",
   "metadata": {},
   "source": [
    "### Correlation between GDP and S&P500"
   ]
  },
  {
   "cell_type": "code",
   "execution_count": 37,
   "id": "genetic-graduate",
   "metadata": {},
   "outputs": [],
   "source": [
    "# Import pandas with alias pd\n",
    "import pandas as pd\n",
    "# Import nympy with alias np\n",
    "import numpy as np\n",
    "# Import matplotlib.pyplot with alias plt\n",
    "import matplotlib.pyplot as plt"
   ]
  },
  {
   "cell_type": "markdown",
   "id": "literary-morris",
   "metadata": {},
   "source": [
    "In order to get some datasets I needed to export them by convertind the dataframe to a csv and then outputting the contents of the file to the terminal such as the example below.\n",
    "```Python\n",
    "# output the contents of the dataframe to CSV wile also removing the index for pushing it to a dataframe.\n",
    "wards_altered.to_csv(\"wards_altered.csv\", index=False)\n",
    "\n",
    "# open the file and read the contents of the file to the terminal.\n",
    "with open(\"wards_altered.csv\", \"r\") as f:\n",
    "    print(f.read())\n",
    "```"
   ]
  },
  {
   "cell_type": "markdown",
   "id": "biblical-apache",
   "metadata": {},
   "source": [
    "### Correlation between GDP and S&P500"
   ]
  },
  {
   "cell_type": "code",
   "execution_count": 7,
   "id": "exempt-headquarters",
   "metadata": {},
   "outputs": [
    {
     "name": "stdout",
     "output_type": "stream",
     "text": [
      "gdp\n",
      "    Country Name Country Code     Indicator Name  Year           GDP\n",
      "0          China          CHN  GDP (current US$)  2010  6.087160e+12\n",
      "1        Germany          DEU  GDP (current US$)  2010  3.417090e+12\n",
      "2          Japan          JPN  GDP (current US$)  2010  5.700100e+12\n",
      "3  United States          USA  GDP (current US$)  2010  1.499210e+13\n",
      "4          China          CHN  GDP (current US$)  2011  7.551500e+12\n",
      "sp500\n",
      "   Date  Returns\n",
      "0  2008   -38.49\n",
      "1  2009    23.45\n",
      "2  2010    12.78\n",
      "3  2011     0.00\n",
      "4  2012    13.41\n"
     ]
    }
   ],
   "source": [
    "# import data\n",
    "gdp = pd.read_csv(\"../datasets/WorldBank_GDP.csv\")\n",
    "sp500 = pd.read_csv(\"../datasets/s&P500.csv\")\n",
    "# get the first few rows of eacg set.\n",
    "print(\"gdp\")\n",
    "print(gdp.head())\n",
    "print(\"sp500\")\n",
    "print(sp500.head())"
   ]
  },
  {
   "cell_type": "code",
   "execution_count": 12,
   "id": "hearing-struggle",
   "metadata": {},
   "outputs": [
    {
     "name": "stdout",
     "output_type": "stream",
     "text": [
      "              GDP   Returns\n",
      "GDP      1.000000  0.040669\n",
      "Returns  0.040669  1.000000\n"
     ]
    }
   ],
   "source": [
    "# Use merge_ordered() to merge gdp and sp500, interpolate missing value using fill method.\n",
    "gdp_sp500 = pd.merge_ordered(gdp, sp500, left_on='Year', right_on='Date', \n",
    "                             how='left',  fill_method='ffill')\n",
    "\n",
    "# Subset the gdp and returns columns\n",
    "gdp_returns = gdp_sp500[[\"GDP\", \"Returns\"]]\n",
    "\n",
    "# Print gdp_returns correlation\n",
    "print (gdp_returns.corr())"
   ]
  },
  {
   "cell_type": "markdown",
   "id": "legendary-location",
   "metadata": {},
   "source": [
    "### Phillips curve using merge_ordered()"
   ]
  },
  {
   "cell_type": "code",
   "execution_count": 13,
   "id": "therapeutic-spell",
   "metadata": {},
   "outputs": [
    {
     "ename": "NameError",
     "evalue": "name 'inflation' is not defined",
     "output_type": "error",
     "traceback": [
      "\u001b[0;31m---------------------------------------------------------------------------\u001b[0m",
      "\u001b[0;31mNameError\u001b[0m                                 Traceback (most recent call last)",
      "\u001b[0;32m<ipython-input-13-d424e874d9c2>\u001b[0m in \u001b[0;36m<module>\u001b[0;34m\u001b[0m\n\u001b[1;32m      1\u001b[0m \u001b[0;31m# Use merge_ordered() to merge inflation, unemployment with inner join\u001b[0m\u001b[0;34m\u001b[0m\u001b[0;34m\u001b[0m\u001b[0m\n\u001b[0;32m----> 2\u001b[0;31m \u001b[0minflation_unemploy\u001b[0m \u001b[0;34m=\u001b[0m \u001b[0mpd\u001b[0m\u001b[0;34m.\u001b[0m\u001b[0mmerge_ordered\u001b[0m\u001b[0;34m(\u001b[0m\u001b[0minflation\u001b[0m\u001b[0;34m,\u001b[0m \u001b[0munemployment\u001b[0m\u001b[0;34m,\u001b[0m \u001b[0mon\u001b[0m\u001b[0;34m=\u001b[0m\u001b[0;34m\"date\"\u001b[0m\u001b[0;34m,\u001b[0m \u001b[0mhow\u001b[0m\u001b[0;34m=\u001b[0m\u001b[0;34m\"inner\"\u001b[0m\u001b[0;34m)\u001b[0m\u001b[0;34m\u001b[0m\u001b[0;34m\u001b[0m\u001b[0m\n\u001b[0m\u001b[1;32m      3\u001b[0m \u001b[0;34m\u001b[0m\u001b[0m\n\u001b[1;32m      4\u001b[0m \u001b[0;31m# Print inflation_unemploy\u001b[0m\u001b[0;34m\u001b[0m\u001b[0;34m\u001b[0m\u001b[0m\n\u001b[1;32m      5\u001b[0m \u001b[0mprint\u001b[0m\u001b[0;34m(\u001b[0m\u001b[0minflation_unemploy\u001b[0m\u001b[0;34m)\u001b[0m\u001b[0;34m\u001b[0m\u001b[0;34m\u001b[0m\u001b[0m\n",
      "\u001b[0;31mNameError\u001b[0m: name 'inflation' is not defined"
     ]
    }
   ],
   "source": [
    "# Use merge_ordered() to merge inflation, unemployment with inner join\n",
    "inflation_unemploy = pd.merge_ordered(inflation, unemployment, on=\"date\", how=\"inner\")\n",
    "\n",
    "# Print inflation_unemploy \n",
    "print(inflation_unemploy)\n",
    "\n",
    "# Plot a scatter plot of unemployment_rate vs cpi of inflation_unemploy\n",
    "inflation_unemploy.plot(x=\"unemployment_rate\", y=\"cpi\", kind=\"scatter\")\n",
    "plt.show()"
   ]
  },
  {
   "cell_type": "markdown",
   "id": "popular-exemption",
   "metadata": {},
   "source": [
    "### merge_ordered() caution, multiple columns"
   ]
  },
  {
   "cell_type": "code",
   "execution_count": 18,
   "id": "sublime-sleep",
   "metadata": {},
   "outputs": [
    {
     "name": "stdout",
     "output_type": "stream",
     "text": [
      "pop\n",
      "  Country Name Country Code     Indicator Name  Year         Pop\n",
      "0        Aruba          ABW  Population, total  2010    101669.0\n",
      "1  Afghanistan          AFG  Population, total  2010  29185507.0\n",
      "2       Angola          AGO  Population, total  2010  23356246.0\n",
      "3      Albania          ALB  Population, total  2010   2913021.0\n",
      "4      Andorra          AND  Population, total  2010     84449.0\n",
      "gdp\n",
      "    Country Name Country Code     Indicator Name  Year           GDP\n",
      "0          China          CHN  GDP (current US$)  2010  6.087160e+12\n",
      "1        Germany          DEU  GDP (current US$)  2010  3.417090e+12\n",
      "2          Japan          JPN  GDP (current US$)  2010  5.700100e+12\n",
      "3  United States          USA  GDP (current US$)  2010  1.499210e+13\n",
      "4          China          CHN  GDP (current US$)  2011  7.551500e+12\n"
     ]
    }
   ],
   "source": [
    "# Import Data\n",
    "pop = pd.read_csv(\"../datasets/WorldBank_POP.csv\")\n",
    "print(\"pop\")\n",
    "print(pop.head())\n",
    "print(\"gdp\")\n",
    "print(gdp.head())"
   ]
  },
  {
   "cell_type": "code",
   "execution_count": 21,
   "id": "retained-reform",
   "metadata": {},
   "outputs": [
    {
     "name": "stdout",
     "output_type": "stream",
     "text": [
      "     Country Name_x Country Code   Indicator Name_x  Year           GDP  \\\n",
      "0               NaN          ABW                NaN  2010           NaN   \n",
      "1               NaN          ABW                NaN  2011           NaN   \n",
      "2               NaN          ABW                NaN  2012           NaN   \n",
      "3               NaN          ABW                NaN  2012           NaN   \n",
      "4               NaN          ABW                NaN  2013           NaN   \n",
      "...             ...          ...                ...   ...           ...   \n",
      "2643  United States          ZWE  GDP (current US$)  2014  2.049410e+13   \n",
      "2644  United States          ZWE  GDP (current US$)  2015  2.049410e+13   \n",
      "2645  United States          ZWE  GDP (current US$)  2016  2.049410e+13   \n",
      "2646  United States          ZWE  GDP (current US$)  2017  2.049410e+13   \n",
      "2647  United States          ZWE  GDP (current US$)  2018  2.049410e+13   \n",
      "\n",
      "     Country Name_y   Indicator Name_y         Pop  \n",
      "0             Aruba  Population, total    101669.0  \n",
      "1             Aruba  Population, total    102046.0  \n",
      "2             Aruba  Population, total    102560.0  \n",
      "3             Aruba  Population, total    102560.0  \n",
      "4             Aruba  Population, total    103159.0  \n",
      "...             ...                ...         ...  \n",
      "2643       Zimbabwe  Population, total  13586681.0  \n",
      "2644       Zimbabwe  Population, total  13814629.0  \n",
      "2645       Zimbabwe  Population, total  14030390.0  \n",
      "2646       Zimbabwe  Population, total  14236745.0  \n",
      "2647       Zimbabwe  Population, total  14439018.0  \n",
      "\n",
      "[2648 rows x 8 columns]\n"
     ]
    }
   ],
   "source": [
    "# Merge gdp and pop on country and date with fill\n",
    "date_ctry = pd.merge_ordered(gdp, pop, on=[\"Country Code\", \"Year\"], fill_method=\"ffill\")\n",
    "\n",
    "# Print date_ctry\n",
    "print(date_ctry)"
   ]
  },
  {
   "cell_type": "markdown",
   "id": "computational-courtesy",
   "metadata": {},
   "source": [
    "# Using merge_asof()"
   ]
  },
  {
   "cell_type": "markdown",
   "id": "concrete-reservation",
   "metadata": {},
   "source": [
    "### Using merge_asof() to study stocks"
   ]
  },
  {
   "cell_type": "code",
   "execution_count": 38,
   "id": "friendly-remedy",
   "metadata": {},
   "outputs": [
    {
     "name": "stdout",
     "output_type": "stream",
     "text": [
      "jpm\n",
      "             date_time    close\n",
      "0  2017-11-17 15:35:17  98.1200\n",
      "1  2017-11-17 15:40:04  98.1800\n",
      "2  2017-11-17 15:45:01  97.7307\n",
      "3  2017-11-17 15:50:55  97.7400\n",
      "4  2017-11-17 15:55:00  97.8150\n",
      "wells\n",
      "             date_time    close\n",
      "0  2017-11-17 15:35:08  54.3227\n",
      "1  2017-11-17 15:40:00  54.3200\n",
      "2  2017-11-17 15:45:32  54.1900\n",
      "3  2017-11-17 15:50:07  54.1700\n",
      "4  2017-11-17 15:55:00  54.1841\n",
      "bac\n",
      "             date_time   close\n",
      "0  2017-11-17 15:35:17  26.552\n",
      "1  2017-11-17 15:40:06  26.552\n",
      "2  2017-11-17 15:45:05  26.388\n",
      "3  2017-11-17 15:50:34  26.378\n",
      "4  2017-11-17 15:55:06  26.383\n"
     ]
    }
   ],
   "source": [
    "# Import Data\n",
    "jpm = pd.read_csv(\"../datasets/jpm.csv\")\n",
    "wells = pd.read_csv(\"../datasets/wells.csv\")\n",
    "bac = pd.read_csv(\"../datasets/bac.csv\")\n",
    "# Display head\n",
    "print(\"jpm\")\n",
    "print(jpm.head())\n",
    "print(\"wells\")\n",
    "print(wells.head())\n",
    "print(\"bac\")\n",
    "print(bac.head())"
   ]
  },
  {
   "cell_type": "code",
   "execution_count": 39,
   "id": "global-workshop",
   "metadata": {},
   "outputs": [
    {
     "ename": "TypeError",
     "evalue": "No matching signature found",
     "output_type": "error",
     "traceback": [
      "\u001b[0;31m---------------------------------------------------------------------------\u001b[0m",
      "\u001b[0;31mTypeError\u001b[0m                                 Traceback (most recent call last)",
      "\u001b[0;32m<ipython-input-39-c3beb98d75e8>\u001b[0m in \u001b[0;36m<module>\u001b[0;34m\u001b[0m\n\u001b[1;32m      1\u001b[0m \u001b[0;31m# Use merge_asof() to merge jpm and wells\u001b[0m\u001b[0;34m\u001b[0m\u001b[0;34m\u001b[0m\u001b[0m\n\u001b[0;32m----> 2\u001b[0;31m \u001b[0mjpm_wells\u001b[0m \u001b[0;34m=\u001b[0m \u001b[0mpd\u001b[0m\u001b[0;34m.\u001b[0m\u001b[0mmerge_asof\u001b[0m\u001b[0;34m(\u001b[0m\u001b[0mjpm\u001b[0m\u001b[0;34m,\u001b[0m \u001b[0mwells\u001b[0m\u001b[0;34m,\u001b[0m \u001b[0mon\u001b[0m\u001b[0;34m=\u001b[0m\u001b[0;34m\"date_time\"\u001b[0m\u001b[0;34m,\u001b[0m \u001b[0msuffixes\u001b[0m\u001b[0;34m=\u001b[0m\u001b[0;34m(\u001b[0m\u001b[0;34m''\u001b[0m\u001b[0;34m,\u001b[0m \u001b[0;34m'_wells'\u001b[0m\u001b[0;34m)\u001b[0m\u001b[0;34m,\u001b[0m \u001b[0mdirection\u001b[0m\u001b[0;34m=\u001b[0m\u001b[0;34m\"nearest\"\u001b[0m\u001b[0;34m)\u001b[0m\u001b[0;34m\u001b[0m\u001b[0;34m\u001b[0m\u001b[0m\n\u001b[0m\u001b[1;32m      3\u001b[0m \u001b[0;34m\u001b[0m\u001b[0m\n\u001b[1;32m      4\u001b[0m \u001b[0;31m# Use merge_asof() to merge jpm_wells and bac\u001b[0m\u001b[0;34m\u001b[0m\u001b[0;34m\u001b[0m\u001b[0m\n\u001b[1;32m      5\u001b[0m \u001b[0mjpm_wells_bac\u001b[0m \u001b[0;34m=\u001b[0m \u001b[0mpd\u001b[0m\u001b[0;34m.\u001b[0m\u001b[0mmerge_asof\u001b[0m\u001b[0;34m(\u001b[0m\u001b[0mjpm_wells\u001b[0m\u001b[0;34m,\u001b[0m \u001b[0mbac\u001b[0m\u001b[0;34m,\u001b[0m\u001b[0mon\u001b[0m\u001b[0;34m=\u001b[0m\u001b[0;34m\"date_time\"\u001b[0m\u001b[0;34m,\u001b[0m \u001b[0msuffixes\u001b[0m\u001b[0;34m=\u001b[0m\u001b[0;34m(\u001b[0m\u001b[0;34m'_jpm'\u001b[0m\u001b[0;34m,\u001b[0m \u001b[0;34m'_bac'\u001b[0m\u001b[0;34m)\u001b[0m\u001b[0;34m,\u001b[0m \u001b[0mdirection\u001b[0m\u001b[0;34m=\u001b[0m\u001b[0;34m\"nearest\"\u001b[0m\u001b[0;34m)\u001b[0m\u001b[0;34m\u001b[0m\u001b[0;34m\u001b[0m\u001b[0m\n",
      "\u001b[0;32m/usr/local/lib/python3.9/site-packages/pandas/core/reshape/merge.py\u001b[0m in \u001b[0;36mmerge_asof\u001b[0;34m(left, right, on, left_on, right_on, left_index, right_index, by, left_by, right_by, suffixes, tolerance, allow_exact_matches, direction)\u001b[0m\n\u001b[1;32m    566\u001b[0m         \u001b[0mdirection\u001b[0m\u001b[0;34m=\u001b[0m\u001b[0mdirection\u001b[0m\u001b[0;34m,\u001b[0m\u001b[0;34m\u001b[0m\u001b[0;34m\u001b[0m\u001b[0m\n\u001b[1;32m    567\u001b[0m     )\n\u001b[0;32m--> 568\u001b[0;31m     \u001b[0;32mreturn\u001b[0m \u001b[0mop\u001b[0m\u001b[0;34m.\u001b[0m\u001b[0mget_result\u001b[0m\u001b[0;34m(\u001b[0m\u001b[0;34m)\u001b[0m\u001b[0;34m\u001b[0m\u001b[0;34m\u001b[0m\u001b[0m\n\u001b[0m\u001b[1;32m    569\u001b[0m \u001b[0;34m\u001b[0m\u001b[0m\n\u001b[1;32m    570\u001b[0m \u001b[0;34m\u001b[0m\u001b[0m\n",
      "\u001b[0;32m/usr/local/lib/python3.9/site-packages/pandas/core/reshape/merge.py\u001b[0m in \u001b[0;36mget_result\u001b[0;34m(self)\u001b[0m\n\u001b[1;32m   1572\u001b[0m \u001b[0;34m\u001b[0m\u001b[0m\n\u001b[1;32m   1573\u001b[0m     \u001b[0;32mdef\u001b[0m \u001b[0mget_result\u001b[0m\u001b[0;34m(\u001b[0m\u001b[0mself\u001b[0m\u001b[0;34m)\u001b[0m\u001b[0;34m:\u001b[0m\u001b[0;34m\u001b[0m\u001b[0;34m\u001b[0m\u001b[0m\n\u001b[0;32m-> 1574\u001b[0;31m         \u001b[0mjoin_index\u001b[0m\u001b[0;34m,\u001b[0m \u001b[0mleft_indexer\u001b[0m\u001b[0;34m,\u001b[0m \u001b[0mright_indexer\u001b[0m \u001b[0;34m=\u001b[0m \u001b[0mself\u001b[0m\u001b[0;34m.\u001b[0m\u001b[0m_get_join_info\u001b[0m\u001b[0;34m(\u001b[0m\u001b[0;34m)\u001b[0m\u001b[0;34m\u001b[0m\u001b[0;34m\u001b[0m\u001b[0m\n\u001b[0m\u001b[1;32m   1575\u001b[0m \u001b[0;34m\u001b[0m\u001b[0m\n\u001b[1;32m   1576\u001b[0m         llabels, rlabels = _items_overlap_with_suffix(\n",
      "\u001b[0;32m/usr/local/lib/python3.9/site-packages/pandas/core/reshape/merge.py\u001b[0m in \u001b[0;36m_get_join_info\u001b[0;34m(self)\u001b[0m\n\u001b[1;32m    907\u001b[0m             )\n\u001b[1;32m    908\u001b[0m         \u001b[0;32melse\u001b[0m\u001b[0;34m:\u001b[0m\u001b[0;34m\u001b[0m\u001b[0;34m\u001b[0m\u001b[0m\n\u001b[0;32m--> 909\u001b[0;31m             \u001b[0;34m(\u001b[0m\u001b[0mleft_indexer\u001b[0m\u001b[0;34m,\u001b[0m \u001b[0mright_indexer\u001b[0m\u001b[0;34m)\u001b[0m \u001b[0;34m=\u001b[0m \u001b[0mself\u001b[0m\u001b[0;34m.\u001b[0m\u001b[0m_get_join_indexers\u001b[0m\u001b[0;34m(\u001b[0m\u001b[0;34m)\u001b[0m\u001b[0;34m\u001b[0m\u001b[0;34m\u001b[0m\u001b[0m\n\u001b[0m\u001b[1;32m    910\u001b[0m \u001b[0;34m\u001b[0m\u001b[0m\n\u001b[1;32m    911\u001b[0m             \u001b[0;32mif\u001b[0m \u001b[0mself\u001b[0m\u001b[0;34m.\u001b[0m\u001b[0mright_index\u001b[0m\u001b[0;34m:\u001b[0m\u001b[0;34m\u001b[0m\u001b[0;34m\u001b[0m\u001b[0m\n",
      "\u001b[0;32m/usr/local/lib/python3.9/site-packages/pandas/core/reshape/merge.py\u001b[0m in \u001b[0;36m_get_join_indexers\u001b[0;34m(self)\u001b[0m\n\u001b[1;32m   1878\u001b[0m             \u001b[0;31m# choose appropriate function by type\u001b[0m\u001b[0;34m\u001b[0m\u001b[0;34m\u001b[0m\u001b[0m\n\u001b[1;32m   1879\u001b[0m             \u001b[0mfunc\u001b[0m \u001b[0;34m=\u001b[0m \u001b[0m_asof_function\u001b[0m\u001b[0;34m(\u001b[0m\u001b[0mself\u001b[0m\u001b[0;34m.\u001b[0m\u001b[0mdirection\u001b[0m\u001b[0;34m)\u001b[0m\u001b[0;34m\u001b[0m\u001b[0;34m\u001b[0m\u001b[0m\n\u001b[0;32m-> 1880\u001b[0;31m             \u001b[0;32mreturn\u001b[0m \u001b[0mfunc\u001b[0m\u001b[0;34m(\u001b[0m\u001b[0mleft_values\u001b[0m\u001b[0;34m,\u001b[0m \u001b[0mright_values\u001b[0m\u001b[0;34m,\u001b[0m \u001b[0mself\u001b[0m\u001b[0;34m.\u001b[0m\u001b[0mallow_exact_matches\u001b[0m\u001b[0;34m,\u001b[0m \u001b[0mtolerance\u001b[0m\u001b[0;34m)\u001b[0m\u001b[0;34m\u001b[0m\u001b[0;34m\u001b[0m\u001b[0m\n\u001b[0m\u001b[1;32m   1881\u001b[0m \u001b[0;34m\u001b[0m\u001b[0m\n\u001b[1;32m   1882\u001b[0m \u001b[0;34m\u001b[0m\u001b[0m\n",
      "\u001b[0;32mpandas/_libs/join.pyx\u001b[0m in \u001b[0;36mpandas._libs.join.__pyx_fused_cpdef\u001b[0;34m()\u001b[0m\n",
      "\u001b[0;31mTypeError\u001b[0m: No matching signature found"
     ]
    }
   ],
   "source": [
    "# Use merge_asof() to merge jpm and wells\n",
    "jpm_wells = pd.merge_asof(jpm, wells, on=\"date_time\", suffixes=('', '_wells'), direction=\"nearest\")\n",
    "\n",
    "# Use merge_asof() to merge jpm_wells and bac\n",
    "jpm_wells_bac = pd.merge_asof(jpm_wells, bac,on=\"date_time\", suffixes=('_jpm', '_bac'), direction=\"nearest\")\n",
    "\n",
    "# Compute price diff\n",
    "price_diffs = jpm_wells_bac.diff()\n",
    "\n",
    "# Plot the price diff of the close of jpm, wells and bac only\n",
    "price_diffs.plot(y=[\"close_jpm\", \"close_wells\", \"close_bac\"])\n",
    "plt.show()"
   ]
  },
  {
   "cell_type": "markdown",
   "id": "postal-instrument",
   "metadata": {},
   "source": [
    "### Using merge_asof() to create dataset"
   ]
  },
  {
   "cell_type": "code",
   "execution_count": null,
   "id": "comic-exclusive",
   "metadata": {},
   "outputs": [],
   "source": [
    "# Merge gdp and recession on date using merge_asof()\n",
    "gdp_recession = pd.merge_asof(gdp, recession, on='date')\n",
    "\n",
    "# Create a list based on the row value of gdp_recession['econ_status']\n",
    "is_recession = ['r' if s=='recession' else 'g' for s in gdp_recession['econ_status']]\n",
    "\n",
    "# Plot a bar chart of gdp_recession\n",
    "gdp_recession.plot(kind='bar', y='gdp', x='date', color=is_recession, rot=90)\n",
    "plt.show()"
   ]
  },
  {
   "cell_type": "markdown",
   "id": "cutting-luther",
   "metadata": {},
   "source": [
    "# Selecting data with .query()"
   ]
  },
  {
   "cell_type": "markdown",
   "id": "rural-spine",
   "metadata": {},
   "source": [
    "### Explore financials with .query()"
   ]
  },
  {
   "cell_type": "code",
   "execution_count": 42,
   "id": "vulnerable-japanese",
   "metadata": {},
   "outputs": [
    {
     "name": "stdout",
     "output_type": "stream",
     "text": [
      "            financial  company  year    value\n",
      "0       total_revenue  twitter  2019  3459329\n",
      "1     cost_of_revenue  twitter  2019  1137041\n",
      "2        gross_profit  twitter  2019  2322288\n",
      "3  operating_expenses  twitter  2019  1955915\n",
      "4          net_income  twitter  2019  1465659\n"
     ]
    }
   ],
   "source": [
    "social_fin = pd.read_csv(\"../datasets/social_fin.csv\")\n",
    "print(social_fin.head())"
   ]
  },
  {
   "cell_type": "code",
   "execution_count": 53,
   "id": "hungarian-river",
   "metadata": {},
   "outputs": [
    {
     "data": {
      "text/html": [
       "<div>\n",
       "<style scoped>\n",
       "    .dataframe tbody tr th:only-of-type {\n",
       "        vertical-align: middle;\n",
       "    }\n",
       "\n",
       "    .dataframe tbody tr th {\n",
       "        vertical-align: top;\n",
       "    }\n",
       "\n",
       "    .dataframe thead th {\n",
       "        text-align: right;\n",
       "    }\n",
       "</style>\n",
       "<table border=\"1\" class=\"dataframe\">\n",
       "  <thead>\n",
       "    <tr style=\"text-align: right;\">\n",
       "      <th></th>\n",
       "      <th>financial</th>\n",
       "      <th>company</th>\n",
       "      <th>year</th>\n",
       "      <th>value</th>\n",
       "    </tr>\n",
       "  </thead>\n",
       "  <tbody>\n",
       "    <tr>\n",
       "      <th>14</th>\n",
       "      <td>net_income</td>\n",
       "      <td>snap</td>\n",
       "      <td>2019</td>\n",
       "      <td>-1033660</td>\n",
       "    </tr>\n",
       "    <tr>\n",
       "      <th>29</th>\n",
       "      <td>net_income</td>\n",
       "      <td>snap</td>\n",
       "      <td>2018</td>\n",
       "      <td>-1255911</td>\n",
       "    </tr>\n",
       "    <tr>\n",
       "      <th>34</th>\n",
       "      <td>net_income</td>\n",
       "      <td>twitter</td>\n",
       "      <td>2017</td>\n",
       "      <td>-108063</td>\n",
       "    </tr>\n",
       "    <tr>\n",
       "      <th>44</th>\n",
       "      <td>net_income</td>\n",
       "      <td>snap</td>\n",
       "      <td>2017</td>\n",
       "      <td>-3445066</td>\n",
       "    </tr>\n",
       "    <tr>\n",
       "      <th>49</th>\n",
       "      <td>net_income</td>\n",
       "      <td>twitter</td>\n",
       "      <td>2016</td>\n",
       "      <td>-456873</td>\n",
       "    </tr>\n",
       "    <tr>\n",
       "      <th>57</th>\n",
       "      <td>gross_profit</td>\n",
       "      <td>snap</td>\n",
       "      <td>2016</td>\n",
       "      <td>-47178</td>\n",
       "    </tr>\n",
       "    <tr>\n",
       "      <th>59</th>\n",
       "      <td>net_income</td>\n",
       "      <td>snap</td>\n",
       "      <td>2016</td>\n",
       "      <td>-514643</td>\n",
       "    </tr>\n",
       "  </tbody>\n",
       "</table>\n",
       "</div>"
      ],
      "text/plain": [
       "       financial  company  year    value\n",
       "14    net_income     snap  2019 -1033660\n",
       "29    net_income     snap  2018 -1255911\n",
       "34    net_income  twitter  2017  -108063\n",
       "44    net_income     snap  2017 -3445066\n",
       "49    net_income  twitter  2016  -456873\n",
       "57  gross_profit     snap  2016   -47178\n",
       "59    net_income     snap  2016  -514643"
      ]
     },
     "execution_count": 53,
     "metadata": {},
     "output_type": "execute_result"
    }
   ],
   "source": [
    "social_fin.query(\"value < 0\")"
   ]
  },
  {
   "cell_type": "markdown",
   "id": "upset-chocolate",
   "metadata": {},
   "source": [
    "### Subsetting rows with .query()"
   ]
  },
  {
   "cell_type": "code",
   "execution_count": 67,
   "id": "widespread-breeding",
   "metadata": {},
   "outputs": [
    {
     "name": "stdout",
     "output_type": "stream",
     "text": [
      "         date    country       pop  series_code\n",
      "0  1990-01-01  Australia  17065100  SP.POP.TOTL\n",
      "1  1991-01-01  Australia  17284000  SP.POP.TOTL\n",
      "2  1992-01-01  Australia  17495000  SP.POP.TOTL\n",
      "3  1993-01-01  Australia  17667000  SP.POP.TOTL\n",
      "4  1990-01-01     Sweden   8558835  SP.POP.TOTL\n",
      "         date    country          gdp    series_code\n",
      "0  1990-01-01  Australia  158051.1324  NYGDPMKTPSAKD\n",
      "1  1990-04-01  Australia  158263.5816  NYGDPMKTPSAKD\n",
      "2  1990-07-01  Australia  157329.2790  NYGDPMKTPSAKD\n",
      "3  1990-09-01  Australia  158240.6781  NYGDPMKTPSAKD\n",
      "4  1991-01-01  Australia  156195.9535  NYGDPMKTPSAKD\n"
     ]
    }
   ],
   "source": [
    "# Load Data\n",
    "pop = pd.read_csv(\"../datasets/pop.csv\")\n",
    "gdp = pd.read_csv(\"../datasets/gdp.csv\")\n",
    "# print head\n",
    "print(pop.head())\n",
    "print(gdp.head())"
   ]
  },
  {
   "cell_type": "code",
   "execution_count": 68,
   "id": "attended-celebrity",
   "metadata": {},
   "outputs": [
    {
     "data": {
      "image/png": "[encoded data removed]",
      "text/plain": [
       "<Figure size 432x288 with 1 Axes>"
      ]
     },
     "metadata": {
      "needs_background": "light"
     },
     "output_type": "display_data"
    }
   ],
   "source": [
    "# Merge gdp and pop on date and country with fill\n",
    "gdp_pop = pd.merge_ordered(gdp, pop, on=['country','date'], fill_method='ffill')\n",
    "\n",
    "# Add a column named gdp_per_capita to gdp_pop that divides the gdp by pop\n",
    "gdp_pop['gdp_per_capita'] = gdp_pop['gdp'] / gdp_pop['pop']\n",
    "\n",
    "# Pivot data so gdp_per_capita, where index is date and columns is country\n",
    "gdp_pivot = gdp_pop.pivot_table('gdp_per_capita', 'date', 'country')\n",
    "\n",
    "# Select dates equal to or greater than 1991-01-01\n",
    "recent_gdp_pop = gdp_pivot.query('date >= \"1991-01-01\"')\n",
    "\n",
    "# Plot recent_gdp_pop\n",
    "recent_gdp_pop.plot(rot=90)\n",
    "plt.show()"
   ]
  },
  {
   "cell_type": "markdown",
   "id": "backed-diameter",
   "metadata": {},
   "source": [
    "# Reshaping Data with .melt()"
   ]
  },
  {
   "cell_type": "markdown",
   "id": "immune-relationship",
   "metadata": {},
   "source": [
    "### Select the right .melt() arguments"
   ]
  },
  {
   "cell_type": "code",
   "execution_count": 70,
   "id": "equivalent-moscow",
   "metadata": {},
   "outputs": [
    {
     "name": "stdout",
     "output_type": "stream",
     "text": [
      "  country    indicator  2017  2018  2019\n",
      "0  Brazil  Inflation %  3.45  3.66  3.73\n",
      "1  Canada  Inflation %  1.60  2.27  1.95\n",
      "2  France  Inflation %  1.03  1.85  1.11\n",
      "3   India  Inflation %  2.49  4.86  7.66\n"
     ]
    }
   ],
   "source": [
    "# load data\n",
    "inflation = pd.read_csv(\"../datasets/inflation.csv\")\n",
    "# Display head\n",
    "print(inflation.head())"
   ]
  },
  {
   "cell_type": "code",
   "execution_count": 72,
   "id": "friendly-process",
   "metadata": {},
   "outputs": [
    {
     "data": {
      "text/html": [
       "<div>\n",
       "<style scoped>\n",
       "    .dataframe tbody tr th:only-of-type {\n",
       "        vertical-align: middle;\n",
       "    }\n",
       "\n",
       "    .dataframe tbody tr th {\n",
       "        vertical-align: top;\n",
       "    }\n",
       "\n",
       "    .dataframe thead th {\n",
       "        text-align: right;\n",
       "    }\n",
       "</style>\n",
       "<table border=\"1\" class=\"dataframe\">\n",
       "  <thead>\n",
       "    <tr style=\"text-align: right;\">\n",
       "      <th></th>\n",
       "      <th>country</th>\n",
       "      <th>indicator</th>\n",
       "      <th>year</th>\n",
       "      <th>annual</th>\n",
       "    </tr>\n",
       "  </thead>\n",
       "  <tbody>\n",
       "    <tr>\n",
       "      <th>0</th>\n",
       "      <td>Brazil</td>\n",
       "      <td>Inflation %</td>\n",
       "      <td>2017</td>\n",
       "      <td>3.45</td>\n",
       "    </tr>\n",
       "    <tr>\n",
       "      <th>1</th>\n",
       "      <td>Canada</td>\n",
       "      <td>Inflation %</td>\n",
       "      <td>2017</td>\n",
       "      <td>1.60</td>\n",
       "    </tr>\n",
       "    <tr>\n",
       "      <th>2</th>\n",
       "      <td>France</td>\n",
       "      <td>Inflation %</td>\n",
       "      <td>2017</td>\n",
       "      <td>1.03</td>\n",
       "    </tr>\n",
       "    <tr>\n",
       "      <th>3</th>\n",
       "      <td>India</td>\n",
       "      <td>Inflation %</td>\n",
       "      <td>2017</td>\n",
       "      <td>2.49</td>\n",
       "    </tr>\n",
       "    <tr>\n",
       "      <th>4</th>\n",
       "      <td>Brazil</td>\n",
       "      <td>Inflation %</td>\n",
       "      <td>2018</td>\n",
       "      <td>3.66</td>\n",
       "    </tr>\n",
       "    <tr>\n",
       "      <th>5</th>\n",
       "      <td>Canada</td>\n",
       "      <td>Inflation %</td>\n",
       "      <td>2018</td>\n",
       "      <td>2.27</td>\n",
       "    </tr>\n",
       "    <tr>\n",
       "      <th>6</th>\n",
       "      <td>France</td>\n",
       "      <td>Inflation %</td>\n",
       "      <td>2018</td>\n",
       "      <td>1.85</td>\n",
       "    </tr>\n",
       "    <tr>\n",
       "      <th>7</th>\n",
       "      <td>India</td>\n",
       "      <td>Inflation %</td>\n",
       "      <td>2018</td>\n",
       "      <td>4.86</td>\n",
       "    </tr>\n",
       "    <tr>\n",
       "      <th>8</th>\n",
       "      <td>Brazil</td>\n",
       "      <td>Inflation %</td>\n",
       "      <td>2019</td>\n",
       "      <td>3.73</td>\n",
       "    </tr>\n",
       "    <tr>\n",
       "      <th>9</th>\n",
       "      <td>Canada</td>\n",
       "      <td>Inflation %</td>\n",
       "      <td>2019</td>\n",
       "      <td>1.95</td>\n",
       "    </tr>\n",
       "    <tr>\n",
       "      <th>10</th>\n",
       "      <td>France</td>\n",
       "      <td>Inflation %</td>\n",
       "      <td>2019</td>\n",
       "      <td>1.11</td>\n",
       "    </tr>\n",
       "    <tr>\n",
       "      <th>11</th>\n",
       "      <td>India</td>\n",
       "      <td>Inflation %</td>\n",
       "      <td>2019</td>\n",
       "      <td>7.66</td>\n",
       "    </tr>\n",
       "  </tbody>\n",
       "</table>\n",
       "</div>"
      ],
      "text/plain": [
       "   country    indicator  year  annual\n",
       "0   Brazil  Inflation %  2017    3.45\n",
       "1   Canada  Inflation %  2017    1.60\n",
       "2   France  Inflation %  2017    1.03\n",
       "3    India  Inflation %  2017    2.49\n",
       "4   Brazil  Inflation %  2018    3.66\n",
       "5   Canada  Inflation %  2018    2.27\n",
       "6   France  Inflation %  2018    1.85\n",
       "7    India  Inflation %  2018    4.86\n",
       "8   Brazil  Inflation %  2019    3.73\n",
       "9   Canada  Inflation %  2019    1.95\n",
       "10  France  Inflation %  2019    1.11\n",
       "11   India  Inflation %  2019    7.66"
      ]
     },
     "execution_count": 72,
     "metadata": {},
     "output_type": "execute_result"
    }
   ],
   "source": [
    "inflation.melt(id_vars=[\"country\", \"indicator\"], var_name='year', value_name='annual')"
   ]
  },
  {
   "cell_type": "markdown",
   "id": "conditional-mounting",
   "metadata": {},
   "source": [
    "### Using .melt() to reshape government data"
   ]
  },
  {
   "cell_type": "code",
   "execution_count": 74,
   "id": "ongoing-murray",
   "metadata": {},
   "outputs": [
    {
     "name": "stdout",
     "output_type": "stream",
     "text": [
      "   year  jan  feb  mar  apr  may  jun  jul  aug  sep  oct  nov  dec\n",
      "0  2010  9.8  9.8  9.9  9.9  9.6  9.4  9.4  9.5  9.5  9.4  9.8  9.3\n",
      "1  2011  9.1  9.0  9.0  9.1  9.0  9.1  9.0  9.0  9.0  8.8  8.6  8.5\n",
      "2  2012  8.3  8.3  8.2  8.2  8.2  8.2  8.2  8.1  7.8  7.8  7.7  7.9\n",
      "3  2013  8.0  7.7  7.5  7.6  7.5  7.5  7.3  7.2  7.2  7.2  6.9  6.7\n",
      "4  2014  6.6  6.7  6.7  6.2  6.3  6.1  6.2  6.1  5.9  5.7  5.8  5.6\n"
     ]
    }
   ],
   "source": [
    "# import data\n",
    "ur_wide = pd.read_csv(\"../datasets/ur_wide.csv\")\n",
    "# print head\n",
    "print(ur_wide.head())"
   ]
  },
  {
   "cell_type": "code",
   "execution_count": 1,
   "id": "decimal-treatment",
   "metadata": {},
   "outputs": [
    {
     "ename": "NameError",
     "evalue": "name 'ur_wide' is not defined",
     "output_type": "error",
     "traceback": [
      "\u001b[0;31m---------------------------------------------------------------------------\u001b[0m",
      "\u001b[0;31mNameError\u001b[0m                                 Traceback (most recent call last)",
      "\u001b[0;32m<ipython-input-1-fcc8e059294e>\u001b[0m in \u001b[0;36m<module>\u001b[0;34m\u001b[0m\n\u001b[1;32m      1\u001b[0m \u001b[0;31m# unpivot everything besides the year column\u001b[0m\u001b[0;34m\u001b[0m\u001b[0;34m\u001b[0m\u001b[0m\n\u001b[0;32m----> 2\u001b[0;31m \u001b[0mur_tall\u001b[0m \u001b[0;34m=\u001b[0m \u001b[0mur_wide\u001b[0m\u001b[0;34m.\u001b[0m\u001b[0mmelt\u001b[0m\u001b[0;34m(\u001b[0m\u001b[0mid_vars\u001b[0m\u001b[0;34m=\u001b[0m\u001b[0;34m[\u001b[0m\u001b[0;34m\"year\"\u001b[0m\u001b[0;34m]\u001b[0m\u001b[0;34m,\u001b[0m \u001b[0mvar_name\u001b[0m\u001b[0;34m=\u001b[0m\u001b[0;34m\"month\"\u001b[0m\u001b[0;34m,\u001b[0m \u001b[0mvalue_name\u001b[0m\u001b[0;34m=\u001b[0m\u001b[0;34m\"unempl_rate\"\u001b[0m\u001b[0;34m)\u001b[0m\u001b[0;34m\u001b[0m\u001b[0;34m\u001b[0m\u001b[0m\n\u001b[0m\u001b[1;32m      3\u001b[0m \u001b[0;34m\u001b[0m\u001b[0m\n\u001b[1;32m      4\u001b[0m \u001b[0;31m# Create a date column using the month and year columns of ur_tall\u001b[0m\u001b[0;34m\u001b[0m\u001b[0;34m\u001b[0m\u001b[0m\n\u001b[1;32m      5\u001b[0m \u001b[0mur_tall\u001b[0m\u001b[0;34m[\u001b[0m\u001b[0;34m'date'\u001b[0m\u001b[0;34m]\u001b[0m \u001b[0;34m=\u001b[0m \u001b[0mpd\u001b[0m\u001b[0;34m.\u001b[0m\u001b[0mto_datetime\u001b[0m\u001b[0;34m(\u001b[0m\u001b[0mfur_tall\u001b[0m\u001b[0;34m[\u001b[0m\u001b[0;34m'month'\u001b[0m\u001b[0;34m]\u001b[0m \u001b[0;34m+\u001b[0m \u001b[0;34m'-'\u001b[0m \u001b[0;34m+\u001b[0m \u001b[0mur_tall\u001b[0m\u001b[0;34m[\u001b[0m\u001b[0;34m'year'\u001b[0m\u001b[0;34m]\u001b[0m\u001b[0;34m)\u001b[0m\u001b[0;34m\u001b[0m\u001b[0;34m\u001b[0m\u001b[0m\n",
      "\u001b[0;31mNameError\u001b[0m: name 'ur_wide' is not defined"
     ]
    }
   ],
   "source": [
    "# unpivot everything besides the year column\n",
    "ur_tall = ur_wide.melt(id_vars=[\"year\"], var_name=\"month\", value_name=\"unempl_rate\")\n",
    "\n",
    "# Create a date column using the month and year columns of ur_tall\n",
    "ur_tall['date'] = pd.to_datetime(fur_tall['month'] + '-' + ur_tall['year'])\n",
    "\n",
    "# Sort ur_tall by date in ascending order\n",
    "ur_sorted = ur_tall.sort_values(\"date\", ascending=True)\n",
    "\n",
    "# Plot the unempl_rate by date\n",
    "ur_sorted.plot(x=\"date\" , y=\"unempl_rate\")\n",
    "plt.show()"
   ]
  },
  {
   "cell_type": "code",
   "execution_count": null,
   "id": "racial-constraint",
   "metadata": {},
   "outputs": [],
   "source": []
  }
 ],
 "metadata": {
  "kernelspec": {
   "display_name": "Python 3",
   "language": "python",
   "name": "python3"
  },
  "language_info": {
   "codemirror_mode": {
    "name": "ipython",
    "version": 3
   },
   "file_extension": ".py",
   "mimetype": "text/x-python",
   "name": "python",
   "nbconvert_exporter": "python",
   "pygments_lexer": "ipython3",
   "version": "3.9.10"
  }
 },
 "nbformat": 4,
 "nbformat_minor": 5
}
