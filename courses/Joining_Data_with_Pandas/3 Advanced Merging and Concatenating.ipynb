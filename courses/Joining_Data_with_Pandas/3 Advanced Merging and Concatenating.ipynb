{
 "cells": [
  {
   "cell_type": "markdown",
   "id": "automated-productivity",
   "metadata": {},
   "source": [
    "# Filtering Joins"
   ]
  },
  {
   "cell_type": "markdown",
   "id": "acoustic-migration",
   "metadata": {},
   "source": [
    "In order to get some datasets I needed to export them by convertind the dataframe to a csv and then outputting the contents of the file to the terminal such as the example below.\n",
    "```Python\n",
    "# output the contents of the dataframe to CSV wile also removing the index for pushing it to a dataframe.\n",
    "wards_altered.to_csv(\"wards_altered.csv\", index=False)\n",
    "\n",
    "# open the file and read the contents of the file to the terminal.\n",
    "with open(\"wards_altered.csv\", \"r\") as f:\n",
    "    print(f.read())\n",
    "```\n"
   ]
  },
  {
   "cell_type": "markdown",
   "id": "funded-vegetarian",
   "metadata": {},
   "source": [
    "### Performing and Anti Join"
   ]
  },
  {
   "cell_type": "code",
   "execution_count": 19,
   "id": "rotary-revision",
   "metadata": {},
   "outputs": [],
   "source": [
    "# Import pandas with alias pd\n",
    "import pandas as pd\n",
    "# Import nympy with alias np\n",
    "import numpy as np\n",
    "# Import matplotlib.pyplot with alias plt\n",
    "import matplotlib.pyplot as plt"
   ]
  },
  {
   "cell_type": "code",
   "execution_count": 20,
   "id": "activated-color",
   "metadata": {},
   "outputs": [],
   "source": [
    "# Import Data\n",
    "employees = pd.read_csv(\"../datasets/employees.csv\")\n",
    "top_cust = pd.read_csv(\"../datasets/top_cust.csv\")"
   ]
  },
  {
   "cell_type": "code",
   "execution_count": 21,
   "id": "bizarre-congress",
   "metadata": {},
   "outputs": [
    {
     "name": "stdout",
     "output_type": "stream",
     "text": [
      "   srid     lname    fname            title   hire_date  \\\n",
      "0     1     Adams   Andrew  General Manager  2002-08-14   \n",
      "1     2   Edwards    Nancy    Sales Manager  2002-05-01   \n",
      "5     6  Mitchell  Michael       IT Manager  2003-10-17   \n",
      "6     7      King   Robert         IT Staff  2004-01-02   \n",
      "7     8  Callahan    Laura         IT Staff  2004-03-04   \n",
      "\n",
      "                     email  \n",
      "0   andrew@chinookcorp.com  \n",
      "1    nancy@chinookcorp.com  \n",
      "5  michael@chinookcorp.com  \n",
      "6   robert@chinookcorp.com  \n",
      "7    laura@chinookcorp.com  \n"
     ]
    }
   ],
   "source": [
    "# Merge employees and top_cust\n",
    "empl_cust = employees.merge(top_cust, on='srid', \n",
    "                                 how='left', indicator=True)\n",
    "\n",
    "# Select the srid column where _merge is left_only\n",
    "srid_list = empl_cust.loc[empl_cust['_merge'] == 'left_only', 'srid']\n",
    "\n",
    "# Get employees not working with top customers\n",
    "print(employees[employees[\"srid\"].isin(srid_list)])"
   ]
  },
  {
   "cell_type": "markdown",
   "id": "cross-hearing",
   "metadata": {},
   "source": [
    "### Performing a semi join"
   ]
  },
  {
   "cell_type": "code",
   "execution_count": 22,
   "id": "centered-renewal",
   "metadata": {},
   "outputs": [],
   "source": [
    "# Import data\n",
    "non_mus_tcks = pd.read_csv(\"../datasets/non_mus_tcks.csv\")\n",
    "top_invoices = pd.read_csv(\"../datasets/top_invoices.csv\")\n",
    "genres = pd.read_csv(\"../datasets/genres.csv\")"
   ]
  },
  {
   "cell_type": "code",
   "execution_count": 23,
   "id": "directed-toddler",
   "metadata": {},
   "outputs": [
    {
     "name": "stdout",
     "output_type": "stream",
     "text": [
      "   gid  tid      name\n",
      "0   19    4  TV Shows\n",
      "1   21    2     Drama\n",
      "2   22    1    Comedy\n"
     ]
    }
   ],
   "source": [
    "# Merge the non_mus_tck and top_invoices tables on tid\n",
    "tracks_invoices = non_mus_tcks.merge(top_invoices, on='tid')\n",
    "\n",
    "# Use .isin() to subset non_mus_tcsk to rows with tid in tracks_invoices\n",
    "top_tracks = non_mus_tcks[non_mus_tcks['tid'].isin(tracks_invoices['tid'])]\n",
    "\n",
    "# Group the top_tracks by gid and count the tid rows\n",
    "cnt_by_gid = top_tracks.groupby(['gid'], as_index=False).agg({'tid':'count'})\n",
    "\n",
    "# Merge the genres table to cnt_by_gid on gid and print\n",
    "print(cnt_by_gid.merge(genres, on='gid'))"
   ]
  },
  {
   "cell_type": "markdown",
   "id": "described-danger",
   "metadata": {},
   "source": [
    "# Concatenating Dataframes Together Vertically"
   ]
  },
  {
   "cell_type": "markdown",
   "id": "fancy-academy",
   "metadata": {},
   "source": [
    "### Concatenation basics"
   ]
  },
  {
   "cell_type": "code",
   "execution_count": 24,
   "id": "ruled-identification",
   "metadata": {},
   "outputs": [],
   "source": [
    "# load data\n",
    "tracks_master = pd.read_csv(\"../datasets/tracks_master.csv\")\n",
    "tracks_ride = pd.read_csv(\"../datasets/tracks_ride.csv\")\n",
    "tracks_st = pd.read_csv(\"../datasets/tracks_st.csv\")"
   ]
  },
  {
   "cell_type": "code",
   "execution_count": 25,
   "id": "completed-causing",
   "metadata": {},
   "outputs": [
    {
     "name": "stdout",
     "output_type": "stream",
     "text": [
      "   aid             composer  gid  mtid                     name   tid  u_price\n",
      "0  152  J.Hetfield/L.Ulrich    3     1                  Battery  1853     0.99\n",
      "1  152            K.Hammett    3     1        Master Of Puppets  1854     0.99\n",
      "2  152  J.Hetfield/L.Ulrich    3     1        Disposable Heroes  1857     0.99\n",
      "0  154                  NaN    3     1     Fight Fire With Fire  1874     0.99\n",
      "1  154                  NaN    3     1       Ride The Lightning  1875     0.99\n",
      "2  154                  NaN    3     1  For Whom The Bell Tolls  1876     0.99\n",
      "3  154                  NaN    3     1            Fade To Black  1877     0.99\n",
      "4  154                  NaN    3     1        Trapped Under Ice  1878     0.99\n",
      "0  155                  NaN    3     1                  Frantic  1882     0.99\n",
      "1  155                  NaN    3     1                St. Anger  1883     0.99\n",
      "2  155                  NaN    3     1     Some Kind Of Monster  1884     0.99\n",
      "3  155                  NaN    3     1             Dirty Window  1885     0.99\n",
      "4  155                  NaN    3     1            Invisible Kid  1886     0.99\n"
     ]
    }
   ],
   "source": [
    "# Concatenate the tracks\n",
    "tracks_from_albums = pd.concat([tracks_master, tracks_ride, tracks_st],\n",
    "                               sort=True)\n",
    "print(tracks_from_albums)"
   ]
  },
  {
   "cell_type": "code",
   "execution_count": 26,
   "id": "early-robertson",
   "metadata": {},
   "outputs": [
    {
     "name": "stdout",
     "output_type": "stream",
     "text": [
      "    aid             composer  gid  mtid                     name   tid  \\\n",
      "0   152  J.Hetfield/L.Ulrich    3     1                  Battery  1853   \n",
      "1   152            K.Hammett    3     1        Master Of Puppets  1854   \n",
      "2   152  J.Hetfield/L.Ulrich    3     1        Disposable Heroes  1857   \n",
      "3   154                  NaN    3     1     Fight Fire With Fire  1874   \n",
      "4   154                  NaN    3     1       Ride The Lightning  1875   \n",
      "5   154                  NaN    3     1  For Whom The Bell Tolls  1876   \n",
      "6   154                  NaN    3     1            Fade To Black  1877   \n",
      "7   154                  NaN    3     1        Trapped Under Ice  1878   \n",
      "8   155                  NaN    3     1                  Frantic  1882   \n",
      "9   155                  NaN    3     1                St. Anger  1883   \n",
      "10  155                  NaN    3     1     Some Kind Of Monster  1884   \n",
      "11  155                  NaN    3     1             Dirty Window  1885   \n",
      "12  155                  NaN    3     1            Invisible Kid  1886   \n",
      "\n",
      "    u_price  \n",
      "0      0.99  \n",
      "1      0.99  \n",
      "2      0.99  \n",
      "3      0.99  \n",
      "4      0.99  \n",
      "5      0.99  \n",
      "6      0.99  \n",
      "7      0.99  \n",
      "8      0.99  \n",
      "9      0.99  \n",
      "10     0.99  \n",
      "11     0.99  \n",
      "12     0.99  \n"
     ]
    }
   ],
   "source": [
    "# Concatenate the tracks so the index goes from 0 to n-1\n",
    "tracks_from_albums = pd.concat([tracks_master, tracks_ride, tracks_st],\n",
    "                               ignore_index=True,\n",
    "                               sort=True)\n",
    "print(tracks_from_albums)"
   ]
  },
  {
   "cell_type": "code",
   "execution_count": 27,
   "id": "worst-laser",
   "metadata": {},
   "outputs": [
    {
     "name": "stdout",
     "output_type": "stream",
     "text": [
      "   aid  gid  mtid                     name   tid  u_price\n",
      "0  152    3     1                  Battery  1853     0.99\n",
      "1  152    3     1        Master Of Puppets  1854     0.99\n",
      "2  152    3     1        Disposable Heroes  1857     0.99\n",
      "0  154    3     1     Fight Fire With Fire  1874     0.99\n",
      "1  154    3     1       Ride The Lightning  1875     0.99\n",
      "2  154    3     1  For Whom The Bell Tolls  1876     0.99\n",
      "3  154    3     1            Fade To Black  1877     0.99\n",
      "4  154    3     1        Trapped Under Ice  1878     0.99\n",
      "0  155    3     1                  Frantic  1882     0.99\n",
      "1  155    3     1                St. Anger  1883     0.99\n",
      "2  155    3     1     Some Kind Of Monster  1884     0.99\n",
      "3  155    3     1             Dirty Window  1885     0.99\n",
      "4  155    3     1            Invisible Kid  1886     0.99\n"
     ]
    }
   ],
   "source": [
    "# Concatenate the tracks, show only columns names that are in all tables\n",
    "tracks_from_albums = pd.concat([tracks_master, tracks_ride, tracks_st],\n",
    "                               join=\"inner\",\n",
    "                               sort=True)\n",
    "print(tracks_from_albums)"
   ]
  },
  {
   "cell_type": "markdown",
   "id": "static-solution",
   "metadata": {},
   "source": [
    "### Concatenating with keys"
   ]
  },
  {
   "cell_type": "code",
   "execution_count": 28,
   "id": "played-dietary",
   "metadata": {},
   "outputs": [],
   "source": [
    "# import data\n",
    "inv_jul = pd.read_csv(\"../datasets/inv_jul.csv\")\n",
    "inv_aug = pd.read_csv(\"../datasets/inv_aug.csv\")\n",
    "inv_sep = pd.read_csv(\"../datasets/inv_sep.csv\")"
   ]
  },
  {
   "cell_type": "code",
   "execution_count": 29,
   "id": "stretch-newark",
   "metadata": {},
   "outputs": [
    {
     "data": {
      "image/png": "[encoded data removed]",
      "text/plain": [
       "<Figure size 432x288 with 1 Axes>"
      ]
     },
     "metadata": {
      "needs_background": "light"
     },
     "output_type": "display_data"
    }
   ],
   "source": [
    "# Concatenate the tables and add keys\n",
    "inv_jul_thr_sep = pd.concat([inv_jul, inv_aug, inv_sep], \n",
    "                            keys=['7Jul','8Aug','9Sep'])\n",
    "\n",
    "# Group the invoices by the index keys and find avg of the total column\n",
    "avg_inv_by_month = inv_jul_thr_sep.groupby(level=0).agg({'total':'mean'})\n",
    "\n",
    "# Bar plot of avg_inv_by_month\n",
    "avg_inv_by_month.plot(kind='bar')\n",
    "plt.show()"
   ]
  },
  {
   "cell_type": "markdown",
   "id": "bored-bennett",
   "metadata": {},
   "source": [
    "### Using the append method"
   ]
  },
  {
   "cell_type": "code",
   "execution_count": 31,
   "id": "verified-stock",
   "metadata": {},
   "outputs": [],
   "source": [
    "# import data\n",
    "invoice_items = pd.read_csv(\"../datasets/invoice_items.csv\")"
   ]
  },
  {
   "cell_type": "code",
   "execution_count": 32,
   "id": "dominican-trouble",
   "metadata": {},
   "outputs": [
    {
     "name": "stdout",
     "output_type": "stream",
     "text": [
      "                              quantity\n",
      "tid  name                             \n",
      "1853 Battery                         2\n",
      "1876 For Whom The Bell Tolls         2\n",
      "1854 Master Of Puppets               1\n",
      "1857 Disposable Heroes               1\n",
      "1875 Ride The Lightning              1\n",
      "1877 Fade To Black                   1\n",
      "1882 Frantic                         1\n",
      "1884 Some Kind Of Monster            1\n",
      "1886 Invisible Kid                   1\n"
     ]
    }
   ],
   "source": [
    "# Use the .append() method to combine the tracks tables\n",
    "metallica_tracks = tracks_ride.append([tracks_master, tracks_st], sort=False)\n",
    "\n",
    "# Merge metallica_tracks and invoice_items\n",
    "tracks_invoices = metallica_tracks.merge(invoice_items, on='tid')\n",
    "\n",
    "# For each tid and name sum the quantity sold\n",
    "tracks_sold = tracks_invoices.groupby(['tid','name']).agg({'quantity':'sum'})\n",
    "\n",
    "# Sort in decending order by quantity and print the results\n",
    "print(tracks_sold.sort_values(['quantity'], ascending=False))"
   ]
  },
  {
   "cell_type": "markdown",
   "id": "stainless-festival",
   "metadata": {},
   "source": [
    "# Verifying Integrity"
   ]
  },
  {
   "cell_type": "markdown",
   "id": "ongoing-quality",
   "metadata": {},
   "source": [
    "### Concatenate and merge to find common songs"
   ]
  },
  {
   "cell_type": "code",
   "execution_count": 34,
   "id": "ceramic-territory",
   "metadata": {},
   "outputs": [],
   "source": [
    "# load data\n",
    "classic_18 = pd.read_csv(\"../datasets/classic_18.csv\")\n",
    "classic_19 = pd.read_csv(\"../datasets/classic_19.csv\")\n",
    "pop_18 = pd.read_csv(\"../datasets/pop_18.csv\")\n",
    "pop_19 = pd.read_csv(\"../datasets/pop_19.csv\")"
   ]
  },
  {
   "cell_type": "code",
   "execution_count": 35,
   "id": "utility-sense",
   "metadata": {},
   "outputs": [
    {
     "name": "stdout",
     "output_type": "stream",
     "text": [
      "    pid   tid\n",
      "3    12  3479\n",
      "10   12  3439\n",
      "21   12  3445\n",
      "23   12  3449\n",
      "48   12  3437\n",
      "50   12  3435\n"
     ]
    }
   ],
   "source": [
    "# Concatenate the classic tables vertically\n",
    "classic_18_19 = pd.concat([classic_18, classic_19], ignore_index=True)\n",
    "\n",
    "# Concatenate the pop tables vertically\n",
    "pop_18_19 = pd.concat([pop_18, pop_19], ignore_index=True)\n",
    "\n",
    "# Merge classic_18_19 with pop_18_19\n",
    "classic_pop = classic_18_19.merge(pop_18_19, on=\"tid\", how=\"inner\")\n",
    "\n",
    "# Using .isin(), filter classic_18_19 rows where tid is in classic_pop\n",
    "popular_classic = classic_18_19[classic_18_19[\"tid\"].isin(classic_pop[\"tid\"])]\n",
    "\n",
    "# Print popular chart\n",
    "print(popular_classic)"
   ]
  },
  {
   "cell_type": "code",
   "execution_count": null,
   "id": "taken-economics",
   "metadata": {},
   "outputs": [],
   "source": []
  }
 ],
 "metadata": {
  "kernelspec": {
   "display_name": "Python 3",
   "language": "python",
   "name": "python3"
  },
  "language_info": {
   "codemirror_mode": {
    "name": "ipython",
    "version": 3
   },
   "file_extension": ".py",
   "mimetype": "text/x-python",
   "name": "python",
   "nbconvert_exporter": "python",
   "pygments_lexer": "ipython3",
   "version": "3.9.0"
  }
 },
 "nbformat": 4,
 "nbformat_minor": 5
}
