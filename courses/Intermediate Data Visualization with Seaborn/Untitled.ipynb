{
 "cells": [
  {
   "cell_type": "code",
   "execution_count": null,
   "id": "9d51aa50-6d54-4b4a-81d6-3b2cc2770e9e",
   "metadata": {},
   "outputs": [],
   "source": []
  },
  {
   "cell_type": "markdown",
   "id": "9f58dacc-4a33-4e1e-a08c-f4397d3ef312",
   "metadata": {},
   "source": [
    "# Categorical Plot Types"
   ]
  },
  {
   "cell_type": "markdown",
   "id": "6f7891fb-ff11-4058-bd3a-c5f5d1ca39ff",
   "metadata": {},
   "source": [
    "### stripplot() and swarmplot()"
   ]
  },
  {
   "cell_type": "code",
   "execution_count": null,
   "id": "eb48c465-0ed0-4f2b-b16e-606dad12097b",
   "metadata": {},
   "outputs": [],
   "source": []
  }
 ],
 "metadata": {
  "kernelspec": {
   "display_name": "Python 3 (ipykernel)",
   "language": "python",
   "name": "python3"
  },
  "language_info": {
   "codemirror_mode": {
    "name": "ipython",
    "version": 3
   },
   "file_extension": ".py",
   "mimetype": "text/x-python",
   "name": "python",
   "nbconvert_exporter": "python",
   "pygments_lexer": "ipython3",
   "version": "3.9.7"
  }
 },
 "nbformat": 4,
 "nbformat_minor": 5
}
