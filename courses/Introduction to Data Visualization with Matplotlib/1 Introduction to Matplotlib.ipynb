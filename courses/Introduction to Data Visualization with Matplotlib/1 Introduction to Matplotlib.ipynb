{
 "cells": [
  {
   "cell_type": "markdown",
   "id": "worse-investor",
   "metadata": {},
   "source": [
    "# Introduciton to data visualization with Matplotlib "
   ]
  },
  {
   "cell_type": "code",
   "execution_count": null,
   "id": "racial-retirement",
   "metadata": {},
   "outputs": [],
   "source": []
  },
  {
   "cell_type": "markdown",
   "id": "worth-zoning",
   "metadata": {},
   "source": [
    "### Using the matplotlib.pyplot interface"
   ]
  },
  {
   "cell_type": "markdown",
   "id": "ordinary-bracelet",
   "metadata": {},
   "source": [
    "```plt.subplots()``` is a function that returns a tuple containing a figure and axes object(s). Thus when using ```fig, ax = plt.subplots()``` you unpack this tuple into the variables ```fig``` and ```ax```. Having fig is useful if you want to change figure-level attributes or save the figure as an image file later (e.g. with ```fig.savefig('yourfilename.png'))```."
   ]
  },
  {
   "cell_type": "code",
   "execution_count": 42,
   "id": "brave-vault",
   "metadata": {},
   "outputs": [
    {
     "data": {
      "image/png": "[encoded data removed]",
      "text/plain": [
       "<Figure size 432x288 with 1 Axes>"
      ]
     },
     "metadata": {
      "needs_background": "light"
     },
     "output_type": "display_data"
    }
   ],
   "source": [
    "# Import the matplotlib.pyplot submodule and name it plt\n",
    "import matplotlib.pyplot as plt\n",
    "\n",
    "# Create a Figure and an Axes with plt.subplots\n",
    "fig, ax = plt.subplots()\n",
    "\n",
    "# Call the show function to show the result\n",
    "plt.show()"
   ]
  },
  {
   "cell_type": "markdown",
   "id": "musical-defendant",
   "metadata": {},
   "source": [
    "### Adding data to an Axes object"
   ]
  },
  {
   "cell_type": "code",
   "execution_count": 67,
   "id": "atomic-capability",
   "metadata": {},
   "outputs": [],
   "source": [
    "# import packages\n",
    "import pandas as pd\n",
    "\n",
    "# Import datasets.\n",
    "seattle_weather = pd.read_csv(\"../datasets/seattle_weather.csv\")\n",
    "austin_weather = pd.read_csv(\"../datasets/austin_weather.csv\")"
   ]
  },
  {
   "cell_type": "code",
   "execution_count": 68,
   "id": "private-zambia",
   "metadata": {},
   "outputs": [],
   "source": [
    "seattle_weather.rename(columns={\"DATE\":\"MONTH\"}, inplace=True)\n",
    "austin_weather.rename(columns={\"DATE\":\"MONTH\"}, inplace=True)"
   ]
  },
  {
   "cell_type": "code",
   "execution_count": 70,
   "id": "valuable-sister",
   "metadata": {},
   "outputs": [
    {
     "name": "stderr",
     "output_type": "stream",
     "text": [
      "<ipython-input-70-d0577aa0d1cf>:2: FutureWarning: Indexing with multiple keys (implicitly converted to a tuple of keys) will be deprecated, use a list instead.\n",
      "  seattle_weather = seattle_weather.groupby(['MONTH'])['MLY-CLDD-BASE45', 'MLY-CLDD-BASE50',\n"
     ]
    }
   ],
   "source": [
    "# summing all of the weather stations so the visualization is rolled up at the city level.\n",
    "seattle_weather = seattle_weather.groupby(['MONTH'])['MLY-CLDD-BASE45', 'MLY-CLDD-BASE50',\n",
    "       'MLY-CLDD-BASE55', 'MLY-CLDD-BASE57', 'MLY-CLDD-BASE60',\n",
    "       'MLY-CLDD-BASE70', 'MLY-CLDD-BASE72', 'MLY-CLDD-NORMAL',\n",
    "       'MLY-DUTR-NORMAL', 'MLY-DUTR-STDDEV', 'MLY-GRDD-BASE40',\n",
    "       'MLY-GRDD-BASE45', 'MLY-GRDD-BASE50', 'MLY-GRDD-BASE55',\n",
    "       'MLY-GRDD-BASE57', 'MLY-GRDD-BASE60', 'MLY-GRDD-BASE65',\n",
    "       'MLY-GRDD-BASE70', 'MLY-GRDD-BASE72', 'MLY-GRDD-TB4886',\n",
    "       'MLY-GRDD-TB5086', 'MLY-HTDD-BASE40', 'MLY-HTDD-BASE45',\n",
    "       'MLY-HTDD-BASE50', 'MLY-HTDD-BASE55', 'MLY-HTDD-BASE57',\n",
    "       'MLY-HTDD-BASE60', 'MLY-HTDD-NORMAL', 'MLY-PRCP-25PCTL',\n",
    "       'MLY-PRCP-50PCTL', 'MLY-PRCP-75PCTL', 'MLY-PRCP-AVGNDS-GE001HI',\n",
    "       'MLY-PRCP-AVGNDS-GE010HI', 'MLY-PRCP-AVGNDS-GE050HI',\n",
    "       'MLY-PRCP-AVGNDS-GE100HI', 'MLY-PRCP-NORMAL', 'MLY-SNOW-25PCTL',\n",
    "       'MLY-SNOW-50PCTL', 'MLY-SNOW-75PCTL', 'MLY-SNOW-AVGNDS-GE001TI',\n",
    "       'MLY-SNOW-AVGNDS-GE010TI', 'MLY-SNOW-AVGNDS-GE030TI',\n",
    "       'MLY-SNOW-AVGNDS-GE050TI', 'MLY-SNOW-AVGNDS-GE100TI', 'MLY-SNOW-NORMAL',\n",
    "       'MLY-SNWD-AVGNDS-GE001WI', 'MLY-SNWD-AVGNDS-GE003WI',\n",
    "       'MLY-SNWD-AVGNDS-GE005WI', 'MLY-SNWD-AVGNDS-GE010WI', 'MLY-TAVG-NORMAL',\n",
    "       'MLY-TAVG-STDDEV', 'MLY-TMAX-AVGNDS-GRTH040', 'MLY-TMAX-AVGNDS-GRTH050',\n",
    "       'MLY-TMAX-AVGNDS-GRTH060', 'MLY-TMAX-AVGNDS-GRTH070',\n",
    "       'MLY-TMAX-AVGNDS-GRTH080', 'MLY-TMAX-AVGNDS-GRTH090',\n",
    "       'MLY-TMAX-AVGNDS-GRTH100', 'MLY-TMAX-AVGNDS-LSTH032', 'MLY-TMAX-NORMAL',\n",
    "       'MLY-TMAX-STDDEV', 'MLY-TMIN-AVGNDS-LSTH000', 'MLY-TMIN-AVGNDS-LSTH010',\n",
    "       'MLY-TMIN-AVGNDS-LSTH020', 'MLY-TMIN-AVGNDS-LSTH032',\n",
    "       'MLY-TMIN-AVGNDS-LSTH040', 'MLY-TMIN-AVGNDS-LSTH050',\n",
    "       'MLY-TMIN-AVGNDS-LSTH060', 'MLY-TMIN-AVGNDS-LSTH070', 'MLY-TMIN-NORMAL',\n",
    "       'MLY-TMIN-PRBOCC-LSTH016', 'MLY-TMIN-PRBOCC-LSTH020',\n",
    "       'MLY-TMIN-PRBOCC-LSTH024', 'MLY-TMIN-PRBOCC-LSTH028',\n",
    "       'MLY-TMIN-PRBOCC-LSTH032', 'MLY-TMIN-PRBOCC-LSTH036',\n",
    "       'MLY-TMIN-STDDEV'].sum()\n",
    "# resetting the index to turn the currend index of month into a column.\n",
    "seattle_weather.reset_index(inplace=True)"
   ]
  },
  {
   "cell_type": "code",
   "execution_count": 71,
   "id": "associate-extra",
   "metadata": {},
   "outputs": [
    {
     "data": {
      "text/html": [
       "<div>\n",
       "<style scoped>\n",
       "    .dataframe tbody tr th:only-of-type {\n",
       "        vertical-align: middle;\n",
       "    }\n",
       "\n",
       "    .dataframe tbody tr th {\n",
       "        vertical-align: top;\n",
       "    }\n",
       "\n",
       "    .dataframe thead th {\n",
       "        text-align: right;\n",
       "    }\n",
       "</style>\n",
       "<table border=\"1\" class=\"dataframe\">\n",
       "  <thead>\n",
       "    <tr style=\"text-align: right;\">\n",
       "      <th></th>\n",
       "      <th>MONTH</th>\n",
       "      <th>MLY-CLDD-BASE45</th>\n",
       "      <th>MLY-CLDD-BASE50</th>\n",
       "      <th>MLY-CLDD-BASE55</th>\n",
       "      <th>MLY-CLDD-BASE57</th>\n",
       "      <th>MLY-CLDD-BASE60</th>\n",
       "      <th>MLY-CLDD-BASE70</th>\n",
       "      <th>MLY-CLDD-BASE72</th>\n",
       "      <th>MLY-CLDD-NORMAL</th>\n",
       "      <th>MLY-DUTR-NORMAL</th>\n",
       "      <th>...</th>\n",
       "      <th>MLY-TMIN-AVGNDS-LSTH060</th>\n",
       "      <th>MLY-TMIN-AVGNDS-LSTH070</th>\n",
       "      <th>MLY-TMIN-NORMAL</th>\n",
       "      <th>MLY-TMIN-PRBOCC-LSTH016</th>\n",
       "      <th>MLY-TMIN-PRBOCC-LSTH020</th>\n",
       "      <th>MLY-TMIN-PRBOCC-LSTH024</th>\n",
       "      <th>MLY-TMIN-PRBOCC-LSTH028</th>\n",
       "      <th>MLY-TMIN-PRBOCC-LSTH032</th>\n",
       "      <th>MLY-TMIN-PRBOCC-LSTH036</th>\n",
       "      <th>MLY-TMIN-STDDEV</th>\n",
       "    </tr>\n",
       "  </thead>\n",
       "  <tbody>\n",
       "    <tr>\n",
       "      <th>0</th>\n",
       "      <td>1</td>\n",
       "      <td>367.0</td>\n",
       "      <td>-7727.0</td>\n",
       "      <td>-93322.0</td>\n",
       "      <td>-54439.0</td>\n",
       "      <td>-7777.0</td>\n",
       "      <td>0.0</td>\n",
       "      <td>0.0</td>\n",
       "      <td>0.0</td>\n",
       "      <td>160.9</td>\n",
       "      <td>...</td>\n",
       "      <td>4650.0</td>\n",
       "      <td>4650.0</td>\n",
       "      <td>534.2</td>\n",
       "      <td>1616.0</td>\n",
       "      <td>3677.0</td>\n",
       "      <td>7767.0</td>\n",
       "      <td>12423.0</td>\n",
       "      <td>14665.0</td>\n",
       "      <td>14994.0</td>\n",
       "      <td>41.0</td>\n",
       "    </tr>\n",
       "    <tr>\n",
       "      <th>1</th>\n",
       "      <td>2</td>\n",
       "      <td>418.0</td>\n",
       "      <td>52.0</td>\n",
       "      <td>-108877.0</td>\n",
       "      <td>-101101.0</td>\n",
       "      <td>-15554.0</td>\n",
       "      <td>0.0</td>\n",
       "      <td>0.0</td>\n",
       "      <td>0.0</td>\n",
       "      <td>208.3</td>\n",
       "      <td>...</td>\n",
       "      <td>4200.0</td>\n",
       "      <td>4200.0</td>\n",
       "      <td>530.7</td>\n",
       "      <td>864.0</td>\n",
       "      <td>2573.0</td>\n",
       "      <td>6183.0</td>\n",
       "      <td>11006.0</td>\n",
       "      <td>14288.0</td>\n",
       "      <td>14992.0</td>\n",
       "      <td>43.5</td>\n",
       "    </tr>\n",
       "    <tr>\n",
       "      <th>2</th>\n",
       "      <td>3</td>\n",
       "      <td>1122.0</td>\n",
       "      <td>260.0</td>\n",
       "      <td>-7746.0</td>\n",
       "      <td>-46653.0</td>\n",
       "      <td>-116655.0</td>\n",
       "      <td>0.0</td>\n",
       "      <td>0.0</td>\n",
       "      <td>-62216.0</td>\n",
       "      <td>230.0</td>\n",
       "      <td>...</td>\n",
       "      <td>4650.0</td>\n",
       "      <td>4650.0</td>\n",
       "      <td>570.5</td>\n",
       "      <td>98.0</td>\n",
       "      <td>407.0</td>\n",
       "      <td>1510.0</td>\n",
       "      <td>5580.0</td>\n",
       "      <td>11810.0</td>\n",
       "      <td>14786.0</td>\n",
       "      <td>30.9</td>\n",
       "    </tr>\n",
       "    <tr>\n",
       "      <th>3</th>\n",
       "      <td>4</td>\n",
       "      <td>2332.0</td>\n",
       "      <td>870.0</td>\n",
       "      <td>224.0</td>\n",
       "      <td>118.0</td>\n",
       "      <td>36.0</td>\n",
       "      <td>-23331.0</td>\n",
       "      <td>0.0</td>\n",
       "      <td>-108878.0</td>\n",
       "      <td>256.4</td>\n",
       "      <td>...</td>\n",
       "      <td>4500.0</td>\n",
       "      <td>4500.0</td>\n",
       "      <td>616.9</td>\n",
       "      <td>0.0</td>\n",
       "      <td>9.0</td>\n",
       "      <td>148.0</td>\n",
       "      <td>1291.0</td>\n",
       "      <td>5845.0</td>\n",
       "      <td>12592.0</td>\n",
       "      <td>28.6</td>\n",
       "    </tr>\n",
       "    <tr>\n",
       "      <th>4</th>\n",
       "      <td>5</td>\n",
       "      <td>4772.0</td>\n",
       "      <td>2645.0</td>\n",
       "      <td>1090.0</td>\n",
       "      <td>693.0</td>\n",
       "      <td>317.0</td>\n",
       "      <td>-62209.0</td>\n",
       "      <td>-116655.0</td>\n",
       "      <td>62.0</td>\n",
       "      <td>271.6</td>\n",
       "      <td>...</td>\n",
       "      <td>4645.0</td>\n",
       "      <td>4650.0</td>\n",
       "      <td>692.1</td>\n",
       "      <td>0.0</td>\n",
       "      <td>0.0</td>\n",
       "      <td>22.0</td>\n",
       "      <td>97.0</td>\n",
       "      <td>914.0</td>\n",
       "      <td>4654.0</td>\n",
       "      <td>29.0</td>\n",
       "    </tr>\n",
       "  </tbody>\n",
       "</table>\n",
       "<p>5 rows × 78 columns</p>\n",
       "</div>"
      ],
      "text/plain": [
       "   MONTH  MLY-CLDD-BASE45  MLY-CLDD-BASE50  MLY-CLDD-BASE55  MLY-CLDD-BASE57  \\\n",
       "0      1            367.0          -7727.0         -93322.0         -54439.0   \n",
       "1      2            418.0             52.0        -108877.0        -101101.0   \n",
       "2      3           1122.0            260.0          -7746.0         -46653.0   \n",
       "3      4           2332.0            870.0            224.0            118.0   \n",
       "4      5           4772.0           2645.0           1090.0            693.0   \n",
       "\n",
       "   MLY-CLDD-BASE60  MLY-CLDD-BASE70  MLY-CLDD-BASE72  MLY-CLDD-NORMAL  \\\n",
       "0          -7777.0              0.0              0.0              0.0   \n",
       "1         -15554.0              0.0              0.0              0.0   \n",
       "2        -116655.0              0.0              0.0         -62216.0   \n",
       "3             36.0         -23331.0              0.0        -108878.0   \n",
       "4            317.0         -62209.0        -116655.0             62.0   \n",
       "\n",
       "   MLY-DUTR-NORMAL  ...  MLY-TMIN-AVGNDS-LSTH060  MLY-TMIN-AVGNDS-LSTH070  \\\n",
       "0            160.9  ...                   4650.0                   4650.0   \n",
       "1            208.3  ...                   4200.0                   4200.0   \n",
       "2            230.0  ...                   4650.0                   4650.0   \n",
       "3            256.4  ...                   4500.0                   4500.0   \n",
       "4            271.6  ...                   4645.0                   4650.0   \n",
       "\n",
       "   MLY-TMIN-NORMAL  MLY-TMIN-PRBOCC-LSTH016  MLY-TMIN-PRBOCC-LSTH020  \\\n",
       "0            534.2                   1616.0                   3677.0   \n",
       "1            530.7                    864.0                   2573.0   \n",
       "2            570.5                     98.0                    407.0   \n",
       "3            616.9                      0.0                      9.0   \n",
       "4            692.1                      0.0                      0.0   \n",
       "\n",
       "   MLY-TMIN-PRBOCC-LSTH024  MLY-TMIN-PRBOCC-LSTH028  MLY-TMIN-PRBOCC-LSTH032  \\\n",
       "0                   7767.0                  12423.0                  14665.0   \n",
       "1                   6183.0                  11006.0                  14288.0   \n",
       "2                   1510.0                   5580.0                  11810.0   \n",
       "3                    148.0                   1291.0                   5845.0   \n",
       "4                     22.0                     97.0                    914.0   \n",
       "\n",
       "   MLY-TMIN-PRBOCC-LSTH036  MLY-TMIN-STDDEV  \n",
       "0                  14994.0             41.0  \n",
       "1                  14992.0             43.5  \n",
       "2                  14786.0             30.9  \n",
       "3                  12592.0             28.6  \n",
       "4                   4654.0             29.0  \n",
       "\n",
       "[5 rows x 78 columns]"
      ]
     },
     "execution_count": 71,
     "metadata": {},
     "output_type": "execute_result"
    }
   ],
   "source": [
    "seattle_weather.head()"
   ]
  },
  {
   "cell_type": "code",
   "execution_count": 72,
   "id": "packed-package",
   "metadata": {},
   "outputs": [
    {
     "data": {
      "text/html": [
       "<div>\n",
       "<style scoped>\n",
       "    .dataframe tbody tr th:only-of-type {\n",
       "        vertical-align: middle;\n",
       "    }\n",
       "\n",
       "    .dataframe tbody tr th {\n",
       "        vertical-align: top;\n",
       "    }\n",
       "\n",
       "    .dataframe thead th {\n",
       "        text-align: right;\n",
       "    }\n",
       "</style>\n",
       "<table border=\"1\" class=\"dataframe\">\n",
       "  <thead>\n",
       "    <tr style=\"text-align: right;\">\n",
       "      <th></th>\n",
       "      <th>STATION</th>\n",
       "      <th>NAME</th>\n",
       "      <th>MONTH</th>\n",
       "      <th>MLY-CLDD-BASE45</th>\n",
       "      <th>MLY-CLDD-BASE50</th>\n",
       "      <th>MLY-CLDD-BASE55</th>\n",
       "      <th>MLY-CLDD-BASE57</th>\n",
       "      <th>MLY-CLDD-BASE60</th>\n",
       "      <th>MLY-CLDD-BASE70</th>\n",
       "      <th>MLY-CLDD-BASE72</th>\n",
       "      <th>...</th>\n",
       "      <th>MLY-TMIN-AVGNDS-LSTH060</th>\n",
       "      <th>MLY-TMIN-AVGNDS-LSTH070</th>\n",
       "      <th>MLY-TMIN-NORMAL</th>\n",
       "      <th>MLY-TMIN-PRBOCC-LSTH016</th>\n",
       "      <th>MLY-TMIN-PRBOCC-LSTH020</th>\n",
       "      <th>MLY-TMIN-PRBOCC-LSTH024</th>\n",
       "      <th>MLY-TMIN-PRBOCC-LSTH028</th>\n",
       "      <th>MLY-TMIN-PRBOCC-LSTH032</th>\n",
       "      <th>MLY-TMIN-PRBOCC-LSTH036</th>\n",
       "      <th>MLY-TMIN-STDDEV</th>\n",
       "    </tr>\n",
       "  </thead>\n",
       "  <tbody>\n",
       "    <tr>\n",
       "      <th>0</th>\n",
       "      <td>USW00013904</td>\n",
       "      <td>AUSTIN BERGSTROM INTERNATIONAL AIRPORT, TX US</td>\n",
       "      <td>1</td>\n",
       "      <td>190</td>\n",
       "      <td>103</td>\n",
       "      <td>50</td>\n",
       "      <td>35</td>\n",
       "      <td>18</td>\n",
       "      <td>1</td>\n",
       "      <td>-7777</td>\n",
       "      <td>...</td>\n",
       "      <td>302</td>\n",
       "      <td>310</td>\n",
       "      <td>36.3</td>\n",
       "      <td>298</td>\n",
       "      <td>570</td>\n",
       "      <td>839</td>\n",
       "      <td>967</td>\n",
       "      <td>997</td>\n",
       "      <td>1000</td>\n",
       "      <td>2.9</td>\n",
       "    </tr>\n",
       "    <tr>\n",
       "      <th>1</th>\n",
       "      <td>USW00013904</td>\n",
       "      <td>AUSTIN BERGSTROM INTERNATIONAL AIRPORT, TX US</td>\n",
       "      <td>2</td>\n",
       "      <td>228</td>\n",
       "      <td>132</td>\n",
       "      <td>68</td>\n",
       "      <td>49</td>\n",
       "      <td>29</td>\n",
       "      <td>3</td>\n",
       "      <td>1</td>\n",
       "      <td>...</td>\n",
       "      <td>264</td>\n",
       "      <td>280</td>\n",
       "      <td>39.4</td>\n",
       "      <td>103</td>\n",
       "      <td>327</td>\n",
       "      <td>614</td>\n",
       "      <td>867</td>\n",
       "      <td>973</td>\n",
       "      <td>999</td>\n",
       "      <td>3.2</td>\n",
       "    </tr>\n",
       "    <tr>\n",
       "      <th>2</th>\n",
       "      <td>USW00013904</td>\n",
       "      <td>AUSTIN BERGSTROM INTERNATIONAL AIRPORT, TX US</td>\n",
       "      <td>3</td>\n",
       "      <td>446</td>\n",
       "      <td>306</td>\n",
       "      <td>185</td>\n",
       "      <td>146</td>\n",
       "      <td>98</td>\n",
       "      <td>13</td>\n",
       "      <td>6</td>\n",
       "      <td>...</td>\n",
       "      <td>270</td>\n",
       "      <td>308</td>\n",
       "      <td>46.6</td>\n",
       "      <td>10</td>\n",
       "      <td>73</td>\n",
       "      <td>242</td>\n",
       "      <td>494</td>\n",
       "      <td>761</td>\n",
       "      <td>928</td>\n",
       "      <td>3.6</td>\n",
       "    </tr>\n",
       "    <tr>\n",
       "      <th>3</th>\n",
       "      <td>USW00013904</td>\n",
       "      <td>AUSTIN BERGSTROM INTERNATIONAL AIRPORT, TX US</td>\n",
       "      <td>4</td>\n",
       "      <td>668</td>\n",
       "      <td>519</td>\n",
       "      <td>373</td>\n",
       "      <td>318</td>\n",
       "      <td>240</td>\n",
       "      <td>53</td>\n",
       "      <td>32</td>\n",
       "      <td>...</td>\n",
       "      <td>193</td>\n",
       "      <td>287</td>\n",
       "      <td>54.7</td>\n",
       "      <td>0</td>\n",
       "      <td>0</td>\n",
       "      <td>0</td>\n",
       "      <td>48</td>\n",
       "      <td>189</td>\n",
       "      <td>453</td>\n",
       "      <td>4.1</td>\n",
       "    </tr>\n",
       "    <tr>\n",
       "      <th>4</th>\n",
       "      <td>USW00013904</td>\n",
       "      <td>AUSTIN BERGSTROM INTERNATIONAL AIRPORT, TX US</td>\n",
       "      <td>5</td>\n",
       "      <td>936</td>\n",
       "      <td>781</td>\n",
       "      <td>626</td>\n",
       "      <td>564</td>\n",
       "      <td>471</td>\n",
       "      <td>181</td>\n",
       "      <td>134</td>\n",
       "      <td>...</td>\n",
       "      <td>89</td>\n",
       "      <td>250</td>\n",
       "      <td>63.7</td>\n",
       "      <td>0</td>\n",
       "      <td>0</td>\n",
       "      <td>0</td>\n",
       "      <td>0</td>\n",
       "      <td>0</td>\n",
       "      <td>0</td>\n",
       "      <td>2.5</td>\n",
       "    </tr>\n",
       "  </tbody>\n",
       "</table>\n",
       "<p>5 rows × 67 columns</p>\n",
       "</div>"
      ],
      "text/plain": [
       "       STATION                                           NAME  MONTH  \\\n",
       "0  USW00013904  AUSTIN BERGSTROM INTERNATIONAL AIRPORT, TX US      1   \n",
       "1  USW00013904  AUSTIN BERGSTROM INTERNATIONAL AIRPORT, TX US      2   \n",
       "2  USW00013904  AUSTIN BERGSTROM INTERNATIONAL AIRPORT, TX US      3   \n",
       "3  USW00013904  AUSTIN BERGSTROM INTERNATIONAL AIRPORT, TX US      4   \n",
       "4  USW00013904  AUSTIN BERGSTROM INTERNATIONAL AIRPORT, TX US      5   \n",
       "\n",
       "   MLY-CLDD-BASE45  MLY-CLDD-BASE50  MLY-CLDD-BASE55  MLY-CLDD-BASE57  \\\n",
       "0              190              103               50               35   \n",
       "1              228              132               68               49   \n",
       "2              446              306              185              146   \n",
       "3              668              519              373              318   \n",
       "4              936              781              626              564   \n",
       "\n",
       "   MLY-CLDD-BASE60  MLY-CLDD-BASE70  MLY-CLDD-BASE72  ...  \\\n",
       "0               18                1            -7777  ...   \n",
       "1               29                3                1  ...   \n",
       "2               98               13                6  ...   \n",
       "3              240               53               32  ...   \n",
       "4              471              181              134  ...   \n",
       "\n",
       "   MLY-TMIN-AVGNDS-LSTH060  MLY-TMIN-AVGNDS-LSTH070  MLY-TMIN-NORMAL  \\\n",
       "0                      302                      310             36.3   \n",
       "1                      264                      280             39.4   \n",
       "2                      270                      308             46.6   \n",
       "3                      193                      287             54.7   \n",
       "4                       89                      250             63.7   \n",
       "\n",
       "   MLY-TMIN-PRBOCC-LSTH016  MLY-TMIN-PRBOCC-LSTH020  MLY-TMIN-PRBOCC-LSTH024  \\\n",
       "0                      298                      570                      839   \n",
       "1                      103                      327                      614   \n",
       "2                       10                       73                      242   \n",
       "3                        0                        0                        0   \n",
       "4                        0                        0                        0   \n",
       "\n",
       "   MLY-TMIN-PRBOCC-LSTH028  MLY-TMIN-PRBOCC-LSTH032  MLY-TMIN-PRBOCC-LSTH036  \\\n",
       "0                      967                      997                     1000   \n",
       "1                      867                      973                      999   \n",
       "2                      494                      761                      928   \n",
       "3                       48                      189                      453   \n",
       "4                        0                        0                        0   \n",
       "\n",
       "   MLY-TMIN-STDDEV  \n",
       "0              2.9  \n",
       "1              3.2  \n",
       "2              3.6  \n",
       "3              4.1  \n",
       "4              2.5  \n",
       "\n",
       "[5 rows x 67 columns]"
      ]
     },
     "execution_count": 72,
     "metadata": {},
     "output_type": "execute_result"
    }
   ],
   "source": [
    "austin_weather.head()"
   ]
  },
  {
   "cell_type": "code",
   "execution_count": 73,
   "id": "absolute-officer",
   "metadata": {},
   "outputs": [
    {
     "data": {
      "image/png": "[encoded data removed]",
      "text/plain": [
       "<Figure size 432x288 with 1 Axes>"
      ]
     },
     "metadata": {
      "needs_background": "light"
     },
     "output_type": "display_data"
    }
   ],
   "source": [
    "# Import the matplotlib.pyplot submodule and name it plt\n",
    "import matplotlib.pyplot as plt\n",
    "\n",
    "# Create a Figure and an Axes with plt.subplots\n",
    "fig, ax = plt.subplots()\n",
    "\n",
    "# Plot MLY-PRCP-NORMAL from seattle_weather against the MONTH\n",
    "ax.plot(seattle_weather[\"MONTH\"], seattle_weather[\"MLY-PRCP-NORMAL\"])\n",
    "\n",
    "# Plot MLY-PRCP-NORMAL from austin_weather against MONTH\n",
    "ax.plot(austin_weather[\"MONTH\"], austin_weather[\"MLY-PRCP-NORMAL\"])\n",
    "\n",
    "# Call the show function\n",
    "plt.show()"
   ]
  },
  {
   "cell_type": "markdown",
   "id": "portable-winter",
   "metadata": {},
   "source": [
    "# Customizing Your Plots"
   ]
  },
  {
   "cell_type": "markdown",
   "id": "inclusive-anaheim",
   "metadata": {},
   "source": [
    "### Customizing Data Appearance"
   ]
  },
  {
   "cell_type": "code",
   "execution_count": 74,
   "id": "referenced-newsletter",
   "metadata": {},
   "outputs": [
    {
     "data": {
      "image/png": "[encoded data removed]",
      "text/plain": [
       "<Figure size 432x288 with 1 Axes>"
      ]
     },
     "metadata": {
      "needs_background": "light"
     },
     "output_type": "display_data"
    }
   ],
   "source": [
    "# Create a Figure and an Axes with plt.subplots\n",
    "fig, ax = plt.subplots()\n",
    "\n",
    "# Plot Seattle data, setting data appearance\n",
    "ax.plot(seattle_weather[\"MONTH\"], seattle_weather[\"MLY-PRCP-NORMAL\"], color=\"b\", marker=\"o\", linestyle=\"--\")\n",
    "\n",
    "# Plot Austin data, setting data appearance\n",
    "ax.plot(austin_weather[\"MONTH\"], austin_weather[\"MLY-PRCP-NORMAL\"], color=\"r\", marker=\"v\", linestyle=\"--\")\n",
    "\n",
    "# Call show to display the resulting plot\n",
    "plt.show()"
   ]
  },
  {
   "cell_type": "markdown",
   "id": "passive-resolution",
   "metadata": {},
   "source": [
    "\n",
    "### Customizing axis labels and adding titles"
   ]
  },
  {
   "cell_type": "code",
   "execution_count": 75,
   "id": "connected-duncan",
   "metadata": {},
   "outputs": [
    {
     "data": {
      "image/png": "[encoded data removed]",
      "text/plain": [
       "<Figure size 432x288 with 1 Axes>"
      ]
     },
     "metadata": {
      "needs_background": "light"
     },
     "output_type": "display_data"
    }
   ],
   "source": [
    "# Create a Figure and an Axes with plt.subplots\n",
    "fig, ax = plt.subplots()\n",
    "\n",
    "ax.plot(seattle_weather[\"MONTH\"], seattle_weather[\"MLY-PRCP-NORMAL\"])\n",
    "ax.plot(austin_weather[\"MONTH\"], austin_weather[\"MLY-PRCP-NORMAL\"])\n",
    "\n",
    "# Customize the x-axis label\n",
    "ax.set_xlabel(\"Time (months)\")\n",
    "\n",
    "# Customize the y-axis label\n",
    "ax.set_ylabel(\"Precipitation (inches)\")\n",
    "\n",
    "# Add the title\n",
    "ax.set_title(\"Weather patterns in Austin and Seattle\")\n",
    "\n",
    "# Display the figure\n",
    "plt.show()"
   ]
  },
  {
   "cell_type": "markdown",
   "id": "british-patio",
   "metadata": {},
   "source": [
    "# Small Multiples"
   ]
  },
  {
   "cell_type": "markdown",
   "id": "encouraging-while",
   "metadata": {},
   "source": [
    "### Creating small multiples with plt.subplots"
   ]
  },
  {
   "cell_type": "code",
   "execution_count": 76,
   "id": "processed-branch",
   "metadata": {},
   "outputs": [
    {
     "data": {
      "image/png": "[encoded data removed]",
      "text/plain": [
       "<Figure size 432x288 with 4 Axes>"
      ]
     },
     "metadata": {
      "needs_background": "light"
     },
     "output_type": "display_data"
    }
   ],
   "source": [
    "# Create a Figure and an array of subplots with 2 rows and 2 columns\n",
    "fig, ax = plt.subplots(2, 2)\n",
    "\n",
    "# Addressing the top left Axes as index 0, 0, plot month and Seattle precipitation\n",
    "ax[0, 0].plot(seattle_weather[\"MONTH\"], seattle_weather[\"MLY-PRCP-NORMAL\"])\n",
    "\n",
    "# In the top right (index 0,1), plot month and Seattle temperatures\n",
    "ax[0, 1].plot(seattle_weather[\"MONTH\"], seattle_weather[\"MLY-TAVG-NORMAL\"])\n",
    "\n",
    "# In the bottom left (1, 0) plot month and Austin precipitations\n",
    "ax[1,0].plot(austin_weather[\"MONTH\"], austin_weather[\"MLY-PRCP-NORMAL\"])\n",
    "\n",
    "# In the bottom right (1, 1) plot month and Austin temperatures\n",
    "ax[1,1].plot(austin_weather[\"MONTH\"], austin_weather[\"MLY-TAVG-NORMAL\"])\n",
    "plt.show()"
   ]
  },
  {
   "cell_type": "markdown",
   "id": "numerous-retail",
   "metadata": {},
   "source": [
    "### Small multiples with shared y axis"
   ]
  },
  {
   "cell_type": "code",
   "execution_count": 77,
   "id": "soviet-marsh",
   "metadata": {},
   "outputs": [
    {
     "data": {
      "image/png": "[encoded data removed]",
      "text/plain": [
       "<Figure size 432x288 with 2 Axes>"
      ]
     },
     "metadata": {
      "needs_background": "light"
     },
     "output_type": "display_data"
    }
   ],
   "source": [
    "# Create a figure and an array of axes: 2 rows, 1 column with shared y axis\n",
    "fig, ax = plt.subplots(2, 1, sharey=True)\n",
    "\n",
    "# Plot Seattle precipitation in the top axes\n",
    "ax[0].plot(seattle_weather[\"MONTH\"], seattle_weather[\"MLY-PRCP-NORMAL\"], color='b')\n",
    "ax[0].plot(seattle_weather[\"MONTH\"], seattle_weather[\"MLY-PRCP-25PCTL\"], color='b', linestyle='--')\n",
    "ax[0].plot(seattle_weather[\"MONTH\"], seattle_weather[\"MLY-PRCP-75PCTL\"], color='b', linestyle='--')\n",
    "\n",
    "# Plot Austin precipitation in the bottom axes\n",
    "ax[1].plot(austin_weather[\"MONTH\"], austin_weather[\"MLY-PRCP-NORMAL\"], color='r')\n",
    "ax[1].plot(austin_weather[\"MONTH\"], austin_weather[\"MLY-PRCP-25PCTL\"], color='r', linestyle='--')\n",
    "ax[1].plot(austin_weather[\"MONTH\"], austin_weather[\"MLY-PRCP-75PCTL\"], color='r', linestyle='--')\n",
    "\n",
    "plt.show()"
   ]
  },
  {
   "cell_type": "code",
   "execution_count": null,
   "id": "current-kernel",
   "metadata": {},
   "outputs": [],
   "source": []
  }
 ],
 "metadata": {
  "kernelspec": {
   "display_name": "Python 3",
   "language": "python",
   "name": "python3"
  },
  "language_info": {
   "codemirror_mode": {
    "name": "ipython",
    "version": 3
   },
   "file_extension": ".py",
   "mimetype": "text/x-python",
   "name": "python",
   "nbconvert_exporter": "python",
   "pygments_lexer": "ipython3",
   "version": "3.9.10"
  }
 },
 "nbformat": 4,
 "nbformat_minor": 5
}
