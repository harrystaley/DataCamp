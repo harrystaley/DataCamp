{
 "cells": [
  {
   "cell_type": "code",
   "execution_count": 4,
   "id": "6297d0bb-0fcf-4ecd-9869-76000efe5642",
   "metadata": {},
   "outputs": [
    {
     "name": "stdout",
     "output_type": "stream",
     "text": [
      "                    state   stop_date stop_time  county_name driver_gender  \\\n",
      "stop_datetime                                                                \n",
      "2005-01-04 12:55:00    RI  2005-01-04     12:55          NaN             M   \n",
      "2005-01-23 23:15:00    RI  2005-01-23     23:15          NaN             M   \n",
      "2005-02-17 04:15:00    RI  2005-02-17     04:15          NaN             M   \n",
      "2005-02-20 17:15:00    RI  2005-02-20     17:15          NaN             M   \n",
      "2005-02-24 01:20:00    RI  2005-02-24     01:20          NaN             F   \n",
      "\n",
      "                    driver_race                   violation_raw  violation  \\\n",
      "stop_datetime                                                                \n",
      "2005-01-04 12:55:00       White  Equipment/Inspection Violation  Equipment   \n",
      "2005-01-23 23:15:00       White                        Speeding   Speeding   \n",
      "2005-02-17 04:15:00       White                        Speeding   Speeding   \n",
      "2005-02-20 17:15:00       White                Call for Service      Other   \n",
      "2005-02-24 01:20:00       White                        Speeding   Speeding   \n",
      "\n",
      "                     search_conducted search_type   stop_outcome is_arrested  \\\n",
      "stop_datetime                                                                  \n",
      "2005-01-04 12:55:00             False         NaN       Citation       False   \n",
      "2005-01-23 23:15:00             False         NaN       Citation       False   \n",
      "2005-02-17 04:15:00             False         NaN       Citation       False   \n",
      "2005-02-20 17:15:00             False         NaN  Arrest Driver        True   \n",
      "2005-02-24 01:20:00             False         NaN       Citation       False   \n",
      "\n",
      "                    stop_duration  drugs_related_stop district  \n",
      "stop_datetime                                                   \n",
      "2005-01-04 12:55:00      0-15 Min               False  Zone X4  \n",
      "2005-01-23 23:15:00      0-15 Min               False  Zone K3  \n",
      "2005-02-17 04:15:00      0-15 Min               False  Zone X4  \n",
      "2005-02-20 17:15:00     16-30 Min               False  Zone X1  \n",
      "2005-02-24 01:20:00      0-15 Min               False  Zone X3  \n"
     ]
    }
   ],
   "source": [
    "# Import the pandas library as pd\n",
    "import pandas as pd\n",
    "import matplotlib.pyplot as plt\n",
    "\n",
    "# Read 'police.csv' into a DataFrame named ri\n",
    "ri = pd.read_csv('../datasets/police.csv')\n",
    "# create a date time column.\n",
    "ri['stop_datetime'] =  pd.to_datetime(ri.stop_date + ' ' + ri.stop_time)\n",
    "# set the date time as an index.\n",
    "ri.set_index('stop_datetime', inplace=True)\n",
    "\n",
    "# Examine the head of the DataFrame\n",
    "print(ri.head())"
   ]
  },
  {
   "cell_type": "markdown",
   "id": "3cbc24bd-36fa-4f73-a772-c1e60f7395b8",
   "metadata": {},
   "source": [
    "# Exploring the weather dataset"
   ]
  },
  {
   "cell_type": "markdown",
   "id": "839e5807-78b6-419b-b721-f5a4affe26f5",
   "metadata": {},
   "source": [
    "### Plotting the temperature\n",
    "\n",
    "Let's examine the temperature columns from the weather dataset to assess whether the data seems trustworthy. First printing the summary statistics, and then visualizeing the data using a box plot.\n",
    "\n",
    "When deciding whether the values seem reasonable, i'll keep in mind that the temperature is measured in degrees Fahrenheit, not Celsius!"
   ]
  },
  {
   "cell_type": "code",
   "execution_count": 5,
   "id": "453bcc8a-269e-409c-89f1-f9169348c11e",
   "metadata": {},
   "outputs": [
    {
     "name": "stdout",
     "output_type": "stream",
     "text": [
      "              TMIN         TAVG         TMAX\n",
      "count  4017.000000  1217.000000  4017.000000\n",
      "mean     43.484441    52.493016    61.268608\n",
      "std      17.020298    17.830714    18.199517\n",
      "min      -5.000000     6.000000    15.000000\n",
      "25%      30.000000    39.000000    47.000000\n",
      "50%      44.000000    54.000000    62.000000\n",
      "75%      58.000000    68.000000    77.000000\n",
      "max      77.000000    86.000000   102.000000\n"
     ]
    },
    {
     "data": {
      "image/png": "[encoded data removed]",
      "text/plain": [
       "<Figure size 432x288 with 1 Axes>"
      ]
     },
     "metadata": {
      "needs_background": "light"
     },
     "output_type": "display_data"
    }
   ],
   "source": [
    "# Read 'weather.csv' into a DataFrame named 'weather'\n",
    "weather = pd.read_csv(\"../datasets/weather.csv\")\n",
    "\n",
    "# Describe the temperature columns\n",
    "print(weather[['TMIN', 'TAVG', 'TMAX']].describe())\n",
    "\n",
    "# Create a box plot of the temperature columns\n",
    "weather.plot(kind='box')\n",
    "\n",
    "# Display the plot\n",
    "plt.show()"
   ]
  },
  {
   "cell_type": "markdown",
   "id": "eb55b7e0-2052-415f-b7dc-d9a24fc6f8c4",
   "metadata": {},
   "source": [
    "### Plotting the temperature difference\n",
    "\n",
    "Let's continue to assess whether the dataset seems trustworthy by plotting the difference between the maximum and minimum temperatures."
   ]
  },
  {
   "cell_type": "code",
   "execution_count": 8,
   "id": "6447533f-4cd2-493c-a388-b96d013bf899",
   "metadata": {},
   "outputs": [
    {
     "name": "stdout",
     "output_type": "stream",
     "text": [
      "count    4017.000000\n",
      "mean       17.784167\n",
      "std         6.350720\n",
      "min         2.000000\n",
      "25%        14.000000\n",
      "50%        18.000000\n",
      "75%        22.000000\n",
      "max        43.000000\n",
      "Name: TDIFF, dtype: float64\n"
     ]
    },
    {
     "data": {
      "image/png": "[encoded data removed]",
      "text/plain": [
       "<Figure size 432x288 with 1 Axes>"
      ]
     },
     "metadata": {
      "needs_background": "light"
     },
     "output_type": "display_data"
    }
   ],
   "source": [
    "# Create a 'TDIFF' column that represents temperature difference\n",
    "weather['TDIFF'] = weather.TMAX - weather.TMIN\n",
    "\n",
    "# Describe the 'TDIFF' column\n",
    "print(weather.TDIFF.describe())\n",
    "\n",
    "# Create a histogram with 20 bins to visualize 'TDIFF'\n",
    "weather.TDIFF.plot(kind='hist', bins=20)\n",
    "\n",
    "# Display the plot\n",
    "plt.show()"
   ]
  },
  {
   "cell_type": "markdown",
   "id": "717f236c-52c1-4dd5-9861-63ef5a284aaa",
   "metadata": {},
   "source": [
    "# Categorizing the weather"
   ]
  },
  {
   "cell_type": "markdown",
   "id": "4e331712-d7f7-44ee-ae61-629cdd5d82ce",
   "metadata": {},
   "source": [
    "### Counting bad weather conditions\n",
    "\n",
    "The weather DataFrame contains 20 columns that start with 'WT', each of which represents a bad weather condition. For example:\n",
    "\n",
    "    WT05 indicates \"Hail\"\n",
    "    WT11 indicates \"High or damaging winds\"\n",
    "    WT17 indicates \"Freezing rain\"\n",
    "\n",
    "For every row in the dataset, each WT column contains either a 1 (meaning the condition was present that day) or NaN (meaning the condition was not present).\n",
    "\n",
    "Let's quantify \"how bad\" the weather was each day by counting the number of 1 values in each row."
   ]
  },
  {
   "cell_type": "code",
   "execution_count": null,
   "id": "8da87f5b-a510-46ff-bbd2-2a9799d587fd",
   "metadata": {},
   "outputs": [],
   "source": []
  }
 ],
 "metadata": {
  "kernelspec": {
   "display_name": "Python 3 (ipykernel)",
   "language": "python",
   "name": "python3"
  },
  "language_info": {
   "codemirror_mode": {
    "name": "ipython",
    "version": 3
   },
   "file_extension": ".py",
   "mimetype": "text/x-python",
   "name": "python",
   "nbconvert_exporter": "python",
   "pygments_lexer": "ipython3",
   "version": "3.9.7"
  }
 },
 "nbformat": 4,
 "nbformat_minor": 5
}
