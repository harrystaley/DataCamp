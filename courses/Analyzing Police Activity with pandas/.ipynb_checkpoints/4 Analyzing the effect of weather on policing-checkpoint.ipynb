{
 "cells": [
  {
   "cell_type": "code",
   "execution_count": 1,
   "id": "6297d0bb-0fcf-4ecd-9869-76000efe5642",
   "metadata": {},
   "outputs": [
    {
     "name": "stdout",
     "output_type": "stream",
     "text": [
      "                    state   stop_date stop_time  county_name driver_gender  \\\n",
      "stop_datetime                                                                \n",
      "2005-01-04 12:55:00    RI  2005-01-04     12:55          NaN             M   \n",
      "2005-01-23 23:15:00    RI  2005-01-23     23:15          NaN             M   \n",
      "2005-02-17 04:15:00    RI  2005-02-17     04:15          NaN             M   \n",
      "2005-02-20 17:15:00    RI  2005-02-20     17:15          NaN             M   \n",
      "2005-02-24 01:20:00    RI  2005-02-24     01:20          NaN             F   \n",
      "\n",
      "                    driver_race                   violation_raw  violation  \\\n",
      "stop_datetime                                                                \n",
      "2005-01-04 12:55:00       White  Equipment/Inspection Violation  Equipment   \n",
      "2005-01-23 23:15:00       White                        Speeding   Speeding   \n",
      "2005-02-17 04:15:00       White                        Speeding   Speeding   \n",
      "2005-02-20 17:15:00       White                Call for Service      Other   \n",
      "2005-02-24 01:20:00       White                        Speeding   Speeding   \n",
      "\n",
      "                     search_conducted search_type   stop_outcome is_arrested  \\\n",
      "stop_datetime                                                                  \n",
      "2005-01-04 12:55:00             False         NaN       Citation       False   \n",
      "2005-01-23 23:15:00             False         NaN       Citation       False   \n",
      "2005-02-17 04:15:00             False         NaN       Citation       False   \n",
      "2005-02-20 17:15:00             False         NaN  Arrest Driver        True   \n",
      "2005-02-24 01:20:00             False         NaN       Citation       False   \n",
      "\n",
      "                    stop_duration  drugs_related_stop district  \n",
      "stop_datetime                                                   \n",
      "2005-01-04 12:55:00      0-15 Min               False  Zone X4  \n",
      "2005-01-23 23:15:00      0-15 Min               False  Zone K3  \n",
      "2005-02-17 04:15:00      0-15 Min               False  Zone X4  \n",
      "2005-02-20 17:15:00     16-30 Min               False  Zone X1  \n",
      "2005-02-24 01:20:00      0-15 Min               False  Zone X3  \n"
     ]
    }
   ],
   "source": [
    "# Import the pandas library as pd\n",
    "import pandas as pd\n",
    "import matplotlib.pyplot as plt\n",
    "\n",
    "# Read 'police.csv' into a DataFrame named ri\n",
    "ri = pd.read_csv('../datasets/police.csv')\n",
    "# create a date time column.\n",
    "ri['stop_datetime'] =  pd.to_datetime(ri.stop_date + ' ' + ri.stop_time)\n",
    "# set the date time as an index.\n",
    "ri.set_index('stop_datetime', inplace=True)\n",
    "\n",
    "# Examine the head of the DataFrame\n",
    "print(ri.head())"
   ]
  },
  {
   "cell_type": "markdown",
   "id": "3cbc24bd-36fa-4f73-a772-c1e60f7395b8",
   "metadata": {},
   "source": [
    "# Exploring the weather dataset"
   ]
  },
  {
   "cell_type": "markdown",
   "id": "839e5807-78b6-419b-b721-f5a4affe26f5",
   "metadata": {},
   "source": [
    "### Plotting the temperature\n",
    "\n",
    "Let's examine the temperature columns from the weather dataset to assess whether the data seems trustworthy. First printing the summary statistics, and then visualizeing the data using a box plot.\n",
    "\n",
    "When deciding whether the values seem reasonable, i'll keep in mind that the temperature is measured in degrees Fahrenheit, not Celsius!"
   ]
  },
  {
   "cell_type": "code",
   "execution_count": 2,
   "id": "453bcc8a-269e-409c-89f1-f9169348c11e",
   "metadata": {},
   "outputs": [
    {
     "name": "stdout",
     "output_type": "stream",
     "text": [
      "              TMIN         TAVG         TMAX\n",
      "count  4017.000000  1217.000000  4017.000000\n",
      "mean     43.484441    52.493016    61.268608\n",
      "std      17.020298    17.830714    18.199517\n",
      "min      -5.000000     6.000000    15.000000\n",
      "25%      30.000000    39.000000    47.000000\n",
      "50%      44.000000    54.000000    62.000000\n",
      "75%      58.000000    68.000000    77.000000\n",
      "max      77.000000    86.000000   102.000000\n"
     ]
    },
    {
     "data": {
      "image/png": "[encoded data removed]",
      "text/plain": [
       "<Figure size 432x288 with 1 Axes>"
      ]
     },
     "metadata": {
      "needs_background": "light"
     },
     "output_type": "display_data"
    }
   ],
   "source": [
    "# Read 'weather.csv' into a DataFrame named 'weather'\n",
    "weather = pd.read_csv(\"../datasets/weather.csv\")\n",
    "\n",
    "# Describe the temperature columns\n",
    "print(weather[['TMIN', 'TAVG', 'TMAX']].describe())\n",
    "\n",
    "# Create a box plot of the temperature columns\n",
    "weather.plot(kind='box')\n",
    "\n",
    "# Display the plot\n",
    "plt.show()"
   ]
  },
  {
   "cell_type": "markdown",
   "id": "eb55b7e0-2052-415f-b7dc-d9a24fc6f8c4",
   "metadata": {},
   "source": [
    "### Plotting the temperature difference\n",
    "\n",
    "Let's continue to assess whether the dataset seems trustworthy by plotting the difference between the maximum and minimum temperatures."
   ]
  },
  {
   "cell_type": "code",
   "execution_count": 3,
   "id": "6447533f-4cd2-493c-a388-b96d013bf899",
   "metadata": {},
   "outputs": [
    {
     "name": "stdout",
     "output_type": "stream",
     "text": [
      "count    4017.000000\n",
      "mean       17.784167\n",
      "std         6.350720\n",
      "min         2.000000\n",
      "25%        14.000000\n",
      "50%        18.000000\n",
      "75%        22.000000\n",
      "max        43.000000\n",
      "Name: TDIFF, dtype: float64\n"
     ]
    },
    {
     "data": {
      "image/png": "[encoded data removed]",
      "text/plain": [
       "<Figure size 432x288 with 1 Axes>"
      ]
     },
     "metadata": {
      "needs_background": "light"
     },
     "output_type": "display_data"
    }
   ],
   "source": [
    "# Create a 'TDIFF' column that represents temperature difference\n",
    "weather['TDIFF'] = weather.TMAX - weather.TMIN\n",
    "\n",
    "# Describe the 'TDIFF' column\n",
    "print(weather.TDIFF.describe())\n",
    "\n",
    "# Create a histogram with 20 bins to visualize 'TDIFF'\n",
    "weather.TDIFF.plot(kind='hist', bins=20)\n",
    "\n",
    "# Display the plot\n",
    "plt.show()"
   ]
  },
  {
   "cell_type": "markdown",
   "id": "717f236c-52c1-4dd5-9861-63ef5a284aaa",
   "metadata": {},
   "source": [
    "# Categorizing the weather"
   ]
  },
  {
   "cell_type": "markdown",
   "id": "4e331712-d7f7-44ee-ae61-629cdd5d82ce",
   "metadata": {},
   "source": [
    "### Counting bad weather conditions\n",
    "\n",
    "The weather DataFrame contains 20 columns that start with 'WT', each of which represents a bad weather condition. For example:\n",
    "\n",
    "    WT05 indicates \"Hail\"\n",
    "    WT11 indicates \"High or damaging winds\"\n",
    "    WT17 indicates \"Freezing rain\"\n",
    "\n",
    "For every row in the dataset, each WT column contains either a 1 (meaning the condition was present that day) or NaN (meaning the condition was not present).\n",
    "\n",
    "Let's quantify \"how bad\" the weather was each day by counting the number of 1 values in each row."
   ]
  },
  {
   "cell_type": "code",
   "execution_count": 5,
   "id": "8da87f5b-a510-46ff-bbd2-2a9799d587fd",
   "metadata": {},
   "outputs": [
    {
     "data": {
      "image/png": "[encoded data removed]",
      "text/plain": [
       "<Figure size 432x288 with 1 Axes>"
      ]
     },
     "metadata": {
      "needs_background": "light"
     },
     "output_type": "display_data"
    }
   ],
   "source": [
    "# Copy all rows and columns 'WT01' through 'WT22' to a new DataFrame using pandas slicing.\n",
    "WT = weather.loc[:, 'WT01':'WT22'] # Ex. df.loc[row_start:row_end, col_start:col_end]\n",
    "\n",
    "# Calculate the sum of each row in 'WT'\n",
    "weather['bad_conditions'] = WT.sum(axis='columns')\n",
    "\n",
    "# Replace missing values in 'bad_conditions' with '0'\n",
    "weather['bad_conditions'] = weather.bad_conditions.fillna(0).astype('int')\n",
    "\n",
    "# Create a histogram to visualize 'bad_conditions'\n",
    "weather.bad_conditions.plot(kind='hist')\n",
    "\n",
    "# Display the plot\n",
    "plt.show()"
   ]
  },
  {
   "cell_type": "markdown",
   "id": "f158b1a8-99e0-43c0-8c09-d28e166679bf",
   "metadata": {},
   "source": [
    "### Rating the weather conditions\n",
    "\n",
    "The counts range from 0 to 9, and should be converted to ratings as follows:\n",
    "\n",
    "    Convert 0 to 'good'\n",
    "    Convert 1 through 4 to 'bad'\n",
    "    Convert 5 through 9 to 'worse'\n"
   ]
  },
  {
   "cell_type": "code",
   "execution_count": 6,
   "id": "8023648d-5a02-47ea-bac4-2e3dffac8f14",
   "metadata": {},
   "outputs": [
    {
     "name": "stdout",
     "output_type": "stream",
     "text": [
      "0    1749\n",
      "1     613\n",
      "2     367\n",
      "3     380\n",
      "4     476\n",
      "5     282\n",
      "6     101\n",
      "7      41\n",
      "8       4\n",
      "9       4\n",
      "Name: bad_conditions, dtype: int64\n",
      "bad      1836\n",
      "good     1749\n",
      "worse     432\n",
      "Name: rating, dtype: int64\n"
     ]
    }
   ],
   "source": [
    "# Count the unique values in 'bad_conditions' and sort the index\n",
    "print(weather.bad_conditions.value_counts().sort_index())\n",
    "\n",
    "# Create a dictionary that maps integers to strings\n",
    "mapping = {0:'good', 1:'bad',\n",
    "           2:'bad', 3:'bad',\n",
    "           4:'bad', 5:'worse',\n",
    "           6:'worse', 7:'worse',\n",
    "           8:'worse', 9:'worse'\n",
    "           }\n",
    "\n",
    "# Convert the 'bad_conditions' integers to strings using the 'mapping'\n",
    "weather['rating'] = weather.bad_conditions.map(mapping)\n",
    "\n",
    "# Count the unique values in 'rating'\n",
    "print(weather.rating.value_counts())"
   ]
  },
  {
   "cell_type": "markdown",
   "id": "7d10c771-313c-444e-9746-8fcb485627a6",
   "metadata": {},
   "source": [
    "### Changing the data type to category\n",
    "\n",
    "Since the rating column only has a few possible values, you'll change its data type to category in order to store the data more efficiently. You'll also specify a logical order for the categories."
   ]
  },
  {
   "cell_type": "code",
   "execution_count": 12,
   "id": "3ad7cea0-a20c-4487-b357-513bbba76b83",
   "metadata": {},
   "outputs": [
    {
     "name": "stdout",
     "output_type": "stream",
     "text": [
      "0    bad\n",
      "1    bad\n",
      "2    bad\n",
      "3    bad\n",
      "4    bad\n",
      "Name: rating, dtype: category\n",
      "Categories (3, object): ['good' < 'bad' < 'worse']\n"
     ]
    }
   ],
   "source": [
    "# import categorical data type.\n",
    "from pandas.api.types import CategoricalDtype\n",
    "\n",
    "# Create a list of weather ratings in logical order\n",
    "cats = ['good', 'bad', 'worse']\n",
    "\n",
    "# create categorical datatype\n",
    "cat_dtype = CategoricalDtype(categories=cats, ordered=True)\n",
    "\n",
    "# Change the data type of 'rating' to category\n",
    "weather['rating'] = weather.rating.astype(cat_dtype)\n",
    "\n",
    "# Examine the head of 'rating'\n",
    "print(weather.rating.head())"
   ]
  },
  {
   "cell_type": "markdown",
   "id": "248ee1e9-0a24-47fd-9eeb-2f225165c146",
   "metadata": {},
   "source": [
    "# Merging datasets"
   ]
  },
  {
   "cell_type": "markdown",
   "id": "6e285769-41f9-4d79-bca0-68abbeb75b88",
   "metadata": {},
   "source": [
    "### Preparing the DataFrames\n",
    "\n",
    "Lets' prepare the traffic stop and weather rating DataFrames so that they're ready to be merged:\n",
    "\n",
    "    With the ri DataFrame, you'll move the stop_datetime index to a column since the index will be lost during the merge.\n",
    "    With the weather DataFrame, you'll select the DATE and rating columns and put them in a new DataFrame.\n"
   ]
  },
  {
   "cell_type": "code",
   "execution_count": 13,
   "id": "16c6408e-7345-4bf4-8d98-b24bc17a667d",
   "metadata": {},
   "outputs": [
    {
     "name": "stdout",
     "output_type": "stream",
     "text": [
      "        stop_datetime state   stop_date stop_time  county_name driver_gender  \\\n",
      "0 2005-01-04 12:55:00    RI  2005-01-04     12:55          NaN             M   \n",
      "1 2005-01-23 23:15:00    RI  2005-01-23     23:15          NaN             M   \n",
      "2 2005-02-17 04:15:00    RI  2005-02-17     04:15          NaN             M   \n",
      "3 2005-02-20 17:15:00    RI  2005-02-20     17:15          NaN             M   \n",
      "4 2005-02-24 01:20:00    RI  2005-02-24     01:20          NaN             F   \n",
      "\n",
      "  driver_race                   violation_raw  violation  search_conducted  \\\n",
      "0       White  Equipment/Inspection Violation  Equipment             False   \n",
      "1       White                        Speeding   Speeding             False   \n",
      "2       White                        Speeding   Speeding             False   \n",
      "3       White                Call for Service      Other             False   \n",
      "4       White                        Speeding   Speeding             False   \n",
      "\n",
      "  search_type   stop_outcome is_arrested stop_duration  drugs_related_stop  \\\n",
      "0         NaN       Citation       False      0-15 Min               False   \n",
      "1         NaN       Citation       False      0-15 Min               False   \n",
      "2         NaN       Citation       False      0-15 Min               False   \n",
      "3         NaN  Arrest Driver        True     16-30 Min               False   \n",
      "4         NaN       Citation       False      0-15 Min               False   \n",
      "\n",
      "  district  \n",
      "0  Zone X4  \n",
      "1  Zone K3  \n",
      "2  Zone X4  \n",
      "3  Zone X1  \n",
      "4  Zone X3  \n",
      "         DATE rating\n",
      "0  2005-01-01    bad\n",
      "1  2005-01-02    bad\n",
      "2  2005-01-03    bad\n",
      "3  2005-01-04    bad\n",
      "4  2005-01-05    bad\n"
     ]
    }
   ],
   "source": [
    "# Reset the index of 'ri'\n",
    "ri.reset_index(inplace=True)\n",
    "\n",
    "# Examine the head of 'ri'\n",
    "print(ri.head())\n",
    "\n",
    "# Create a DataFrame from the 'DATE' and 'rating' columns\n",
    "weather_rating = weather[['DATE', 'rating']]\n",
    "\n",
    "# Examine the head of 'weather_rating'\n",
    "print(weather_rating.head())"
   ]
  },
  {
   "cell_type": "markdown",
   "id": "bcf2deac-c936-4de6-b60c-c2b487ab2e0f",
   "metadata": {},
   "source": [
    "### Merging the DataFrames\n",
    "\n",
    "Lets' merge the ri and weather_rating DataFrames into a new DataFrame, ri_weather.\n",
    "\n",
    "The DataFrames will be joined using the stop_date column from ri and the DATE column from weather_rating. Thankfully the date formatting matches exactly, which is not always the case!\n",
    "\n",
    "Once the merge is complete, we'll set stop_datetime as the index, which is the column you saved in the previous exercise."
   ]
  },
  {
   "cell_type": "code",
   "execution_count": 14,
   "id": "adb0b38a-bdbf-4739-a113-e3f6fe5fdd53",
   "metadata": {},
   "outputs": [
    {
     "name": "stdout",
     "output_type": "stream",
     "text": [
      "(91741, 16)\n",
      "(91741, 18)\n"
     ]
    }
   ],
   "source": [
    "# Examine the shape of 'ri'\n",
    "print(ri.shape)\n",
    "\n",
    "# Merge 'ri' and 'weather_rating' using a left join\n",
    "ri_weather = pd.merge(left=ri, right=weather_rating, left_on='stop_date', right_on='DATE', how='left')\n",
    "\n",
    "# Examine the shape of 'ri_weather'\n",
    "print(ri_weather.shape)\n",
    "\n",
    "# Set 'stop_datetime' as the index of 'ri_weather'\n",
    "ri_weather.set_index('stop_datetime', inplace=True)"
   ]
  },
  {
   "cell_type": "markdown",
   "id": "c3b3a28c-c1b6-4699-a48a-c98c0ea034b7",
   "metadata": {},
   "source": [
    "# Does weather affect the arrest rate?"
   ]
  },
  {
   "cell_type": "markdown",
   "id": "6d05d0d3-01ae-4b66-8a81-46087cdf6dc7",
   "metadata": {},
   "source": [
    "### Comparing arrest rates by weather rating\n",
    "\n",
    "Do police officers arrest drivers more often when the weather is bad? Let's find out!\n",
    "\n",
    "    First, you'll calculate the overall arrest rate.\n",
    "    Then, you'll calculate the arrest rate for each of the weather ratings you previously assigned.\n",
    "    Finally, you'll add violation type as a second factor in the analysis, to see if that accounts for any differences in the arrest rate.\n",
    "\n",
    "Since you previously defined a logical order for the weather categories, good < bad < worse, they will be sorted that way in the results."
   ]
  },
  {
   "cell_type": "code",
   "execution_count": 16,
   "id": "201676c4-b398-422e-8ac7-9eacba85b814",
   "metadata": {},
   "outputs": [
    {
     "name": "stdout",
     "output_type": "stream",
     "text": [
      "0.03556777868937704\n"
     ]
    }
   ],
   "source": [
    "# Calculate the overall arrest rate\n",
    "print(ri_weather.is_arrested.mean())"
   ]
  },
  {
   "cell_type": "code",
   "execution_count": 17,
   "id": "fa03acbb-1eae-4cb0-8a96-8fa14450704f",
   "metadata": {},
   "outputs": [
    {
     "name": "stdout",
     "output_type": "stream",
     "text": [
      "rating\n",
      "good     0.033712\n",
      "bad      0.036261\n",
      "worse    0.041667\n",
      "Name: is_arrested, dtype: float64\n"
     ]
    }
   ],
   "source": [
    "# Calculate the arrest rate for each 'rating'\n",
    "print(ri_weather.groupby('rating').is_arrested.mean())"
   ]
  },
  {
   "cell_type": "code",
   "execution_count": 18,
   "id": "cf27177e-d025-4f6c-a469-8b8084b51496",
   "metadata": {},
   "outputs": [
    {
     "name": "stdout",
     "output_type": "stream",
     "text": [
      "violation            rating\n",
      "Equipment            good      0.058995\n",
      "                     bad       0.066311\n",
      "                     worse     0.097357\n",
      "Moving violation     good      0.056227\n",
      "                     bad       0.058050\n",
      "                     worse     0.065860\n",
      "Other                good      0.076923\n",
      "                     bad       0.087443\n",
      "                     worse     0.062893\n",
      "Registration/plates  good      0.081574\n",
      "                     bad       0.098160\n",
      "                     worse     0.115625\n",
      "Seat belt            good      0.028587\n",
      "                     bad       0.022493\n",
      "                     worse     0.000000\n",
      "Speeding             good      0.013404\n",
      "                     bad       0.013314\n",
      "                     worse     0.016886\n",
      "Name: is_arrested, dtype: float64\n"
     ]
    }
   ],
   "source": [
    "# Calculate the arrest rate for each 'violation' and 'rating'\n",
    "print(ri_weather.groupby(['violation', 'rating']).is_arrested.mean())"
   ]
  },
  {
   "cell_type": "markdown",
   "id": "392f4ded-08ec-48fa-bee0-ab2ad7d145ff",
   "metadata": {},
   "source": [
    "### Selecting from a multi-indexed Series\n",
    "\n",
    "The output of a single .groupby() operation on multiple columns is a Series with a MultiIndex. Working with this type of object is similar to working with a DataFrame:\n",
    "\n",
    "    The outer index level is like the DataFrame rows.\n",
    "    The inner index level is like the DataFrame columns."
   ]
  },
  {
   "cell_type": "code",
   "execution_count": 19,
   "id": "41760202-0209-4228-969a-b0d15dfd7c22",
   "metadata": {},
   "outputs": [
    {
     "name": "stdout",
     "output_type": "stream",
     "text": [
      "violation            rating\n",
      "Equipment            good      0.058995\n",
      "                     bad       0.066311\n",
      "                     worse     0.097357\n",
      "Moving violation     good      0.056227\n",
      "                     bad       0.058050\n",
      "                     worse     0.065860\n",
      "Other                good      0.076923\n",
      "                     bad       0.087443\n",
      "                     worse     0.062893\n",
      "Registration/plates  good      0.081574\n",
      "                     bad       0.098160\n",
      "                     worse     0.115625\n",
      "Seat belt            good      0.028587\n",
      "                     bad       0.022493\n",
      "                     worse     0.000000\n",
      "Speeding             good      0.013404\n",
      "                     bad       0.013314\n",
      "                     worse     0.016886\n",
      "Name: is_arrested, dtype: float64\n",
      "0.05804964058049641\n",
      "rating\n",
      "good     0.013404\n",
      "bad      0.013314\n",
      "worse    0.016886\n",
      "Name: is_arrested, dtype: float64\n"
     ]
    }
   ],
   "source": [
    "# Save the output of the groupby operation from the last exercise\n",
    "arrest_rate = ri_weather.groupby(['violation', 'rating']).is_arrested.mean()\n",
    "\n",
    "# Print the 'arrest_rate' Series\n",
    "print(arrest_rate)\n",
    "\n",
    "# Print the arrest rate for moving violations in bad weather\n",
    "print(arrest_rate.loc['Moving violation','bad'])\n",
    "\n",
    "# Print the arrest rates for speeding violations in all three weather conditions\n",
    "print(arrest_rate.loc['Speeding'])"
   ]
  },
  {
   "cell_type": "markdown",
   "id": "91830185-e58e-4c47-8394-e986c7ccacbe",
   "metadata": {},
   "source": [
    "### Reshaping the arrest rate data\n",
    "\n",
    "Lets' reshape the arrest_rate Series into a DataFrame. This is a useful step when working with any multi-indexed Series, since it enables you to access the full range of DataFrame methods. Then create the exact same DataFrame using a pivot table. This is a great example of how pandas often gives you more than one way to reach the same result!"
   ]
  },
  {
   "cell_type": "code",
   "execution_count": 20,
   "id": "570ebb4e-1c04-49d4-8ddf-f3363444832b",
   "metadata": {},
   "outputs": [
    {
     "name": "stdout",
     "output_type": "stream",
     "text": [
      "rating                   good       bad     worse\n",
      "violation                                        \n",
      "Equipment            0.058995  0.066311  0.097357\n",
      "Moving violation     0.056227  0.058050  0.065860\n",
      "Other                0.076923  0.087443  0.062893\n",
      "Registration/plates  0.081574  0.098160  0.115625\n",
      "Seat belt            0.028587  0.022493  0.000000\n",
      "Speeding             0.013404  0.013314  0.016886\n",
      "driver_gender               F         M\n",
      "violation                              \n",
      "Equipment            0.067573  0.064133\n",
      "Moving violation     0.065125  0.056114\n",
      "Other                0.114569  0.072934\n",
      "Registration/plates  0.087121  0.093691\n",
      "Seat belt            0.022491  0.027217\n",
      "Speeding             0.006391  0.017177\n"
     ]
    }
   ],
   "source": [
    "# Unstack the 'arrest_rate' Series into a DataFrame\n",
    "print(arrest_rate.unstack())\n",
    "\n",
    "# Create the same DataFrame using a pivot table\n",
    "print(ri_weather.pivot_table(index='violation', columns='driver_gender', values='is_arrested'))"
   ]
  },
  {
   "cell_type": "code",
   "execution_count": null,
   "id": "339f5785-1833-4f6c-bc32-5c7a18347671",
   "metadata": {},
   "outputs": [],
   "source": []
  }
 ],
 "metadata": {
  "kernelspec": {
   "display_name": "Python 3 (ipykernel)",
   "language": "python",
   "name": "python3"
  },
  "language_info": {
   "codemirror_mode": {
    "name": "ipython",
    "version": 3
   },
   "file_extension": ".py",
   "mimetype": "text/x-python",
   "name": "python",
   "nbconvert_exporter": "python",
   "pygments_lexer": "ipython3",
   "version": "3.9.7"
  }
 },
 "nbformat": 4,
 "nbformat_minor": 5
}
