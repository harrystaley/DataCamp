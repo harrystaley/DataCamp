{
 "cells": [
  {
   "cell_type": "markdown",
   "id": "c1dec9f4-2595-4185-ade5-7b5ec50df4bf",
   "metadata": {},
   "source": [
    "# Stanford Open Policing Project dataset"
   ]
  },
  {
   "cell_type": "markdown",
   "id": "627657ad-3f04-4681-b070-4e0e2ee6ab96",
   "metadata": {},
   "source": [
    "### Examining the dataset"
   ]
  },
  {
   "cell_type": "code",
   "execution_count": 1,
   "id": "d4966611-bf9b-411f-b853-245c1e8a047c",
   "metadata": {},
   "outputs": [
    {
     "name": "stdout",
     "output_type": "stream",
     "text": [
      "  state   stop_date stop_time  county_name driver_gender driver_race  \\\n",
      "0    RI  2005-01-04     12:55          NaN             M       White   \n",
      "1    RI  2005-01-23     23:15          NaN             M       White   \n",
      "2    RI  2005-02-17     04:15          NaN             M       White   \n",
      "3    RI  2005-02-20     17:15          NaN             M       White   \n",
      "4    RI  2005-02-24     01:20          NaN             F       White   \n",
      "\n",
      "                    violation_raw  violation  search_conducted search_type  \\\n",
      "0  Equipment/Inspection Violation  Equipment             False         NaN   \n",
      "1                        Speeding   Speeding             False         NaN   \n",
      "2                        Speeding   Speeding             False         NaN   \n",
      "3                Call for Service      Other             False         NaN   \n",
      "4                        Speeding   Speeding             False         NaN   \n",
      "\n",
      "    stop_outcome is_arrested stop_duration  drugs_related_stop district  \n",
      "0       Citation       False      0-15 Min               False  Zone X4  \n",
      "1       Citation       False      0-15 Min               False  Zone K3  \n",
      "2       Citation       False      0-15 Min               False  Zone X4  \n",
      "3  Arrest Driver        True     16-30 Min               False  Zone X1  \n",
      "4       Citation       False      0-15 Min               False  Zone X3  \n",
      "state                     0\n",
      "stop_date                 0\n",
      "stop_time                 0\n",
      "county_name           91741\n",
      "driver_gender          5205\n",
      "driver_race            5202\n",
      "violation_raw          5202\n",
      "violation              5202\n",
      "search_conducted          0\n",
      "search_type           88434\n",
      "stop_outcome           5202\n",
      "is_arrested            5202\n",
      "stop_duration          5202\n",
      "drugs_related_stop        0\n",
      "district                  0\n",
      "dtype: int64\n"
     ]
    }
   ],
   "source": [
    "# Import the pandas library as pd\n",
    "import pandas as pd\n",
    "\n",
    "# Read 'police.csv' into a DataFrame named ri\n",
    "ri = pd.read_csv('../datasets/police.csv')\n",
    "\n",
    "# Examine the head of the DataFrame\n",
    "print(ri.head())\n",
    "\n",
    "# Count the number of missing values in each column\n",
    "print(ri.isnull().sum())"
   ]
  },
  {
   "cell_type": "markdown",
   "id": "9241d2db-6cb9-4d9e-bd77-7def521c4ca4",
   "metadata": {},
   "source": [
    "### Dropping columns\n",
    "\n",
    "We are going to drop the ```county_name``` column because it only contains missing values, and the ```state``` column because all of the traffic stops took place in one state (Rhode Island). Thus, these columns can be dropped because they contain no useful information. "
   ]
  },
  {
   "cell_type": "code",
   "execution_count": 2,
   "id": "c9243e86-dbe2-44c6-962d-e4cb152e442f",
   "metadata": {},
   "outputs": [
    {
     "name": "stdout",
     "output_type": "stream",
     "text": [
      "(91741, 15)\n",
      "(91741, 13)\n"
     ]
    }
   ],
   "source": [
    "# Examine the shape of the DataFrame\n",
    "print(ri.shape)\n",
    "\n",
    "# Drop the 'county_name' and 'state' columns\n",
    "ri.drop(['county_name', 'state'], axis='columns', inplace=True)\n",
    "\n",
    "# Examine the shape of the DataFrame (again)\n",
    "print(ri.shape)"
   ]
  },
  {
   "cell_type": "markdown",
   "id": "f0d76937-e065-469f-8285-0ca819607b94",
   "metadata": {},
   "source": [
    "### Dropping rows\n",
    "\n",
    "When we know that a specific column will be critical to our analysis, and only a small fraction of rows are missing a value in that column, it often makes sense to remove those rows from the dataset.\n",
    "\n",
    "The ```driver_gender``` column will be critical to our analyses. Because only a small fraction of rows are missing ```driver_gender```, we'll drop those rows from the dataset."
   ]
  },
  {
   "cell_type": "code",
   "execution_count": 3,
   "id": "c7b4df49-95cf-47f2-8e22-085378c66740",
   "metadata": {},
   "outputs": [
    {
     "name": "stdout",
     "output_type": "stream",
     "text": [
      "stop_date                 0\n",
      "stop_time                 0\n",
      "driver_gender          5205\n",
      "driver_race            5202\n",
      "violation_raw          5202\n",
      "violation              5202\n",
      "search_conducted          0\n",
      "search_type           88434\n",
      "stop_outcome           5202\n",
      "is_arrested            5202\n",
      "stop_duration          5202\n",
      "drugs_related_stop        0\n",
      "district                  0\n",
      "dtype: int64\n",
      "stop_date                 0\n",
      "stop_time                 0\n",
      "driver_gender             0\n",
      "driver_race               0\n",
      "violation_raw             0\n",
      "violation                 0\n",
      "search_conducted          0\n",
      "search_type           83229\n",
      "stop_outcome              0\n",
      "is_arrested               0\n",
      "stop_duration             0\n",
      "drugs_related_stop        0\n",
      "district                  0\n",
      "dtype: int64\n",
      "(86536, 13)\n"
     ]
    }
   ],
   "source": [
    "# Count the number of missing values in each column\n",
    "print(ri.isnull().sum())\n",
    "\n",
    "# Drop all rows that are missing 'driver_gender'\n",
    "ri.dropna(subset=['driver_gender'], inplace=True)\n",
    "\n",
    "# Count the number of missing values in each column (again)\n",
    "print(ri.isnull().sum())\n",
    "\n",
    "# Examine the shape of the DataFrame\n",
    "print(ri.shape)"
   ]
  },
  {
   "cell_type": "markdown",
   "id": "6d70c27c-5526-4410-a2a9-2b59812da323",
   "metadata": {},
   "source": [
    "# Using proper data types"
   ]
  },
  {
   "cell_type": "markdown",
   "id": "dee9b61d-cbfc-4477-9b53-7078531fa8e4",
   "metadata": {},
   "source": [
    "### Finding an incorrect data type\n",
    "\n",
    "The ```dtypes``` attribute of the ```ri``` DataFrame has been printed. My task is to explore the ri DataFrame in the IPython Shell to determine which column's data type should be changed."
   ]
  },
  {
   "cell_type": "code",
   "execution_count": 4,
   "id": "f66b98a0-4ded-49fb-b15f-db4656ea0924",
   "metadata": {},
   "outputs": [
    {
     "data": {
      "text/plain": [
       "stop_date             object\n",
       "stop_time             object\n",
       "driver_gender         object\n",
       "driver_race           object\n",
       "violation_raw         object\n",
       "violation             object\n",
       "search_conducted        bool\n",
       "search_type           object\n",
       "stop_outcome          object\n",
       "is_arrested           object\n",
       "stop_duration         object\n",
       "drugs_related_stop      bool\n",
       "district              object\n",
       "dtype: object"
      ]
     },
     "execution_count": 4,
     "metadata": {},
     "output_type": "execute_result"
    }
   ],
   "source": [
    "ri.dtypes"
   ]
  },
  {
   "cell_type": "markdown",
   "id": "2b58cfab-e14c-42c2-a77e-f4a7f6cb805e",
   "metadata": {},
   "source": [
    "```is_arrested``` should be a boolean data type."
   ]
  },
  {
   "cell_type": "markdown",
   "id": "dd3f9cf1-45d0-4a61-874b-aa5d94269b7b",
   "metadata": {},
   "source": [
    "### Fixing a data type\n",
    "\n",
    "Now I am going to change the data type to bool, which is the most suitable type for a column containing True and False values.\n",
    "\n",
    "Fixing the data type will enable us to use mathematical operations on the ```is_arrested column``` that would not be possible otherwise."
   ]
  },
  {
   "cell_type": "code",
   "execution_count": 5,
   "id": "7698713d-0d2c-4e5f-9630-532c61c89e77",
   "metadata": {},
   "outputs": [
    {
     "name": "stdout",
     "output_type": "stream",
     "text": [
      "0    False\n",
      "1    False\n",
      "2    False\n",
      "3     True\n",
      "4    False\n",
      "Name: is_arrested, dtype: object\n",
      "stop_date             object\n",
      "stop_time             object\n",
      "driver_gender         object\n",
      "driver_race           object\n",
      "violation_raw         object\n",
      "violation             object\n",
      "search_conducted        bool\n",
      "search_type           object\n",
      "stop_outcome          object\n",
      "is_arrested             bool\n",
      "stop_duration         object\n",
      "drugs_related_stop      bool\n",
      "district              object\n",
      "dtype: object\n"
     ]
    }
   ],
   "source": [
    "# Examine the head of the 'is_arrested' column\n",
    "print(ri.is_arrested.head())\n",
    "\n",
    "# Change the data type of 'is_arrested' to 'bool'\n",
    "ri['is_arrested'] = ri.is_arrested.astype('bool')\n",
    "\n",
    "# Check the data type of 'is_arrested' \n",
    "print(ri.dtypes)"
   ]
  },
  {
   "cell_type": "markdown",
   "id": "0659f866-4c86-4944-b250-2e1c4eb0ba9e",
   "metadata": {},
   "source": [
    "# Creating a DatetimeIndex"
   ]
  },
  {
   "cell_type": "markdown",
   "id": "8270f7f0-cb5f-4213-8d55-9da9cf6529a0",
   "metadata": {},
   "source": [
    "### Combining object columns\n",
    "\n",
    "Currently, the date and time of each traffic stop are stored in separate object columns: ```stop_date``` and ```stop_time```.\n",
    "\n",
    "We are going to combine these two columns into a single column, and then convert it to datetime format. This will enable convenient date-based attributes that I'll use later in the analysis."
   ]
  },
  {
   "cell_type": "code",
   "execution_count": 6,
   "id": "6076410e-968c-4b51-808a-1721773fd85e",
   "metadata": {},
   "outputs": [
    {
     "name": "stdout",
     "output_type": "stream",
     "text": [
      "stop_date                     object\n",
      "stop_time                     object\n",
      "driver_gender                 object\n",
      "driver_race                   object\n",
      "violation_raw                 object\n",
      "violation                     object\n",
      "search_conducted                bool\n",
      "search_type                   object\n",
      "stop_outcome                  object\n",
      "is_arrested                     bool\n",
      "stop_duration                 object\n",
      "drugs_related_stop              bool\n",
      "district                      object\n",
      "stop_datetime         datetime64[ns]\n",
      "dtype: object\n"
     ]
    }
   ],
   "source": [
    "# Concatenate 'stop_date' and 'stop_time' (separated by a space)\n",
    "combined = ri.stop_date.str.cat(ri.stop_time, sep=' ')\n",
    "\n",
    "# Convert 'combined' to datetime format\n",
    "ri['stop_datetime'] = pd.to_datetime(combined)\n",
    "\n",
    "# Examine the data types of the DataFrame\n",
    "print(ri.dtypes)"
   ]
  },
  {
   "cell_type": "markdown",
   "id": "43584ce4-1d00-4bba-beab-76beac4245fd",
   "metadata": {},
   "source": [
    "### Setting the index\n",
    "\n",
    "The last step in prepping our data for now is to set the ```stop_datetime``` column as the DataFrame's index. By replacing the default index with a DatetimeIndex to make it easier to analyze the dataset by date and time, which will come in handy later."
   ]
  },
  {
   "cell_type": "code",
   "execution_count": 7,
   "id": "f8059864-9f6a-40f1-be10-b6164870e24f",
   "metadata": {},
   "outputs": [
    {
     "name": "stdout",
     "output_type": "stream",
     "text": [
      "DatetimeIndex(['2005-01-04 12:55:00', '2005-01-23 23:15:00',\n",
      "               '2005-02-17 04:15:00', '2005-02-20 17:15:00',\n",
      "               '2005-02-24 01:20:00', '2005-03-14 10:00:00',\n",
      "               '2005-03-29 21:55:00', '2005-04-04 21:25:00',\n",
      "               '2005-07-14 11:20:00', '2005-07-14 19:55:00',\n",
      "               ...\n",
      "               '2015-12-31 13:23:00', '2015-12-31 18:59:00',\n",
      "               '2015-12-31 19:13:00', '2015-12-31 20:20:00',\n",
      "               '2015-12-31 20:50:00', '2015-12-31 21:21:00',\n",
      "               '2015-12-31 21:59:00', '2015-12-31 22:04:00',\n",
      "               '2015-12-31 22:09:00', '2015-12-31 22:47:00'],\n",
      "              dtype='datetime64[ns]', name='stop_datetime', length=86536, freq=None)\n",
      "Index(['stop_date', 'stop_time', 'driver_gender', 'driver_race',\n",
      "       'violation_raw', 'violation', 'search_conducted', 'search_type',\n",
      "       'stop_outcome', 'is_arrested', 'stop_duration', 'drugs_related_stop',\n",
      "       'district'],\n",
      "      dtype='object')\n"
     ]
    }
   ],
   "source": [
    "# Set 'stop_datetime' as the index\n",
    "ri.set_index('stop_datetime', inplace=True)\n",
    "\n",
    "# Examine the index\n",
    "print(ri.index)\n",
    "\n",
    "# Examine the columns\n",
    "print(ri.columns)"
   ]
  },
  {
   "cell_type": "markdown",
   "id": "733f79dc-e533-4372-9567-db7c86395101",
   "metadata": {},
   "source": [
    "### Examining traffic violations\n",
    "\n",
    "Before comparing the violations being committed by each gender, you should examine the violations committed by all drivers to get a baseline understanding of the data.\n",
    "\n",
    "I am going to count the unique values in the violation column, and then separately express those counts as proportions."
   ]
  },
  {
   "cell_type": "code",
   "execution_count": 8,
   "id": "317e6e01-1c2d-4910-a6ac-3691b635af33",
   "metadata": {},
   "outputs": [
    {
     "name": "stdout",
     "output_type": "stream",
     "text": [
      "Speeding               48423\n",
      "Moving violation       16224\n",
      "Equipment              10921\n",
      "Other                   4409\n",
      "Registration/plates     3703\n",
      "Seat belt               2856\n",
      "Name: violation, dtype: int64\n",
      "Speeding               0.559571\n",
      "Moving violation       0.187483\n",
      "Equipment              0.126202\n",
      "Other                  0.050950\n",
      "Registration/plates    0.042791\n",
      "Seat belt              0.033004\n",
      "Name: violation, dtype: float64\n"
     ]
    }
   ],
   "source": [
    "# Count the unique values in 'violation'\n",
    "print(ri['violation'].value_counts())\n",
    "\n",
    "# Express the counts as proportions\n",
    "print(ri['violation'].value_counts()/ri['violation'].value_counts().sum())"
   ]
  },
  {
   "cell_type": "markdown",
   "id": "8642202c-eaff-4f3a-908a-a0e5f32603f4",
   "metadata": {},
   "source": [
    "### Comparing violations by gender\n",
    "\n",
    "The question we're trying to answer is whether male and female drivers tend to commit different types of traffic violations.\n",
    "\n",
    "We're going to first create a DataFrame for each gender, and then analyze the violations in each DataFrame separately."
   ]
  },
  {
   "cell_type": "code",
   "execution_count": 10,
   "id": "7751d527-cf70-4106-9406-39aa907609fc",
   "metadata": {},
   "outputs": [
    {
     "name": "stdout",
     "output_type": "stream",
     "text": [
      "Speeding               0.658114\n",
      "Moving violation       0.138218\n",
      "Equipment              0.105199\n",
      "Registration/plates    0.044418\n",
      "Other                  0.029738\n",
      "Seat belt              0.024312\n",
      "Name: violation, dtype: float64\n",
      "Speeding               0.522243\n",
      "Moving violation       0.206144\n",
      "Equipment              0.134158\n",
      "Other                  0.058985\n",
      "Registration/plates    0.042175\n",
      "Seat belt              0.036296\n",
      "Name: violation, dtype: float64\n"
     ]
    }
   ],
   "source": [
    "# Create a DataFrame of female drivers\n",
    "female = ri[ri['driver_gender']=='F']\n",
    "\n",
    "# Create a DataFrame of male drivers\n",
    "male = ri[ri['driver_gender']=='M']\n",
    "\n",
    "# Compute the violations by female drivers (as proportions)\n",
    "print('female violations')\n",
    "print(female.violation.value_counts()/female.violation.value_counts().sum())\n",
    "\n",
    "# Compute the violations by male drivers (as proportions)\n",
    "print('male violations')\n",
    "print(male.violation.value_counts()/male.violation.value_counts().sum())"
   ]
  },
  {
   "cell_type": "markdown",
   "id": "185035ea-2441-4aa1-92ec-5c8acaff265a",
   "metadata": {},
   "source": [
    "# Does gender affect who gets a ticket for speeding?"
   ]
  },
  {
   "cell_type": "markdown",
   "id": "285a0598-97e6-4f49-b3bd-aa8728f27e81",
   "metadata": {},
   "source": [
    "### Filtering by multiple conditions\n",
    "\n",
    "This command would filter the ri DataFrame to only include female drivers who were stopped for a speeding violation."
   ]
  },
  {
   "cell_type": "code",
   "execution_count": 12,
   "id": "e5201eef-1828-4682-9813-6d9188836115",
   "metadata": {},
   "outputs": [
    {
     "data": {
      "text/html": [
       "<div>\n",
       "<style scoped>\n",
       "    .dataframe tbody tr th:only-of-type {\n",
       "        vertical-align: middle;\n",
       "    }\n",
       "\n",
       "    .dataframe tbody tr th {\n",
       "        vertical-align: top;\n",
       "    }\n",
       "\n",
       "    .dataframe thead th {\n",
       "        text-align: right;\n",
       "    }\n",
       "</style>\n",
       "<table border=\"1\" class=\"dataframe\">\n",
       "  <thead>\n",
       "    <tr style=\"text-align: right;\">\n",
       "      <th></th>\n",
       "      <th>stop_date</th>\n",
       "      <th>stop_time</th>\n",
       "      <th>driver_gender</th>\n",
       "      <th>driver_race</th>\n",
       "      <th>violation_raw</th>\n",
       "      <th>violation</th>\n",
       "      <th>search_conducted</th>\n",
       "      <th>search_type</th>\n",
       "      <th>stop_outcome</th>\n",
       "      <th>is_arrested</th>\n",
       "      <th>stop_duration</th>\n",
       "      <th>drugs_related_stop</th>\n",
       "      <th>district</th>\n",
       "    </tr>\n",
       "    <tr>\n",
       "      <th>stop_datetime</th>\n",
       "      <th></th>\n",
       "      <th></th>\n",
       "      <th></th>\n",
       "      <th></th>\n",
       "      <th></th>\n",
       "      <th></th>\n",
       "      <th></th>\n",
       "      <th></th>\n",
       "      <th></th>\n",
       "      <th></th>\n",
       "      <th></th>\n",
       "      <th></th>\n",
       "      <th></th>\n",
       "    </tr>\n",
       "  </thead>\n",
       "  <tbody>\n",
       "    <tr>\n",
       "      <th>2005-02-24 01:20:00</th>\n",
       "      <td>2005-02-24</td>\n",
       "      <td>01:20</td>\n",
       "      <td>F</td>\n",
       "      <td>White</td>\n",
       "      <td>Speeding</td>\n",
       "      <td>Speeding</td>\n",
       "      <td>False</td>\n",
       "      <td>NaN</td>\n",
       "      <td>Citation</td>\n",
       "      <td>False</td>\n",
       "      <td>0-15 Min</td>\n",
       "      <td>False</td>\n",
       "      <td>Zone X3</td>\n",
       "    </tr>\n",
       "    <tr>\n",
       "      <th>2005-03-14 10:00:00</th>\n",
       "      <td>2005-03-14</td>\n",
       "      <td>10:00</td>\n",
       "      <td>F</td>\n",
       "      <td>White</td>\n",
       "      <td>Speeding</td>\n",
       "      <td>Speeding</td>\n",
       "      <td>False</td>\n",
       "      <td>NaN</td>\n",
       "      <td>Citation</td>\n",
       "      <td>False</td>\n",
       "      <td>0-15 Min</td>\n",
       "      <td>False</td>\n",
       "      <td>Zone K3</td>\n",
       "    </tr>\n",
       "    <tr>\n",
       "      <th>2005-07-14 11:20:00</th>\n",
       "      <td>2005-07-14</td>\n",
       "      <td>11:20</td>\n",
       "      <td>F</td>\n",
       "      <td>White</td>\n",
       "      <td>Speeding</td>\n",
       "      <td>Speeding</td>\n",
       "      <td>False</td>\n",
       "      <td>NaN</td>\n",
       "      <td>Citation</td>\n",
       "      <td>False</td>\n",
       "      <td>0-15 Min</td>\n",
       "      <td>False</td>\n",
       "      <td>Zone X4</td>\n",
       "    </tr>\n",
       "    <tr>\n",
       "      <th>2005-07-18 19:30:00</th>\n",
       "      <td>2005-07-18</td>\n",
       "      <td>19:30</td>\n",
       "      <td>F</td>\n",
       "      <td>White</td>\n",
       "      <td>Speeding</td>\n",
       "      <td>Speeding</td>\n",
       "      <td>False</td>\n",
       "      <td>NaN</td>\n",
       "      <td>Citation</td>\n",
       "      <td>False</td>\n",
       "      <td>0-15 Min</td>\n",
       "      <td>False</td>\n",
       "      <td>Zone K3</td>\n",
       "    </tr>\n",
       "    <tr>\n",
       "      <th>2005-07-24 20:10:00</th>\n",
       "      <td>2005-07-24</td>\n",
       "      <td>20:10</td>\n",
       "      <td>F</td>\n",
       "      <td>White</td>\n",
       "      <td>Speeding</td>\n",
       "      <td>Speeding</td>\n",
       "      <td>False</td>\n",
       "      <td>NaN</td>\n",
       "      <td>Citation</td>\n",
       "      <td>False</td>\n",
       "      <td>0-15 Min</td>\n",
       "      <td>False</td>\n",
       "      <td>Zone K3</td>\n",
       "    </tr>\n",
       "    <tr>\n",
       "      <th>...</th>\n",
       "      <td>...</td>\n",
       "      <td>...</td>\n",
       "      <td>...</td>\n",
       "      <td>...</td>\n",
       "      <td>...</td>\n",
       "      <td>...</td>\n",
       "      <td>...</td>\n",
       "      <td>...</td>\n",
       "      <td>...</td>\n",
       "      <td>...</td>\n",
       "      <td>...</td>\n",
       "      <td>...</td>\n",
       "      <td>...</td>\n",
       "    </tr>\n",
       "    <tr>\n",
       "      <th>2015-12-30 14:09:00</th>\n",
       "      <td>2015-12-30</td>\n",
       "      <td>14:09</td>\n",
       "      <td>F</td>\n",
       "      <td>White</td>\n",
       "      <td>Speeding</td>\n",
       "      <td>Speeding</td>\n",
       "      <td>False</td>\n",
       "      <td>NaN</td>\n",
       "      <td>Warning</td>\n",
       "      <td>False</td>\n",
       "      <td>0-15 Min</td>\n",
       "      <td>False</td>\n",
       "      <td>Zone X4</td>\n",
       "    </tr>\n",
       "    <tr>\n",
       "      <th>2015-12-30 19:21:00</th>\n",
       "      <td>2015-12-30</td>\n",
       "      <td>19:21</td>\n",
       "      <td>F</td>\n",
       "      <td>White</td>\n",
       "      <td>Speeding</td>\n",
       "      <td>Speeding</td>\n",
       "      <td>False</td>\n",
       "      <td>NaN</td>\n",
       "      <td>Warning</td>\n",
       "      <td>False</td>\n",
       "      <td>0-15 Min</td>\n",
       "      <td>False</td>\n",
       "      <td>Zone X1</td>\n",
       "    </tr>\n",
       "    <tr>\n",
       "      <th>2015-12-30 23:26:00</th>\n",
       "      <td>2015-12-30</td>\n",
       "      <td>23:26</td>\n",
       "      <td>F</td>\n",
       "      <td>Hispanic</td>\n",
       "      <td>Speeding</td>\n",
       "      <td>Speeding</td>\n",
       "      <td>False</td>\n",
       "      <td>NaN</td>\n",
       "      <td>Citation</td>\n",
       "      <td>False</td>\n",
       "      <td>0-15 Min</td>\n",
       "      <td>False</td>\n",
       "      <td>Zone X4</td>\n",
       "    </tr>\n",
       "    <tr>\n",
       "      <th>2015-12-31 07:31:00</th>\n",
       "      <td>2015-12-31</td>\n",
       "      <td>07:31</td>\n",
       "      <td>F</td>\n",
       "      <td>White</td>\n",
       "      <td>Speeding</td>\n",
       "      <td>Speeding</td>\n",
       "      <td>False</td>\n",
       "      <td>NaN</td>\n",
       "      <td>Citation</td>\n",
       "      <td>False</td>\n",
       "      <td>0-15 Min</td>\n",
       "      <td>False</td>\n",
       "      <td>Zone X1</td>\n",
       "    </tr>\n",
       "    <tr>\n",
       "      <th>2015-12-31 21:59:00</th>\n",
       "      <td>2015-12-31</td>\n",
       "      <td>21:59</td>\n",
       "      <td>F</td>\n",
       "      <td>White</td>\n",
       "      <td>Speeding</td>\n",
       "      <td>Speeding</td>\n",
       "      <td>False</td>\n",
       "      <td>NaN</td>\n",
       "      <td>Citation</td>\n",
       "      <td>False</td>\n",
       "      <td>0-15 Min</td>\n",
       "      <td>False</td>\n",
       "      <td>Zone K3</td>\n",
       "    </tr>\n",
       "  </tbody>\n",
       "</table>\n",
       "<p>15646 rows × 13 columns</p>\n",
       "</div>"
      ],
      "text/plain": [
       "                      stop_date stop_time driver_gender driver_race  \\\n",
       "stop_datetime                                                         \n",
       "2005-02-24 01:20:00  2005-02-24     01:20             F       White   \n",
       "2005-03-14 10:00:00  2005-03-14     10:00             F       White   \n",
       "2005-07-14 11:20:00  2005-07-14     11:20             F       White   \n",
       "2005-07-18 19:30:00  2005-07-18     19:30             F       White   \n",
       "2005-07-24 20:10:00  2005-07-24     20:10             F       White   \n",
       "...                         ...       ...           ...         ...   \n",
       "2015-12-30 14:09:00  2015-12-30     14:09             F       White   \n",
       "2015-12-30 19:21:00  2015-12-30     19:21             F       White   \n",
       "2015-12-30 23:26:00  2015-12-30     23:26             F    Hispanic   \n",
       "2015-12-31 07:31:00  2015-12-31     07:31             F       White   \n",
       "2015-12-31 21:59:00  2015-12-31     21:59             F       White   \n",
       "\n",
       "                    violation_raw violation  search_conducted search_type  \\\n",
       "stop_datetime                                                               \n",
       "2005-02-24 01:20:00      Speeding  Speeding             False         NaN   \n",
       "2005-03-14 10:00:00      Speeding  Speeding             False         NaN   \n",
       "2005-07-14 11:20:00      Speeding  Speeding             False         NaN   \n",
       "2005-07-18 19:30:00      Speeding  Speeding             False         NaN   \n",
       "2005-07-24 20:10:00      Speeding  Speeding             False         NaN   \n",
       "...                           ...       ...               ...         ...   \n",
       "2015-12-30 14:09:00      Speeding  Speeding             False         NaN   \n",
       "2015-12-30 19:21:00      Speeding  Speeding             False         NaN   \n",
       "2015-12-30 23:26:00      Speeding  Speeding             False         NaN   \n",
       "2015-12-31 07:31:00      Speeding  Speeding             False         NaN   \n",
       "2015-12-31 21:59:00      Speeding  Speeding             False         NaN   \n",
       "\n",
       "                    stop_outcome  is_arrested stop_duration  \\\n",
       "stop_datetime                                                 \n",
       "2005-02-24 01:20:00     Citation        False      0-15 Min   \n",
       "2005-03-14 10:00:00     Citation        False      0-15 Min   \n",
       "2005-07-14 11:20:00     Citation        False      0-15 Min   \n",
       "2005-07-18 19:30:00     Citation        False      0-15 Min   \n",
       "2005-07-24 20:10:00     Citation        False      0-15 Min   \n",
       "...                          ...          ...           ...   \n",
       "2015-12-30 14:09:00      Warning        False      0-15 Min   \n",
       "2015-12-30 19:21:00      Warning        False      0-15 Min   \n",
       "2015-12-30 23:26:00     Citation        False      0-15 Min   \n",
       "2015-12-31 07:31:00     Citation        False      0-15 Min   \n",
       "2015-12-31 21:59:00     Citation        False      0-15 Min   \n",
       "\n",
       "                     drugs_related_stop district  \n",
       "stop_datetime                                     \n",
       "2005-02-24 01:20:00               False  Zone X3  \n",
       "2005-03-14 10:00:00               False  Zone K3  \n",
       "2005-07-14 11:20:00               False  Zone X4  \n",
       "2005-07-18 19:30:00               False  Zone K3  \n",
       "2005-07-24 20:10:00               False  Zone K3  \n",
       "...                                 ...      ...  \n",
       "2015-12-30 14:09:00               False  Zone X4  \n",
       "2015-12-30 19:21:00               False  Zone X1  \n",
       "2015-12-30 23:26:00               False  Zone X4  \n",
       "2015-12-31 07:31:00               False  Zone X1  \n",
       "2015-12-31 21:59:00               False  Zone K3  \n",
       "\n",
       "[15646 rows x 13 columns]"
      ]
     },
     "execution_count": 12,
     "metadata": {},
     "output_type": "execute_result"
    }
   ],
   "source": [
    "ri[(ri.driver_gender == 'F') & (ri.violation == 'Speeding')]"
   ]
  },
  {
   "cell_type": "markdown",
   "id": "16c66f1f-0fc0-46ff-b050-5480ac06bbec",
   "metadata": {},
   "source": [
    "### Comparing speeding outcomes by gender\n",
    "\n",
    "When a driver is pulled over for speeding, many people believe that gender has an impact on whether the driver will receive a ticket or a warning. Can you find evidence of this in the dataset?\n",
    "\n",
    "First, you'll create two DataFrames of drivers who were stopped for speeding: one containing females and the other containing males.\n",
    "\n",
    "Then, for each gender, you'll use the stop_outcome column to calculate what percentage of stops resulted in a \"Citation\" (meaning a ticket) versus a \"Warning\"."
   ]
  },
  {
   "cell_type": "code",
   "execution_count": 29,
   "id": "cf412809-0f11-4e89-93c8-2fbf0234737e",
   "metadata": {},
   "outputs": [
    {
     "name": "stdout",
     "output_type": "stream",
     "text": [
      "Citation            0.952192\n",
      "Warning             0.040074\n",
      "Arrest Driver       0.005752\n",
      "N/D                 0.000959\n",
      "Arrest Passenger    0.000639\n",
      "No Action           0.000383\n",
      "Name: stop_outcome, dtype: float64\n",
      "Citation            0.944595\n",
      "Warning             0.036184\n",
      "Arrest Driver       0.015895\n",
      "Arrest Passenger    0.001281\n",
      "No Action           0.001068\n",
      "N/D                 0.000976\n",
      "Name: stop_outcome, dtype: float64\n"
     ]
    }
   ],
   "source": [
    "# Create a DataFrame of female drivers stopped for speeding\n",
    "female_and_speeding = ri[(ri.driver_gender == 'F') & (ri.violation == 'Speeding')]\n",
    "\n",
    "# Create a DataFrame of male drivers stopped for speeding\n",
    "male_and_speeding = ri[(ri.driver_gender == 'M') & (ri.violation == 'Speeding')]\n",
    "\n",
    "# Compute the stop outcomes for female drivers (as proportions)\n",
    "print(female_and_speeding.stop_outcome.value_counts(normalize=True))\n",
    "\n",
    "# Compute the stop outcomes for male drivers (as proportions)\n",
    "print(male_and_speeding.stop_outcome.value_counts(normalize=True))"
   ]
  },
  {
   "cell_type": "markdown",
   "id": "9a4d49e2-c59e-45ac-894d-c05ada7f4861",
   "metadata": {},
   "source": [
    "# Does gender affect whose vehicle is searched?"
   ]
  },
  {
   "cell_type": "markdown",
   "id": "f583738f-fb8f-4f2f-9464-050161f48176",
   "metadata": {},
   "source": [
    "### Calculating the search rate\n",
    "\n",
    "During a traffic stop, the police officer sometimes conducts a search of the vehicle. In this exercise, you'll calculate the percentage of all stops in the ri DataFrame that result in a vehicle search, also known as the search rate."
   ]
  },
  {
   "cell_type": "code",
   "execution_count": 30,
   "id": "0f031616-fa92-4462-bdaf-f494e92f49d3",
   "metadata": {},
   "outputs": [
    {
     "name": "stdout",
     "output_type": "stream",
     "text": [
      "bool\n",
      "False    0.961785\n",
      "True     0.038215\n",
      "Name: search_conducted, dtype: float64\n",
      "0.0382153092354627\n"
     ]
    }
   ],
   "source": [
    "# Check the data type of 'search_conducted'\n",
    "print(ri.search_conducted.dtype)\n",
    "\n",
    "# Calculate the search rate by counting the values\n",
    "print(ri.search_conducted.value_counts(normalize=True))\n",
    "\n",
    "# Calculate the search rate by taking the mean\n",
    "print(ri.search_conducted.mean())"
   ]
  },
  {
   "cell_type": "markdown",
   "id": "3b8ec05f-3d28-4d69-bf92-ad0d3146b087",
   "metadata": {},
   "source": [
    "### Comparing search rates by gender\n",
    "\n",
    "We are going to compare the rates at which female and male drivers are searched during a traffic stop. Remember that the vehicle search rate across all stops is about 3.8%.\n",
    "\n",
    "First, lets filter the DataFrame by gender and calculate the search rate for each group separately. Then, lets perform the same calculation for both genders at once using a .groupby()."
   ]
  },
  {
   "cell_type": "code",
   "execution_count": 31,
   "id": "bd9941b7-68ae-46ef-9610-6907bf2620ec",
   "metadata": {},
   "outputs": [
    {
     "name": "stdout",
     "output_type": "stream",
     "text": [
      "0.019180617481282074\n"
     ]
    }
   ],
   "source": [
    "# Calculate the search rate for female drivers\n",
    "print(ri[ri.driver_gender == \"F\"].search_conducted.mean())"
   ]
  },
  {
   "cell_type": "code",
   "execution_count": 32,
   "id": "ad3f1a83-b440-491b-8429-1695fd8cf34e",
   "metadata": {},
   "outputs": [
    {
     "name": "stdout",
     "output_type": "stream",
     "text": [
      "0.04542557598546892\n"
     ]
    }
   ],
   "source": [
    "# Calculate the search rate for male drivers\n",
    "print(ri[ri.driver_gender == 'M'].search_conducted.mean())"
   ]
  },
  {
   "cell_type": "code",
   "execution_count": 33,
   "id": "d5db4089-d52c-4706-abee-f9ff417eea18",
   "metadata": {},
   "outputs": [
    {
     "name": "stdout",
     "output_type": "stream",
     "text": [
      "driver_gender\n",
      "F    0.019181\n",
      "M    0.045426\n",
      "Name: search_conducted, dtype: float64\n"
     ]
    }
   ],
   "source": [
    "# Calculate the search rate for both groups simultaneously\n",
    "print(ri.groupby('driver_gender').search_conducted.mean())"
   ]
  },
  {
   "cell_type": "markdown",
   "id": "d1796427-5204-4ba6-9229-b9cb40a3154d",
   "metadata": {},
   "source": [
    "### Adding a second factor to the analysis\n",
    "\n",
    "Even though the search rate for males is much higher than for females, it's possible that the difference is mostly due to a second factor.\n",
    "\n",
    "For example, we might hypothesize that the search rate varies by violation type, and the difference in search rate between males and females is because they tend to commit different violations.\n",
    "\n",
    "We can test this hypothesis by examining the search rate for each combination of gender and violation. If the hypothesis was true, we would find that males and females are searched at about the same rate for each violation. Let's find out if that's the case!"
   ]
  },
  {
   "cell_type": "markdown",
   "id": "55e1fbe6-7a5e-4efd-b38b-9261a57829ee",
   "metadata": {},
   "source": [
    "# Calculate the search rate for each combination of gender and violation\n",
    "print(ri.groupby(['driver_gender','violation']).search_conducted.mean())"
   ]
  },
  {
   "cell_type": "code",
   "execution_count": 35,
   "id": "1e37b39a-0fdc-48e2-a617-eb7ac176fd70",
   "metadata": {},
   "outputs": [
    {
     "name": "stdout",
     "output_type": "stream",
     "text": [
      "violation            driver_gender\n",
      "Equipment            F                0.039984\n",
      "                     M                0.071496\n",
      "Moving violation     F                0.039257\n",
      "                     M                0.061524\n",
      "Other                F                0.041018\n",
      "                     M                0.046191\n",
      "Registration/plates  F                0.054924\n",
      "                     M                0.108802\n",
      "Seat belt            F                0.017301\n",
      "                     M                0.035119\n",
      "Speeding             F                0.008309\n",
      "                     M                0.027885\n",
      "Name: search_conducted, dtype: float64\n"
     ]
    }
   ],
   "source": [
    "# Reverse the ordering to group by violation before gender\n",
    "print(ri.groupby(['violation', 'driver_gender']).search_conducted.mean())"
   ]
  },
  {
   "cell_type": "markdown",
   "id": "34bab7d3-2e74-4b12-9977-2e0331366709",
   "metadata": {},
   "source": [
    "# Does gender affect who is frisked during a search?"
   ]
  },
  {
   "cell_type": "markdown",
   "id": "52676a0c-9e85-4472-a9c7-45c458dafaf7",
   "metadata": {},
   "source": [
    "### Counting protective frisks\n",
    "\n",
    "During a vehicle search, the police officer may pat down the driver to check if they have a weapon. This is known as a \"protective frisk.\"\n",
    "\n",
    "We'll first check to see how many times \"Protective Frisk\" was the only search type. Then, use a string method to locate all instances in which the driver was frisked."
   ]
  },
  {
   "cell_type": "code",
   "execution_count": 37,
   "id": "68adc8b5-3ff5-49de-bd3c-d09c5dfce273",
   "metadata": {},
   "outputs": [
    {
     "name": "stdout",
     "output_type": "stream",
     "text": [
      "Incident to Arrest                                          1290\n",
      "Probable Cause                                               924\n",
      "Inventory                                                    219\n",
      "Reasonable Suspicion                                         214\n",
      "Protective Frisk                                             164\n",
      "Incident to Arrest,Inventory                                 123\n",
      "Incident to Arrest,Probable Cause                            100\n",
      "Probable Cause,Reasonable Suspicion                           54\n",
      "Incident to Arrest,Inventory,Probable Cause                   35\n",
      "Probable Cause,Protective Frisk                               35\n",
      "Incident to Arrest,Protective Frisk                           33\n",
      "Inventory,Probable Cause                                      25\n",
      "Protective Frisk,Reasonable Suspicion                         19\n",
      "Incident to Arrest,Inventory,Protective Frisk                 18\n",
      "Incident to Arrest,Probable Cause,Protective Frisk            13\n",
      "Inventory,Protective Frisk                                    12\n",
      "Incident to Arrest,Reasonable Suspicion                        8\n",
      "Probable Cause,Protective Frisk,Reasonable Suspicion           5\n",
      "Incident to Arrest,Probable Cause,Reasonable Suspicion         5\n",
      "Incident to Arrest,Inventory,Reasonable Suspicion              4\n",
      "Incident to Arrest,Protective Frisk,Reasonable Suspicion       2\n",
      "Inventory,Reasonable Suspicion                                 2\n",
      "Inventory,Protective Frisk,Reasonable Suspicion                1\n",
      "Inventory,Probable Cause,Reasonable Suspicion                  1\n",
      "Inventory,Probable Cause,Protective Frisk                      1\n",
      "Name: search_type, dtype: int64\n",
      "bool\n",
      "303\n"
     ]
    }
   ],
   "source": [
    "# Count the 'search_type' values\n",
    "print(ri.search_type.value_counts())\n",
    "\n",
    "# Check if 'search_type' contains the string 'Protective Frisk'\n",
    "ri['frisk'] = ri.search_type.str.contains(pat='Protective Frisk', na=False)\n",
    "\n",
    "# Check the data type of 'frisk'\n",
    "print(ri.frisk.dtype)\n",
    "\n",
    "# Take the sum of 'frisk'\n",
    "print(ri.frisk.sum())"
   ]
  },
  {
   "cell_type": "markdown",
   "id": "264b33ed-031b-425d-b557-737addb12289",
   "metadata": {},
   "source": [
    "### Comparing frisk rates by gender\n",
    "\n",
    "We are going to compare the rates at which female and male drivers are frisked during a search. Are males frisked more often than females, perhaps because police officers consider them to be higher risk?\n",
    "\n",
    "Before doing any calculations, it's important to filter the DataFrame to only include the relevant subset of data, namely stops in which a search was conducted."
   ]
  },
  {
   "cell_type": "code",
   "execution_count": 38,
   "id": "5c30f291-4211-4e7a-a961-71e27a9bb56b",
   "metadata": {},
   "outputs": [
    {
     "name": "stdout",
     "output_type": "stream",
     "text": [
      "0.09162382824312065\n",
      "driver_gender\n",
      "F    0.074561\n",
      "M    0.094353\n",
      "Name: frisk, dtype: float64\n"
     ]
    }
   ],
   "source": [
    "# Create a DataFrame of stops in which a search was conducted\n",
    "searched = ri[ri.search_conducted == True]\n",
    "\n",
    "# Calculate the overall frisk rate by taking the mean of 'frisk'\n",
    "print(searched.frisk.mean())\n",
    "\n",
    "# Calculate the frisk rate for each gender\n",
    "print(searched.groupby('driver_gender').frisk.mean())"
   ]
  },
  {
   "cell_type": "code",
   "execution_count": null,
   "id": "4b6af6ad-e395-46db-a314-942ed430f766",
   "metadata": {},
   "outputs": [],
   "source": []
  }
 ],
 "metadata": {
  "kernelspec": {
   "display_name": "Python 3 (ipykernel)",
   "language": "python",
   "name": "python3"
  },
  "language_info": {
   "codemirror_mode": {
    "name": "ipython",
    "version": 3
   },
   "file_extension": ".py",
   "mimetype": "text/x-python",
   "name": "python",
   "nbconvert_exporter": "python",
   "pygments_lexer": "ipython3",
   "version": "3.9.7"
  }
 },
 "nbformat": 4,
 "nbformat_minor": 5
}
