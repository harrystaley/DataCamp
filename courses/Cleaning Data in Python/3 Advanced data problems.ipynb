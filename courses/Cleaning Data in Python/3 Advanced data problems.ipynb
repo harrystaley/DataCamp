{
 "cells": [
  {
   "cell_type": "markdown",
   "id": "signal-tumor",
   "metadata": {},
   "source": [
    "In order to get some datasets I needed to export them by convertind the dataframe to a csv and then outputting the contents of the file to the terminal such as the example below.\n",
    "```Python\n",
    "# output the contents of the dataframe to CSV wile also removing the index for pushing it to a dataframe.\n",
    "wards_altered.to_csv(\"wards_altered.csv\", index=False)\n",
    "\n",
    "# open the file and read the contents of the file to the terminal.\n",
    "with open(\"wards_altered.csv\", \"r\") as f:\n",
    "    print(f.read())\n",
    "```"
   ]
  },
  {
   "cell_type": "markdown",
   "id": "continental-fashion",
   "metadata": {},
   "source": [
    "# Uniformity"
   ]
  },
  {
   "cell_type": "code",
   "execution_count": null,
   "id": "intimate-approach",
   "metadata": {},
   "outputs": [],
   "source": []
  }
 ],
 "metadata": {
  "kernelspec": {
   "display_name": "Python 3",
   "language": "python",
   "name": "python3"
  },
  "language_info": {
   "codemirror_mode": {
    "name": "ipython",
    "version": 3
   },
   "file_extension": ".py",
   "mimetype": "text/x-python",
   "name": "python",
   "nbconvert_exporter": "python",
   "pygments_lexer": "ipython3",
   "version": "3.9.10"
  }
 },
 "nbformat": 4,
 "nbformat_minor": 5
}
