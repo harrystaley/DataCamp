{
 "cells": [
  {
   "cell_type": "markdown",
   "id": "ordered-scotland",
   "metadata": {},
   "source": [
    "In order to get some datasets I needed to export them by convertind the dataframe to a csv and then outputting the contents of the file to the terminal such as the example below.\n",
    "```Python\n",
    "# output the contents of the dataframe to CSV wile also removing the index for pushing it to a dataframe.\n",
    "wards_altered.to_csv(\"wards_altered.csv\", index=False)\n",
    "\n",
    "# open the file and read the contents of the file to the terminal.\n",
    "with open(\"wards_altered.csv\", \"r\") as f:\n",
    "    print(f.read())\n",
    "```"
   ]
  },
  {
   "cell_type": "markdown",
   "id": "european-paris",
   "metadata": {},
   "source": [
    "# Uniformity"
   ]
  },
  {
   "cell_type": "code",
   "execution_count": 43,
   "id": "apart-integrity",
   "metadata": {},
   "outputs": [
    {
     "data": {
      "text/html": [
       "<div>\n",
       "<style scoped>\n",
       "    .dataframe tbody tr th:only-of-type {\n",
       "        vertical-align: middle;\n",
       "    }\n",
       "\n",
       "    .dataframe tbody tr th {\n",
       "        vertical-align: top;\n",
       "    }\n",
       "\n",
       "    .dataframe thead th {\n",
       "        text-align: right;\n",
       "    }\n",
       "</style>\n",
       "<table border=\"1\" class=\"dataframe\">\n",
       "  <thead>\n",
       "    <tr style=\"text-align: right;\">\n",
       "      <th></th>\n",
       "      <th>cust_id</th>\n",
       "      <th>acct_amount</th>\n",
       "      <th>acct_cur</th>\n",
       "      <th>inv_amount</th>\n",
       "      <th>account_opened</th>\n",
       "      <th>last_transaction</th>\n",
       "    </tr>\n",
       "  </thead>\n",
       "  <tbody>\n",
       "    <tr>\n",
       "      <th>0</th>\n",
       "      <td>8C35540A</td>\n",
       "      <td>44244.71</td>\n",
       "      <td>dollar</td>\n",
       "      <td>35500.50</td>\n",
       "      <td>03-05-18</td>\n",
       "      <td>30-09-19</td>\n",
       "    </tr>\n",
       "    <tr>\n",
       "      <th>1</th>\n",
       "      <td>D5536652</td>\n",
       "      <td>86506.85</td>\n",
       "      <td>dollar</td>\n",
       "      <td>81921.86</td>\n",
       "      <td>21-01-18</td>\n",
       "      <td>14-01-19</td>\n",
       "    </tr>\n",
       "    <tr>\n",
       "      <th>2</th>\n",
       "      <td>A631984D</td>\n",
       "      <td>77799.33</td>\n",
       "      <td>dollar</td>\n",
       "      <td>46412.27</td>\n",
       "      <td>26-01-18</td>\n",
       "      <td>06-10-19</td>\n",
       "    </tr>\n",
       "    <tr>\n",
       "      <th>3</th>\n",
       "      <td>93F2F951</td>\n",
       "      <td>93875.24</td>\n",
       "      <td>euro</td>\n",
       "      <td>76563.35</td>\n",
       "      <td>21-08-17</td>\n",
       "      <td>10-07-19</td>\n",
       "    </tr>\n",
       "    <tr>\n",
       "      <th>4</th>\n",
       "      <td>DE0A0882</td>\n",
       "      <td>99998.35</td>\n",
       "      <td>euro</td>\n",
       "      <td>18669.01</td>\n",
       "      <td>05-06-17</td>\n",
       "      <td>15-01-19</td>\n",
       "    </tr>\n",
       "  </tbody>\n",
       "</table>\n",
       "</div>"
      ],
      "text/plain": [
       "    cust_id  acct_amount acct_cur  inv_amount account_opened last_transaction\n",
       "0  8C35540A     44244.71   dollar    35500.50       03-05-18         30-09-19\n",
       "1  D5536652     86506.85   dollar    81921.86       21-01-18         14-01-19\n",
       "2  A631984D     77799.33   dollar    46412.27       26-01-18         06-10-19\n",
       "3  93F2F951     93875.24     euro    76563.35       21-08-17         10-07-19\n",
       "4  DE0A0882     99998.35     euro    18669.01       05-06-17         15-01-19"
      ]
     },
     "execution_count": 43,
     "metadata": {},
     "output_type": "execute_result"
    }
   ],
   "source": [
    "# import packages\n",
    "import pandas as pd\n",
    "\n",
    "# import data\n",
    "banking = pd.read_csv(\"../datasets/banking.csv\")\n",
    "banking.head()"
   ]
  },
  {
   "cell_type": "markdown",
   "id": "stainless-journalist",
   "metadata": {},
   "source": [
    "### Uniform currencies"
   ]
  },
  {
   "cell_type": "code",
   "execution_count": 44,
   "id": "offensive-nation",
   "metadata": {},
   "outputs": [],
   "source": [
    "# Find values of acct_cur that are equal to 'euro'\n",
    "acct_eu = banking['acct_cur'] == 'euro'\n",
    "\n",
    "# Convert acct_amount where it is in euro to dollars\n",
    "banking.loc[acct_eu, 'acct_amount'] = banking.loc[acct_eu, 'acct_amount'] * 1.1\n",
    "\n",
    "# Unify acct_cur column by changing 'euro' values to 'dollar'\n",
    "banking.loc[acct_eu, 'acct_cur'] = 'dollar'\n",
    "\n",
    "# Assert that only dollar currency remains\n",
    "assert banking['acct_cur'].unique().any() == 'dollar'"
   ]
  },
  {
   "cell_type": "markdown",
   "id": "orange-summit",
   "metadata": {},
   "source": [
    "### Uniform dates"
   ]
  },
  {
   "cell_type": "code",
   "execution_count": 45,
   "id": "subsequent-sleeping",
   "metadata": {},
   "outputs": [
    {
     "name": "stdout",
     "output_type": "stream",
     "text": [
      "0    03-05-18\n",
      "1    21-01-18\n",
      "2    26-01-18\n",
      "3    21-08-17\n",
      "4    05-06-17\n",
      "Name: account_opened, dtype: object\n",
      "0     2018\n",
      "1     2018\n",
      "2     2018\n",
      "3     2017\n",
      "4     2017\n",
      "      ... \n",
      "94    2018\n",
      "95    2017\n",
      "96    2017\n",
      "97     NaN\n",
      "98     NaN\n",
      "Name: acct_year, Length: 99, dtype: object\n"
     ]
    }
   ],
   "source": [
    "# Print the header of account_opend\n",
    "print(banking['account_opened'].head())\n",
    "\n",
    "# Convert account_opened to datetime\n",
    "banking['account_opened'] = pd.to_datetime(banking['account_opened'],\n",
    "                                           # Infer datetime format\n",
    "                                           infer_datetime_format = True,\n",
    "                                           # Return missing value for error\n",
    "                                           errors = 'coerce') \n",
    "\n",
    "# Get year of account opened\n",
    "banking['acct_year'] = banking['account_opened'].dt.strftime('%Y')\n",
    "\n",
    "# Print acct_year\n",
    "print(banking.acct_year)"
   ]
  },
  {
   "cell_type": "markdown",
   "id": "polar-priest",
   "metadata": {},
   "source": [
    "# Cross Field Validation"
   ]
  },
  {
   "cell_type": "markdown",
   "id": "dutch-strap",
   "metadata": {},
   "source": [
    "### How's our data integrity?"
   ]
  },
  {
   "cell_type": "code",
   "execution_count": 46,
   "id": "fabulous-fleece",
   "metadata": {},
   "outputs": [
    {
     "data": {
      "text/html": [
       "<div>\n",
       "<style scoped>\n",
       "    .dataframe tbody tr th:only-of-type {\n",
       "        vertical-align: middle;\n",
       "    }\n",
       "\n",
       "    .dataframe tbody tr th {\n",
       "        vertical-align: top;\n",
       "    }\n",
       "\n",
       "    .dataframe thead th {\n",
       "        text-align: right;\n",
       "    }\n",
       "</style>\n",
       "<table border=\"1\" class=\"dataframe\">\n",
       "  <thead>\n",
       "    <tr style=\"text-align: right;\">\n",
       "      <th></th>\n",
       "      <th>Unnamed: 0</th>\n",
       "      <th>cust_id</th>\n",
       "      <th>birth_date</th>\n",
       "      <th>Age</th>\n",
       "      <th>acct_amount</th>\n",
       "      <th>inv_amount</th>\n",
       "      <th>fund_A</th>\n",
       "      <th>fund_B</th>\n",
       "      <th>fund_C</th>\n",
       "      <th>fund_D</th>\n",
       "      <th>account_opened</th>\n",
       "      <th>last_transaction</th>\n",
       "    </tr>\n",
       "  </thead>\n",
       "  <tbody>\n",
       "    <tr>\n",
       "      <th>0</th>\n",
       "      <td>0</td>\n",
       "      <td>870A9281</td>\n",
       "      <td>1962-06-09</td>\n",
       "      <td>58</td>\n",
       "      <td>63523.31</td>\n",
       "      <td>51295</td>\n",
       "      <td>30105.0</td>\n",
       "      <td>4138.0</td>\n",
       "      <td>1420.0</td>\n",
       "      <td>15632.0</td>\n",
       "      <td>02-09-18</td>\n",
       "      <td>22-02-19</td>\n",
       "    </tr>\n",
       "    <tr>\n",
       "      <th>1</th>\n",
       "      <td>1</td>\n",
       "      <td>166B05B0</td>\n",
       "      <td>1962-12-16</td>\n",
       "      <td>58</td>\n",
       "      <td>38175.46</td>\n",
       "      <td>15050</td>\n",
       "      <td>4995.0</td>\n",
       "      <td>938.0</td>\n",
       "      <td>6696.0</td>\n",
       "      <td>2421.0</td>\n",
       "      <td>28-02-19</td>\n",
       "      <td>31-10-18</td>\n",
       "    </tr>\n",
       "    <tr>\n",
       "      <th>2</th>\n",
       "      <td>2</td>\n",
       "      <td>BFC13E88</td>\n",
       "      <td>1990-09-12</td>\n",
       "      <td>34</td>\n",
       "      <td>59863.77</td>\n",
       "      <td>24567</td>\n",
       "      <td>10323.0</td>\n",
       "      <td>4590.0</td>\n",
       "      <td>8469.0</td>\n",
       "      <td>1185.0</td>\n",
       "      <td>25-04-18</td>\n",
       "      <td>02-04-18</td>\n",
       "    </tr>\n",
       "    <tr>\n",
       "      <th>3</th>\n",
       "      <td>3</td>\n",
       "      <td>F2158F66</td>\n",
       "      <td>1985-11-03</td>\n",
       "      <td>35</td>\n",
       "      <td>84132.10</td>\n",
       "      <td>23712</td>\n",
       "      <td>3908.0</td>\n",
       "      <td>492.0</td>\n",
       "      <td>6482.0</td>\n",
       "      <td>12830.0</td>\n",
       "      <td>07-11-17</td>\n",
       "      <td>08-11-18</td>\n",
       "    </tr>\n",
       "    <tr>\n",
       "      <th>4</th>\n",
       "      <td>4</td>\n",
       "      <td>7A73F334</td>\n",
       "      <td>1990-05-17</td>\n",
       "      <td>30</td>\n",
       "      <td>120512.00</td>\n",
       "      <td>93230</td>\n",
       "      <td>12158.4</td>\n",
       "      <td>51281.0</td>\n",
       "      <td>13434.0</td>\n",
       "      <td>18383.0</td>\n",
       "      <td>14-05-18</td>\n",
       "      <td>19-07-18</td>\n",
       "    </tr>\n",
       "  </tbody>\n",
       "</table>\n",
       "</div>"
      ],
      "text/plain": [
       "   Unnamed: 0   cust_id  birth_date  Age  acct_amount  inv_amount   fund_A  \\\n",
       "0           0  870A9281  1962-06-09   58     63523.31       51295  30105.0   \n",
       "1           1  166B05B0  1962-12-16   58     38175.46       15050   4995.0   \n",
       "2           2  BFC13E88  1990-09-12   34     59863.77       24567  10323.0   \n",
       "3           3  F2158F66  1985-11-03   35     84132.10       23712   3908.0   \n",
       "4           4  7A73F334  1990-05-17   30    120512.00       93230  12158.4   \n",
       "\n",
       "    fund_B   fund_C   fund_D account_opened last_transaction  \n",
       "0   4138.0   1420.0  15632.0       02-09-18         22-02-19  \n",
       "1    938.0   6696.0   2421.0       28-02-19         31-10-18  \n",
       "2   4590.0   8469.0   1185.0       25-04-18         02-04-18  \n",
       "3    492.0   6482.0  12830.0       07-11-17         08-11-18  \n",
       "4  51281.0  13434.0  18383.0       14-05-18         19-07-18  "
      ]
     },
     "execution_count": 46,
     "metadata": {},
     "output_type": "execute_result"
    }
   ],
   "source": [
    "# import packages\n",
    "import datetime as dt\n",
    "\n",
    "# import data\n",
    "banking = pd.read_csv(\"../datasets/banking_dirty.csv\")\n",
    "banking.head()"
   ]
  },
  {
   "cell_type": "code",
   "execution_count": 47,
   "id": "turned-permit",
   "metadata": {},
   "outputs": [],
   "source": [
    "banking['birth_date'] = pd.to_datetime(banking['birth_date'],\n",
    "                                           # Infer datetime format\n",
    "                                           infer_datetime_format = True,\n",
    "                                           # Return missing value for error\n",
    "                                           errors = 'coerce')\n",
    "banking.rename(columns={'Age': 'age'}, inplace=True)"
   ]
  },
  {
   "cell_type": "code",
   "execution_count": 48,
   "id": "offshore-yesterday",
   "metadata": {},
   "outputs": [
    {
     "name": "stdout",
     "output_type": "stream",
     "text": [
      "Number of inconsistent ages:  100\n"
     ]
    }
   ],
   "source": [
    "# Store today's date and find ages\n",
    "today = dt.date.today()\n",
    "ages_manual = today.year - banking['birth_date'].dt.year\n",
    "\n",
    "# Find rows where age column == ages_manual\n",
    "age_equ = banking.age == ages_manual\n",
    "\n",
    "# Store consistent and inconsistent data\n",
    "consistent_ages = banking[age_equ]\n",
    "inconsistent_ages = banking[~age_equ]\n",
    "\n",
    "# Store consistent and inconsistent data\n",
    "print(\"Number of inconsistent ages: \", inconsistent_ages.shape[0])"
   ]
  },
  {
   "cell_type": "markdown",
   "id": "deluxe-affiliation",
   "metadata": {},
   "source": [
    "# Completeness"
   ]
  },
  {
   "cell_type": "markdown",
   "id": "accredited-hindu",
   "metadata": {},
   "source": [
    "### Missing investors"
   ]
  },
  {
   "cell_type": "code",
   "execution_count": 50,
   "id": "abandoned-boxing",
   "metadata": {},
   "outputs": [
    {
     "name": "stdout",
     "output_type": "stream",
     "text": [
      "\u001b[33mDEPRECATION: Configuring installation scheme with distutils config files is deprecated and will no longer work in the near future. If you are using a Homebrew or Linuxbrew Python, please see discussion at https://github.com/Homebrew/homebrew-core/issues/76621\u001b[0m\u001b[33m\n",
      "\u001b[0mRequirement already satisfied: missingno in /usr/local/lib/python3.9/site-packages (0.5.0)\n",
      "Requirement already satisfied: matplotlib in /usr/local/lib/python3.9/site-packages (from missingno) (3.3.4)\n",
      "Requirement already satisfied: scipy in /usr/local/lib/python3.9/site-packages (from missingno) (1.6.1)\n",
      "Requirement already satisfied: seaborn in /usr/local/lib/python3.9/site-packages (from missingno) (0.11.1)\n",
      "Requirement already satisfied: numpy in /usr/local/lib/python3.9/site-packages (from missingno) (1.20.1)\n",
      "Requirement already satisfied: cycler>=0.10 in /usr/local/lib/python3.9/site-packages (from matplotlib->missingno) (0.10.0)\n",
      "Requirement already satisfied: pillow>=6.2.0 in /usr/local/lib/python3.9/site-packages (from matplotlib->missingno) (8.1.2)\n",
      "Requirement already satisfied: pyparsing!=2.0.4,!=2.1.2,!=2.1.6,>=2.0.3 in /usr/local/lib/python3.9/site-packages (from matplotlib->missingno) (2.4.7)\n",
      "Requirement already satisfied: kiwisolver>=1.0.1 in /usr/local/lib/python3.9/site-packages (from matplotlib->missingno) (1.3.1)\n",
      "Requirement already satisfied: python-dateutil>=2.1 in /usr/local/lib/python3.9/site-packages (from matplotlib->missingno) (2.8.1)\n",
      "Requirement already satisfied: pandas>=0.23 in /usr/local/lib/python3.9/site-packages (from seaborn->missingno) (1.2.3)\n",
      "Requirement already satisfied: six in /usr/local/lib/python3.9/site-packages (from cycler>=0.10->matplotlib->missingno) (1.15.0)\n",
      "Requirement already satisfied: pytz>=2017.3 in /usr/local/lib/python3.9/site-packages (from pandas>=0.23->seaborn->missingno) (2021.1)\n",
      "\u001b[33mDEPRECATION: Configuring installation scheme with distutils config files is deprecated and will no longer work in the near future. If you are using a Homebrew or Linuxbrew Python, please see discussion at https://github.com/Homebrew/homebrew-core/issues/76621\u001b[0m\u001b[33m\n",
      "\u001b[0m"
     ]
    }
   ],
   "source": [
    "# install needed packages using pip\n",
    "import sys\n",
    "!{sys.executable} -m pip install missingno"
   ]
  },
  {
   "cell_type": "code",
   "execution_count": 49,
   "id": "soviet-marketplace",
   "metadata": {},
   "outputs": [],
   "source": [
    "# imoprt packages\n",
    "import pandas as pd\n",
    "import missingno as msno\n",
    "import matplotlib.pyplot as plt"
   ]
  },
  {
   "cell_type": "code",
   "execution_count": 40,
   "id": "cubic-caution",
   "metadata": {},
   "outputs": [
    {
     "name": "stdout",
     "output_type": "stream",
     "text": [
      "Unnamed: 0          0\n",
      "cust_id             0\n",
      "birth_date          0\n",
      "age                 0\n",
      "acct_amount         0\n",
      "inv_amount          0\n",
      "fund_A              0\n",
      "fund_B              0\n",
      "fund_C              0\n",
      "fund_D              0\n",
      "account_opened      0\n",
      "last_transaction    0\n",
      "dtype: int64\n"
     ]
    },
    {
     "data": {
      "image/png": "[encoded data removed]",
      "text/plain": [
       "<Figure size 1800x720 with 2 Axes>"
      ]
     },
     "metadata": {
      "needs_background": "light"
     },
     "output_type": "display_data"
    },
    {
     "data": {
      "image/png": "[encoded data removed]",
      "text/plain": [
       "<Figure size 1800x720 with 2 Axes>"
      ]
     },
     "metadata": {
      "needs_background": "light"
     },
     "output_type": "display_data"
    }
   ],
   "source": [
    "# Print number of missing values in banking\n",
    "print(banking.isna().sum())\n",
    "\n",
    "# Visualize missingness matrix\n",
    "msno.matrix(banking)\n",
    "plt.show()\n",
    "\n",
    "# Isolate missing and non missing values of inv_amount\n",
    "missing_investors = banking[banking['inv_amount'].isna()]\n",
    "investors = banking[~banking['inv_amount'].isna()]\n",
    "\n",
    "# Sort banking by age and visualize\n",
    "banking_sorted = banking.sort_values('age', ascending=True)\n",
    "msno.matrix(banking_sorted)\n",
    "plt.show()"
   ]
  },
  {
   "cell_type": "markdown",
   "id": "radio-lawyer",
   "metadata": {},
   "source": [
    "### Follow the money"
   ]
  },
  {
   "cell_type": "code",
   "execution_count": 41,
   "id": "taken-outdoors",
   "metadata": {},
   "outputs": [
    {
     "name": "stdout",
     "output_type": "stream",
     "text": [
      "Unnamed: 0          0\n",
      "cust_id             0\n",
      "birth_date          0\n",
      "age                 0\n",
      "acct_amount         0\n",
      "inv_amount          0\n",
      "fund_A              0\n",
      "fund_B              0\n",
      "fund_C              0\n",
      "fund_D              0\n",
      "account_opened      0\n",
      "last_transaction    0\n",
      "dtype: int64\n"
     ]
    }
   ],
   "source": [
    "# Drop missing values of cust_id\n",
    "banking_fullid = banking.dropna(subset = ['cust_id'])\n",
    "\n",
    "# Compute estimated acct_amount\n",
    "acct_imp = banking_fullid['inv_amount'] * 5\n",
    "\n",
    "# Impute missing acct_amount with corresponding acct_imp\n",
    "banking_imputed = banking_fullid.fillna({'acct_amount':acct_imp})\n",
    "\n",
    "# Print number of missing values\n",
    "print(banking_imputed.isna().sum())"
   ]
  },
  {
   "cell_type": "markdown",
   "id": "peripheral-release",
   "metadata": {},
   "source": []
  },
  {
   "cell_type": "code",
   "execution_count": null,
   "id": "joined-failure",
   "metadata": {},
   "outputs": [],
   "source": []
  }
 ],
 "metadata": {
  "kernelspec": {
   "display_name": "Python 3 (ipykernel)",
   "language": "python",
   "name": "python3"
  },
  "language_info": {
   "codemirror_mode": {
    "name": "ipython",
    "version": 3
   },
   "file_extension": ".py",
   "mimetype": "text/x-python",
   "name": "python",
   "nbconvert_exporter": "python",
   "pygments_lexer": "ipython3",
   "version": "3.9.7"
  }
 },
 "nbformat": 4,
 "nbformat_minor": 5
}
