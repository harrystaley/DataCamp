{
 "cells": [
  {
   "cell_type": "markdown",
   "id": "4113ada9-9500-4381-913c-6c7731e5149e",
   "metadata": {},
   "source": [
    "This jupyter notebook demonstrates dimension reduction summarizes a dataset using its common occuring patterns. In this chapter, you'll learn about the most fundamental of dimension reduction techniques, \"Principal Component Analysis\" (\"PCA\"). PCA is often used before supervised learning to improve model performance and generalization. It can also be useful for unsupervised learning. For example, you'll employ a variant of PCA will allow you to cluster Wikipedia articles by their content!"
   ]
  },
  {
   "cell_type": "code",
   "execution_count": 1,
   "id": "9ade90b3-9d98-4d6e-87d9-c36f199746cd",
   "metadata": {},
   "outputs": [],
   "source": [
    "# Import the course packages\n",
    "import pandas as pd\n",
    "import numpy as np\n",
    "import matplotlib.pyplot as plt\n",
    "import sklearn\n",
    "import scipy.stats \n",
    "\n",
    "# Import the course datasets as DataFrames\n",
    "grains = pd.read_csv('../datasets/grains.csv')\n",
    "fish = pd.read_csv('../datasets/fish.csv', header=None)\n",
    "wine = pd.read_csv('../datasets/wine.csv')\n",
    "eurovision = pd.read_csv('../datasets/eurovision-2016.csv')\n",
    "stocks = pd.read_csv('../datasets/company-stock-movements-2010-2015-incl.csv', index_col=0)\n",
    "digits = pd.read_csv('../datasets/lcd-digits.csv', header=None)"
   ]
  },
  {
   "cell_type": "markdown",
   "id": "ba4d773d-a98f-4d90-a9d6-595b444e2702",
   "metadata": {},
   "source": [
    "# Visualizing the PCA transformation"
   ]
  },
  {
   "cell_type": "markdown",
   "id": "f4bc6fa2-fb3d-474e-a7e6-fda8b4296b89",
   "metadata": {},
   "source": [
    "### Correlated data in nature\n",
    "\n",
    "You are given an array grains giving the width and length of samples of grain. You suspect that width and length will be correlated. To confirm this, make a scatter plot of width vs length and measure their Pearson correlation."
   ]
  },
  {
   "cell_type": "code",
   "execution_count": null,
   "id": "0fa2f828-42d8-407f-8a26-0470a648ad3d",
   "metadata": {},
   "outputs": [],
   "source": []
  }
 ],
 "metadata": {
  "kernelspec": {
   "display_name": "Python 3 (ipykernel)",
   "language": "python",
   "name": "python3"
  },
  "language_info": {
   "codemirror_mode": {
    "name": "ipython",
    "version": 3
   },
   "file_extension": ".py",
   "mimetype": "text/x-python",
   "name": "python",
   "nbconvert_exporter": "python",
   "pygments_lexer": "ipython3",
   "version": "3.9.7"
  }
 },
 "nbformat": 4,
 "nbformat_minor": 5
}
